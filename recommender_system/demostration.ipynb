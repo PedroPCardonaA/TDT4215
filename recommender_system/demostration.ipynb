{
 "cells": [
  {
   "cell_type": "code",
   "execution_count": 8,
   "metadata": {},
   "outputs": [],
   "source": [
    "from parquet_data_reader import ParquetDataReader\n",
    "import polars as pl\n",
    "import numpy as np\n",
    "\n",
    "data_reader = ParquetDataReader()\n",
    "articles_df = data_reader.read_data('../data/articles.parquet')\n",
    "train_behaviors_df = data_reader.read_data('../data/train/behaviors.parquet')\n",
    "train_history_df = data_reader.read_data('../data/train/history.parquet')\n",
    "document_vectors_df = data_reader.read_data('../data/document_vector.parquet')\n"
   ]
  },
  {
   "cell_type": "code",
   "execution_count": 9,
   "metadata": {},
   "outputs": [
    {
     "data": {
      "text/html": [
       "<div><style>\n",
       ".dataframe > thead > tr,\n",
       ".dataframe > tbody > tr {\n",
       "  text-align: right;\n",
       "  white-space: pre-wrap;\n",
       "}\n",
       "</style>\n",
       "<small>shape: (5, 17)</small><table border=\"1\" class=\"dataframe\"><thead><tr><th>impression_id</th><th>article_id</th><th>impression_time</th><th>read_time</th><th>scroll_percentage</th><th>device_type</th><th>article_ids_inview</th><th>article_ids_clicked</th><th>user_id</th><th>is_sso_user</th><th>gender</th><th>postcode</th><th>age</th><th>is_subscriber</th><th>session_id</th><th>next_read_time</th><th>next_scroll_percentage</th></tr><tr><td>u32</td><td>i32</td><td>datetime[μs]</td><td>f32</td><td>f32</td><td>i8</td><td>list[i32]</td><td>list[i32]</td><td>u32</td><td>bool</td><td>i8</td><td>i8</td><td>i8</td><td>bool</td><td>u32</td><td>f32</td><td>f32</td></tr></thead><tbody><tr><td>149474</td><td>null</td><td>2023-05-24 07:47:53</td><td>13.0</td><td>null</td><td>2</td><td>[9778623, 9778682, … 9778728]</td><td>[9778657]</td><td>139836</td><td>false</td><td>null</td><td>null</td><td>null</td><td>false</td><td>759</td><td>7.0</td><td>22.0</td></tr><tr><td>150528</td><td>null</td><td>2023-05-24 07:33:25</td><td>25.0</td><td>null</td><td>2</td><td>[9778718, 9778728, … 9778682]</td><td>[9778623]</td><td>143471</td><td>false</td><td>null</td><td>null</td><td>null</td><td>false</td><td>1240</td><td>287.0</td><td>100.0</td></tr><tr><td>153068</td><td>9778682</td><td>2023-05-24 07:09:04</td><td>78.0</td><td>100.0</td><td>1</td><td>[9778657, 9778669, … 9778682]</td><td>[9778669]</td><td>151570</td><td>false</td><td>null</td><td>null</td><td>null</td><td>false</td><td>1976</td><td>45.0</td><td>100.0</td></tr><tr><td>153070</td><td>9777492</td><td>2023-05-24 07:13:14</td><td>26.0</td><td>100.0</td><td>1</td><td>[9020783, 9778444, … 9778628]</td><td>[9778628]</td><td>151570</td><td>false</td><td>null</td><td>null</td><td>null</td><td>false</td><td>1976</td><td>4.0</td><td>18.0</td></tr><tr><td>153071</td><td>9778623</td><td>2023-05-24 07:11:08</td><td>125.0</td><td>100.0</td><td>1</td><td>[9777492, 9774568, … 9775990]</td><td>[9777492]</td><td>151570</td><td>false</td><td>null</td><td>null</td><td>null</td><td>false</td><td>1976</td><td>26.0</td><td>100.0</td></tr></tbody></table></div>"
      ],
      "text/plain": [
       "shape: (5, 17)\n",
       "┌───────────┬───────────┬───────────┬───────────┬───┬───────────┬───────────┬───────────┬──────────┐\n",
       "│ impressio ┆ article_i ┆ impressio ┆ read_time ┆ … ┆ is_subscr ┆ session_i ┆ next_read ┆ next_scr │\n",
       "│ n_id      ┆ d         ┆ n_time    ┆ ---       ┆   ┆ iber      ┆ d         ┆ _time     ┆ oll_perc │\n",
       "│ ---       ┆ ---       ┆ ---       ┆ f32       ┆   ┆ ---       ┆ ---       ┆ ---       ┆ entage   │\n",
       "│ u32       ┆ i32       ┆ datetime[ ┆           ┆   ┆ bool      ┆ u32       ┆ f32       ┆ ---      │\n",
       "│           ┆           ┆ μs]       ┆           ┆   ┆           ┆           ┆           ┆ f32      │\n",
       "╞═══════════╪═══════════╪═══════════╪═══════════╪═══╪═══════════╪═══════════╪═══════════╪══════════╡\n",
       "│ 149474    ┆ null      ┆ 2023-05-2 ┆ 13.0      ┆ … ┆ false     ┆ 759       ┆ 7.0       ┆ 22.0     │\n",
       "│           ┆           ┆ 4         ┆           ┆   ┆           ┆           ┆           ┆          │\n",
       "│           ┆           ┆ 07:47:53  ┆           ┆   ┆           ┆           ┆           ┆          │\n",
       "│ 150528    ┆ null      ┆ 2023-05-2 ┆ 25.0      ┆ … ┆ false     ┆ 1240      ┆ 287.0     ┆ 100.0    │\n",
       "│           ┆           ┆ 4         ┆           ┆   ┆           ┆           ┆           ┆          │\n",
       "│           ┆           ┆ 07:33:25  ┆           ┆   ┆           ┆           ┆           ┆          │\n",
       "│ 153068    ┆ 9778682   ┆ 2023-05-2 ┆ 78.0      ┆ … ┆ false     ┆ 1976      ┆ 45.0      ┆ 100.0    │\n",
       "│           ┆           ┆ 4         ┆           ┆   ┆           ┆           ┆           ┆          │\n",
       "│           ┆           ┆ 07:09:04  ┆           ┆   ┆           ┆           ┆           ┆          │\n",
       "│ 153070    ┆ 9777492   ┆ 2023-05-2 ┆ 26.0      ┆ … ┆ false     ┆ 1976      ┆ 4.0       ┆ 18.0     │\n",
       "│           ┆           ┆ 4         ┆           ┆   ┆           ┆           ┆           ┆          │\n",
       "│           ┆           ┆ 07:13:14  ┆           ┆   ┆           ┆           ┆           ┆          │\n",
       "│ 153071    ┆ 9778623   ┆ 2023-05-2 ┆ 125.0     ┆ … ┆ false     ┆ 1976      ┆ 26.0      ┆ 100.0    │\n",
       "│           ┆           ┆ 4         ┆           ┆   ┆           ┆           ┆           ┆          │\n",
       "│           ┆           ┆ 07:11:08  ┆           ┆   ┆           ┆           ┆           ┆          │\n",
       "└───────────┴───────────┴───────────┴───────────┴───┴───────────┴───────────┴───────────┴──────────┘"
      ]
     },
     "execution_count": 9,
     "metadata": {},
     "output_type": "execute_result"
    }
   ],
   "source": [
    "train_behaviors_df.head()"
   ]
  },
  {
   "cell_type": "code",
   "execution_count": 10,
   "metadata": {},
   "outputs": [
    {
     "data": {
      "text/html": [
       "<div><style>\n",
       ".dataframe > thead > tr,\n",
       ".dataframe > tbody > tr {\n",
       "  text-align: right;\n",
       "  white-space: pre-wrap;\n",
       "}\n",
       "</style>\n",
       "<small>shape: (5, 21)</small><table border=\"1\" class=\"dataframe\"><thead><tr><th>article_id</th><th>title</th><th>subtitle</th><th>last_modified_time</th><th>premium</th><th>body</th><th>published_time</th><th>image_ids</th><th>article_type</th><th>url</th><th>ner_clusters</th><th>entity_groups</th><th>topics</th><th>category</th><th>subcategory</th><th>category_str</th><th>total_inviews</th><th>total_pageviews</th><th>total_read_time</th><th>sentiment_score</th><th>sentiment_label</th></tr><tr><td>i32</td><td>str</td><td>str</td><td>datetime[μs]</td><td>bool</td><td>str</td><td>datetime[μs]</td><td>list[i64]</td><td>str</td><td>str</td><td>list[str]</td><td>list[str]</td><td>list[str]</td><td>i16</td><td>list[i16]</td><td>str</td><td>i32</td><td>i32</td><td>f32</td><td>f32</td><td>str</td></tr></thead><tbody><tr><td>3001353</td><td>&quot;Natascha var ikke den første&quot;</td><td>&quot;Politiet frygter nu, at Natasc…</td><td>2023-06-29 06:20:33</td><td>false</td><td>&quot;Sagen om den østriske Natascha…</td><td>2006-08-31 08:06:45</td><td>[3150850]</td><td>&quot;article_default&quot;</td><td>&quot;https://ekstrabladet.dk/krimi/…</td><td>[]</td><td>[]</td><td>[&quot;Kriminalitet&quot;, &quot;Personfarlig kriminalitet&quot;]</td><td>140</td><td>[]</td><td>&quot;krimi&quot;</td><td>null</td><td>null</td><td>null</td><td>0.9955</td><td>&quot;Negative&quot;</td></tr><tr><td>3003065</td><td>&quot;Kun Star Wars tjente mere&quot;</td><td>&quot;Biografgængerne strømmer ind f…</td><td>2023-06-29 06:20:35</td><td>false</td><td>&quot;Vatikanet har opfordret til at…</td><td>2006-05-21 16:57:00</td><td>[3006712]</td><td>&quot;article_default&quot;</td><td>&quot;https://ekstrabladet.dk/underh…</td><td>[]</td><td>[]</td><td>[&quot;Underholdning&quot;, &quot;Film og tv&quot;, &quot;Økonomi&quot;]</td><td>414</td><td>[433, 434]</td><td>&quot;underholdning&quot;</td><td>null</td><td>null</td><td>null</td><td>0.846</td><td>&quot;Positive&quot;</td></tr><tr><td>3012771</td><td>&quot;Morten Bruun fyret i Sønderjys…</td><td>&quot;FODBOLD: Morten Bruun fyret me…</td><td>2023-06-29 06:20:39</td><td>false</td><td>&quot;Kemien mellem spillerne i Supe…</td><td>2006-05-01 14:28:40</td><td>[3177953]</td><td>&quot;article_default&quot;</td><td>&quot;https://ekstrabladet.dk/sport/…</td><td>[]</td><td>[]</td><td>[&quot;Erhverv&quot;, &quot;Kendt&quot;, … &quot;Ansættelsesforhold&quot;]</td><td>142</td><td>[196, 199]</td><td>&quot;sport&quot;</td><td>null</td><td>null</td><td>null</td><td>0.8241</td><td>&quot;Negative&quot;</td></tr><tr><td>3023463</td><td>&quot;Luderne flytter på landet&quot;</td><td>&quot;I landets tyndest befolkede om…</td><td>2023-06-29 06:20:43</td><td>false</td><td>&quot;Det frække erhverv rykker på l…</td><td>2007-03-24 08:27:59</td><td>[3184029]</td><td>&quot;article_default&quot;</td><td>&quot;https://ekstrabladet.dk/nyhede…</td><td>[]</td><td>[]</td><td>[&quot;Livsstil&quot;, &quot;Erotik&quot;]</td><td>118</td><td>[133]</td><td>&quot;nyheder&quot;</td><td>null</td><td>null</td><td>null</td><td>0.7053</td><td>&quot;Neutral&quot;</td></tr><tr><td>3032577</td><td>&quot;Cybersex: Hvornår er man utro?&quot;</td><td>&quot;En flirtende sms til den flott…</td><td>2023-06-29 06:20:46</td><td>false</td><td>&quot;De fleste af os mener, at et t…</td><td>2007-01-18 10:30:37</td><td>[3030463]</td><td>&quot;article_default&quot;</td><td>&quot;https://ekstrabladet.dk/sex_og…</td><td>[]</td><td>[]</td><td>[&quot;Livsstil&quot;, &quot;Partnerskab&quot;]</td><td>565</td><td>[]</td><td>&quot;sex_og_samliv&quot;</td><td>null</td><td>null</td><td>null</td><td>0.9307</td><td>&quot;Neutral&quot;</td></tr></tbody></table></div>"
      ],
      "text/plain": [
       "shape: (5, 21)\n",
       "┌───────────┬───────────┬───────────┬───────────┬───┬───────────┬───────────┬───────────┬──────────┐\n",
       "│ article_i ┆ title     ┆ subtitle  ┆ last_modi ┆ … ┆ total_pag ┆ total_rea ┆ sentiment ┆ sentimen │\n",
       "│ d         ┆ ---       ┆ ---       ┆ fied_time ┆   ┆ eviews    ┆ d_time    ┆ _score    ┆ t_label  │\n",
       "│ ---       ┆ str       ┆ str       ┆ ---       ┆   ┆ ---       ┆ ---       ┆ ---       ┆ ---      │\n",
       "│ i32       ┆           ┆           ┆ datetime[ ┆   ┆ i32       ┆ f32       ┆ f32       ┆ str      │\n",
       "│           ┆           ┆           ┆ μs]       ┆   ┆           ┆           ┆           ┆          │\n",
       "╞═══════════╪═══════════╪═══════════╪═══════════╪═══╪═══════════╪═══════════╪═══════════╪══════════╡\n",
       "│ 3001353   ┆ Natascha  ┆ Politiet  ┆ 2023-06-2 ┆ … ┆ null      ┆ null      ┆ 0.9955    ┆ Negative │\n",
       "│           ┆ var ikke  ┆ frygter   ┆ 9         ┆   ┆           ┆           ┆           ┆          │\n",
       "│           ┆ den       ┆ nu, at    ┆ 06:20:33  ┆   ┆           ┆           ┆           ┆          │\n",
       "│           ┆ første    ┆ Natasc…   ┆           ┆   ┆           ┆           ┆           ┆          │\n",
       "│ 3003065   ┆ Kun Star  ┆ Biografgæ ┆ 2023-06-2 ┆ … ┆ null      ┆ null      ┆ 0.846     ┆ Positive │\n",
       "│           ┆ Wars      ┆ ngerne    ┆ 9         ┆   ┆           ┆           ┆           ┆          │\n",
       "│           ┆ tjente    ┆ strømmer  ┆ 06:20:35  ┆   ┆           ┆           ┆           ┆          │\n",
       "│           ┆ mere      ┆ ind f…    ┆           ┆   ┆           ┆           ┆           ┆          │\n",
       "│ 3012771   ┆ Morten    ┆ FODBOLD:  ┆ 2023-06-2 ┆ … ┆ null      ┆ null      ┆ 0.8241    ┆ Negative │\n",
       "│           ┆ Bruun     ┆ Morten    ┆ 9         ┆   ┆           ┆           ┆           ┆          │\n",
       "│           ┆ fyret i   ┆ Bruun     ┆ 06:20:39  ┆   ┆           ┆           ┆           ┆          │\n",
       "│           ┆ Sønderjys ┆ fyret me… ┆           ┆   ┆           ┆           ┆           ┆          │\n",
       "│           ┆ …         ┆           ┆           ┆   ┆           ┆           ┆           ┆          │\n",
       "│ 3023463   ┆ Luderne   ┆ I landets ┆ 2023-06-2 ┆ … ┆ null      ┆ null      ┆ 0.7053    ┆ Neutral  │\n",
       "│           ┆ flytter   ┆ tyndest   ┆ 9         ┆   ┆           ┆           ┆           ┆          │\n",
       "│           ┆ på landet ┆ befolkede ┆ 06:20:43  ┆   ┆           ┆           ┆           ┆          │\n",
       "│           ┆           ┆ om…       ┆           ┆   ┆           ┆           ┆           ┆          │\n",
       "│ 3032577   ┆ Cybersex: ┆ En        ┆ 2023-06-2 ┆ … ┆ null      ┆ null      ┆ 0.9307    ┆ Neutral  │\n",
       "│           ┆ Hvornår   ┆ flirtende ┆ 9         ┆   ┆           ┆           ┆           ┆          │\n",
       "│           ┆ er man    ┆ sms til   ┆ 06:20:46  ┆   ┆           ┆           ┆           ┆          │\n",
       "│           ┆ utro?     ┆ den       ┆           ┆   ┆           ┆           ┆           ┆          │\n",
       "│           ┆           ┆ flott…    ┆           ┆   ┆           ┆           ┆           ┆          │\n",
       "└───────────┴───────────┴───────────┴───────────┴───┴───────────┴───────────┴───────────┴──────────┘"
      ]
     },
     "execution_count": 10,
     "metadata": {},
     "output_type": "execute_result"
    }
   ],
   "source": [
    "articles_df.head()"
   ]
  },
  {
   "cell_type": "code",
   "execution_count": 11,
   "metadata": {},
   "outputs": [
    {
     "data": {
      "text/html": [
       "<div><style>\n",
       ".dataframe > thead > tr,\n",
       ".dataframe > tbody > tr {\n",
       "  text-align: right;\n",
       "  white-space: pre-wrap;\n",
       "}\n",
       "</style>\n",
       "<small>shape: (5, 5)</small><table border=\"1\" class=\"dataframe\"><thead><tr><th>user_id</th><th>impression_time_fixed</th><th>scroll_percentage_fixed</th><th>article_id_fixed</th><th>read_time_fixed</th></tr><tr><td>u32</td><td>list[datetime[μs]]</td><td>list[f32]</td><td>list[i32]</td><td>list[f32]</td></tr></thead><tbody><tr><td>13538</td><td>[2023-04-27 10:17:43, 2023-04-27 10:18:01, … 2023-05-17 20:36:34]</td><td>[100.0, 35.0, … 100.0]</td><td>[9738663, 9738569, … 9769366]</td><td>[17.0, 12.0, … 16.0]</td></tr><tr><td>14241</td><td>[2023-04-27 09:40:18, 2023-04-27 09:40:33, … 2023-05-17 17:08:41]</td><td>[100.0, 46.0, … 100.0]</td><td>[9738557, 9738528, … 9767852]</td><td>[8.0, 9.0, … 12.0]</td></tr><tr><td>20396</td><td>[2023-04-27 12:30:44, 2023-04-27 12:31:34, … 2023-05-17 10:59:44]</td><td>[100.0, 59.0, … 13.0]</td><td>[9738760, 9738355, … 9769679]</td><td>[49.0, 34.0, … 4.0]</td></tr><tr><td>34912</td><td>[2023-04-29 07:12:49, 2023-04-29 13:01:18, … 2023-05-18 05:06:40]</td><td>[100.0, 35.0, … 27.0]</td><td>[9741802, 9741804, … 9770882]</td><td>[153.0, 7.0, … 5.0]</td></tr><tr><td>37953</td><td>[2023-04-27 19:17:10, 2023-04-27 19:17:27, … 2023-05-17 21:29:22]</td><td>[14.0, 28.0, … 18.0]</td><td>[9739205, 9739202, … 9769306]</td><td>[4.0, 16.0, … 6.0]</td></tr></tbody></table></div>"
      ],
      "text/plain": [
       "shape: (5, 5)\n",
       "┌─────────┬──────────────────────┬─────────────────────┬─────────────────────┬─────────────────────┐\n",
       "│ user_id ┆ impression_time_fixe ┆ scroll_percentage_f ┆ article_id_fixed    ┆ read_time_fixed     │\n",
       "│ ---     ┆ d                    ┆ ixed                ┆ ---                 ┆ ---                 │\n",
       "│ u32     ┆ ---                  ┆ ---                 ┆ list[i32]           ┆ list[f32]           │\n",
       "│         ┆ list[datetime[μs]]   ┆ list[f32]           ┆                     ┆                     │\n",
       "╞═════════╪══════════════════════╪═════════════════════╪═════════════════════╪═════════════════════╡\n",
       "│ 13538   ┆ [2023-04-27          ┆ [100.0, 35.0, …     ┆ [9738663, 9738569,  ┆ [17.0, 12.0, …      │\n",
       "│         ┆ 10:17:43, 2023-04-…  ┆ 100.0]              ┆ … 9769366]          ┆ 16.0]               │\n",
       "│ 14241   ┆ [2023-04-27          ┆ [100.0, 46.0, …     ┆ [9738557, 9738528,  ┆ [8.0, 9.0, … 12.0]  │\n",
       "│         ┆ 09:40:18, 2023-04-…  ┆ 100.0]              ┆ … 9767852]          ┆                     │\n",
       "│ 20396   ┆ [2023-04-27          ┆ [100.0, 59.0, …     ┆ [9738760, 9738355,  ┆ [49.0, 34.0, … 4.0] │\n",
       "│         ┆ 12:30:44, 2023-04-…  ┆ 13.0]               ┆ … 9769679]          ┆                     │\n",
       "│ 34912   ┆ [2023-04-29          ┆ [100.0, 35.0, …     ┆ [9741802, 9741804,  ┆ [153.0, 7.0, … 5.0] │\n",
       "│         ┆ 07:12:49, 2023-04-…  ┆ 27.0]               ┆ … 9770882]          ┆                     │\n",
       "│ 37953   ┆ [2023-04-27          ┆ [14.0, 28.0, …      ┆ [9739205, 9739202,  ┆ [4.0, 16.0, … 6.0]  │\n",
       "│         ┆ 19:17:10, 2023-04-…  ┆ 18.0]               ┆ … 9769306]          ┆                     │\n",
       "└─────────┴──────────────────────┴─────────────────────┴─────────────────────┴─────────────────────┘"
      ]
     },
     "execution_count": 11,
     "metadata": {},
     "output_type": "execute_result"
    }
   ],
   "source": [
    "train_history_df.head()"
   ]
  },
  {
   "cell_type": "code",
   "execution_count": 12,
   "metadata": {},
   "outputs": [
    {
     "data": {
      "text/html": [
       "<div><style>\n",
       ".dataframe > thead > tr,\n",
       ".dataframe > tbody > tr {\n",
       "  text-align: right;\n",
       "  white-space: pre-wrap;\n",
       "}\n",
       "</style>\n",
       "<small>shape: (5, 2)</small><table border=\"1\" class=\"dataframe\"><thead><tr><th>article_id</th><th>document_vector</th></tr><tr><td>i32</td><td>list[f32]</td></tr></thead><tbody><tr><td>3000022</td><td>[0.065424, -0.047425, … 0.035706]</td></tr><tr><td>3000063</td><td>[0.028815, -0.000166, … 0.027167]</td></tr><tr><td>3000613</td><td>[0.037971, 0.033923, … 0.063961]</td></tr><tr><td>3000700</td><td>[0.046524, 0.002913, … 0.023423]</td></tr><tr><td>3000840</td><td>[0.014737, 0.024068, … 0.045991]</td></tr></tbody></table></div>"
      ],
      "text/plain": [
       "shape: (5, 2)\n",
       "┌────────────┬─────────────────────────────────┐\n",
       "│ article_id ┆ document_vector                 │\n",
       "│ ---        ┆ ---                             │\n",
       "│ i32        ┆ list[f32]                       │\n",
       "╞════════════╪═════════════════════════════════╡\n",
       "│ 3000022    ┆ [0.065424, -0.047425, … 0.0357… │\n",
       "│ 3000063    ┆ [0.028815, -0.000166, … 0.0271… │\n",
       "│ 3000613    ┆ [0.037971, 0.033923, … 0.06396… │\n",
       "│ 3000700    ┆ [0.046524, 0.002913, … 0.02342… │\n",
       "│ 3000840    ┆ [0.014737, 0.024068, … 0.04599… │\n",
       "└────────────┴─────────────────────────────────┘"
      ]
     },
     "execution_count": 12,
     "metadata": {},
     "output_type": "execute_result"
    }
   ],
   "source": [
    "document_vectors_df.head()"
   ]
  },
  {
   "cell_type": "code",
   "execution_count": 13,
   "metadata": {},
   "outputs": [
    {
     "name": "stdout",
     "output_type": "stream",
     "text": [
      "Articles columns and data types:\n",
      "[Int32, String, String, Datetime(time_unit='us', time_zone=None), Boolean, String, Datetime(time_unit='us', time_zone=None), List(Int64), String, String, List(String), List(String), List(String), Int16, List(Int16), String, Int32, Int32, Float32, Float32, String]\n",
      "\n",
      "Train behaviors columns and data types:\n",
      "[UInt32, Int32, Datetime(time_unit='us', time_zone=None), Float32, Float32, Int8, List(Int32), List(Int32), UInt32, Boolean, Int8, Int8, Int8, Boolean, UInt32, Float32, Float32]\n",
      "\n",
      "Train history columns and data types:\n",
      "[UInt32, List(Datetime(time_unit='us', time_zone=None)), List(Float32), List(Int32), List(Float32)]\n",
      "\n",
      "Document vectors columns and data types:\n",
      "[Int32, List(Float32)]\n"
     ]
    }
   ],
   "source": [
    "print('Articles columns and data types:')\n",
    "print(articles_df.dtypes)\n",
    "\n",
    "print('\\nTrain behaviors columns and data types:')\n",
    "print(train_behaviors_df.dtypes)\n",
    "\n",
    "print('\\nTrain history columns and data types:')\n",
    "print(train_history_df.dtypes)\n",
    "\n",
    "print('\\nDocument vectors columns and data types:')\n",
    "print(document_vectors_df.dtypes)\n"
   ]
  },
  {
   "cell_type": "code",
   "execution_count": null,
   "metadata": {},
   "outputs": [
    {
     "ename": "SyntaxError",
     "evalue": "incomplete input (2608576050.py, line 27)",
     "output_type": "error",
     "traceback": [
      "\u001b[0;36m  Cell \u001b[0;32mIn[19], line 27\u001b[0;36m\u001b[0m\n\u001b[0;31m    print(dict(zip(null_counts.columns, null_counts.select(pl.all()).row(0)))\u001b[0m\n\u001b[0m                                                                             ^\u001b[0m\n\u001b[0;31mSyntaxError\u001b[0m\u001b[0;31m:\u001b[0m incomplete input\n"
     ]
    }
   ],
   "source": [
    "# 1. Quick EDA for articles\n",
    "print(\"=== Articles DataFrame ===\")\n",
    "articles_df.schema # See data types, non-null counts\n",
    "print(articles_df.describe())               # Summary statistics\n",
    "print(articles_df.head())   \n",
    "null_counts = articles_df.null_count()                # Peek at the first rows\n",
    "print(dict(zip(null_counts.columns, null_counts.select(pl.all()).row(0))))          # Check missing values\n",
    "\n",
    "# 2. Quick EDA for train_behaviors\n",
    "print(\"\\n=== Train Behaviors DataFrame ===\")\n",
    "train_behaviors_df.schema\n",
    "print(train_behaviors_df.head())\n",
    "null_counts = train_behaviors_df.null_count()\n",
    "print(dict(zip(null_counts.columns, null_counts.select(pl.all()).row(0))))  \n",
    "# 3. Quick EDA for train_history\n",
    "print(\"\\n=== Train History DataFrame ===\")\n",
    "train_history_df.schema\n",
    "print(train_history_df.head())\n",
    "null_counts = train_history_df.null_count()\n",
    "print(dict(zip(null_counts.columns, null_counts.select(pl.all()).row(0))))\n",
    "\n",
    "# 4. Quick EDA for document_vectors\n",
    "print(\"\\n=== Document Vectors DataFrame ===\")\n",
    "document_vectors_df.schema \n",
    "print(document_vectors_df.head())\n",
    "null_counts = document_vectors_df.null_count()\n",
    "print(dict(zip(null_counts.columns, null_counts.select(pl.all()).row(0))))\n"
   ]
  },
  {
   "cell_type": "code",
   "execution_count": null,
   "metadata": {},
   "outputs": [],
   "source": []
  }
 ],
 "metadata": {
  "kernelspec": {
   "display_name": "venv",
   "language": "python",
   "name": "python3"
  },
  "language_info": {
   "codemirror_mode": {
    "name": "ipython",
    "version": 3
   },
   "file_extension": ".py",
   "mimetype": "text/x-python",
   "name": "python",
   "nbconvert_exporter": "python",
   "pygments_lexer": "ipython3",
   "version": "3.12.7"
  }
 },
 "nbformat": 4,
 "nbformat_minor": 2
}
