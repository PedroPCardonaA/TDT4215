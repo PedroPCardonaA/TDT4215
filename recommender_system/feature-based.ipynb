{
 "cells": [
  {
   "cell_type": "code",
   "execution_count": 1,
   "metadata": {},
   "outputs": [
    {
     "data": {
      "text/plain": [
       "polars.config.Config"
      ]
     },
     "execution_count": 1,
     "metadata": {},
     "output_type": "execute_result"
    }
   ],
   "source": [
    "from parquet_data_reader import ParquetDataReader\n",
    "import polars as pl\n",
    "import pandas as pd\n",
    "import numpy as np\n",
    "from utils.process_data import process_item_data, explode_user_interactions\n",
    "from parquet_data_reader import ParquetDataReader\n",
    "from models.feature_based import CosineSimilarityRecommender\n",
    "pl.Config.set_tbl_cols(-1)"
   ]
  },
  {
   "cell_type": "code",
   "execution_count": 2,
   "metadata": {},
   "outputs": [],
   "source": [
    "article_df = pl.read_parquet(\"../generated_data/train/items.parquet\")\n"
   ]
  },
  {
   "cell_type": "code",
   "execution_count": 3,
   "metadata": {},
   "outputs": [],
   "source": [
    "\n",
    "article_df = process_item_data(article_df)\n",
    "\n",
    "article_df.write_parquet(\"../generated_data/train/items_processed.parquet\")"
   ]
  },
  {
   "cell_type": "code",
   "execution_count": 4,
   "metadata": {},
   "outputs": [],
   "source": [
    "article_df = pl.read_parquet(\"../generated_data/train/items_processed.parquet\")\n"
   ]
  },
  {
   "cell_type": "code",
   "execution_count": 5,
   "metadata": {},
   "outputs": [],
   "source": [
    "data_reader = ParquetDataReader()\n",
    "\n",
    "train_behaviors_df = data_reader.read_data('../data/train/behaviors.parquet')\n",
    "train_history_df = data_reader.read_data('../data/train/history.parquet')"
   ]
  },
  {
   "cell_type": "code",
   "execution_count": null,
   "metadata": {},
   "outputs": [],
   "source": [
    "train_history_exploaded_df = explode_user_interactions(train_history_df)\n",
    "\n",
    "train_history_exploaded_df.write_parquet(\"../generated_data/train/history_exploaded.parquet\")\n"
   ]
  },
  {
   "cell_type": "code",
   "execution_count": 7,
   "metadata": {},
   "outputs": [
    {
     "data": {
      "text/html": [
       "<div><style>\n",
       ".dataframe > thead > tr,\n",
       ".dataframe > tbody > tr {\n",
       "  text-align: right;\n",
       "  white-space: pre-wrap;\n",
       "}\n",
       "</style>\n",
       "<small>shape: (9, 6)</small><table border=\"1\" class=\"dataframe\"><thead><tr><th>statistic</th><th>user_id</th><th>impression_time</th><th>scroll_percentage</th><th>article_id</th><th>read_time</th></tr><tr><td>str</td><td>f64</td><td>str</td><td>f64</td><td>f64</td><td>f64</td></tr></thead><tbody><tr><td>&quot;count&quot;</td><td>2.426247e6</td><td>&quot;2426247&quot;</td><td>2.171171e6</td><td>2.426247e6</td><td>2.426247e6</td></tr><tr><td>&quot;null_count&quot;</td><td>0.0</td><td>&quot;0&quot;</td><td>255076.0</td><td>0.0</td><td>0.0</td></tr><tr><td>&quot;mean&quot;</td><td>1.3074e6</td><td>&quot;2023-05-08 01:11:34.336897&quot;</td><td>68.223557</td><td>9.7403e6</td><td>61.370533</td></tr><tr><td>&quot;std&quot;</td><td>738740.392112</td><td>null</td><td>32.312428</td><td>178068.888024</td><td>165.437134</td></tr><tr><td>&quot;min&quot;</td><td>10068.0</td><td>&quot;2023-04-27 07:00:00&quot;</td><td>0.0</td><td>3.001353e6</td><td>0.0</td></tr><tr><td>&quot;25%&quot;</td><td>671325.0</td><td>&quot;2023-05-02 18:06:30&quot;</td><td>35.0</td><td>9.744897e6</td><td>5.0</td></tr><tr><td>&quot;50%&quot;</td><td>1.314594e6</td><td>&quot;2023-05-08 06:55:34&quot;</td><td>77.0</td><td>9.752375e6</td><td>16.0</td></tr><tr><td>&quot;75%&quot;</td><td>1.950222e6</td><td>&quot;2023-05-13 09:50:20&quot;</td><td>100.0</td><td>9.761768e6</td><td>51.0</td></tr><tr><td>&quot;max&quot;</td><td>2.590637e6</td><td>&quot;2023-05-18 06:59:59&quot;</td><td>100.0</td><td>9.771042e6</td><td>1800.0</td></tr></tbody></table></div>"
      ],
      "text/plain": [
       "shape: (9, 6)\n",
       "┌────────────┬───────────────┬─────────────────┬───────────────────┬───────────────┬────────────┐\n",
       "│ statistic  ┆ user_id       ┆ impression_time ┆ scroll_percentage ┆ article_id    ┆ read_time  │\n",
       "│ ---        ┆ ---           ┆ ---             ┆ ---               ┆ ---           ┆ ---        │\n",
       "│ str        ┆ f64           ┆ str             ┆ f64               ┆ f64           ┆ f64        │\n",
       "╞════════════╪═══════════════╪═════════════════╪═══════════════════╪═══════════════╪════════════╡\n",
       "│ count      ┆ 2.426247e6    ┆ 2426247         ┆ 2.171171e6        ┆ 2.426247e6    ┆ 2.426247e6 │\n",
       "│ null_count ┆ 0.0           ┆ 0               ┆ 255076.0          ┆ 0.0           ┆ 0.0        │\n",
       "│ mean       ┆ 1.3074e6      ┆ 2023-05-08      ┆ 68.223557         ┆ 9.7403e6      ┆ 61.370533  │\n",
       "│            ┆               ┆ 01:11:34.336897 ┆                   ┆               ┆            │\n",
       "│ std        ┆ 738740.392112 ┆ null            ┆ 32.312428         ┆ 178068.888024 ┆ 165.437134 │\n",
       "│ min        ┆ 10068.0       ┆ 2023-04-27      ┆ 0.0               ┆ 3.001353e6    ┆ 0.0        │\n",
       "│            ┆               ┆ 07:00:00        ┆                   ┆               ┆            │\n",
       "│ 25%        ┆ 671325.0      ┆ 2023-05-02      ┆ 35.0              ┆ 9.744897e6    ┆ 5.0        │\n",
       "│            ┆               ┆ 18:06:30        ┆                   ┆               ┆            │\n",
       "│ 50%        ┆ 1.314594e6    ┆ 2023-05-08      ┆ 77.0              ┆ 9.752375e6    ┆ 16.0       │\n",
       "│            ┆               ┆ 06:55:34        ┆                   ┆               ┆            │\n",
       "│ 75%        ┆ 1.950222e6    ┆ 2023-05-13      ┆ 100.0             ┆ 9.761768e6    ┆ 51.0       │\n",
       "│            ┆               ┆ 09:50:20        ┆                   ┆               ┆            │\n",
       "│ max        ┆ 2.590637e6    ┆ 2023-05-18      ┆ 100.0             ┆ 9.771042e6    ┆ 1800.0     │\n",
       "│            ┆               ┆ 06:59:59        ┆                   ┆               ┆            │\n",
       "└────────────┴───────────────┴─────────────────┴───────────────────┴───────────────┴────────────┘"
      ]
     },
     "execution_count": 7,
     "metadata": {},
     "output_type": "execute_result"
    }
   ],
   "source": [
    "train_history_exploaded_df.describe()"
   ]
  },
  {
   "cell_type": "code",
   "execution_count": 8,
   "metadata": {},
   "outputs": [
    {
     "ename": "FileNotFoundError",
     "evalue": "No such file or directory (os error 2): ../generated_data/train/history_exploaded.parquet",
     "output_type": "error",
     "traceback": [
      "\u001b[0;31m---------------------------------------------------------------------------\u001b[0m",
      "\u001b[0;31mFileNotFoundError\u001b[0m                         Traceback (most recent call last)",
      "Cell \u001b[0;32mIn[8], line 1\u001b[0m\n\u001b[0;32m----> 1\u001b[0m user_item_features_df \u001b[38;5;241m=\u001b[39m \u001b[43mpl\u001b[49m\u001b[38;5;241;43m.\u001b[39;49m\u001b[43mread_parquet\u001b[49m\u001b[43m(\u001b[49m\u001b[38;5;124;43m\"\u001b[39;49m\u001b[38;5;124;43m../generated_data/train/history_exploaded.parquet\u001b[39;49m\u001b[38;5;124;43m\"\u001b[39;49m\u001b[43m)\u001b[49m\n\u001b[1;32m      3\u001b[0m user_item_features_df \u001b[38;5;241m=\u001b[39m user_item_features_df\u001b[38;5;241m.\u001b[39mjoin(article_df, on\u001b[38;5;241m=\u001b[39m\u001b[38;5;124m\"\u001b[39m\u001b[38;5;124marticle_id\u001b[39m\u001b[38;5;124m\"\u001b[39m, how\u001b[38;5;241m=\u001b[39m\u001b[38;5;124m\"\u001b[39m\u001b[38;5;124minner\u001b[39m\u001b[38;5;124m\"\u001b[39m)\n\u001b[1;32m      5\u001b[0m user_item_features_df\u001b[38;5;241m.\u001b[39mwrite_parquet(\u001b[38;5;124m\"\u001b[39m\u001b[38;5;124m../generated_data/train/history_exploaded_with_item_features.parquet\u001b[39m\u001b[38;5;124m\"\u001b[39m)\n",
      "File \u001b[0;32m~/Documents/Datatek/Recommender systems/TDT4215/venv/lib/python3.12/site-packages/polars/_utils/deprecation.py:92\u001b[0m, in \u001b[0;36mdeprecate_renamed_parameter.<locals>.decorate.<locals>.wrapper\u001b[0;34m(*args, **kwargs)\u001b[0m\n\u001b[1;32m     87\u001b[0m \u001b[38;5;129m@wraps\u001b[39m(function)\n\u001b[1;32m     88\u001b[0m \u001b[38;5;28;01mdef\u001b[39;00m\u001b[38;5;250m \u001b[39m\u001b[38;5;21mwrapper\u001b[39m(\u001b[38;5;241m*\u001b[39margs: P\u001b[38;5;241m.\u001b[39margs, \u001b[38;5;241m*\u001b[39m\u001b[38;5;241m*\u001b[39mkwargs: P\u001b[38;5;241m.\u001b[39mkwargs) \u001b[38;5;241m-\u001b[39m\u001b[38;5;241m>\u001b[39m T:\n\u001b[1;32m     89\u001b[0m     _rename_keyword_argument(\n\u001b[1;32m     90\u001b[0m         old_name, new_name, kwargs, function\u001b[38;5;241m.\u001b[39m\u001b[38;5;18m__qualname__\u001b[39m, version\n\u001b[1;32m     91\u001b[0m     )\n\u001b[0;32m---> 92\u001b[0m     \u001b[38;5;28;01mreturn\u001b[39;00m \u001b[43mfunction\u001b[49m\u001b[43m(\u001b[49m\u001b[38;5;241;43m*\u001b[39;49m\u001b[43margs\u001b[49m\u001b[43m,\u001b[49m\u001b[43m \u001b[49m\u001b[38;5;241;43m*\u001b[39;49m\u001b[38;5;241;43m*\u001b[39;49m\u001b[43mkwargs\u001b[49m\u001b[43m)\u001b[49m\n",
      "File \u001b[0;32m~/Documents/Datatek/Recommender systems/TDT4215/venv/lib/python3.12/site-packages/polars/_utils/deprecation.py:92\u001b[0m, in \u001b[0;36mdeprecate_renamed_parameter.<locals>.decorate.<locals>.wrapper\u001b[0;34m(*args, **kwargs)\u001b[0m\n\u001b[1;32m     87\u001b[0m \u001b[38;5;129m@wraps\u001b[39m(function)\n\u001b[1;32m     88\u001b[0m \u001b[38;5;28;01mdef\u001b[39;00m\u001b[38;5;250m \u001b[39m\u001b[38;5;21mwrapper\u001b[39m(\u001b[38;5;241m*\u001b[39margs: P\u001b[38;5;241m.\u001b[39margs, \u001b[38;5;241m*\u001b[39m\u001b[38;5;241m*\u001b[39mkwargs: P\u001b[38;5;241m.\u001b[39mkwargs) \u001b[38;5;241m-\u001b[39m\u001b[38;5;241m>\u001b[39m T:\n\u001b[1;32m     89\u001b[0m     _rename_keyword_argument(\n\u001b[1;32m     90\u001b[0m         old_name, new_name, kwargs, function\u001b[38;5;241m.\u001b[39m\u001b[38;5;18m__qualname__\u001b[39m, version\n\u001b[1;32m     91\u001b[0m     )\n\u001b[0;32m---> 92\u001b[0m     \u001b[38;5;28;01mreturn\u001b[39;00m \u001b[43mfunction\u001b[49m\u001b[43m(\u001b[49m\u001b[38;5;241;43m*\u001b[39;49m\u001b[43margs\u001b[49m\u001b[43m,\u001b[49m\u001b[43m \u001b[49m\u001b[38;5;241;43m*\u001b[39;49m\u001b[38;5;241;43m*\u001b[39;49m\u001b[43mkwargs\u001b[49m\u001b[43m)\u001b[49m\n",
      "File \u001b[0;32m~/Documents/Datatek/Recommender systems/TDT4215/venv/lib/python3.12/site-packages/polars/io/parquet/functions.py:241\u001b[0m, in \u001b[0;36mread_parquet\u001b[0;34m(source, columns, n_rows, row_index_name, row_index_offset, parallel, use_statistics, hive_partitioning, glob, schema, hive_schema, try_parse_hive_dates, rechunk, low_memory, storage_options, credential_provider, retries, use_pyarrow, pyarrow_options, memory_map, include_file_paths, allow_missing_columns)\u001b[0m\n\u001b[1;32m    238\u001b[0m     \u001b[38;5;28;01melse\u001b[39;00m:\n\u001b[1;32m    239\u001b[0m         lf \u001b[38;5;241m=\u001b[39m lf\u001b[38;5;241m.\u001b[39mselect(columns)\n\u001b[0;32m--> 241\u001b[0m \u001b[38;5;28;01mreturn\u001b[39;00m \u001b[43mlf\u001b[49m\u001b[38;5;241;43m.\u001b[39;49m\u001b[43mcollect\u001b[49m\u001b[43m(\u001b[49m\u001b[43m)\u001b[49m\n",
      "File \u001b[0;32m~/Documents/Datatek/Recommender systems/TDT4215/venv/lib/python3.12/site-packages/polars/lazyframe/frame.py:2056\u001b[0m, in \u001b[0;36mLazyFrame.collect\u001b[0;34m(self, type_coercion, _type_check, predicate_pushdown, projection_pushdown, simplify_expression, slice_pushdown, comm_subplan_elim, comm_subexpr_elim, cluster_with_columns, collapse_joins, no_optimization, streaming, engine, background, _check_order, _eager, **_kwargs)\u001b[0m\n\u001b[1;32m   2054\u001b[0m \u001b[38;5;66;03m# Only for testing purposes\u001b[39;00m\n\u001b[1;32m   2055\u001b[0m callback \u001b[38;5;241m=\u001b[39m _kwargs\u001b[38;5;241m.\u001b[39mget(\u001b[38;5;124m\"\u001b[39m\u001b[38;5;124mpost_opt_callback\u001b[39m\u001b[38;5;124m\"\u001b[39m, callback)\n\u001b[0;32m-> 2056\u001b[0m \u001b[38;5;28;01mreturn\u001b[39;00m wrap_df(\u001b[43mldf\u001b[49m\u001b[38;5;241;43m.\u001b[39;49m\u001b[43mcollect\u001b[49m\u001b[43m(\u001b[49m\u001b[43mcallback\u001b[49m\u001b[43m)\u001b[49m)\n",
      "\u001b[0;31mFileNotFoundError\u001b[0m: No such file or directory (os error 2): ../generated_data/train/history_exploaded.parquet"
     ]
    }
   ],
   "source": [
    "user_item_features_df = pl.read_parquet(\"../generated_data/train/history_exploaded.parquet\")\n",
    "\n",
    "user_item_features_df = user_item_features_df.join(article_df, on=\"article_id\", how=\"inner\")\n",
    "\n",
    "user_item_features_df.write_parquet(\"../generated_data/train/history_exploaded_with_item_features.parquet\")\n",
    "\n",
    "user_item_features_df.head()"
   ]
  },
  {
   "cell_type": "code",
   "execution_count": null,
   "metadata": {},
   "outputs": [],
   "source": [
    "user_item_features_df = pl.read_parquet(\"../generated_data/train/history_exploaded_with_item_features.parquet\")"
   ]
  },
  {
   "cell_type": "code",
   "execution_count": null,
   "metadata": {},
   "outputs": [
    {
     "name": "stderr",
     "output_type": "stream",
     "text": [
      "/home/pedropca/Documents/Datatek/Recommender systems/TDT4215/recommender_system/models/feature_based.py:88: UserWarning: encountered expression deeper than 512 elements; this may overflow the stack, consider refactoring\n",
      "  pairs = pairs.with_columns(\n"
     ]
    },
    {
     "data": {
      "text/html": [
       "<div><style>\n",
       ".dataframe > thead > tr,\n",
       ".dataframe > tbody > tr {\n",
       "  text-align: right;\n",
       "  white-space: pre-wrap;\n",
       "}\n",
       "</style>\n",
       "<small>shape: (10, 2)</small><table border=\"1\" class=\"dataframe\"><thead><tr><th>article_id</th><th>score</th></tr><tr><td>i32</td><td>f32</td></tr></thead><tbody><tr><td>9751982</td><td>0.675091</td></tr><tr><td>9765410</td><td>0.646043</td></tr><tr><td>9712680</td><td>0.631963</td></tr><tr><td>9739634</td><td>0.616901</td></tr><tr><td>9600582</td><td>0.602545</td></tr><tr><td>9740236</td><td>0.6013</td></tr><tr><td>9737245</td><td>0.600413</td></tr><tr><td>9725707</td><td>0.598653</td></tr><tr><td>9742559</td><td>0.597831</td></tr><tr><td>9765630</td><td>0.593062</td></tr></tbody></table></div>"
      ],
      "text/plain": [
       "shape: (10, 2)\n",
       "┌────────────┬──────────┐\n",
       "│ article_id ┆ score    │\n",
       "│ ---        ┆ ---      │\n",
       "│ i32        ┆ f32      │\n",
       "╞════════════╪══════════╡\n",
       "│ 9751982    ┆ 0.675091 │\n",
       "│ 9765410    ┆ 0.646043 │\n",
       "│ 9712680    ┆ 0.631963 │\n",
       "│ 9739634    ┆ 0.616901 │\n",
       "│ 9600582    ┆ 0.602545 │\n",
       "│ 9740236    ┆ 0.6013   │\n",
       "│ 9737245    ┆ 0.600413 │\n",
       "│ 9725707    ┆ 0.598653 │\n",
       "│ 9742559    ┆ 0.597831 │\n",
       "│ 9765630    ┆ 0.593062 │\n",
       "└────────────┴──────────┘"
      ]
     },
     "execution_count": 22,
     "metadata": {},
     "output_type": "execute_result"
    }
   ],
   "source": [
    "cosineSimilarityRecommender = CosineSimilarityRecommender(user_item_features_df)\n",
    "\n",
    "cosineSimilarityRecommender.fit()\n",
    "\n",
    "cosineSimilarityRecommender.recommend(13538, 10)"
   ]
  },
  {
   "cell_type": "code",
   "execution_count": null,
   "metadata": {},
   "outputs": [
    {
     "name": "stdout",
     "output_type": "stream",
     "text": [
      "0.6750908123731939\n"
     ]
    }
   ],
   "source": [
    "prediction = cosineSimilarityRecommender.predict(13538, 9751982)\n",
    "\n",
    "print(prediction)"
   ]
  },
  {
   "cell_type": "code",
   "execution_count": null,
   "metadata": {},
   "outputs": [
    {
     "name": "stdout",
     "output_type": "stream",
     "text": [
      "0.5930624391050546\n"
     ]
    }
   ],
   "source": [
    "prediction = cosineSimilarityRecommender.predict(13538, 9765630)\n",
    "\n",
    "print(prediction)"
   ]
  }
 ],
 "metadata": {
  "kernelspec": {
   "display_name": "venv",
   "language": "python",
   "name": "python3"
  },
  "language_info": {
   "codemirror_mode": {
    "name": "ipython",
    "version": 3
   },
   "file_extension": ".py",
   "mimetype": "text/x-python",
   "name": "python",
   "nbconvert_exporter": "python",
   "pygments_lexer": "ipython3",
   "version": "3.12.7"
  }
 },
 "nbformat": 4,
 "nbformat_minor": 2
}
