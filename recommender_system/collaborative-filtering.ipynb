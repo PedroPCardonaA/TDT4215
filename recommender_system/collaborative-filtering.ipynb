{
 "cells": [
  {
   "cell_type": "code",
   "execution_count": 1,
   "metadata": {},
   "outputs": [
    {
     "data": {
      "text/plain": [
       "polars.config.Config"
      ]
     },
     "execution_count": 1,
     "metadata": {},
     "output_type": "execute_result"
    }
   ],
   "source": [
    "import polars as pl\n",
    "import numpy as np\n",
    "from utils.process_data import process_item_data, explode_user_interactions #TODO see if I need this\n",
    "from parquet_data_reader import ParquetDataReader\n",
    "from models.user_based import CollaborativeReccomender\n",
    "\n",
    "pl.Config.set_tbl_cols(-1)"
   ]
  },
  {
   "cell_type": "markdown",
   "metadata": {},
   "source": [
    "## Data import and EDA"
   ]
  },
  {
   "cell_type": "code",
   "execution_count": 2,
   "metadata": {},
   "outputs": [],
   "source": [
    "data_reader = ParquetDataReader()\n",
    "articles_df = data_reader.read_data('../data/articles.parquet')\n",
    "train_behaviors_df = data_reader.read_data('../data/train/behaviors.parquet')\n",
    "train_history_df = data_reader.read_data('../data/train/history.parquet')\n",
    "document_vectors_df = data_reader.read_data('../data/document_vector.parquet')\n"
   ]
  },
  {
   "cell_type": "markdown",
   "metadata": {},
   "source": [
    "The information on news articles."
   ]
  },
  {
   "cell_type": "code",
   "execution_count": 3,
   "metadata": {},
   "outputs": [
    {
     "data": {
      "text/html": [
       "<div><style>\n",
       ".dataframe > thead > tr,\n",
       ".dataframe > tbody > tr {\n",
       "  text-align: right;\n",
       "  white-space: pre-wrap;\n",
       "}\n",
       "</style>\n",
       "<small>shape: (5, 21)</small><table border=\"1\" class=\"dataframe\"><thead><tr><th>article_id</th><th>title</th><th>subtitle</th><th>last_modified_time</th><th>premium</th><th>body</th><th>published_time</th><th>image_ids</th><th>article_type</th><th>url</th><th>ner_clusters</th><th>entity_groups</th><th>topics</th><th>category</th><th>subcategory</th><th>category_str</th><th>total_inviews</th><th>total_pageviews</th><th>total_read_time</th><th>sentiment_score</th><th>sentiment_label</th></tr><tr><td>i32</td><td>str</td><td>str</td><td>datetime[μs]</td><td>bool</td><td>str</td><td>datetime[μs]</td><td>list[i64]</td><td>str</td><td>str</td><td>list[str]</td><td>list[str]</td><td>list[str]</td><td>i16</td><td>list[i16]</td><td>str</td><td>i32</td><td>i32</td><td>f32</td><td>f32</td><td>str</td></tr></thead><tbody><tr><td>3001353</td><td>&quot;Natascha var ikke den første&quot;</td><td>&quot;Politiet frygter nu, at Natasc…</td><td>2023-06-29 06:20:33</td><td>false</td><td>&quot;Sagen om den østriske Natascha…</td><td>2006-08-31 08:06:45</td><td>[3150850]</td><td>&quot;article_default&quot;</td><td>&quot;https://ekstrabladet.dk/krimi/…</td><td>[]</td><td>[]</td><td>[&quot;Kriminalitet&quot;, &quot;Personfarlig kriminalitet&quot;]</td><td>140</td><td>[]</td><td>&quot;krimi&quot;</td><td>null</td><td>null</td><td>null</td><td>0.9955</td><td>&quot;Negative&quot;</td></tr><tr><td>3003065</td><td>&quot;Kun Star Wars tjente mere&quot;</td><td>&quot;Biografgængerne strømmer ind f…</td><td>2023-06-29 06:20:35</td><td>false</td><td>&quot;Vatikanet har opfordret til at…</td><td>2006-05-21 16:57:00</td><td>[3006712]</td><td>&quot;article_default&quot;</td><td>&quot;https://ekstrabladet.dk/underh…</td><td>[]</td><td>[]</td><td>[&quot;Underholdning&quot;, &quot;Film og tv&quot;, &quot;Økonomi&quot;]</td><td>414</td><td>[433, 434]</td><td>&quot;underholdning&quot;</td><td>null</td><td>null</td><td>null</td><td>0.846</td><td>&quot;Positive&quot;</td></tr><tr><td>3012771</td><td>&quot;Morten Bruun fyret i Sønderjys…</td><td>&quot;FODBOLD: Morten Bruun fyret me…</td><td>2023-06-29 06:20:39</td><td>false</td><td>&quot;Kemien mellem spillerne i Supe…</td><td>2006-05-01 14:28:40</td><td>[3177953]</td><td>&quot;article_default&quot;</td><td>&quot;https://ekstrabladet.dk/sport/…</td><td>[]</td><td>[]</td><td>[&quot;Erhverv&quot;, &quot;Kendt&quot;, … &quot;Ansættelsesforhold&quot;]</td><td>142</td><td>[196, 199]</td><td>&quot;sport&quot;</td><td>null</td><td>null</td><td>null</td><td>0.8241</td><td>&quot;Negative&quot;</td></tr><tr><td>3023463</td><td>&quot;Luderne flytter på landet&quot;</td><td>&quot;I landets tyndest befolkede om…</td><td>2023-06-29 06:20:43</td><td>false</td><td>&quot;Det frække erhverv rykker på l…</td><td>2007-03-24 08:27:59</td><td>[3184029]</td><td>&quot;article_default&quot;</td><td>&quot;https://ekstrabladet.dk/nyhede…</td><td>[]</td><td>[]</td><td>[&quot;Livsstil&quot;, &quot;Erotik&quot;]</td><td>118</td><td>[133]</td><td>&quot;nyheder&quot;</td><td>null</td><td>null</td><td>null</td><td>0.7053</td><td>&quot;Neutral&quot;</td></tr><tr><td>3032577</td><td>&quot;Cybersex: Hvornår er man utro?&quot;</td><td>&quot;En flirtende sms til den flott…</td><td>2023-06-29 06:20:46</td><td>false</td><td>&quot;De fleste af os mener, at et t…</td><td>2007-01-18 10:30:37</td><td>[3030463]</td><td>&quot;article_default&quot;</td><td>&quot;https://ekstrabladet.dk/sex_og…</td><td>[]</td><td>[]</td><td>[&quot;Livsstil&quot;, &quot;Partnerskab&quot;]</td><td>565</td><td>[]</td><td>&quot;sex_og_samliv&quot;</td><td>null</td><td>null</td><td>null</td><td>0.9307</td><td>&quot;Neutral&quot;</td></tr></tbody></table></div>"
      ],
      "text/plain": [
       "shape: (5, 21)\n",
       "┌─────┬─────┬─────┬─────┬─────┬─────┬─────┬─────┬─────┬─────┬─────┬─────┬─────┬─────┬─────┬─────┬─────┬─────┬─────┬─────┬─────┐\n",
       "│ art ┆ tit ┆ sub ┆ las ┆ pre ┆ bod ┆ pub ┆ ima ┆ art ┆ url ┆ ner ┆ ent ┆ top ┆ cat ┆ sub ┆ cat ┆ tot ┆ tot ┆ tot ┆ sen ┆ sen │\n",
       "│ icl ┆ le  ┆ tit ┆ t_m ┆ miu ┆ y   ┆ lis ┆ ge_ ┆ icl ┆ --- ┆ _cl ┆ ity ┆ ics ┆ ego ┆ cat ┆ ego ┆ al_ ┆ al_ ┆ al_ ┆ tim ┆ tim │\n",
       "│ e_i ┆ --- ┆ le  ┆ odi ┆ m   ┆ --- ┆ hed ┆ ids ┆ e_t ┆ str ┆ ust ┆ _gr ┆ --- ┆ ry  ┆ ego ┆ ry_ ┆ inv ┆ pag ┆ rea ┆ ent ┆ ent │\n",
       "│ d   ┆ str ┆ --- ┆ fie ┆ --- ┆ str ┆ _ti ┆ --- ┆ ype ┆     ┆ ers ┆ oup ┆ lis ┆ --- ┆ ry  ┆ str ┆ iew ┆ evi ┆ d_t ┆ _sc ┆ _la │\n",
       "│ --- ┆     ┆ str ┆ d_t ┆ boo ┆     ┆ me  ┆ lis ┆ --- ┆     ┆ --- ┆ s   ┆ t[s ┆ i16 ┆ --- ┆ --- ┆ s   ┆ ews ┆ ime ┆ ore ┆ bel │\n",
       "│ i32 ┆     ┆     ┆ ime ┆ l   ┆     ┆ --- ┆ t[i ┆ str ┆     ┆ lis ┆ --- ┆ tr] ┆     ┆ lis ┆ str ┆ --- ┆ --- ┆ --- ┆ --- ┆ --- │\n",
       "│     ┆     ┆     ┆ --- ┆     ┆     ┆ dat ┆ 64] ┆     ┆     ┆ t[s ┆ lis ┆     ┆     ┆ t[i ┆     ┆ i32 ┆ i32 ┆ f32 ┆ f32 ┆ str │\n",
       "│     ┆     ┆     ┆ dat ┆     ┆     ┆ eti ┆     ┆     ┆     ┆ tr] ┆ t[s ┆     ┆     ┆ 16] ┆     ┆     ┆     ┆     ┆     ┆     │\n",
       "│     ┆     ┆     ┆ eti ┆     ┆     ┆ me[ ┆     ┆     ┆     ┆     ┆ tr] ┆     ┆     ┆     ┆     ┆     ┆     ┆     ┆     ┆     │\n",
       "│     ┆     ┆     ┆ me[ ┆     ┆     ┆ μs] ┆     ┆     ┆     ┆     ┆     ┆     ┆     ┆     ┆     ┆     ┆     ┆     ┆     ┆     │\n",
       "│     ┆     ┆     ┆ μs] ┆     ┆     ┆     ┆     ┆     ┆     ┆     ┆     ┆     ┆     ┆     ┆     ┆     ┆     ┆     ┆     ┆     │\n",
       "╞═════╪═════╪═════╪═════╪═════╪═════╪═════╪═════╪═════╪═════╪═════╪═════╪═════╪═════╪═════╪═════╪═════╪═════╪═════╪═════╪═════╡\n",
       "│ 300 ┆ Nat ┆ Pol ┆ 202 ┆ fal ┆ Sag ┆ 200 ┆ [31 ┆ art ┆ htt ┆ []  ┆ []  ┆ [\"K ┆ 140 ┆ []  ┆ kri ┆ nul ┆ nul ┆ nul ┆ 0.9 ┆ Neg │\n",
       "│ 135 ┆ asc ┆ iti ┆ 3-0 ┆ se  ┆ en  ┆ 6-0 ┆ 508 ┆ icl ┆ ps: ┆     ┆     ┆ rim ┆     ┆     ┆ mi  ┆ l   ┆ l   ┆ l   ┆ 955 ┆ ati │\n",
       "│ 3   ┆ ha  ┆ et  ┆ 6-2 ┆     ┆ om  ┆ 8-3 ┆ 50] ┆ e_d ┆ //e ┆     ┆     ┆ ina ┆     ┆     ┆     ┆     ┆     ┆     ┆     ┆ ve  │\n",
       "│     ┆ var ┆ fry ┆ 9   ┆     ┆ den ┆ 1   ┆     ┆ efa ┆ kst ┆     ┆     ┆ lit ┆     ┆     ┆     ┆     ┆     ┆     ┆     ┆     │\n",
       "│     ┆ ikk ┆ gte ┆ 06: ┆     ┆ øst ┆ 08: ┆     ┆ ult ┆ rab ┆     ┆     ┆ et\" ┆     ┆     ┆     ┆     ┆     ┆     ┆     ┆     │\n",
       "│     ┆ e   ┆ r   ┆ 20: ┆     ┆ ris ┆ 06: ┆     ┆     ┆ lad ┆     ┆     ┆ ,   ┆     ┆     ┆     ┆     ┆     ┆     ┆     ┆     │\n",
       "│     ┆ den ┆ nu, ┆ 33  ┆     ┆ ke  ┆ 45  ┆     ┆     ┆ et. ┆     ┆     ┆ \"Pe ┆     ┆     ┆     ┆     ┆     ┆     ┆     ┆     │\n",
       "│     ┆ før ┆ at  ┆     ┆     ┆ Nat ┆     ┆     ┆     ┆ dk/ ┆     ┆     ┆ rso ┆     ┆     ┆     ┆     ┆     ┆     ┆     ┆     │\n",
       "│     ┆ ste ┆ Nat ┆     ┆     ┆ asc ┆     ┆     ┆     ┆ kri ┆     ┆     ┆ nfa ┆     ┆     ┆     ┆     ┆     ┆     ┆     ┆     │\n",
       "│     ┆     ┆ asc ┆     ┆     ┆ ha… ┆     ┆     ┆     ┆ mi/ ┆     ┆     ┆ rli ┆     ┆     ┆     ┆     ┆     ┆     ┆     ┆     │\n",
       "│     ┆     ┆ …   ┆     ┆     ┆     ┆     ┆     ┆     ┆ …   ┆     ┆     ┆ g…  ┆     ┆     ┆     ┆     ┆     ┆     ┆     ┆     │\n",
       "│ 300 ┆ Kun ┆ Bio ┆ 202 ┆ fal ┆ Vat ┆ 200 ┆ [30 ┆ art ┆ htt ┆ []  ┆ []  ┆ [\"U ┆ 414 ┆ [43 ┆ und ┆ nul ┆ nul ┆ nul ┆ 0.8 ┆ Pos │\n",
       "│ 306 ┆ Sta ┆ gra ┆ 3-0 ┆ se  ┆ ika ┆ 6-0 ┆ 067 ┆ icl ┆ ps: ┆     ┆     ┆ nde ┆     ┆ 3,  ┆ erh ┆ l   ┆ l   ┆ l   ┆ 46  ┆ iti │\n",
       "│ 5   ┆ r   ┆ fgæ ┆ 6-2 ┆     ┆ net ┆ 5-2 ┆ 12] ┆ e_d ┆ //e ┆     ┆     ┆ rho ┆     ┆ 434 ┆ old ┆     ┆     ┆     ┆     ┆ ve  │\n",
       "│     ┆ War ┆ nge ┆ 9   ┆     ┆ har ┆ 1   ┆     ┆ efa ┆ kst ┆     ┆     ┆ ldn ┆     ┆ ]   ┆ nin ┆     ┆     ┆     ┆     ┆     │\n",
       "│     ┆ s   ┆ rne ┆ 06: ┆     ┆ opf ┆ 16: ┆     ┆ ult ┆ rab ┆     ┆     ┆ ing ┆     ┆     ┆ g   ┆     ┆     ┆     ┆     ┆     │\n",
       "│     ┆ tje ┆ str ┆ 20: ┆     ┆ ord ┆ 57: ┆     ┆     ┆ lad ┆     ┆     ┆ \",  ┆     ┆     ┆     ┆     ┆     ┆     ┆     ┆     │\n",
       "│     ┆ nte ┆ ømm ┆ 35  ┆     ┆ ret ┆ 00  ┆     ┆     ┆ et. ┆     ┆     ┆ \"Fi ┆     ┆     ┆     ┆     ┆     ┆     ┆     ┆     │\n",
       "│     ┆ mer ┆ er  ┆     ┆     ┆ til ┆     ┆     ┆     ┆ dk/ ┆     ┆     ┆ lm  ┆     ┆     ┆     ┆     ┆     ┆     ┆     ┆     │\n",
       "│     ┆ e   ┆ ind ┆     ┆     ┆ at… ┆     ┆     ┆     ┆ und ┆     ┆     ┆ og  ┆     ┆     ┆     ┆     ┆     ┆     ┆     ┆     │\n",
       "│     ┆     ┆ f…  ┆     ┆     ┆     ┆     ┆     ┆     ┆ erh ┆     ┆     ┆ tv\" ┆     ┆     ┆     ┆     ┆     ┆     ┆     ┆     │\n",
       "│     ┆     ┆     ┆     ┆     ┆     ┆     ┆     ┆     ┆ …   ┆     ┆     ┆ …   ┆     ┆     ┆     ┆     ┆     ┆     ┆     ┆     │\n",
       "│ 301 ┆ Mor ┆ FOD ┆ 202 ┆ fal ┆ Kem ┆ 200 ┆ [31 ┆ art ┆ htt ┆ []  ┆ []  ┆ [\"E ┆ 142 ┆ [19 ┆ spo ┆ nul ┆ nul ┆ nul ┆ 0.8 ┆ Neg │\n",
       "│ 277 ┆ ten ┆ BOL ┆ 3-0 ┆ se  ┆ ien ┆ 6-0 ┆ 779 ┆ icl ┆ ps: ┆     ┆     ┆ rhv ┆     ┆ 6,  ┆ rt  ┆ l   ┆ l   ┆ l   ┆ 241 ┆ ati │\n",
       "│ 1   ┆ Bru ┆ D:  ┆ 6-2 ┆     ┆ mel ┆ 5-0 ┆ 53] ┆ e_d ┆ //e ┆     ┆     ┆ erv ┆     ┆ 199 ┆     ┆     ┆     ┆     ┆     ┆ ve  │\n",
       "│     ┆ un  ┆ Mor ┆ 9   ┆     ┆ lem ┆ 1   ┆     ┆ efa ┆ kst ┆     ┆     ┆ \",  ┆     ┆ ]   ┆     ┆     ┆     ┆     ┆     ┆     │\n",
       "│     ┆ fyr ┆ ten ┆ 06: ┆     ┆ spi ┆ 14: ┆     ┆ ult ┆ rab ┆     ┆     ┆ \"Ke ┆     ┆     ┆     ┆     ┆     ┆     ┆     ┆     │\n",
       "│     ┆ et  ┆ Bru ┆ 20: ┆     ┆ lle ┆ 28: ┆     ┆     ┆ lad ┆     ┆     ┆ ndt ┆     ┆     ┆     ┆     ┆     ┆     ┆     ┆     │\n",
       "│     ┆ i   ┆ un  ┆ 39  ┆     ┆ rne ┆ 40  ┆     ┆     ┆ et. ┆     ┆     ┆ \",  ┆     ┆     ┆     ┆     ┆     ┆     ┆     ┆     │\n",
       "│     ┆ Søn ┆ fyr ┆     ┆     ┆ i   ┆     ┆     ┆     ┆ dk/ ┆     ┆     ┆ …   ┆     ┆     ┆     ┆     ┆     ┆     ┆     ┆     │\n",
       "│     ┆ der ┆ et  ┆     ┆     ┆ Sup ┆     ┆     ┆     ┆ spo ┆     ┆     ┆ \"An ┆     ┆     ┆     ┆     ┆     ┆     ┆     ┆     │\n",
       "│     ┆ jys ┆ me… ┆     ┆     ┆ e…  ┆     ┆     ┆     ┆ rt/ ┆     ┆     ┆ sæt ┆     ┆     ┆     ┆     ┆     ┆     ┆     ┆     │\n",
       "│     ┆ …   ┆     ┆     ┆     ┆     ┆     ┆     ┆     ┆ …   ┆     ┆     ┆ t…  ┆     ┆     ┆     ┆     ┆     ┆     ┆     ┆     │\n",
       "│ 302 ┆ Lud ┆ I   ┆ 202 ┆ fal ┆ Det ┆ 200 ┆ [31 ┆ art ┆ htt ┆ []  ┆ []  ┆ [\"L ┆ 118 ┆ [13 ┆ nyh ┆ nul ┆ nul ┆ nul ┆ 0.7 ┆ Neu │\n",
       "│ 346 ┆ ern ┆ lan ┆ 3-0 ┆ se  ┆ fræ ┆ 7-0 ┆ 840 ┆ icl ┆ ps: ┆     ┆     ┆ ivs ┆     ┆ 3]  ┆ ede ┆ l   ┆ l   ┆ l   ┆ 053 ┆ tra │\n",
       "│ 3   ┆ e   ┆ det ┆ 6-2 ┆     ┆ kke ┆ 3-2 ┆ 29] ┆ e_d ┆ //e ┆     ┆     ┆ sti ┆     ┆     ┆ r   ┆     ┆     ┆     ┆     ┆ l   │\n",
       "│     ┆ fly ┆ s   ┆ 9   ┆     ┆ erh ┆ 4   ┆     ┆ efa ┆ kst ┆     ┆     ┆ l\", ┆     ┆     ┆     ┆     ┆     ┆     ┆     ┆     │\n",
       "│     ┆ tte ┆ tyn ┆ 06: ┆     ┆ ver ┆ 08: ┆     ┆ ult ┆ rab ┆     ┆     ┆ \"Er ┆     ┆     ┆     ┆     ┆     ┆     ┆     ┆     │\n",
       "│     ┆ r   ┆ des ┆ 20: ┆     ┆ v   ┆ 27: ┆     ┆     ┆ lad ┆     ┆     ┆ oti ┆     ┆     ┆     ┆     ┆     ┆     ┆     ┆     │\n",
       "│     ┆ på  ┆ t   ┆ 43  ┆     ┆ ryk ┆ 59  ┆     ┆     ┆ et. ┆     ┆     ┆ k\"] ┆     ┆     ┆     ┆     ┆     ┆     ┆     ┆     │\n",
       "│     ┆ lan ┆ bef ┆     ┆     ┆ ker ┆     ┆     ┆     ┆ dk/ ┆     ┆     ┆     ┆     ┆     ┆     ┆     ┆     ┆     ┆     ┆     │\n",
       "│     ┆ det ┆ olk ┆     ┆     ┆ på  ┆     ┆     ┆     ┆ nyh ┆     ┆     ┆     ┆     ┆     ┆     ┆     ┆     ┆     ┆     ┆     │\n",
       "│     ┆     ┆ ede ┆     ┆     ┆ l…  ┆     ┆     ┆     ┆ ede ┆     ┆     ┆     ┆     ┆     ┆     ┆     ┆     ┆     ┆     ┆     │\n",
       "│     ┆     ┆ om… ┆     ┆     ┆     ┆     ┆     ┆     ┆ …   ┆     ┆     ┆     ┆     ┆     ┆     ┆     ┆     ┆     ┆     ┆     │\n",
       "│ 303 ┆ Cyb ┆ En  ┆ 202 ┆ fal ┆ De  ┆ 200 ┆ [30 ┆ art ┆ htt ┆ []  ┆ []  ┆ [\"L ┆ 565 ┆ []  ┆ sex ┆ nul ┆ nul ┆ nul ┆ 0.9 ┆ Neu │\n",
       "│ 257 ┆ ers ┆ fli ┆ 3-0 ┆ se  ┆ fle ┆ 7-0 ┆ 304 ┆ icl ┆ ps: ┆     ┆     ┆ ivs ┆     ┆     ┆ _og ┆ l   ┆ l   ┆ l   ┆ 307 ┆ tra │\n",
       "│ 7   ┆ ex: ┆ rte ┆ 6-2 ┆     ┆ ste ┆ 1-1 ┆ 63] ┆ e_d ┆ //e ┆     ┆     ┆ sti ┆     ┆     ┆ _sa ┆     ┆     ┆     ┆     ┆ l   │\n",
       "│     ┆ Hvo ┆ nde ┆ 9   ┆     ┆ af  ┆ 8   ┆     ┆ efa ┆ kst ┆     ┆     ┆ l\", ┆     ┆     ┆ mli ┆     ┆     ┆     ┆     ┆     │\n",
       "│     ┆ rnå ┆ sms ┆ 06: ┆     ┆ os  ┆ 10: ┆     ┆ ult ┆ rab ┆     ┆     ┆ \"Pa ┆     ┆     ┆ v   ┆     ┆     ┆     ┆     ┆     │\n",
       "│     ┆ r   ┆ til ┆ 20: ┆     ┆ men ┆ 30: ┆     ┆     ┆ lad ┆     ┆     ┆ rtn ┆     ┆     ┆     ┆     ┆     ┆     ┆     ┆     │\n",
       "│     ┆ er  ┆ den ┆ 46  ┆     ┆ er, ┆ 37  ┆     ┆     ┆ et. ┆     ┆     ┆ ers ┆     ┆     ┆     ┆     ┆     ┆     ┆     ┆     │\n",
       "│     ┆ man ┆ flo ┆     ┆     ┆ at  ┆     ┆     ┆     ┆ dk/ ┆     ┆     ┆ kab ┆     ┆     ┆     ┆     ┆     ┆     ┆     ┆     │\n",
       "│     ┆ utr ┆ tt… ┆     ┆     ┆ et  ┆     ┆     ┆     ┆ sex ┆     ┆     ┆ \"]  ┆     ┆     ┆     ┆     ┆     ┆     ┆     ┆     │\n",
       "│     ┆ o?  ┆     ┆     ┆     ┆ t…  ┆     ┆     ┆     ┆ _og ┆     ┆     ┆     ┆     ┆     ┆     ┆     ┆     ┆     ┆     ┆     │\n",
       "│     ┆     ┆     ┆     ┆     ┆     ┆     ┆     ┆     ┆ …   ┆     ┆     ┆     ┆     ┆     ┆     ┆     ┆     ┆     ┆     ┆     │\n",
       "└─────┴─────┴─────┴─────┴─────┴─────┴─────┴─────┴─────┴─────┴─────┴─────┴─────┴─────┴─────┴─────┴─────┴─────┴─────┴─────┴─────┘"
      ]
     },
     "execution_count": 3,
     "metadata": {},
     "output_type": "execute_result"
    }
   ],
   "source": [
    "articles_df.head()"
   ]
  },
  {
   "cell_type": "markdown",
   "metadata": {},
   "source": [
    "Each file consists of seven days of impression logs."
   ]
  },
  {
   "cell_type": "code",
   "execution_count": 4,
   "metadata": {},
   "outputs": [
    {
     "data": {
      "text/html": [
       "<div><style>\n",
       ".dataframe > thead > tr,\n",
       ".dataframe > tbody > tr {\n",
       "  text-align: right;\n",
       "  white-space: pre-wrap;\n",
       "}\n",
       "</style>\n",
       "<small>shape: (5, 17)</small><table border=\"1\" class=\"dataframe\"><thead><tr><th>impression_id</th><th>article_id</th><th>impression_time</th><th>read_time</th><th>scroll_percentage</th><th>device_type</th><th>article_ids_inview</th><th>article_ids_clicked</th><th>user_id</th><th>is_sso_user</th><th>gender</th><th>postcode</th><th>age</th><th>is_subscriber</th><th>session_id</th><th>next_read_time</th><th>next_scroll_percentage</th></tr><tr><td>u32</td><td>i32</td><td>datetime[μs]</td><td>f32</td><td>f32</td><td>i8</td><td>list[i32]</td><td>list[i32]</td><td>u32</td><td>bool</td><td>i8</td><td>i8</td><td>i8</td><td>bool</td><td>u32</td><td>f32</td><td>f32</td></tr></thead><tbody><tr><td>149474</td><td>null</td><td>2023-05-24 07:47:53</td><td>13.0</td><td>null</td><td>2</td><td>[9778623, 9778682, … 9778728]</td><td>[9778657]</td><td>139836</td><td>false</td><td>null</td><td>null</td><td>null</td><td>false</td><td>759</td><td>7.0</td><td>22.0</td></tr><tr><td>150528</td><td>null</td><td>2023-05-24 07:33:25</td><td>25.0</td><td>null</td><td>2</td><td>[9778718, 9778728, … 9778682]</td><td>[9778623]</td><td>143471</td><td>false</td><td>null</td><td>null</td><td>null</td><td>false</td><td>1240</td><td>287.0</td><td>100.0</td></tr><tr><td>153068</td><td>9778682</td><td>2023-05-24 07:09:04</td><td>78.0</td><td>100.0</td><td>1</td><td>[9778657, 9778669, … 9778682]</td><td>[9778669]</td><td>151570</td><td>false</td><td>null</td><td>null</td><td>null</td><td>false</td><td>1976</td><td>45.0</td><td>100.0</td></tr><tr><td>153070</td><td>9777492</td><td>2023-05-24 07:13:14</td><td>26.0</td><td>100.0</td><td>1</td><td>[9020783, 9778444, … 9778628]</td><td>[9778628]</td><td>151570</td><td>false</td><td>null</td><td>null</td><td>null</td><td>false</td><td>1976</td><td>4.0</td><td>18.0</td></tr><tr><td>153071</td><td>9778623</td><td>2023-05-24 07:11:08</td><td>125.0</td><td>100.0</td><td>1</td><td>[9777492, 9774568, … 9775990]</td><td>[9777492]</td><td>151570</td><td>false</td><td>null</td><td>null</td><td>null</td><td>false</td><td>1976</td><td>26.0</td><td>100.0</td></tr></tbody></table></div>"
      ],
      "text/plain": [
       "shape: (5, 17)\n",
       "┌─────┬─────┬─────┬─────┬─────┬─────┬─────┬─────┬─────┬─────┬─────┬─────┬─────┬─────┬─────┬─────┬─────┐\n",
       "│ imp ┆ art ┆ imp ┆ rea ┆ scr ┆ dev ┆ art ┆ art ┆ use ┆ is_ ┆ gen ┆ pos ┆ age ┆ is_ ┆ ses ┆ nex ┆ nex │\n",
       "│ res ┆ icl ┆ res ┆ d_t ┆ oll ┆ ice ┆ icl ┆ icl ┆ r_i ┆ sso ┆ der ┆ tco ┆ --- ┆ sub ┆ sio ┆ t_r ┆ t_s │\n",
       "│ sio ┆ e_i ┆ sio ┆ ime ┆ _pe ┆ _ty ┆ e_i ┆ e_i ┆ d   ┆ _us ┆ --- ┆ de  ┆ i8  ┆ scr ┆ n_i ┆ ead ┆ cro │\n",
       "│ n_i ┆ d   ┆ n_t ┆ --- ┆ rce ┆ pe  ┆ ds_ ┆ ds_ ┆ --- ┆ er  ┆ i8  ┆ --- ┆     ┆ ibe ┆ d   ┆ _ti ┆ ll_ │\n",
       "│ d   ┆ --- ┆ ime ┆ f32 ┆ nta ┆ --- ┆ inv ┆ cli ┆ u32 ┆ --- ┆     ┆ i8  ┆     ┆ r   ┆ --- ┆ me  ┆ per │\n",
       "│ --- ┆ i32 ┆ --- ┆     ┆ ge  ┆ i8  ┆ iew ┆ cke ┆     ┆ boo ┆     ┆     ┆     ┆ --- ┆ u32 ┆ --- ┆ cen │\n",
       "│ u32 ┆     ┆ dat ┆     ┆ --- ┆     ┆ --- ┆ d   ┆     ┆ l   ┆     ┆     ┆     ┆ boo ┆     ┆ f32 ┆ tag │\n",
       "│     ┆     ┆ eti ┆     ┆ f32 ┆     ┆ lis ┆ --- ┆     ┆     ┆     ┆     ┆     ┆ l   ┆     ┆     ┆ e   │\n",
       "│     ┆     ┆ me[ ┆     ┆     ┆     ┆ t[i ┆ lis ┆     ┆     ┆     ┆     ┆     ┆     ┆     ┆     ┆ --- │\n",
       "│     ┆     ┆ μs] ┆     ┆     ┆     ┆ 32] ┆ t[i ┆     ┆     ┆     ┆     ┆     ┆     ┆     ┆     ┆ f32 │\n",
       "│     ┆     ┆     ┆     ┆     ┆     ┆     ┆ 32] ┆     ┆     ┆     ┆     ┆     ┆     ┆     ┆     ┆     │\n",
       "╞═════╪═════╪═════╪═════╪═════╪═════╪═════╪═════╪═════╪═════╪═════╪═════╪═════╪═════╪═════╪═════╪═════╡\n",
       "│ 149 ┆ nul ┆ 202 ┆ 13. ┆ nul ┆ 2   ┆ [97 ┆ [97 ┆ 139 ┆ fal ┆ nul ┆ nul ┆ nul ┆ fal ┆ 759 ┆ 7.0 ┆ 22. │\n",
       "│ 474 ┆ l   ┆ 3-0 ┆ 0   ┆ l   ┆     ┆ 786 ┆ 786 ┆ 836 ┆ se  ┆ l   ┆ l   ┆ l   ┆ se  ┆     ┆     ┆ 0   │\n",
       "│     ┆     ┆ 5-2 ┆     ┆     ┆     ┆ 23, ┆ 57] ┆     ┆     ┆     ┆     ┆     ┆     ┆     ┆     ┆     │\n",
       "│     ┆     ┆ 4   ┆     ┆     ┆     ┆ 977 ┆     ┆     ┆     ┆     ┆     ┆     ┆     ┆     ┆     ┆     │\n",
       "│     ┆     ┆ 07: ┆     ┆     ┆     ┆ 868 ┆     ┆     ┆     ┆     ┆     ┆     ┆     ┆     ┆     ┆     │\n",
       "│     ┆     ┆ 47: ┆     ┆     ┆     ┆ 2,  ┆     ┆     ┆     ┆     ┆     ┆     ┆     ┆     ┆     ┆     │\n",
       "│     ┆     ┆ 53  ┆     ┆     ┆     ┆ …   ┆     ┆     ┆     ┆     ┆     ┆     ┆     ┆     ┆     ┆     │\n",
       "│     ┆     ┆     ┆     ┆     ┆     ┆ 977 ┆     ┆     ┆     ┆     ┆     ┆     ┆     ┆     ┆     ┆     │\n",
       "│     ┆     ┆     ┆     ┆     ┆     ┆ 872 ┆     ┆     ┆     ┆     ┆     ┆     ┆     ┆     ┆     ┆     │\n",
       "│     ┆     ┆     ┆     ┆     ┆     ┆ 8]  ┆     ┆     ┆     ┆     ┆     ┆     ┆     ┆     ┆     ┆     │\n",
       "│ 150 ┆ nul ┆ 202 ┆ 25. ┆ nul ┆ 2   ┆ [97 ┆ [97 ┆ 143 ┆ fal ┆ nul ┆ nul ┆ nul ┆ fal ┆ 124 ┆ 287 ┆ 100 │\n",
       "│ 528 ┆ l   ┆ 3-0 ┆ 0   ┆ l   ┆     ┆ 787 ┆ 786 ┆ 471 ┆ se  ┆ l   ┆ l   ┆ l   ┆ se  ┆ 0   ┆ .0  ┆ .0  │\n",
       "│     ┆     ┆ 5-2 ┆     ┆     ┆     ┆ 18, ┆ 23] ┆     ┆     ┆     ┆     ┆     ┆     ┆     ┆     ┆     │\n",
       "│     ┆     ┆ 4   ┆     ┆     ┆     ┆ 977 ┆     ┆     ┆     ┆     ┆     ┆     ┆     ┆     ┆     ┆     │\n",
       "│     ┆     ┆ 07: ┆     ┆     ┆     ┆ 872 ┆     ┆     ┆     ┆     ┆     ┆     ┆     ┆     ┆     ┆     │\n",
       "│     ┆     ┆ 33: ┆     ┆     ┆     ┆ 8,  ┆     ┆     ┆     ┆     ┆     ┆     ┆     ┆     ┆     ┆     │\n",
       "│     ┆     ┆ 25  ┆     ┆     ┆     ┆ …   ┆     ┆     ┆     ┆     ┆     ┆     ┆     ┆     ┆     ┆     │\n",
       "│     ┆     ┆     ┆     ┆     ┆     ┆ 977 ┆     ┆     ┆     ┆     ┆     ┆     ┆     ┆     ┆     ┆     │\n",
       "│     ┆     ┆     ┆     ┆     ┆     ┆ 868 ┆     ┆     ┆     ┆     ┆     ┆     ┆     ┆     ┆     ┆     │\n",
       "│     ┆     ┆     ┆     ┆     ┆     ┆ 2]  ┆     ┆     ┆     ┆     ┆     ┆     ┆     ┆     ┆     ┆     │\n",
       "│ 153 ┆ 977 ┆ 202 ┆ 78. ┆ 100 ┆ 1   ┆ [97 ┆ [97 ┆ 151 ┆ fal ┆ nul ┆ nul ┆ nul ┆ fal ┆ 197 ┆ 45. ┆ 100 │\n",
       "│ 068 ┆ 868 ┆ 3-0 ┆ 0   ┆ .0  ┆     ┆ 786 ┆ 786 ┆ 570 ┆ se  ┆ l   ┆ l   ┆ l   ┆ se  ┆ 6   ┆ 0   ┆ .0  │\n",
       "│     ┆ 2   ┆ 5-2 ┆     ┆     ┆     ┆ 57, ┆ 69] ┆     ┆     ┆     ┆     ┆     ┆     ┆     ┆     ┆     │\n",
       "│     ┆     ┆ 4   ┆     ┆     ┆     ┆ 977 ┆     ┆     ┆     ┆     ┆     ┆     ┆     ┆     ┆     ┆     │\n",
       "│     ┆     ┆ 07: ┆     ┆     ┆     ┆ 866 ┆     ┆     ┆     ┆     ┆     ┆     ┆     ┆     ┆     ┆     │\n",
       "│     ┆     ┆ 09: ┆     ┆     ┆     ┆ 9,  ┆     ┆     ┆     ┆     ┆     ┆     ┆     ┆     ┆     ┆     │\n",
       "│     ┆     ┆ 04  ┆     ┆     ┆     ┆ …   ┆     ┆     ┆     ┆     ┆     ┆     ┆     ┆     ┆     ┆     │\n",
       "│     ┆     ┆     ┆     ┆     ┆     ┆ 977 ┆     ┆     ┆     ┆     ┆     ┆     ┆     ┆     ┆     ┆     │\n",
       "│     ┆     ┆     ┆     ┆     ┆     ┆ 868 ┆     ┆     ┆     ┆     ┆     ┆     ┆     ┆     ┆     ┆     │\n",
       "│     ┆     ┆     ┆     ┆     ┆     ┆ 2]  ┆     ┆     ┆     ┆     ┆     ┆     ┆     ┆     ┆     ┆     │\n",
       "│ 153 ┆ 977 ┆ 202 ┆ 26. ┆ 100 ┆ 1   ┆ [90 ┆ [97 ┆ 151 ┆ fal ┆ nul ┆ nul ┆ nul ┆ fal ┆ 197 ┆ 4.0 ┆ 18. │\n",
       "│ 070 ┆ 749 ┆ 3-0 ┆ 0   ┆ .0  ┆     ┆ 207 ┆ 786 ┆ 570 ┆ se  ┆ l   ┆ l   ┆ l   ┆ se  ┆ 6   ┆     ┆ 0   │\n",
       "│     ┆ 2   ┆ 5-2 ┆     ┆     ┆     ┆ 83, ┆ 28] ┆     ┆     ┆     ┆     ┆     ┆     ┆     ┆     ┆     │\n",
       "│     ┆     ┆ 4   ┆     ┆     ┆     ┆ 977 ┆     ┆     ┆     ┆     ┆     ┆     ┆     ┆     ┆     ┆     │\n",
       "│     ┆     ┆ 07: ┆     ┆     ┆     ┆ 844 ┆     ┆     ┆     ┆     ┆     ┆     ┆     ┆     ┆     ┆     │\n",
       "│     ┆     ┆ 13: ┆     ┆     ┆     ┆ 4,  ┆     ┆     ┆     ┆     ┆     ┆     ┆     ┆     ┆     ┆     │\n",
       "│     ┆     ┆ 14  ┆     ┆     ┆     ┆ …   ┆     ┆     ┆     ┆     ┆     ┆     ┆     ┆     ┆     ┆     │\n",
       "│     ┆     ┆     ┆     ┆     ┆     ┆ 977 ┆     ┆     ┆     ┆     ┆     ┆     ┆     ┆     ┆     ┆     │\n",
       "│     ┆     ┆     ┆     ┆     ┆     ┆ 862 ┆     ┆     ┆     ┆     ┆     ┆     ┆     ┆     ┆     ┆     │\n",
       "│     ┆     ┆     ┆     ┆     ┆     ┆ 8]  ┆     ┆     ┆     ┆     ┆     ┆     ┆     ┆     ┆     ┆     │\n",
       "│ 153 ┆ 977 ┆ 202 ┆ 125 ┆ 100 ┆ 1   ┆ [97 ┆ [97 ┆ 151 ┆ fal ┆ nul ┆ nul ┆ nul ┆ fal ┆ 197 ┆ 26. ┆ 100 │\n",
       "│ 071 ┆ 862 ┆ 3-0 ┆ .0  ┆ .0  ┆     ┆ 774 ┆ 774 ┆ 570 ┆ se  ┆ l   ┆ l   ┆ l   ┆ se  ┆ 6   ┆ 0   ┆ .0  │\n",
       "│     ┆ 3   ┆ 5-2 ┆     ┆     ┆     ┆ 92, ┆ 92] ┆     ┆     ┆     ┆     ┆     ┆     ┆     ┆     ┆     │\n",
       "│     ┆     ┆ 4   ┆     ┆     ┆     ┆ 977 ┆     ┆     ┆     ┆     ┆     ┆     ┆     ┆     ┆     ┆     │\n",
       "│     ┆     ┆ 07: ┆     ┆     ┆     ┆ 456 ┆     ┆     ┆     ┆     ┆     ┆     ┆     ┆     ┆     ┆     │\n",
       "│     ┆     ┆ 11: ┆     ┆     ┆     ┆ 8,  ┆     ┆     ┆     ┆     ┆     ┆     ┆     ┆     ┆     ┆     │\n",
       "│     ┆     ┆ 08  ┆     ┆     ┆     ┆ …   ┆     ┆     ┆     ┆     ┆     ┆     ┆     ┆     ┆     ┆     │\n",
       "│     ┆     ┆     ┆     ┆     ┆     ┆ 977 ┆     ┆     ┆     ┆     ┆     ┆     ┆     ┆     ┆     ┆     │\n",
       "│     ┆     ┆     ┆     ┆     ┆     ┆ 599 ┆     ┆     ┆     ┆     ┆     ┆     ┆     ┆     ┆     ┆     │\n",
       "│     ┆     ┆     ┆     ┆     ┆     ┆ 0]  ┆     ┆     ┆     ┆     ┆     ┆     ┆     ┆     ┆     ┆     │\n",
       "└─────┴─────┴─────┴─────┴─────┴─────┴─────┴─────┴─────┴─────┴─────┴─────┴─────┴─────┴─────┴─────┴─────┘"
      ]
     },
     "execution_count": 4,
     "metadata": {},
     "output_type": "execute_result"
    }
   ],
   "source": [
    "train_behaviors_df.head()"
   ]
  },
  {
   "cell_type": "markdown",
   "metadata": {},
   "source": [
    "Each file consists of users' click histories collected over 21 days period."
   ]
  },
  {
   "cell_type": "code",
   "execution_count": 5,
   "metadata": {},
   "outputs": [
    {
     "data": {
      "text/html": [
       "<div><style>\n",
       ".dataframe > thead > tr,\n",
       ".dataframe > tbody > tr {\n",
       "  text-align: right;\n",
       "  white-space: pre-wrap;\n",
       "}\n",
       "</style>\n",
       "<small>shape: (5, 5)</small><table border=\"1\" class=\"dataframe\"><thead><tr><th>user_id</th><th>impression_time_fixed</th><th>scroll_percentage_fixed</th><th>article_id_fixed</th><th>read_time_fixed</th></tr><tr><td>u32</td><td>list[datetime[μs]]</td><td>list[f32]</td><td>list[i32]</td><td>list[f32]</td></tr></thead><tbody><tr><td>13538</td><td>[2023-04-27 10:17:43, 2023-04-27 10:18:01, … 2023-05-17 20:36:34]</td><td>[100.0, 35.0, … 100.0]</td><td>[9738663, 9738569, … 9769366]</td><td>[17.0, 12.0, … 16.0]</td></tr><tr><td>14241</td><td>[2023-04-27 09:40:18, 2023-04-27 09:40:33, … 2023-05-17 17:08:41]</td><td>[100.0, 46.0, … 100.0]</td><td>[9738557, 9738528, … 9767852]</td><td>[8.0, 9.0, … 12.0]</td></tr><tr><td>20396</td><td>[2023-04-27 12:30:44, 2023-04-27 12:31:34, … 2023-05-17 10:59:44]</td><td>[100.0, 59.0, … 13.0]</td><td>[9738760, 9738355, … 9769679]</td><td>[49.0, 34.0, … 4.0]</td></tr><tr><td>34912</td><td>[2023-04-29 07:12:49, 2023-04-29 13:01:18, … 2023-05-18 05:06:40]</td><td>[100.0, 35.0, … 27.0]</td><td>[9741802, 9741804, … 9770882]</td><td>[153.0, 7.0, … 5.0]</td></tr><tr><td>37953</td><td>[2023-04-27 19:17:10, 2023-04-27 19:17:27, … 2023-05-17 21:29:22]</td><td>[14.0, 28.0, … 18.0]</td><td>[9739205, 9739202, … 9769306]</td><td>[4.0, 16.0, … 6.0]</td></tr></tbody></table></div>"
      ],
      "text/plain": [
       "shape: (5, 5)\n",
       "┌─────────┬──────────────────────┬─────────────────────┬─────────────────────┬─────────────────────┐\n",
       "│ user_id ┆ impression_time_fixe ┆ scroll_percentage_f ┆ article_id_fixed    ┆ read_time_fixed     │\n",
       "│ ---     ┆ d                    ┆ ixed                ┆ ---                 ┆ ---                 │\n",
       "│ u32     ┆ ---                  ┆ ---                 ┆ list[i32]           ┆ list[f32]           │\n",
       "│         ┆ list[datetime[μs]]   ┆ list[f32]           ┆                     ┆                     │\n",
       "╞═════════╪══════════════════════╪═════════════════════╪═════════════════════╪═════════════════════╡\n",
       "│ 13538   ┆ [2023-04-27          ┆ [100.0, 35.0, …     ┆ [9738663, 9738569,  ┆ [17.0, 12.0, …      │\n",
       "│         ┆ 10:17:43, 2023-04-…  ┆ 100.0]              ┆ … 9769366]          ┆ 16.0]               │\n",
       "│ 14241   ┆ [2023-04-27          ┆ [100.0, 46.0, …     ┆ [9738557, 9738528,  ┆ [8.0, 9.0, … 12.0]  │\n",
       "│         ┆ 09:40:18, 2023-04-…  ┆ 100.0]              ┆ … 9767852]          ┆                     │\n",
       "│ 20396   ┆ [2023-04-27          ┆ [100.0, 59.0, …     ┆ [9738760, 9738355,  ┆ [49.0, 34.0, … 4.0] │\n",
       "│         ┆ 12:30:44, 2023-04-…  ┆ 13.0]               ┆ … 9769679]          ┆                     │\n",
       "│ 34912   ┆ [2023-04-29          ┆ [100.0, 35.0, …     ┆ [9741802, 9741804,  ┆ [153.0, 7.0, … 5.0] │\n",
       "│         ┆ 07:12:49, 2023-04-…  ┆ 27.0]               ┆ … 9770882]          ┆                     │\n",
       "│ 37953   ┆ [2023-04-27          ┆ [14.0, 28.0, …      ┆ [9739205, 9739202,  ┆ [4.0, 16.0, … 6.0]  │\n",
       "│         ┆ 19:17:10, 2023-04-…  ┆ 18.0]               ┆ … 9769306]          ┆                     │\n",
       "└─────────┴──────────────────────┴─────────────────────┴─────────────────────┴─────────────────────┘"
      ]
     },
     "execution_count": 5,
     "metadata": {},
     "output_type": "execute_result"
    }
   ],
   "source": [
    "train_history_df.head()"
   ]
  },
  {
   "cell_type": "markdown",
   "metadata": {},
   "source": [
    "List of vectors for each article"
   ]
  },
  {
   "cell_type": "code",
   "execution_count": 6,
   "metadata": {},
   "outputs": [
    {
     "data": {
      "text/html": [
       "<div><style>\n",
       ".dataframe > thead > tr,\n",
       ".dataframe > tbody > tr {\n",
       "  text-align: right;\n",
       "  white-space: pre-wrap;\n",
       "}\n",
       "</style>\n",
       "<small>shape: (5, 2)</small><table border=\"1\" class=\"dataframe\"><thead><tr><th>article_id</th><th>document_vector</th></tr><tr><td>i32</td><td>list[f32]</td></tr></thead><tbody><tr><td>3000022</td><td>[0.065424, -0.047425, … 0.035706]</td></tr><tr><td>3000063</td><td>[0.028815, -0.000166, … 0.027167]</td></tr><tr><td>3000613</td><td>[0.037971, 0.033923, … 0.063961]</td></tr><tr><td>3000700</td><td>[0.046524, 0.002913, … 0.023423]</td></tr><tr><td>3000840</td><td>[0.014737, 0.024068, … 0.045991]</td></tr></tbody></table></div>"
      ],
      "text/plain": [
       "shape: (5, 2)\n",
       "┌────────────┬─────────────────────────────────┐\n",
       "│ article_id ┆ document_vector                 │\n",
       "│ ---        ┆ ---                             │\n",
       "│ i32        ┆ list[f32]                       │\n",
       "╞════════════╪═════════════════════════════════╡\n",
       "│ 3000022    ┆ [0.065424, -0.047425, … 0.0357… │\n",
       "│ 3000063    ┆ [0.028815, -0.000166, … 0.0271… │\n",
       "│ 3000613    ┆ [0.037971, 0.033923, … 0.06396… │\n",
       "│ 3000700    ┆ [0.046524, 0.002913, … 0.02342… │\n",
       "│ 3000840    ┆ [0.014737, 0.024068, … 0.04599… │\n",
       "└────────────┴─────────────────────────────────┘"
      ]
     },
     "execution_count": 6,
     "metadata": {},
     "output_type": "execute_result"
    }
   ],
   "source": [
    "document_vectors_df.head()"
   ]
  },
  {
   "cell_type": "markdown",
   "metadata": {},
   "source": [
    "## Preprocessing"
   ]
  },
  {
   "cell_type": "markdown",
   "metadata": {},
   "source": [
    "We merge articles and document vectors to one DataFrame containing all infromation about a given article.\n",
    "This will be passed to the model"
   ]
  },
  {
   "cell_type": "markdown",
   "metadata": {},
   "source": [
    "Notes (Remove Once done)\n",
    "- Should replace null with defaults values?\n",
    "    - (-1) works for most other values, as -1 isn't valid for total_inviews, total_pageviews, total_read_time"
   ]
  },
  {
   "cell_type": "code",
   "execution_count": 7,
   "metadata": {},
   "outputs": [
    {
     "data": {
      "text/html": [
       "<div><style>\n",
       ".dataframe > thead > tr,\n",
       ".dataframe > tbody > tr {\n",
       "  text-align: right;\n",
       "  white-space: pre-wrap;\n",
       "}\n",
       "</style>\n",
       "<small>shape: (5, 22)</small><table border=\"1\" class=\"dataframe\"><thead><tr><th>article_id</th><th>title</th><th>subtitle</th><th>last_modified_time</th><th>premium</th><th>body</th><th>published_time</th><th>image_ids</th><th>article_type</th><th>url</th><th>ner_clusters</th><th>entity_groups</th><th>topics</th><th>category</th><th>subcategory</th><th>category_str</th><th>total_inviews</th><th>total_pageviews</th><th>total_read_time</th><th>sentiment_score</th><th>sentiment_label</th><th>document_vector</th></tr><tr><td>i32</td><td>str</td><td>str</td><td>datetime[μs]</td><td>bool</td><td>str</td><td>datetime[μs]</td><td>list[i64]</td><td>str</td><td>str</td><td>list[str]</td><td>list[str]</td><td>list[str]</td><td>i16</td><td>list[i16]</td><td>str</td><td>i32</td><td>i32</td><td>f32</td><td>f32</td><td>str</td><td>list[f32]</td></tr></thead><tbody><tr><td>3001353</td><td>&quot;Natascha var ikke den første&quot;</td><td>&quot;Politiet frygter nu, at Natasc…</td><td>2023-06-29 06:20:33</td><td>false</td><td>&quot;Sagen om den østriske Natascha…</td><td>2006-08-31 08:06:45</td><td>[3150850]</td><td>&quot;article_default&quot;</td><td>&quot;https://ekstrabladet.dk/krimi/…</td><td>[]</td><td>[]</td><td>[&quot;Kriminalitet&quot;, &quot;Personfarlig kriminalitet&quot;]</td><td>140</td><td>[]</td><td>&quot;krimi&quot;</td><td>null</td><td>null</td><td>null</td><td>0.9955</td><td>&quot;Negative&quot;</td><td>[0.055219, 0.011371, … 0.007982]</td></tr><tr><td>3003065</td><td>&quot;Kun Star Wars tjente mere&quot;</td><td>&quot;Biografgængerne strømmer ind f…</td><td>2023-06-29 06:20:35</td><td>false</td><td>&quot;Vatikanet har opfordret til at…</td><td>2006-05-21 16:57:00</td><td>[3006712]</td><td>&quot;article_default&quot;</td><td>&quot;https://ekstrabladet.dk/underh…</td><td>[]</td><td>[]</td><td>[&quot;Underholdning&quot;, &quot;Film og tv&quot;, &quot;Økonomi&quot;]</td><td>414</td><td>[433, 434]</td><td>&quot;underholdning&quot;</td><td>null</td><td>null</td><td>null</td><td>0.846</td><td>&quot;Positive&quot;</td><td>[0.036996, 0.010496, … 0.0377]</td></tr><tr><td>3012771</td><td>&quot;Morten Bruun fyret i Sønderjys…</td><td>&quot;FODBOLD: Morten Bruun fyret me…</td><td>2023-06-29 06:20:39</td><td>false</td><td>&quot;Kemien mellem spillerne i Supe…</td><td>2006-05-01 14:28:40</td><td>[3177953]</td><td>&quot;article_default&quot;</td><td>&quot;https://ekstrabladet.dk/sport/…</td><td>[]</td><td>[]</td><td>[&quot;Erhverv&quot;, &quot;Kendt&quot;, … &quot;Ansættelsesforhold&quot;]</td><td>142</td><td>[196, 199]</td><td>&quot;sport&quot;</td><td>null</td><td>null</td><td>null</td><td>0.8241</td><td>&quot;Negative&quot;</td><td>[0.037297, -0.007839, … 0.062801]</td></tr><tr><td>3023463</td><td>&quot;Luderne flytter på landet&quot;</td><td>&quot;I landets tyndest befolkede om…</td><td>2023-06-29 06:20:43</td><td>false</td><td>&quot;Det frække erhverv rykker på l…</td><td>2007-03-24 08:27:59</td><td>[3184029]</td><td>&quot;article_default&quot;</td><td>&quot;https://ekstrabladet.dk/nyhede…</td><td>[]</td><td>[]</td><td>[&quot;Livsstil&quot;, &quot;Erotik&quot;]</td><td>118</td><td>[133]</td><td>&quot;nyheder&quot;</td><td>null</td><td>null</td><td>null</td><td>0.7053</td><td>&quot;Neutral&quot;</td><td>[0.004084, -0.002531, … 0.005977]</td></tr><tr><td>3032577</td><td>&quot;Cybersex: Hvornår er man utro?&quot;</td><td>&quot;En flirtende sms til den flott…</td><td>2023-06-29 06:20:46</td><td>false</td><td>&quot;De fleste af os mener, at et t…</td><td>2007-01-18 10:30:37</td><td>[3030463]</td><td>&quot;article_default&quot;</td><td>&quot;https://ekstrabladet.dk/sex_og…</td><td>[]</td><td>[]</td><td>[&quot;Livsstil&quot;, &quot;Partnerskab&quot;]</td><td>565</td><td>[]</td><td>&quot;sex_og_samliv&quot;</td><td>null</td><td>null</td><td>null</td><td>0.9307</td><td>&quot;Neutral&quot;</td><td>[0.025799, -0.011494, … -0.017426]</td></tr></tbody></table></div>"
      ],
      "text/plain": [
       "shape: (5, 22)\n",
       "┌─────┬─────┬─────┬─────┬─────┬─────┬─────┬─────┬─────┬─────┬─────┬─────┬─────┬─────┬─────┬─────┬─────┬─────┬─────┬─────┬─────┬─────┐\n",
       "│ art ┆ tit ┆ sub ┆ las ┆ pre ┆ bod ┆ pub ┆ ima ┆ art ┆ url ┆ ner ┆ ent ┆ top ┆ cat ┆ sub ┆ cat ┆ tot ┆ tot ┆ tot ┆ sen ┆ sen ┆ doc │\n",
       "│ icl ┆ le  ┆ tit ┆ t_m ┆ miu ┆ y   ┆ lis ┆ ge_ ┆ icl ┆ --- ┆ _cl ┆ ity ┆ ics ┆ ego ┆ cat ┆ ego ┆ al_ ┆ al_ ┆ al_ ┆ tim ┆ tim ┆ ume │\n",
       "│ e_i ┆ --- ┆ le  ┆ odi ┆ m   ┆ --- ┆ hed ┆ ids ┆ e_t ┆ str ┆ ust ┆ _gr ┆ --- ┆ ry  ┆ ego ┆ ry_ ┆ inv ┆ pag ┆ rea ┆ ent ┆ ent ┆ nt_ │\n",
       "│ d   ┆ str ┆ --- ┆ fie ┆ --- ┆ str ┆ _ti ┆ --- ┆ ype ┆     ┆ ers ┆ oup ┆ lis ┆ --- ┆ ry  ┆ str ┆ iew ┆ evi ┆ d_t ┆ _sc ┆ _la ┆ vec │\n",
       "│ --- ┆     ┆ str ┆ d_t ┆ boo ┆     ┆ me  ┆ lis ┆ --- ┆     ┆ --- ┆ s   ┆ t[s ┆ i16 ┆ --- ┆ --- ┆ s   ┆ ews ┆ ime ┆ ore ┆ bel ┆ tor │\n",
       "│ i32 ┆     ┆     ┆ ime ┆ l   ┆     ┆ --- ┆ t[i ┆ str ┆     ┆ lis ┆ --- ┆ tr] ┆     ┆ lis ┆ str ┆ --- ┆ --- ┆ --- ┆ --- ┆ --- ┆ --- │\n",
       "│     ┆     ┆     ┆ --- ┆     ┆     ┆ dat ┆ 64] ┆     ┆     ┆ t[s ┆ lis ┆     ┆     ┆ t[i ┆     ┆ i32 ┆ i32 ┆ f32 ┆ f32 ┆ str ┆ lis │\n",
       "│     ┆     ┆     ┆ dat ┆     ┆     ┆ eti ┆     ┆     ┆     ┆ tr] ┆ t[s ┆     ┆     ┆ 16] ┆     ┆     ┆     ┆     ┆     ┆     ┆ t[f │\n",
       "│     ┆     ┆     ┆ eti ┆     ┆     ┆ me[ ┆     ┆     ┆     ┆     ┆ tr] ┆     ┆     ┆     ┆     ┆     ┆     ┆     ┆     ┆     ┆ 32] │\n",
       "│     ┆     ┆     ┆ me[ ┆     ┆     ┆ μs] ┆     ┆     ┆     ┆     ┆     ┆     ┆     ┆     ┆     ┆     ┆     ┆     ┆     ┆     ┆     │\n",
       "│     ┆     ┆     ┆ μs] ┆     ┆     ┆     ┆     ┆     ┆     ┆     ┆     ┆     ┆     ┆     ┆     ┆     ┆     ┆     ┆     ┆     ┆     │\n",
       "╞═════╪═════╪═════╪═════╪═════╪═════╪═════╪═════╪═════╪═════╪═════╪═════╪═════╪═════╪═════╪═════╪═════╪═════╪═════╪═════╪═════╪═════╡\n",
       "│ 300 ┆ Nat ┆ Pol ┆ 202 ┆ fal ┆ Sag ┆ 200 ┆ [31 ┆ art ┆ htt ┆ []  ┆ []  ┆ [\"K ┆ 140 ┆ []  ┆ kri ┆ nul ┆ nul ┆ nul ┆ 0.9 ┆ Neg ┆ [0. │\n",
       "│ 135 ┆ asc ┆ iti ┆ 3-0 ┆ se  ┆ en  ┆ 6-0 ┆ 508 ┆ icl ┆ ps: ┆     ┆     ┆ rim ┆     ┆     ┆ mi  ┆ l   ┆ l   ┆ l   ┆ 955 ┆ ati ┆ 055 │\n",
       "│ 3   ┆ ha  ┆ et  ┆ 6-2 ┆     ┆ om  ┆ 8-3 ┆ 50] ┆ e_d ┆ //e ┆     ┆     ┆ ina ┆     ┆     ┆     ┆     ┆     ┆     ┆     ┆ ve  ┆ 219 │\n",
       "│     ┆ var ┆ fry ┆ 9   ┆     ┆ den ┆ 1   ┆     ┆ efa ┆ kst ┆     ┆     ┆ lit ┆     ┆     ┆     ┆     ┆     ┆     ┆     ┆     ┆ ,   │\n",
       "│     ┆ ikk ┆ gte ┆ 06: ┆     ┆ øst ┆ 08: ┆     ┆ ult ┆ rab ┆     ┆     ┆ et\" ┆     ┆     ┆     ┆     ┆     ┆     ┆     ┆     ┆ 0.0 │\n",
       "│     ┆ e   ┆ r   ┆ 20: ┆     ┆ ris ┆ 06: ┆     ┆     ┆ lad ┆     ┆     ┆ ,   ┆     ┆     ┆     ┆     ┆     ┆     ┆     ┆     ┆ 113 │\n",
       "│     ┆ den ┆ nu, ┆ 33  ┆     ┆ ke  ┆ 45  ┆     ┆     ┆ et. ┆     ┆     ┆ \"Pe ┆     ┆     ┆     ┆     ┆     ┆     ┆     ┆     ┆ 71, │\n",
       "│     ┆ før ┆ at  ┆     ┆     ┆ Nat ┆     ┆     ┆     ┆ dk/ ┆     ┆     ┆ rso ┆     ┆     ┆     ┆     ┆     ┆     ┆     ┆     ┆ …   │\n",
       "│     ┆ ste ┆ Nat ┆     ┆     ┆ asc ┆     ┆     ┆     ┆ kri ┆     ┆     ┆ nfa ┆     ┆     ┆     ┆     ┆     ┆     ┆     ┆     ┆ 0.0 │\n",
       "│     ┆     ┆ asc ┆     ┆     ┆ ha… ┆     ┆     ┆     ┆ mi/ ┆     ┆     ┆ rli ┆     ┆     ┆     ┆     ┆     ┆     ┆     ┆     ┆ 079 │\n",
       "│     ┆     ┆ …   ┆     ┆     ┆     ┆     ┆     ┆     ┆ …   ┆     ┆     ┆ g…  ┆     ┆     ┆     ┆     ┆     ┆     ┆     ┆     ┆ 8…  │\n",
       "│ 300 ┆ Kun ┆ Bio ┆ 202 ┆ fal ┆ Vat ┆ 200 ┆ [30 ┆ art ┆ htt ┆ []  ┆ []  ┆ [\"U ┆ 414 ┆ [43 ┆ und ┆ nul ┆ nul ┆ nul ┆ 0.8 ┆ Pos ┆ [0. │\n",
       "│ 306 ┆ Sta ┆ gra ┆ 3-0 ┆ se  ┆ ika ┆ 6-0 ┆ 067 ┆ icl ┆ ps: ┆     ┆     ┆ nde ┆     ┆ 3,  ┆ erh ┆ l   ┆ l   ┆ l   ┆ 46  ┆ iti ┆ 036 │\n",
       "│ 5   ┆ r   ┆ fgæ ┆ 6-2 ┆     ┆ net ┆ 5-2 ┆ 12] ┆ e_d ┆ //e ┆     ┆     ┆ rho ┆     ┆ 434 ┆ old ┆     ┆     ┆     ┆     ┆ ve  ┆ 996 │\n",
       "│     ┆ War ┆ nge ┆ 9   ┆     ┆ har ┆ 1   ┆     ┆ efa ┆ kst ┆     ┆     ┆ ldn ┆     ┆ ]   ┆ nin ┆     ┆     ┆     ┆     ┆     ┆ ,   │\n",
       "│     ┆ s   ┆ rne ┆ 06: ┆     ┆ opf ┆ 16: ┆     ┆ ult ┆ rab ┆     ┆     ┆ ing ┆     ┆     ┆ g   ┆     ┆     ┆     ┆     ┆     ┆ 0.0 │\n",
       "│     ┆ tje ┆ str ┆ 20: ┆     ┆ ord ┆ 57: ┆     ┆     ┆ lad ┆     ┆     ┆ \",  ┆     ┆     ┆     ┆     ┆     ┆     ┆     ┆     ┆ 104 │\n",
       "│     ┆ nte ┆ ømm ┆ 35  ┆     ┆ ret ┆ 00  ┆     ┆     ┆ et. ┆     ┆     ┆ \"Fi ┆     ┆     ┆     ┆     ┆     ┆     ┆     ┆     ┆ 96, │\n",
       "│     ┆ mer ┆ er  ┆     ┆     ┆ til ┆     ┆     ┆     ┆ dk/ ┆     ┆     ┆ lm  ┆     ┆     ┆     ┆     ┆     ┆     ┆     ┆     ┆ …   │\n",
       "│     ┆ e   ┆ ind ┆     ┆     ┆ at… ┆     ┆     ┆     ┆ und ┆     ┆     ┆ og  ┆     ┆     ┆     ┆     ┆     ┆     ┆     ┆     ┆ 0.0 │\n",
       "│     ┆     ┆ f…  ┆     ┆     ┆     ┆     ┆     ┆     ┆ erh ┆     ┆     ┆ tv\" ┆     ┆     ┆     ┆     ┆     ┆     ┆     ┆     ┆ 377 │\n",
       "│     ┆     ┆     ┆     ┆     ┆     ┆     ┆     ┆     ┆ …   ┆     ┆     ┆ …   ┆     ┆     ┆     ┆     ┆     ┆     ┆     ┆     ┆ ]   │\n",
       "│ 301 ┆ Mor ┆ FOD ┆ 202 ┆ fal ┆ Kem ┆ 200 ┆ [31 ┆ art ┆ htt ┆ []  ┆ []  ┆ [\"E ┆ 142 ┆ [19 ┆ spo ┆ nul ┆ nul ┆ nul ┆ 0.8 ┆ Neg ┆ [0. │\n",
       "│ 277 ┆ ten ┆ BOL ┆ 3-0 ┆ se  ┆ ien ┆ 6-0 ┆ 779 ┆ icl ┆ ps: ┆     ┆     ┆ rhv ┆     ┆ 6,  ┆ rt  ┆ l   ┆ l   ┆ l   ┆ 241 ┆ ati ┆ 037 │\n",
       "│ 1   ┆ Bru ┆ D:  ┆ 6-2 ┆     ┆ mel ┆ 5-0 ┆ 53] ┆ e_d ┆ //e ┆     ┆     ┆ erv ┆     ┆ 199 ┆     ┆     ┆     ┆     ┆     ┆ ve  ┆ 297 │\n",
       "│     ┆ un  ┆ Mor ┆ 9   ┆     ┆ lem ┆ 1   ┆     ┆ efa ┆ kst ┆     ┆     ┆ \",  ┆     ┆ ]   ┆     ┆     ┆     ┆     ┆     ┆     ┆ ,   │\n",
       "│     ┆ fyr ┆ ten ┆ 06: ┆     ┆ spi ┆ 14: ┆     ┆ ult ┆ rab ┆     ┆     ┆ \"Ke ┆     ┆     ┆     ┆     ┆     ┆     ┆     ┆     ┆ -0. │\n",
       "│     ┆ et  ┆ Bru ┆ 20: ┆     ┆ lle ┆ 28: ┆     ┆     ┆ lad ┆     ┆     ┆ ndt ┆     ┆     ┆     ┆     ┆     ┆     ┆     ┆     ┆ 007 │\n",
       "│     ┆ i   ┆ un  ┆ 39  ┆     ┆ rne ┆ 40  ┆     ┆     ┆ et. ┆     ┆     ┆ \",  ┆     ┆     ┆     ┆     ┆     ┆     ┆     ┆     ┆ 839 │\n",
       "│     ┆ Søn ┆ fyr ┆     ┆     ┆ i   ┆     ┆     ┆     ┆ dk/ ┆     ┆     ┆ …   ┆     ┆     ┆     ┆     ┆     ┆     ┆     ┆     ┆ , … │\n",
       "│     ┆ der ┆ et  ┆     ┆     ┆ Sup ┆     ┆     ┆     ┆ spo ┆     ┆     ┆ \"An ┆     ┆     ┆     ┆     ┆     ┆     ┆     ┆     ┆ 0.0 │\n",
       "│     ┆ jys ┆ me… ┆     ┆     ┆ e…  ┆     ┆     ┆     ┆ rt/ ┆     ┆     ┆ sæt ┆     ┆     ┆     ┆     ┆     ┆     ┆     ┆     ┆ 628 │\n",
       "│     ┆ …   ┆     ┆     ┆     ┆     ┆     ┆     ┆     ┆ …   ┆     ┆     ┆ t…  ┆     ┆     ┆     ┆     ┆     ┆     ┆     ┆     ┆ …   │\n",
       "│ 302 ┆ Lud ┆ I   ┆ 202 ┆ fal ┆ Det ┆ 200 ┆ [31 ┆ art ┆ htt ┆ []  ┆ []  ┆ [\"L ┆ 118 ┆ [13 ┆ nyh ┆ nul ┆ nul ┆ nul ┆ 0.7 ┆ Neu ┆ [0. │\n",
       "│ 346 ┆ ern ┆ lan ┆ 3-0 ┆ se  ┆ fræ ┆ 7-0 ┆ 840 ┆ icl ┆ ps: ┆     ┆     ┆ ivs ┆     ┆ 3]  ┆ ede ┆ l   ┆ l   ┆ l   ┆ 053 ┆ tra ┆ 004 │\n",
       "│ 3   ┆ e   ┆ det ┆ 6-2 ┆     ┆ kke ┆ 3-2 ┆ 29] ┆ e_d ┆ //e ┆     ┆     ┆ sti ┆     ┆     ┆ r   ┆     ┆     ┆     ┆     ┆ l   ┆ 084 │\n",
       "│     ┆ fly ┆ s   ┆ 9   ┆     ┆ erh ┆ 4   ┆     ┆ efa ┆ kst ┆     ┆     ┆ l\", ┆     ┆     ┆     ┆     ┆     ┆     ┆     ┆     ┆ ,   │\n",
       "│     ┆ tte ┆ tyn ┆ 06: ┆     ┆ ver ┆ 08: ┆     ┆ ult ┆ rab ┆     ┆     ┆ \"Er ┆     ┆     ┆     ┆     ┆     ┆     ┆     ┆     ┆ -0. │\n",
       "│     ┆ r   ┆ des ┆ 20: ┆     ┆ v   ┆ 27: ┆     ┆     ┆ lad ┆     ┆     ┆ oti ┆     ┆     ┆     ┆     ┆     ┆     ┆     ┆     ┆ 002 │\n",
       "│     ┆ på  ┆ t   ┆ 43  ┆     ┆ ryk ┆ 59  ┆     ┆     ┆ et. ┆     ┆     ┆ k\"] ┆     ┆     ┆     ┆     ┆     ┆     ┆     ┆     ┆ 531 │\n",
       "│     ┆ lan ┆ bef ┆     ┆     ┆ ker ┆     ┆     ┆     ┆ dk/ ┆     ┆     ┆     ┆     ┆     ┆     ┆     ┆     ┆     ┆     ┆     ┆ , … │\n",
       "│     ┆ det ┆ olk ┆     ┆     ┆ på  ┆     ┆     ┆     ┆ nyh ┆     ┆     ┆     ┆     ┆     ┆     ┆     ┆     ┆     ┆     ┆     ┆ 0.0 │\n",
       "│     ┆     ┆ ede ┆     ┆     ┆ l…  ┆     ┆     ┆     ┆ ede ┆     ┆     ┆     ┆     ┆     ┆     ┆     ┆     ┆     ┆     ┆     ┆ 059 │\n",
       "│     ┆     ┆ om… ┆     ┆     ┆     ┆     ┆     ┆     ┆ …   ┆     ┆     ┆     ┆     ┆     ┆     ┆     ┆     ┆     ┆     ┆     ┆ …   │\n",
       "│ 303 ┆ Cyb ┆ En  ┆ 202 ┆ fal ┆ De  ┆ 200 ┆ [30 ┆ art ┆ htt ┆ []  ┆ []  ┆ [\"L ┆ 565 ┆ []  ┆ sex ┆ nul ┆ nul ┆ nul ┆ 0.9 ┆ Neu ┆ [0. │\n",
       "│ 257 ┆ ers ┆ fli ┆ 3-0 ┆ se  ┆ fle ┆ 7-0 ┆ 304 ┆ icl ┆ ps: ┆     ┆     ┆ ivs ┆     ┆     ┆ _og ┆ l   ┆ l   ┆ l   ┆ 307 ┆ tra ┆ 025 │\n",
       "│ 7   ┆ ex: ┆ rte ┆ 6-2 ┆     ┆ ste ┆ 1-1 ┆ 63] ┆ e_d ┆ //e ┆     ┆     ┆ sti ┆     ┆     ┆ _sa ┆     ┆     ┆     ┆     ┆ l   ┆ 799 │\n",
       "│     ┆ Hvo ┆ nde ┆ 9   ┆     ┆ af  ┆ 8   ┆     ┆ efa ┆ kst ┆     ┆     ┆ l\", ┆     ┆     ┆ mli ┆     ┆     ┆     ┆     ┆     ┆ ,   │\n",
       "│     ┆ rnå ┆ sms ┆ 06: ┆     ┆ os  ┆ 10: ┆     ┆ ult ┆ rab ┆     ┆     ┆ \"Pa ┆     ┆     ┆ v   ┆     ┆     ┆     ┆     ┆     ┆ -0. │\n",
       "│     ┆ r   ┆ til ┆ 20: ┆     ┆ men ┆ 30: ┆     ┆     ┆ lad ┆     ┆     ┆ rtn ┆     ┆     ┆     ┆     ┆     ┆     ┆     ┆     ┆ 011 │\n",
       "│     ┆ er  ┆ den ┆ 46  ┆     ┆ er, ┆ 37  ┆     ┆     ┆ et. ┆     ┆     ┆ ers ┆     ┆     ┆     ┆     ┆     ┆     ┆     ┆     ┆ 494 │\n",
       "│     ┆ man ┆ flo ┆     ┆     ┆ at  ┆     ┆     ┆     ┆ dk/ ┆     ┆     ┆ kab ┆     ┆     ┆     ┆     ┆     ┆     ┆     ┆     ┆ , … │\n",
       "│     ┆ utr ┆ tt… ┆     ┆     ┆ et  ┆     ┆     ┆     ┆ sex ┆     ┆     ┆ \"]  ┆     ┆     ┆     ┆     ┆     ┆     ┆     ┆     ┆ -0. │\n",
       "│     ┆ o?  ┆     ┆     ┆     ┆ t…  ┆     ┆     ┆     ┆ _og ┆     ┆     ┆     ┆     ┆     ┆     ┆     ┆     ┆     ┆     ┆     ┆ 017 │\n",
       "│     ┆     ┆     ┆     ┆     ┆     ┆     ┆     ┆     ┆ …   ┆     ┆     ┆     ┆     ┆     ┆     ┆     ┆     ┆     ┆     ┆     ┆ …   │\n",
       "└─────┴─────┴─────┴─────┴─────┴─────┴─────┴─────┴─────┴─────┴─────┴─────┴─────┴─────┴─────┴─────┴─────┴─────┴─────┴─────┴─────┴─────┘"
      ]
     },
     "execution_count": 7,
     "metadata": {},
     "output_type": "execute_result"
    }
   ],
   "source": [
    "items_df = articles_df.join(document_vectors_df, on=\"article_id\", how=\"left\")\n",
    "items_df.write_parquet(\"../generated_data/train/items.parquet\")\n",
    "items_df.head()"
   ]
  },
  {
   "cell_type": "markdown",
   "metadata": {},
   "source": [
    "This is the impressions we will use to compare users"
   ]
  },
  {
   "cell_type": "markdown",
   "metadata": {},
   "source": [
    "Notes (Remove Once done)\n",
    "- Should replace null with defaults values?\n",
    "    - Default value for 'null' scroll percentage\n",
    "    - (-1) works for most other values, as -1 isn't valid for gender, postcode or age\n",
    "- Remove impressions where article_id == null?\n",
    "    - If not. Default value?"
   ]
  },
  {
   "cell_type": "code",
   "execution_count": 8,
   "metadata": {},
   "outputs": [
    {
     "data": {
      "text/html": [
       "<div><style>\n",
       ".dataframe > thead > tr,\n",
       ".dataframe > tbody > tr {\n",
       "  text-align: right;\n",
       "  white-space: pre-wrap;\n",
       "}\n",
       "</style>\n",
       "<small>shape: (5, 17)</small><table border=\"1\" class=\"dataframe\"><thead><tr><th>impression_id</th><th>article_id</th><th>impression_time</th><th>read_time</th><th>scroll_percentage</th><th>device_type</th><th>article_ids_inview</th><th>article_ids_clicked</th><th>user_id</th><th>is_sso_user</th><th>gender</th><th>postcode</th><th>age</th><th>is_subscriber</th><th>session_id</th><th>next_read_time</th><th>next_scroll_percentage</th></tr><tr><td>u32</td><td>i32</td><td>datetime[μs]</td><td>f32</td><td>f32</td><td>i8</td><td>list[i32]</td><td>list[i32]</td><td>u32</td><td>bool</td><td>i8</td><td>i8</td><td>i8</td><td>bool</td><td>u32</td><td>f32</td><td>f32</td></tr></thead><tbody><tr><td>149474</td><td>null</td><td>2023-05-24 07:47:53</td><td>13.0</td><td>null</td><td>2</td><td>[9778623, 9778682, … 9778728]</td><td>[9778657]</td><td>139836</td><td>false</td><td>null</td><td>null</td><td>null</td><td>false</td><td>759</td><td>7.0</td><td>22.0</td></tr><tr><td>150528</td><td>null</td><td>2023-05-24 07:33:25</td><td>25.0</td><td>null</td><td>2</td><td>[9778718, 9778728, … 9778682]</td><td>[9778623]</td><td>143471</td><td>false</td><td>null</td><td>null</td><td>null</td><td>false</td><td>1240</td><td>287.0</td><td>100.0</td></tr><tr><td>153068</td><td>9778682</td><td>2023-05-24 07:09:04</td><td>78.0</td><td>100.0</td><td>1</td><td>[9778657, 9778669, … 9778682]</td><td>[9778669]</td><td>151570</td><td>false</td><td>null</td><td>null</td><td>null</td><td>false</td><td>1976</td><td>45.0</td><td>100.0</td></tr><tr><td>153070</td><td>9777492</td><td>2023-05-24 07:13:14</td><td>26.0</td><td>100.0</td><td>1</td><td>[9020783, 9778444, … 9778628]</td><td>[9778628]</td><td>151570</td><td>false</td><td>null</td><td>null</td><td>null</td><td>false</td><td>1976</td><td>4.0</td><td>18.0</td></tr><tr><td>153071</td><td>9778623</td><td>2023-05-24 07:11:08</td><td>125.0</td><td>100.0</td><td>1</td><td>[9777492, 9774568, … 9775990]</td><td>[9777492]</td><td>151570</td><td>false</td><td>null</td><td>null</td><td>null</td><td>false</td><td>1976</td><td>26.0</td><td>100.0</td></tr></tbody></table></div>"
      ],
      "text/plain": [
       "shape: (5, 17)\n",
       "┌─────┬─────┬─────┬─────┬─────┬─────┬─────┬─────┬─────┬─────┬─────┬─────┬─────┬─────┬─────┬─────┬─────┐\n",
       "│ imp ┆ art ┆ imp ┆ rea ┆ scr ┆ dev ┆ art ┆ art ┆ use ┆ is_ ┆ gen ┆ pos ┆ age ┆ is_ ┆ ses ┆ nex ┆ nex │\n",
       "│ res ┆ icl ┆ res ┆ d_t ┆ oll ┆ ice ┆ icl ┆ icl ┆ r_i ┆ sso ┆ der ┆ tco ┆ --- ┆ sub ┆ sio ┆ t_r ┆ t_s │\n",
       "│ sio ┆ e_i ┆ sio ┆ ime ┆ _pe ┆ _ty ┆ e_i ┆ e_i ┆ d   ┆ _us ┆ --- ┆ de  ┆ i8  ┆ scr ┆ n_i ┆ ead ┆ cro │\n",
       "│ n_i ┆ d   ┆ n_t ┆ --- ┆ rce ┆ pe  ┆ ds_ ┆ ds_ ┆ --- ┆ er  ┆ i8  ┆ --- ┆     ┆ ibe ┆ d   ┆ _ti ┆ ll_ │\n",
       "│ d   ┆ --- ┆ ime ┆ f32 ┆ nta ┆ --- ┆ inv ┆ cli ┆ u32 ┆ --- ┆     ┆ i8  ┆     ┆ r   ┆ --- ┆ me  ┆ per │\n",
       "│ --- ┆ i32 ┆ --- ┆     ┆ ge  ┆ i8  ┆ iew ┆ cke ┆     ┆ boo ┆     ┆     ┆     ┆ --- ┆ u32 ┆ --- ┆ cen │\n",
       "│ u32 ┆     ┆ dat ┆     ┆ --- ┆     ┆ --- ┆ d   ┆     ┆ l   ┆     ┆     ┆     ┆ boo ┆     ┆ f32 ┆ tag │\n",
       "│     ┆     ┆ eti ┆     ┆ f32 ┆     ┆ lis ┆ --- ┆     ┆     ┆     ┆     ┆     ┆ l   ┆     ┆     ┆ e   │\n",
       "│     ┆     ┆ me[ ┆     ┆     ┆     ┆ t[i ┆ lis ┆     ┆     ┆     ┆     ┆     ┆     ┆     ┆     ┆ --- │\n",
       "│     ┆     ┆ μs] ┆     ┆     ┆     ┆ 32] ┆ t[i ┆     ┆     ┆     ┆     ┆     ┆     ┆     ┆     ┆ f32 │\n",
       "│     ┆     ┆     ┆     ┆     ┆     ┆     ┆ 32] ┆     ┆     ┆     ┆     ┆     ┆     ┆     ┆     ┆     │\n",
       "╞═════╪═════╪═════╪═════╪═════╪═════╪═════╪═════╪═════╪═════╪═════╪═════╪═════╪═════╪═════╪═════╪═════╡\n",
       "│ 149 ┆ nul ┆ 202 ┆ 13. ┆ nul ┆ 2   ┆ [97 ┆ [97 ┆ 139 ┆ fal ┆ nul ┆ nul ┆ nul ┆ fal ┆ 759 ┆ 7.0 ┆ 22. │\n",
       "│ 474 ┆ l   ┆ 3-0 ┆ 0   ┆ l   ┆     ┆ 786 ┆ 786 ┆ 836 ┆ se  ┆ l   ┆ l   ┆ l   ┆ se  ┆     ┆     ┆ 0   │\n",
       "│     ┆     ┆ 5-2 ┆     ┆     ┆     ┆ 23, ┆ 57] ┆     ┆     ┆     ┆     ┆     ┆     ┆     ┆     ┆     │\n",
       "│     ┆     ┆ 4   ┆     ┆     ┆     ┆ 977 ┆     ┆     ┆     ┆     ┆     ┆     ┆     ┆     ┆     ┆     │\n",
       "│     ┆     ┆ 07: ┆     ┆     ┆     ┆ 868 ┆     ┆     ┆     ┆     ┆     ┆     ┆     ┆     ┆     ┆     │\n",
       "│     ┆     ┆ 47: ┆     ┆     ┆     ┆ 2,  ┆     ┆     ┆     ┆     ┆     ┆     ┆     ┆     ┆     ┆     │\n",
       "│     ┆     ┆ 53  ┆     ┆     ┆     ┆ …   ┆     ┆     ┆     ┆     ┆     ┆     ┆     ┆     ┆     ┆     │\n",
       "│     ┆     ┆     ┆     ┆     ┆     ┆ 977 ┆     ┆     ┆     ┆     ┆     ┆     ┆     ┆     ┆     ┆     │\n",
       "│     ┆     ┆     ┆     ┆     ┆     ┆ 872 ┆     ┆     ┆     ┆     ┆     ┆     ┆     ┆     ┆     ┆     │\n",
       "│     ┆     ┆     ┆     ┆     ┆     ┆ 8]  ┆     ┆     ┆     ┆     ┆     ┆     ┆     ┆     ┆     ┆     │\n",
       "│ 150 ┆ nul ┆ 202 ┆ 25. ┆ nul ┆ 2   ┆ [97 ┆ [97 ┆ 143 ┆ fal ┆ nul ┆ nul ┆ nul ┆ fal ┆ 124 ┆ 287 ┆ 100 │\n",
       "│ 528 ┆ l   ┆ 3-0 ┆ 0   ┆ l   ┆     ┆ 787 ┆ 786 ┆ 471 ┆ se  ┆ l   ┆ l   ┆ l   ┆ se  ┆ 0   ┆ .0  ┆ .0  │\n",
       "│     ┆     ┆ 5-2 ┆     ┆     ┆     ┆ 18, ┆ 23] ┆     ┆     ┆     ┆     ┆     ┆     ┆     ┆     ┆     │\n",
       "│     ┆     ┆ 4   ┆     ┆     ┆     ┆ 977 ┆     ┆     ┆     ┆     ┆     ┆     ┆     ┆     ┆     ┆     │\n",
       "│     ┆     ┆ 07: ┆     ┆     ┆     ┆ 872 ┆     ┆     ┆     ┆     ┆     ┆     ┆     ┆     ┆     ┆     │\n",
       "│     ┆     ┆ 33: ┆     ┆     ┆     ┆ 8,  ┆     ┆     ┆     ┆     ┆     ┆     ┆     ┆     ┆     ┆     │\n",
       "│     ┆     ┆ 25  ┆     ┆     ┆     ┆ …   ┆     ┆     ┆     ┆     ┆     ┆     ┆     ┆     ┆     ┆     │\n",
       "│     ┆     ┆     ┆     ┆     ┆     ┆ 977 ┆     ┆     ┆     ┆     ┆     ┆     ┆     ┆     ┆     ┆     │\n",
       "│     ┆     ┆     ┆     ┆     ┆     ┆ 868 ┆     ┆     ┆     ┆     ┆     ┆     ┆     ┆     ┆     ┆     │\n",
       "│     ┆     ┆     ┆     ┆     ┆     ┆ 2]  ┆     ┆     ┆     ┆     ┆     ┆     ┆     ┆     ┆     ┆     │\n",
       "│ 153 ┆ 977 ┆ 202 ┆ 78. ┆ 100 ┆ 1   ┆ [97 ┆ [97 ┆ 151 ┆ fal ┆ nul ┆ nul ┆ nul ┆ fal ┆ 197 ┆ 45. ┆ 100 │\n",
       "│ 068 ┆ 868 ┆ 3-0 ┆ 0   ┆ .0  ┆     ┆ 786 ┆ 786 ┆ 570 ┆ se  ┆ l   ┆ l   ┆ l   ┆ se  ┆ 6   ┆ 0   ┆ .0  │\n",
       "│     ┆ 2   ┆ 5-2 ┆     ┆     ┆     ┆ 57, ┆ 69] ┆     ┆     ┆     ┆     ┆     ┆     ┆     ┆     ┆     │\n",
       "│     ┆     ┆ 4   ┆     ┆     ┆     ┆ 977 ┆     ┆     ┆     ┆     ┆     ┆     ┆     ┆     ┆     ┆     │\n",
       "│     ┆     ┆ 07: ┆     ┆     ┆     ┆ 866 ┆     ┆     ┆     ┆     ┆     ┆     ┆     ┆     ┆     ┆     │\n",
       "│     ┆     ┆ 09: ┆     ┆     ┆     ┆ 9,  ┆     ┆     ┆     ┆     ┆     ┆     ┆     ┆     ┆     ┆     │\n",
       "│     ┆     ┆ 04  ┆     ┆     ┆     ┆ …   ┆     ┆     ┆     ┆     ┆     ┆     ┆     ┆     ┆     ┆     │\n",
       "│     ┆     ┆     ┆     ┆     ┆     ┆ 977 ┆     ┆     ┆     ┆     ┆     ┆     ┆     ┆     ┆     ┆     │\n",
       "│     ┆     ┆     ┆     ┆     ┆     ┆ 868 ┆     ┆     ┆     ┆     ┆     ┆     ┆     ┆     ┆     ┆     │\n",
       "│     ┆     ┆     ┆     ┆     ┆     ┆ 2]  ┆     ┆     ┆     ┆     ┆     ┆     ┆     ┆     ┆     ┆     │\n",
       "│ 153 ┆ 977 ┆ 202 ┆ 26. ┆ 100 ┆ 1   ┆ [90 ┆ [97 ┆ 151 ┆ fal ┆ nul ┆ nul ┆ nul ┆ fal ┆ 197 ┆ 4.0 ┆ 18. │\n",
       "│ 070 ┆ 749 ┆ 3-0 ┆ 0   ┆ .0  ┆     ┆ 207 ┆ 786 ┆ 570 ┆ se  ┆ l   ┆ l   ┆ l   ┆ se  ┆ 6   ┆     ┆ 0   │\n",
       "│     ┆ 2   ┆ 5-2 ┆     ┆     ┆     ┆ 83, ┆ 28] ┆     ┆     ┆     ┆     ┆     ┆     ┆     ┆     ┆     │\n",
       "│     ┆     ┆ 4   ┆     ┆     ┆     ┆ 977 ┆     ┆     ┆     ┆     ┆     ┆     ┆     ┆     ┆     ┆     │\n",
       "│     ┆     ┆ 07: ┆     ┆     ┆     ┆ 844 ┆     ┆     ┆     ┆     ┆     ┆     ┆     ┆     ┆     ┆     │\n",
       "│     ┆     ┆ 13: ┆     ┆     ┆     ┆ 4,  ┆     ┆     ┆     ┆     ┆     ┆     ┆     ┆     ┆     ┆     │\n",
       "│     ┆     ┆ 14  ┆     ┆     ┆     ┆ …   ┆     ┆     ┆     ┆     ┆     ┆     ┆     ┆     ┆     ┆     │\n",
       "│     ┆     ┆     ┆     ┆     ┆     ┆ 977 ┆     ┆     ┆     ┆     ┆     ┆     ┆     ┆     ┆     ┆     │\n",
       "│     ┆     ┆     ┆     ┆     ┆     ┆ 862 ┆     ┆     ┆     ┆     ┆     ┆     ┆     ┆     ┆     ┆     │\n",
       "│     ┆     ┆     ┆     ┆     ┆     ┆ 8]  ┆     ┆     ┆     ┆     ┆     ┆     ┆     ┆     ┆     ┆     │\n",
       "│ 153 ┆ 977 ┆ 202 ┆ 125 ┆ 100 ┆ 1   ┆ [97 ┆ [97 ┆ 151 ┆ fal ┆ nul ┆ nul ┆ nul ┆ fal ┆ 197 ┆ 26. ┆ 100 │\n",
       "│ 071 ┆ 862 ┆ 3-0 ┆ .0  ┆ .0  ┆     ┆ 774 ┆ 774 ┆ 570 ┆ se  ┆ l   ┆ l   ┆ l   ┆ se  ┆ 6   ┆ 0   ┆ .0  │\n",
       "│     ┆ 3   ┆ 5-2 ┆     ┆     ┆     ┆ 92, ┆ 92] ┆     ┆     ┆     ┆     ┆     ┆     ┆     ┆     ┆     │\n",
       "│     ┆     ┆ 4   ┆     ┆     ┆     ┆ 977 ┆     ┆     ┆     ┆     ┆     ┆     ┆     ┆     ┆     ┆     │\n",
       "│     ┆     ┆ 07: ┆     ┆     ┆     ┆ 456 ┆     ┆     ┆     ┆     ┆     ┆     ┆     ┆     ┆     ┆     │\n",
       "│     ┆     ┆ 11: ┆     ┆     ┆     ┆ 8,  ┆     ┆     ┆     ┆     ┆     ┆     ┆     ┆     ┆     ┆     │\n",
       "│     ┆     ┆ 08  ┆     ┆     ┆     ┆ …   ┆     ┆     ┆     ┆     ┆     ┆     ┆     ┆     ┆     ┆     │\n",
       "│     ┆     ┆     ┆     ┆     ┆     ┆ 977 ┆     ┆     ┆     ┆     ┆     ┆     ┆     ┆     ┆     ┆     │\n",
       "│     ┆     ┆     ┆     ┆     ┆     ┆ 599 ┆     ┆     ┆     ┆     ┆     ┆     ┆     ┆     ┆     ┆     │\n",
       "│     ┆     ┆     ┆     ┆     ┆     ┆ 0]  ┆     ┆     ┆     ┆     ┆     ┆     ┆     ┆     ┆     ┆     │\n",
       "└─────┴─────┴─────┴─────┴─────┴─────┴─────┴─────┴─────┴─────┴─────┴─────┴─────┴─────┴─────┴─────┴─────┘"
      ]
     },
     "execution_count": 8,
     "metadata": {},
     "output_type": "execute_result"
    }
   ],
   "source": [
    "train_behaviors_df.head()"
   ]
  },
  {
   "cell_type": "markdown",
   "metadata": {},
   "source": [
    "## Model Fit"
   ]
  },
  {
   "cell_type": "code",
   "execution_count": 9,
   "metadata": {},
   "outputs": [
    {
     "data": {
      "text/html": [
       "<div><style>\n",
       ".dataframe > thead > tr,\n",
       ".dataframe > tbody > tr {\n",
       "  text-align: right;\n",
       "  white-space: pre-wrap;\n",
       "}\n",
       "</style>\n",
       "<small>shape: (5, 18)</small><table border=\"1\" class=\"dataframe\"><thead><tr><th>impression_id</th><th>article_id</th><th>impression_time</th><th>read_time</th><th>scroll_percentage</th><th>device_type</th><th>article_ids_inview</th><th>article_ids_clicked</th><th>user_id</th><th>is_sso_user</th><th>gender</th><th>postcode</th><th>age</th><th>is_subscriber</th><th>session_id</th><th>next_read_time</th><th>next_scroll_percentage</th><th>impression_score</th></tr><tr><td>u32</td><td>i32</td><td>datetime[μs]</td><td>f32</td><td>f32</td><td>i8</td><td>list[i32]</td><td>list[i32]</td><td>u32</td><td>bool</td><td>i8</td><td>i8</td><td>i8</td><td>bool</td><td>u32</td><td>f32</td><td>f32</td><td>f32</td></tr></thead><tbody><tr><td>149474</td><td>null</td><td>2023-05-24 07:47:53</td><td>13.0</td><td>null</td><td>2</td><td>[9778623, 9778682, … 9778728]</td><td>[9778657]</td><td>139836</td><td>false</td><td>null</td><td>null</td><td>null</td><td>false</td><td>759</td><td>7.0</td><td>22.0</td><td>null</td></tr><tr><td>150528</td><td>null</td><td>2023-05-24 07:33:25</td><td>25.0</td><td>null</td><td>2</td><td>[9778718, 9778728, … 9778682]</td><td>[9778623]</td><td>143471</td><td>false</td><td>null</td><td>null</td><td>null</td><td>false</td><td>1240</td><td>287.0</td><td>100.0</td><td>null</td></tr><tr><td>153068</td><td>9778682</td><td>2023-05-24 07:09:04</td><td>78.0</td><td>100.0</td><td>1</td><td>[9778657, 9778669, … 9778682]</td><td>[9778669]</td><td>151570</td><td>false</td><td>null</td><td>null</td><td>null</td><td>false</td><td>1976</td><td>45.0</td><td>100.0</td><td>178.0</td></tr><tr><td>153070</td><td>9777492</td><td>2023-05-24 07:13:14</td><td>26.0</td><td>100.0</td><td>1</td><td>[9020783, 9778444, … 9778628]</td><td>[9778628]</td><td>151570</td><td>false</td><td>null</td><td>null</td><td>null</td><td>false</td><td>1976</td><td>4.0</td><td>18.0</td><td>126.0</td></tr><tr><td>153071</td><td>9778623</td><td>2023-05-24 07:11:08</td><td>125.0</td><td>100.0</td><td>1</td><td>[9777492, 9774568, … 9775990]</td><td>[9777492]</td><td>151570</td><td>false</td><td>null</td><td>null</td><td>null</td><td>false</td><td>1976</td><td>26.0</td><td>100.0</td><td>225.0</td></tr></tbody></table></div>"
      ],
      "text/plain": [
       "shape: (5, 18)\n",
       "┌─────┬─────┬─────┬─────┬─────┬─────┬─────┬─────┬─────┬─────┬─────┬─────┬─────┬─────┬─────┬─────┬─────┬─────┐\n",
       "│ imp ┆ art ┆ imp ┆ rea ┆ scr ┆ dev ┆ art ┆ art ┆ use ┆ is_ ┆ gen ┆ pos ┆ age ┆ is_ ┆ ses ┆ nex ┆ nex ┆ imp │\n",
       "│ res ┆ icl ┆ res ┆ d_t ┆ oll ┆ ice ┆ icl ┆ icl ┆ r_i ┆ sso ┆ der ┆ tco ┆ --- ┆ sub ┆ sio ┆ t_r ┆ t_s ┆ res │\n",
       "│ sio ┆ e_i ┆ sio ┆ ime ┆ _pe ┆ _ty ┆ e_i ┆ e_i ┆ d   ┆ _us ┆ --- ┆ de  ┆ i8  ┆ scr ┆ n_i ┆ ead ┆ cro ┆ sio │\n",
       "│ n_i ┆ d   ┆ n_t ┆ --- ┆ rce ┆ pe  ┆ ds_ ┆ ds_ ┆ --- ┆ er  ┆ i8  ┆ --- ┆     ┆ ibe ┆ d   ┆ _ti ┆ ll_ ┆ n_s │\n",
       "│ d   ┆ --- ┆ ime ┆ f32 ┆ nta ┆ --- ┆ inv ┆ cli ┆ u32 ┆ --- ┆     ┆ i8  ┆     ┆ r   ┆ --- ┆ me  ┆ per ┆ cor │\n",
       "│ --- ┆ i32 ┆ --- ┆     ┆ ge  ┆ i8  ┆ iew ┆ cke ┆     ┆ boo ┆     ┆     ┆     ┆ --- ┆ u32 ┆ --- ┆ cen ┆ e   │\n",
       "│ u32 ┆     ┆ dat ┆     ┆ --- ┆     ┆ --- ┆ d   ┆     ┆ l   ┆     ┆     ┆     ┆ boo ┆     ┆ f32 ┆ tag ┆ --- │\n",
       "│     ┆     ┆ eti ┆     ┆ f32 ┆     ┆ lis ┆ --- ┆     ┆     ┆     ┆     ┆     ┆ l   ┆     ┆     ┆ e   ┆ f32 │\n",
       "│     ┆     ┆ me[ ┆     ┆     ┆     ┆ t[i ┆ lis ┆     ┆     ┆     ┆     ┆     ┆     ┆     ┆     ┆ --- ┆     │\n",
       "│     ┆     ┆ μs] ┆     ┆     ┆     ┆ 32] ┆ t[i ┆     ┆     ┆     ┆     ┆     ┆     ┆     ┆     ┆ f32 ┆     │\n",
       "│     ┆     ┆     ┆     ┆     ┆     ┆     ┆ 32] ┆     ┆     ┆     ┆     ┆     ┆     ┆     ┆     ┆     ┆     │\n",
       "╞═════╪═════╪═════╪═════╪═════╪═════╪═════╪═════╪═════╪═════╪═════╪═════╪═════╪═════╪═════╪═════╪═════╪═════╡\n",
       "│ 149 ┆ nul ┆ 202 ┆ 13. ┆ nul ┆ 2   ┆ [97 ┆ [97 ┆ 139 ┆ fal ┆ nul ┆ nul ┆ nul ┆ fal ┆ 759 ┆ 7.0 ┆ 22. ┆ nul │\n",
       "│ 474 ┆ l   ┆ 3-0 ┆ 0   ┆ l   ┆     ┆ 786 ┆ 786 ┆ 836 ┆ se  ┆ l   ┆ l   ┆ l   ┆ se  ┆     ┆     ┆ 0   ┆ l   │\n",
       "│     ┆     ┆ 5-2 ┆     ┆     ┆     ┆ 23, ┆ 57] ┆     ┆     ┆     ┆     ┆     ┆     ┆     ┆     ┆     ┆     │\n",
       "│     ┆     ┆ 4   ┆     ┆     ┆     ┆ 977 ┆     ┆     ┆     ┆     ┆     ┆     ┆     ┆     ┆     ┆     ┆     │\n",
       "│     ┆     ┆ 07: ┆     ┆     ┆     ┆ 868 ┆     ┆     ┆     ┆     ┆     ┆     ┆     ┆     ┆     ┆     ┆     │\n",
       "│     ┆     ┆ 47: ┆     ┆     ┆     ┆ 2,  ┆     ┆     ┆     ┆     ┆     ┆     ┆     ┆     ┆     ┆     ┆     │\n",
       "│     ┆     ┆ 53  ┆     ┆     ┆     ┆ …   ┆     ┆     ┆     ┆     ┆     ┆     ┆     ┆     ┆     ┆     ┆     │\n",
       "│     ┆     ┆     ┆     ┆     ┆     ┆ 977 ┆     ┆     ┆     ┆     ┆     ┆     ┆     ┆     ┆     ┆     ┆     │\n",
       "│     ┆     ┆     ┆     ┆     ┆     ┆ 872 ┆     ┆     ┆     ┆     ┆     ┆     ┆     ┆     ┆     ┆     ┆     │\n",
       "│     ┆     ┆     ┆     ┆     ┆     ┆ 8]  ┆     ┆     ┆     ┆     ┆     ┆     ┆     ┆     ┆     ┆     ┆     │\n",
       "│ 150 ┆ nul ┆ 202 ┆ 25. ┆ nul ┆ 2   ┆ [97 ┆ [97 ┆ 143 ┆ fal ┆ nul ┆ nul ┆ nul ┆ fal ┆ 124 ┆ 287 ┆ 100 ┆ nul │\n",
       "│ 528 ┆ l   ┆ 3-0 ┆ 0   ┆ l   ┆     ┆ 787 ┆ 786 ┆ 471 ┆ se  ┆ l   ┆ l   ┆ l   ┆ se  ┆ 0   ┆ .0  ┆ .0  ┆ l   │\n",
       "│     ┆     ┆ 5-2 ┆     ┆     ┆     ┆ 18, ┆ 23] ┆     ┆     ┆     ┆     ┆     ┆     ┆     ┆     ┆     ┆     │\n",
       "│     ┆     ┆ 4   ┆     ┆     ┆     ┆ 977 ┆     ┆     ┆     ┆     ┆     ┆     ┆     ┆     ┆     ┆     ┆     │\n",
       "│     ┆     ┆ 07: ┆     ┆     ┆     ┆ 872 ┆     ┆     ┆     ┆     ┆     ┆     ┆     ┆     ┆     ┆     ┆     │\n",
       "│     ┆     ┆ 33: ┆     ┆     ┆     ┆ 8,  ┆     ┆     ┆     ┆     ┆     ┆     ┆     ┆     ┆     ┆     ┆     │\n",
       "│     ┆     ┆ 25  ┆     ┆     ┆     ┆ …   ┆     ┆     ┆     ┆     ┆     ┆     ┆     ┆     ┆     ┆     ┆     │\n",
       "│     ┆     ┆     ┆     ┆     ┆     ┆ 977 ┆     ┆     ┆     ┆     ┆     ┆     ┆     ┆     ┆     ┆     ┆     │\n",
       "│     ┆     ┆     ┆     ┆     ┆     ┆ 868 ┆     ┆     ┆     ┆     ┆     ┆     ┆     ┆     ┆     ┆     ┆     │\n",
       "│     ┆     ┆     ┆     ┆     ┆     ┆ 2]  ┆     ┆     ┆     ┆     ┆     ┆     ┆     ┆     ┆     ┆     ┆     │\n",
       "│ 153 ┆ 977 ┆ 202 ┆ 78. ┆ 100 ┆ 1   ┆ [97 ┆ [97 ┆ 151 ┆ fal ┆ nul ┆ nul ┆ nul ┆ fal ┆ 197 ┆ 45. ┆ 100 ┆ 178 │\n",
       "│ 068 ┆ 868 ┆ 3-0 ┆ 0   ┆ .0  ┆     ┆ 786 ┆ 786 ┆ 570 ┆ se  ┆ l   ┆ l   ┆ l   ┆ se  ┆ 6   ┆ 0   ┆ .0  ┆ .0  │\n",
       "│     ┆ 2   ┆ 5-2 ┆     ┆     ┆     ┆ 57, ┆ 69] ┆     ┆     ┆     ┆     ┆     ┆     ┆     ┆     ┆     ┆     │\n",
       "│     ┆     ┆ 4   ┆     ┆     ┆     ┆ 977 ┆     ┆     ┆     ┆     ┆     ┆     ┆     ┆     ┆     ┆     ┆     │\n",
       "│     ┆     ┆ 07: ┆     ┆     ┆     ┆ 866 ┆     ┆     ┆     ┆     ┆     ┆     ┆     ┆     ┆     ┆     ┆     │\n",
       "│     ┆     ┆ 09: ┆     ┆     ┆     ┆ 9,  ┆     ┆     ┆     ┆     ┆     ┆     ┆     ┆     ┆     ┆     ┆     │\n",
       "│     ┆     ┆ 04  ┆     ┆     ┆     ┆ …   ┆     ┆     ┆     ┆     ┆     ┆     ┆     ┆     ┆     ┆     ┆     │\n",
       "│     ┆     ┆     ┆     ┆     ┆     ┆ 977 ┆     ┆     ┆     ┆     ┆     ┆     ┆     ┆     ┆     ┆     ┆     │\n",
       "│     ┆     ┆     ┆     ┆     ┆     ┆ 868 ┆     ┆     ┆     ┆     ┆     ┆     ┆     ┆     ┆     ┆     ┆     │\n",
       "│     ┆     ┆     ┆     ┆     ┆     ┆ 2]  ┆     ┆     ┆     ┆     ┆     ┆     ┆     ┆     ┆     ┆     ┆     │\n",
       "│ 153 ┆ 977 ┆ 202 ┆ 26. ┆ 100 ┆ 1   ┆ [90 ┆ [97 ┆ 151 ┆ fal ┆ nul ┆ nul ┆ nul ┆ fal ┆ 197 ┆ 4.0 ┆ 18. ┆ 126 │\n",
       "│ 070 ┆ 749 ┆ 3-0 ┆ 0   ┆ .0  ┆     ┆ 207 ┆ 786 ┆ 570 ┆ se  ┆ l   ┆ l   ┆ l   ┆ se  ┆ 6   ┆     ┆ 0   ┆ .0  │\n",
       "│     ┆ 2   ┆ 5-2 ┆     ┆     ┆     ┆ 83, ┆ 28] ┆     ┆     ┆     ┆     ┆     ┆     ┆     ┆     ┆     ┆     │\n",
       "│     ┆     ┆ 4   ┆     ┆     ┆     ┆ 977 ┆     ┆     ┆     ┆     ┆     ┆     ┆     ┆     ┆     ┆     ┆     │\n",
       "│     ┆     ┆ 07: ┆     ┆     ┆     ┆ 844 ┆     ┆     ┆     ┆     ┆     ┆     ┆     ┆     ┆     ┆     ┆     │\n",
       "│     ┆     ┆ 13: ┆     ┆     ┆     ┆ 4,  ┆     ┆     ┆     ┆     ┆     ┆     ┆     ┆     ┆     ┆     ┆     │\n",
       "│     ┆     ┆ 14  ┆     ┆     ┆     ┆ …   ┆     ┆     ┆     ┆     ┆     ┆     ┆     ┆     ┆     ┆     ┆     │\n",
       "│     ┆     ┆     ┆     ┆     ┆     ┆ 977 ┆     ┆     ┆     ┆     ┆     ┆     ┆     ┆     ┆     ┆     ┆     │\n",
       "│     ┆     ┆     ┆     ┆     ┆     ┆ 862 ┆     ┆     ┆     ┆     ┆     ┆     ┆     ┆     ┆     ┆     ┆     │\n",
       "│     ┆     ┆     ┆     ┆     ┆     ┆ 8]  ┆     ┆     ┆     ┆     ┆     ┆     ┆     ┆     ┆     ┆     ┆     │\n",
       "│ 153 ┆ 977 ┆ 202 ┆ 125 ┆ 100 ┆ 1   ┆ [97 ┆ [97 ┆ 151 ┆ fal ┆ nul ┆ nul ┆ nul ┆ fal ┆ 197 ┆ 26. ┆ 100 ┆ 225 │\n",
       "│ 071 ┆ 862 ┆ 3-0 ┆ .0  ┆ .0  ┆     ┆ 774 ┆ 774 ┆ 570 ┆ se  ┆ l   ┆ l   ┆ l   ┆ se  ┆ 6   ┆ 0   ┆ .0  ┆ .0  │\n",
       "│     ┆ 3   ┆ 5-2 ┆     ┆     ┆     ┆ 92, ┆ 92] ┆     ┆     ┆     ┆     ┆     ┆     ┆     ┆     ┆     ┆     │\n",
       "│     ┆     ┆ 4   ┆     ┆     ┆     ┆ 977 ┆     ┆     ┆     ┆     ┆     ┆     ┆     ┆     ┆     ┆     ┆     │\n",
       "│     ┆     ┆ 07: ┆     ┆     ┆     ┆ 456 ┆     ┆     ┆     ┆     ┆     ┆     ┆     ┆     ┆     ┆     ┆     │\n",
       "│     ┆     ┆ 11: ┆     ┆     ┆     ┆ 8,  ┆     ┆     ┆     ┆     ┆     ┆     ┆     ┆     ┆     ┆     ┆     │\n",
       "│     ┆     ┆ 08  ┆     ┆     ┆     ┆ …   ┆     ┆     ┆     ┆     ┆     ┆     ┆     ┆     ┆     ┆     ┆     │\n",
       "│     ┆     ┆     ┆     ┆     ┆     ┆ 977 ┆     ┆     ┆     ┆     ┆     ┆     ┆     ┆     ┆     ┆     ┆     │\n",
       "│     ┆     ┆     ┆     ┆     ┆     ┆ 599 ┆     ┆     ┆     ┆     ┆     ┆     ┆     ┆     ┆     ┆     ┆     │\n",
       "│     ┆     ┆     ┆     ┆     ┆     ┆ 0]  ┆     ┆     ┆     ┆     ┆     ┆     ┆     ┆     ┆     ┆     ┆     │\n",
       "└─────┴─────┴─────┴─────┴─────┴─────┴─────┴─────┴─────┴─────┴─────┴─────┴─────┴─────┴─────┴─────┴─────┴─────┘"
      ]
     },
     "execution_count": 9,
     "metadata": {},
     "output_type": "execute_result"
    }
   ],
   "source": [
    "recommender = CollaborativeReccomender(train_behaviors_df, items_df)\n",
    "recommender.fit().head()"
   ]
  },
  {
   "cell_type": "markdown",
   "metadata": {},
   "source": [
    "## Model presentation"
   ]
  },
  {
   "cell_type": "code",
   "execution_count": null,
   "metadata": {},
   "outputs": [],
   "source": []
  }
 ],
 "metadata": {
  "kernelspec": {
   "display_name": "venv",
   "language": "python",
   "name": "python3"
  },
  "language_info": {
   "codemirror_mode": {
    "name": "ipython",
    "version": 3
   },
   "file_extension": ".py",
   "mimetype": "text/x-python",
   "name": "python",
   "nbconvert_exporter": "python",
   "pygments_lexer": "ipython3",
   "version": "3.11.1"
  }
 },
 "nbformat": 4,
 "nbformat_minor": 2
}
