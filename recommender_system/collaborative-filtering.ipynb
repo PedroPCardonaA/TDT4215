{
 "cells": [
  {
   "cell_type": "code",
   "execution_count": 50,
   "metadata": {},
   "outputs": [
    {
     "data": {
      "text/plain": [
       "polars.config.Config"
      ]
     },
     "execution_count": 50,
     "metadata": {},
     "output_type": "execute_result"
    }
   ],
   "source": [
    "import polars as pl\n",
    "import numpy as np\n",
    "# from utils.process_data import process_item_data, explode_user_interactions #TODO see if I need this\n",
    "from parquet_data_reader import ParquetDataReader\n",
    "from models.user_based import CollaborativeRecommender\n",
    "\n",
    "pl.Config.set_tbl_cols(-1)"
   ]
  },
  {
   "cell_type": "markdown",
   "metadata": {},
   "source": [
    "## Data import and EDA"
   ]
  },
  {
   "cell_type": "code",
   "execution_count": 51,
   "metadata": {},
   "outputs": [],
   "source": [
    "data_reader = ParquetDataReader()\n",
    "articles_df = data_reader.read_data('../data/articles.parquet')\n",
    "train_behaviors_df = data_reader.read_data('../data/train/behaviors.parquet')\n",
    "train_history_df = data_reader.read_data('../data/train/history.parquet')\n",
    "document_vectors_df = data_reader.read_data('../data/document_vector.parquet')\n"
   ]
  },
  {
   "cell_type": "markdown",
   "metadata": {},
   "source": [
    "We check the size of the data. From the sizes we learn that:\n",
    "<ol>\n",
    "  <li>We have 20738 unique articles</li>\n",
    "  <li>We have 15143 unique users</li>\n",
    "  <li>We have 232887 interactions in the testset</li>\n",
    "</ol> "
   ]
  },
  {
   "cell_type": "code",
   "execution_count": 52,
   "metadata": {},
   "outputs": [
    {
     "name": "stdout",
     "output_type": "stream",
     "text": [
      "articles_df has the size:          (20738, 21)\n",
      "train_behaviors_df has the size:   (232887, 17)\n",
      "train_history_df has the size:     (15143, 5)\n",
      "document_vectors_df has the size:  (125541, 2)\n"
     ]
    }
   ],
   "source": [
    "print(\"articles_df has the size:         \", articles_df.shape)\n",
    "print(\"train_behaviors_df has the size:  \", train_behaviors_df.shape)\n",
    "print(\"train_history_df has the size:    \", train_history_df.shape)\n",
    "print(\"document_vectors_df has the size: \", document_vectors_df.shape)"
   ]
  },
  {
   "cell_type": "markdown",
   "metadata": {},
   "source": [
    "### Table contents"
   ]
  },
  {
   "cell_type": "markdown",
   "metadata": {},
   "source": [
    "The information on news articles. As we are going to perform user-user CF, this table is not neccesary"
   ]
  },
  {
   "cell_type": "code",
   "execution_count": 53,
   "metadata": {},
   "outputs": [
    {
     "data": {
      "text/html": [
       "<div><style>\n",
       ".dataframe > thead > tr,\n",
       ".dataframe > tbody > tr {\n",
       "  text-align: right;\n",
       "  white-space: pre-wrap;\n",
       "}\n",
       "</style>\n",
       "<small>shape: (5, 21)</small><table border=\"1\" class=\"dataframe\"><thead><tr><th>article_id</th><th>title</th><th>subtitle</th><th>last_modified_time</th><th>premium</th><th>body</th><th>published_time</th><th>image_ids</th><th>article_type</th><th>url</th><th>ner_clusters</th><th>entity_groups</th><th>topics</th><th>category</th><th>subcategory</th><th>category_str</th><th>total_inviews</th><th>total_pageviews</th><th>total_read_time</th><th>sentiment_score</th><th>sentiment_label</th></tr><tr><td>i32</td><td>str</td><td>str</td><td>datetime[μs]</td><td>bool</td><td>str</td><td>datetime[μs]</td><td>list[i64]</td><td>str</td><td>str</td><td>list[str]</td><td>list[str]</td><td>list[str]</td><td>i16</td><td>list[i16]</td><td>str</td><td>i32</td><td>i32</td><td>f32</td><td>f32</td><td>str</td></tr></thead><tbody><tr><td>3001353</td><td>&quot;Natascha var ikke den første&quot;</td><td>&quot;Politiet frygter nu, at Natasc…</td><td>2023-06-29 06:20:33</td><td>false</td><td>&quot;Sagen om den østriske Natascha…</td><td>2006-08-31 08:06:45</td><td>[3150850]</td><td>&quot;article_default&quot;</td><td>&quot;https://ekstrabladet.dk/krimi/…</td><td>[]</td><td>[]</td><td>[&quot;Kriminalitet&quot;, &quot;Personfarlig kriminalitet&quot;]</td><td>140</td><td>[]</td><td>&quot;krimi&quot;</td><td>null</td><td>null</td><td>null</td><td>0.9955</td><td>&quot;Negative&quot;</td></tr><tr><td>3003065</td><td>&quot;Kun Star Wars tjente mere&quot;</td><td>&quot;Biografgængerne strømmer ind f…</td><td>2023-06-29 06:20:35</td><td>false</td><td>&quot;Vatikanet har opfordret til at…</td><td>2006-05-21 16:57:00</td><td>[3006712]</td><td>&quot;article_default&quot;</td><td>&quot;https://ekstrabladet.dk/underh…</td><td>[]</td><td>[]</td><td>[&quot;Underholdning&quot;, &quot;Film og tv&quot;, &quot;Økonomi&quot;]</td><td>414</td><td>[433, 434]</td><td>&quot;underholdning&quot;</td><td>null</td><td>null</td><td>null</td><td>0.846</td><td>&quot;Positive&quot;</td></tr><tr><td>3012771</td><td>&quot;Morten Bruun fyret i Sønderjys…</td><td>&quot;FODBOLD: Morten Bruun fyret me…</td><td>2023-06-29 06:20:39</td><td>false</td><td>&quot;Kemien mellem spillerne i Supe…</td><td>2006-05-01 14:28:40</td><td>[3177953]</td><td>&quot;article_default&quot;</td><td>&quot;https://ekstrabladet.dk/sport/…</td><td>[]</td><td>[]</td><td>[&quot;Erhverv&quot;, &quot;Kendt&quot;, … &quot;Ansættelsesforhold&quot;]</td><td>142</td><td>[196, 199]</td><td>&quot;sport&quot;</td><td>null</td><td>null</td><td>null</td><td>0.8241</td><td>&quot;Negative&quot;</td></tr><tr><td>3023463</td><td>&quot;Luderne flytter på landet&quot;</td><td>&quot;I landets tyndest befolkede om…</td><td>2023-06-29 06:20:43</td><td>false</td><td>&quot;Det frække erhverv rykker på l…</td><td>2007-03-24 08:27:59</td><td>[3184029]</td><td>&quot;article_default&quot;</td><td>&quot;https://ekstrabladet.dk/nyhede…</td><td>[]</td><td>[]</td><td>[&quot;Livsstil&quot;, &quot;Erotik&quot;]</td><td>118</td><td>[133]</td><td>&quot;nyheder&quot;</td><td>null</td><td>null</td><td>null</td><td>0.7053</td><td>&quot;Neutral&quot;</td></tr><tr><td>3032577</td><td>&quot;Cybersex: Hvornår er man utro?&quot;</td><td>&quot;En flirtende sms til den flott…</td><td>2023-06-29 06:20:46</td><td>false</td><td>&quot;De fleste af os mener, at et t…</td><td>2007-01-18 10:30:37</td><td>[3030463]</td><td>&quot;article_default&quot;</td><td>&quot;https://ekstrabladet.dk/sex_og…</td><td>[]</td><td>[]</td><td>[&quot;Livsstil&quot;, &quot;Partnerskab&quot;]</td><td>565</td><td>[]</td><td>&quot;sex_og_samliv&quot;</td><td>null</td><td>null</td><td>null</td><td>0.9307</td><td>&quot;Neutral&quot;</td></tr></tbody></table></div>"
      ],
      "text/plain": [
       "shape: (5, 21)\n",
       "┌─────┬─────┬─────┬─────┬─────┬─────┬─────┬─────┬─────┬─────┬─────┬─────┬─────┬─────┬─────┬─────┬─────┬─────┬─────┬─────┬─────┐\n",
       "│ art ┆ tit ┆ sub ┆ las ┆ pre ┆ bod ┆ pub ┆ ima ┆ art ┆ url ┆ ner ┆ ent ┆ top ┆ cat ┆ sub ┆ cat ┆ tot ┆ tot ┆ tot ┆ sen ┆ sen │\n",
       "│ icl ┆ le  ┆ tit ┆ t_m ┆ miu ┆ y   ┆ lis ┆ ge_ ┆ icl ┆ --- ┆ _cl ┆ ity ┆ ics ┆ ego ┆ cat ┆ ego ┆ al_ ┆ al_ ┆ al_ ┆ tim ┆ tim │\n",
       "│ e_i ┆ --- ┆ le  ┆ odi ┆ m   ┆ --- ┆ hed ┆ ids ┆ e_t ┆ str ┆ ust ┆ _gr ┆ --- ┆ ry  ┆ ego ┆ ry_ ┆ inv ┆ pag ┆ rea ┆ ent ┆ ent │\n",
       "│ d   ┆ str ┆ --- ┆ fie ┆ --- ┆ str ┆ _ti ┆ --- ┆ ype ┆     ┆ ers ┆ oup ┆ lis ┆ --- ┆ ry  ┆ str ┆ iew ┆ evi ┆ d_t ┆ _sc ┆ _la │\n",
       "│ --- ┆     ┆ str ┆ d_t ┆ boo ┆     ┆ me  ┆ lis ┆ --- ┆     ┆ --- ┆ s   ┆ t[s ┆ i16 ┆ --- ┆ --- ┆ s   ┆ ews ┆ ime ┆ ore ┆ bel │\n",
       "│ i32 ┆     ┆     ┆ ime ┆ l   ┆     ┆ --- ┆ t[i ┆ str ┆     ┆ lis ┆ --- ┆ tr] ┆     ┆ lis ┆ str ┆ --- ┆ --- ┆ --- ┆ --- ┆ --- │\n",
       "│     ┆     ┆     ┆ --- ┆     ┆     ┆ dat ┆ 64] ┆     ┆     ┆ t[s ┆ lis ┆     ┆     ┆ t[i ┆     ┆ i32 ┆ i32 ┆ f32 ┆ f32 ┆ str │\n",
       "│     ┆     ┆     ┆ dat ┆     ┆     ┆ eti ┆     ┆     ┆     ┆ tr] ┆ t[s ┆     ┆     ┆ 16] ┆     ┆     ┆     ┆     ┆     ┆     │\n",
       "│     ┆     ┆     ┆ eti ┆     ┆     ┆ me[ ┆     ┆     ┆     ┆     ┆ tr] ┆     ┆     ┆     ┆     ┆     ┆     ┆     ┆     ┆     │\n",
       "│     ┆     ┆     ┆ me[ ┆     ┆     ┆ μs] ┆     ┆     ┆     ┆     ┆     ┆     ┆     ┆     ┆     ┆     ┆     ┆     ┆     ┆     │\n",
       "│     ┆     ┆     ┆ μs] ┆     ┆     ┆     ┆     ┆     ┆     ┆     ┆     ┆     ┆     ┆     ┆     ┆     ┆     ┆     ┆     ┆     │\n",
       "╞═════╪═════╪═════╪═════╪═════╪═════╪═════╪═════╪═════╪═════╪═════╪═════╪═════╪═════╪═════╪═════╪═════╪═════╪═════╪═════╪═════╡\n",
       "│ 300 ┆ Nat ┆ Pol ┆ 202 ┆ fal ┆ Sag ┆ 200 ┆ [31 ┆ art ┆ htt ┆ []  ┆ []  ┆ [\"K ┆ 140 ┆ []  ┆ kri ┆ nul ┆ nul ┆ nul ┆ 0.9 ┆ Neg │\n",
       "│ 135 ┆ asc ┆ iti ┆ 3-0 ┆ se  ┆ en  ┆ 6-0 ┆ 508 ┆ icl ┆ ps: ┆     ┆     ┆ rim ┆     ┆     ┆ mi  ┆ l   ┆ l   ┆ l   ┆ 955 ┆ ati │\n",
       "│ 3   ┆ ha  ┆ et  ┆ 6-2 ┆     ┆ om  ┆ 8-3 ┆ 50] ┆ e_d ┆ //e ┆     ┆     ┆ ina ┆     ┆     ┆     ┆     ┆     ┆     ┆     ┆ ve  │\n",
       "│     ┆ var ┆ fry ┆ 9   ┆     ┆ den ┆ 1   ┆     ┆ efa ┆ kst ┆     ┆     ┆ lit ┆     ┆     ┆     ┆     ┆     ┆     ┆     ┆     │\n",
       "│     ┆ ikk ┆ gte ┆ 06: ┆     ┆ øst ┆ 08: ┆     ┆ ult ┆ rab ┆     ┆     ┆ et\" ┆     ┆     ┆     ┆     ┆     ┆     ┆     ┆     │\n",
       "│     ┆ e   ┆ r   ┆ 20: ┆     ┆ ris ┆ 06: ┆     ┆     ┆ lad ┆     ┆     ┆ ,   ┆     ┆     ┆     ┆     ┆     ┆     ┆     ┆     │\n",
       "│     ┆ den ┆ nu, ┆ 33  ┆     ┆ ke  ┆ 45  ┆     ┆     ┆ et. ┆     ┆     ┆ \"Pe ┆     ┆     ┆     ┆     ┆     ┆     ┆     ┆     │\n",
       "│     ┆ før ┆ at  ┆     ┆     ┆ Nat ┆     ┆     ┆     ┆ dk/ ┆     ┆     ┆ rso ┆     ┆     ┆     ┆     ┆     ┆     ┆     ┆     │\n",
       "│     ┆ ste ┆ Nat ┆     ┆     ┆ asc ┆     ┆     ┆     ┆ kri ┆     ┆     ┆ nfa ┆     ┆     ┆     ┆     ┆     ┆     ┆     ┆     │\n",
       "│     ┆     ┆ asc ┆     ┆     ┆ ha… ┆     ┆     ┆     ┆ mi/ ┆     ┆     ┆ rli ┆     ┆     ┆     ┆     ┆     ┆     ┆     ┆     │\n",
       "│     ┆     ┆ …   ┆     ┆     ┆     ┆     ┆     ┆     ┆ …   ┆     ┆     ┆ g…  ┆     ┆     ┆     ┆     ┆     ┆     ┆     ┆     │\n",
       "│ 300 ┆ Kun ┆ Bio ┆ 202 ┆ fal ┆ Vat ┆ 200 ┆ [30 ┆ art ┆ htt ┆ []  ┆ []  ┆ [\"U ┆ 414 ┆ [43 ┆ und ┆ nul ┆ nul ┆ nul ┆ 0.8 ┆ Pos │\n",
       "│ 306 ┆ Sta ┆ gra ┆ 3-0 ┆ se  ┆ ika ┆ 6-0 ┆ 067 ┆ icl ┆ ps: ┆     ┆     ┆ nde ┆     ┆ 3,  ┆ erh ┆ l   ┆ l   ┆ l   ┆ 46  ┆ iti │\n",
       "│ 5   ┆ r   ┆ fgæ ┆ 6-2 ┆     ┆ net ┆ 5-2 ┆ 12] ┆ e_d ┆ //e ┆     ┆     ┆ rho ┆     ┆ 434 ┆ old ┆     ┆     ┆     ┆     ┆ ve  │\n",
       "│     ┆ War ┆ nge ┆ 9   ┆     ┆ har ┆ 1   ┆     ┆ efa ┆ kst ┆     ┆     ┆ ldn ┆     ┆ ]   ┆ nin ┆     ┆     ┆     ┆     ┆     │\n",
       "│     ┆ s   ┆ rne ┆ 06: ┆     ┆ opf ┆ 16: ┆     ┆ ult ┆ rab ┆     ┆     ┆ ing ┆     ┆     ┆ g   ┆     ┆     ┆     ┆     ┆     │\n",
       "│     ┆ tje ┆ str ┆ 20: ┆     ┆ ord ┆ 57: ┆     ┆     ┆ lad ┆     ┆     ┆ \",  ┆     ┆     ┆     ┆     ┆     ┆     ┆     ┆     │\n",
       "│     ┆ nte ┆ ømm ┆ 35  ┆     ┆ ret ┆ 00  ┆     ┆     ┆ et. ┆     ┆     ┆ \"Fi ┆     ┆     ┆     ┆     ┆     ┆     ┆     ┆     │\n",
       "│     ┆ mer ┆ er  ┆     ┆     ┆ til ┆     ┆     ┆     ┆ dk/ ┆     ┆     ┆ lm  ┆     ┆     ┆     ┆     ┆     ┆     ┆     ┆     │\n",
       "│     ┆ e   ┆ ind ┆     ┆     ┆ at… ┆     ┆     ┆     ┆ und ┆     ┆     ┆ og  ┆     ┆     ┆     ┆     ┆     ┆     ┆     ┆     │\n",
       "│     ┆     ┆ f…  ┆     ┆     ┆     ┆     ┆     ┆     ┆ erh ┆     ┆     ┆ tv\" ┆     ┆     ┆     ┆     ┆     ┆     ┆     ┆     │\n",
       "│     ┆     ┆     ┆     ┆     ┆     ┆     ┆     ┆     ┆ …   ┆     ┆     ┆ …   ┆     ┆     ┆     ┆     ┆     ┆     ┆     ┆     │\n",
       "│ 301 ┆ Mor ┆ FOD ┆ 202 ┆ fal ┆ Kem ┆ 200 ┆ [31 ┆ art ┆ htt ┆ []  ┆ []  ┆ [\"E ┆ 142 ┆ [19 ┆ spo ┆ nul ┆ nul ┆ nul ┆ 0.8 ┆ Neg │\n",
       "│ 277 ┆ ten ┆ BOL ┆ 3-0 ┆ se  ┆ ien ┆ 6-0 ┆ 779 ┆ icl ┆ ps: ┆     ┆     ┆ rhv ┆     ┆ 6,  ┆ rt  ┆ l   ┆ l   ┆ l   ┆ 241 ┆ ati │\n",
       "│ 1   ┆ Bru ┆ D:  ┆ 6-2 ┆     ┆ mel ┆ 5-0 ┆ 53] ┆ e_d ┆ //e ┆     ┆     ┆ erv ┆     ┆ 199 ┆     ┆     ┆     ┆     ┆     ┆ ve  │\n",
       "│     ┆ un  ┆ Mor ┆ 9   ┆     ┆ lem ┆ 1   ┆     ┆ efa ┆ kst ┆     ┆     ┆ \",  ┆     ┆ ]   ┆     ┆     ┆     ┆     ┆     ┆     │\n",
       "│     ┆ fyr ┆ ten ┆ 06: ┆     ┆ spi ┆ 14: ┆     ┆ ult ┆ rab ┆     ┆     ┆ \"Ke ┆     ┆     ┆     ┆     ┆     ┆     ┆     ┆     │\n",
       "│     ┆ et  ┆ Bru ┆ 20: ┆     ┆ lle ┆ 28: ┆     ┆     ┆ lad ┆     ┆     ┆ ndt ┆     ┆     ┆     ┆     ┆     ┆     ┆     ┆     │\n",
       "│     ┆ i   ┆ un  ┆ 39  ┆     ┆ rne ┆ 40  ┆     ┆     ┆ et. ┆     ┆     ┆ \",  ┆     ┆     ┆     ┆     ┆     ┆     ┆     ┆     │\n",
       "│     ┆ Søn ┆ fyr ┆     ┆     ┆ i   ┆     ┆     ┆     ┆ dk/ ┆     ┆     ┆ …   ┆     ┆     ┆     ┆     ┆     ┆     ┆     ┆     │\n",
       "│     ┆ der ┆ et  ┆     ┆     ┆ Sup ┆     ┆     ┆     ┆ spo ┆     ┆     ┆ \"An ┆     ┆     ┆     ┆     ┆     ┆     ┆     ┆     │\n",
       "│     ┆ jys ┆ me… ┆     ┆     ┆ e…  ┆     ┆     ┆     ┆ rt/ ┆     ┆     ┆ sæt ┆     ┆     ┆     ┆     ┆     ┆     ┆     ┆     │\n",
       "│     ┆ …   ┆     ┆     ┆     ┆     ┆     ┆     ┆     ┆ …   ┆     ┆     ┆ t…  ┆     ┆     ┆     ┆     ┆     ┆     ┆     ┆     │\n",
       "│ 302 ┆ Lud ┆ I   ┆ 202 ┆ fal ┆ Det ┆ 200 ┆ [31 ┆ art ┆ htt ┆ []  ┆ []  ┆ [\"L ┆ 118 ┆ [13 ┆ nyh ┆ nul ┆ nul ┆ nul ┆ 0.7 ┆ Neu │\n",
       "│ 346 ┆ ern ┆ lan ┆ 3-0 ┆ se  ┆ fræ ┆ 7-0 ┆ 840 ┆ icl ┆ ps: ┆     ┆     ┆ ivs ┆     ┆ 3]  ┆ ede ┆ l   ┆ l   ┆ l   ┆ 053 ┆ tra │\n",
       "│ 3   ┆ e   ┆ det ┆ 6-2 ┆     ┆ kke ┆ 3-2 ┆ 29] ┆ e_d ┆ //e ┆     ┆     ┆ sti ┆     ┆     ┆ r   ┆     ┆     ┆     ┆     ┆ l   │\n",
       "│     ┆ fly ┆ s   ┆ 9   ┆     ┆ erh ┆ 4   ┆     ┆ efa ┆ kst ┆     ┆     ┆ l\", ┆     ┆     ┆     ┆     ┆     ┆     ┆     ┆     │\n",
       "│     ┆ tte ┆ tyn ┆ 06: ┆     ┆ ver ┆ 08: ┆     ┆ ult ┆ rab ┆     ┆     ┆ \"Er ┆     ┆     ┆     ┆     ┆     ┆     ┆     ┆     │\n",
       "│     ┆ r   ┆ des ┆ 20: ┆     ┆ v   ┆ 27: ┆     ┆     ┆ lad ┆     ┆     ┆ oti ┆     ┆     ┆     ┆     ┆     ┆     ┆     ┆     │\n",
       "│     ┆ på  ┆ t   ┆ 43  ┆     ┆ ryk ┆ 59  ┆     ┆     ┆ et. ┆     ┆     ┆ k\"] ┆     ┆     ┆     ┆     ┆     ┆     ┆     ┆     │\n",
       "│     ┆ lan ┆ bef ┆     ┆     ┆ ker ┆     ┆     ┆     ┆ dk/ ┆     ┆     ┆     ┆     ┆     ┆     ┆     ┆     ┆     ┆     ┆     │\n",
       "│     ┆ det ┆ olk ┆     ┆     ┆ på  ┆     ┆     ┆     ┆ nyh ┆     ┆     ┆     ┆     ┆     ┆     ┆     ┆     ┆     ┆     ┆     │\n",
       "│     ┆     ┆ ede ┆     ┆     ┆ l…  ┆     ┆     ┆     ┆ ede ┆     ┆     ┆     ┆     ┆     ┆     ┆     ┆     ┆     ┆     ┆     │\n",
       "│     ┆     ┆ om… ┆     ┆     ┆     ┆     ┆     ┆     ┆ …   ┆     ┆     ┆     ┆     ┆     ┆     ┆     ┆     ┆     ┆     ┆     │\n",
       "│ 303 ┆ Cyb ┆ En  ┆ 202 ┆ fal ┆ De  ┆ 200 ┆ [30 ┆ art ┆ htt ┆ []  ┆ []  ┆ [\"L ┆ 565 ┆ []  ┆ sex ┆ nul ┆ nul ┆ nul ┆ 0.9 ┆ Neu │\n",
       "│ 257 ┆ ers ┆ fli ┆ 3-0 ┆ se  ┆ fle ┆ 7-0 ┆ 304 ┆ icl ┆ ps: ┆     ┆     ┆ ivs ┆     ┆     ┆ _og ┆ l   ┆ l   ┆ l   ┆ 307 ┆ tra │\n",
       "│ 7   ┆ ex: ┆ rte ┆ 6-2 ┆     ┆ ste ┆ 1-1 ┆ 63] ┆ e_d ┆ //e ┆     ┆     ┆ sti ┆     ┆     ┆ _sa ┆     ┆     ┆     ┆     ┆ l   │\n",
       "│     ┆ Hvo ┆ nde ┆ 9   ┆     ┆ af  ┆ 8   ┆     ┆ efa ┆ kst ┆     ┆     ┆ l\", ┆     ┆     ┆ mli ┆     ┆     ┆     ┆     ┆     │\n",
       "│     ┆ rnå ┆ sms ┆ 06: ┆     ┆ os  ┆ 10: ┆     ┆ ult ┆ rab ┆     ┆     ┆ \"Pa ┆     ┆     ┆ v   ┆     ┆     ┆     ┆     ┆     │\n",
       "│     ┆ r   ┆ til ┆ 20: ┆     ┆ men ┆ 30: ┆     ┆     ┆ lad ┆     ┆     ┆ rtn ┆     ┆     ┆     ┆     ┆     ┆     ┆     ┆     │\n",
       "│     ┆ er  ┆ den ┆ 46  ┆     ┆ er, ┆ 37  ┆     ┆     ┆ et. ┆     ┆     ┆ ers ┆     ┆     ┆     ┆     ┆     ┆     ┆     ┆     │\n",
       "│     ┆ man ┆ flo ┆     ┆     ┆ at  ┆     ┆     ┆     ┆ dk/ ┆     ┆     ┆ kab ┆     ┆     ┆     ┆     ┆     ┆     ┆     ┆     │\n",
       "│     ┆ utr ┆ tt… ┆     ┆     ┆ et  ┆     ┆     ┆     ┆ sex ┆     ┆     ┆ \"]  ┆     ┆     ┆     ┆     ┆     ┆     ┆     ┆     │\n",
       "│     ┆ o?  ┆     ┆     ┆     ┆ t…  ┆     ┆     ┆     ┆ _og ┆     ┆     ┆     ┆     ┆     ┆     ┆     ┆     ┆     ┆     ┆     │\n",
       "│     ┆     ┆     ┆     ┆     ┆     ┆     ┆     ┆     ┆ …   ┆     ┆     ┆     ┆     ┆     ┆     ┆     ┆     ┆     ┆     ┆     │\n",
       "└─────┴─────┴─────┴─────┴─────┴─────┴─────┴─────┴─────┴─────┴─────┴─────┴─────┴─────┴─────┴─────┴─────┴─────┴─────┴─────┴─────┘"
      ]
     },
     "execution_count": 53,
     "metadata": {},
     "output_type": "execute_result"
    }
   ],
   "source": [
    "articles_df.head()"
   ]
  },
  {
   "cell_type": "markdown",
   "metadata": {},
   "source": [
    "Each file consists of seven days of impression logs. The train_behaviors_df table contains all information about interactions between users and items, and can be used as a basis for user-user CF. <strong>Therefore we only need this table</strong>."
   ]
  },
  {
   "cell_type": "code",
   "execution_count": 54,
   "metadata": {},
   "outputs": [
    {
     "data": {
      "text/html": [
       "<div><style>\n",
       ".dataframe > thead > tr,\n",
       ".dataframe > tbody > tr {\n",
       "  text-align: right;\n",
       "  white-space: pre-wrap;\n",
       "}\n",
       "</style>\n",
       "<small>shape: (5, 17)</small><table border=\"1\" class=\"dataframe\"><thead><tr><th>impression_id</th><th>article_id</th><th>impression_time</th><th>read_time</th><th>scroll_percentage</th><th>device_type</th><th>article_ids_inview</th><th>article_ids_clicked</th><th>user_id</th><th>is_sso_user</th><th>gender</th><th>postcode</th><th>age</th><th>is_subscriber</th><th>session_id</th><th>next_read_time</th><th>next_scroll_percentage</th></tr><tr><td>u32</td><td>i32</td><td>datetime[μs]</td><td>f32</td><td>f32</td><td>i8</td><td>list[i32]</td><td>list[i32]</td><td>u32</td><td>bool</td><td>i8</td><td>i8</td><td>i8</td><td>bool</td><td>u32</td><td>f32</td><td>f32</td></tr></thead><tbody><tr><td>149474</td><td>null</td><td>2023-05-24 07:47:53</td><td>13.0</td><td>null</td><td>2</td><td>[9778623, 9778682, … 9778728]</td><td>[9778657]</td><td>139836</td><td>false</td><td>null</td><td>null</td><td>null</td><td>false</td><td>759</td><td>7.0</td><td>22.0</td></tr><tr><td>150528</td><td>null</td><td>2023-05-24 07:33:25</td><td>25.0</td><td>null</td><td>2</td><td>[9778718, 9778728, … 9778682]</td><td>[9778623]</td><td>143471</td><td>false</td><td>null</td><td>null</td><td>null</td><td>false</td><td>1240</td><td>287.0</td><td>100.0</td></tr><tr><td>153068</td><td>9778682</td><td>2023-05-24 07:09:04</td><td>78.0</td><td>100.0</td><td>1</td><td>[9778657, 9778669, … 9778682]</td><td>[9778669]</td><td>151570</td><td>false</td><td>null</td><td>null</td><td>null</td><td>false</td><td>1976</td><td>45.0</td><td>100.0</td></tr><tr><td>153070</td><td>9777492</td><td>2023-05-24 07:13:14</td><td>26.0</td><td>100.0</td><td>1</td><td>[9020783, 9778444, … 9778628]</td><td>[9778628]</td><td>151570</td><td>false</td><td>null</td><td>null</td><td>null</td><td>false</td><td>1976</td><td>4.0</td><td>18.0</td></tr><tr><td>153071</td><td>9778623</td><td>2023-05-24 07:11:08</td><td>125.0</td><td>100.0</td><td>1</td><td>[9777492, 9774568, … 9775990]</td><td>[9777492]</td><td>151570</td><td>false</td><td>null</td><td>null</td><td>null</td><td>false</td><td>1976</td><td>26.0</td><td>100.0</td></tr></tbody></table></div>"
      ],
      "text/plain": [
       "shape: (5, 17)\n",
       "┌─────┬─────┬─────┬─────┬─────┬─────┬─────┬─────┬─────┬─────┬─────┬─────┬─────┬─────┬─────┬─────┬─────┐\n",
       "│ imp ┆ art ┆ imp ┆ rea ┆ scr ┆ dev ┆ art ┆ art ┆ use ┆ is_ ┆ gen ┆ pos ┆ age ┆ is_ ┆ ses ┆ nex ┆ nex │\n",
       "│ res ┆ icl ┆ res ┆ d_t ┆ oll ┆ ice ┆ icl ┆ icl ┆ r_i ┆ sso ┆ der ┆ tco ┆ --- ┆ sub ┆ sio ┆ t_r ┆ t_s │\n",
       "│ sio ┆ e_i ┆ sio ┆ ime ┆ _pe ┆ _ty ┆ e_i ┆ e_i ┆ d   ┆ _us ┆ --- ┆ de  ┆ i8  ┆ scr ┆ n_i ┆ ead ┆ cro │\n",
       "│ n_i ┆ d   ┆ n_t ┆ --- ┆ rce ┆ pe  ┆ ds_ ┆ ds_ ┆ --- ┆ er  ┆ i8  ┆ --- ┆     ┆ ibe ┆ d   ┆ _ti ┆ ll_ │\n",
       "│ d   ┆ --- ┆ ime ┆ f32 ┆ nta ┆ --- ┆ inv ┆ cli ┆ u32 ┆ --- ┆     ┆ i8  ┆     ┆ r   ┆ --- ┆ me  ┆ per │\n",
       "│ --- ┆ i32 ┆ --- ┆     ┆ ge  ┆ i8  ┆ iew ┆ cke ┆     ┆ boo ┆     ┆     ┆     ┆ --- ┆ u32 ┆ --- ┆ cen │\n",
       "│ u32 ┆     ┆ dat ┆     ┆ --- ┆     ┆ --- ┆ d   ┆     ┆ l   ┆     ┆     ┆     ┆ boo ┆     ┆ f32 ┆ tag │\n",
       "│     ┆     ┆ eti ┆     ┆ f32 ┆     ┆ lis ┆ --- ┆     ┆     ┆     ┆     ┆     ┆ l   ┆     ┆     ┆ e   │\n",
       "│     ┆     ┆ me[ ┆     ┆     ┆     ┆ t[i ┆ lis ┆     ┆     ┆     ┆     ┆     ┆     ┆     ┆     ┆ --- │\n",
       "│     ┆     ┆ μs] ┆     ┆     ┆     ┆ 32] ┆ t[i ┆     ┆     ┆     ┆     ┆     ┆     ┆     ┆     ┆ f32 │\n",
       "│     ┆     ┆     ┆     ┆     ┆     ┆     ┆ 32] ┆     ┆     ┆     ┆     ┆     ┆     ┆     ┆     ┆     │\n",
       "╞═════╪═════╪═════╪═════╪═════╪═════╪═════╪═════╪═════╪═════╪═════╪═════╪═════╪═════╪═════╪═════╪═════╡\n",
       "│ 149 ┆ nul ┆ 202 ┆ 13. ┆ nul ┆ 2   ┆ [97 ┆ [97 ┆ 139 ┆ fal ┆ nul ┆ nul ┆ nul ┆ fal ┆ 759 ┆ 7.0 ┆ 22. │\n",
       "│ 474 ┆ l   ┆ 3-0 ┆ 0   ┆ l   ┆     ┆ 786 ┆ 786 ┆ 836 ┆ se  ┆ l   ┆ l   ┆ l   ┆ se  ┆     ┆     ┆ 0   │\n",
       "│     ┆     ┆ 5-2 ┆     ┆     ┆     ┆ 23, ┆ 57] ┆     ┆     ┆     ┆     ┆     ┆     ┆     ┆     ┆     │\n",
       "│     ┆     ┆ 4   ┆     ┆     ┆     ┆ 977 ┆     ┆     ┆     ┆     ┆     ┆     ┆     ┆     ┆     ┆     │\n",
       "│     ┆     ┆ 07: ┆     ┆     ┆     ┆ 868 ┆     ┆     ┆     ┆     ┆     ┆     ┆     ┆     ┆     ┆     │\n",
       "│     ┆     ┆ 47: ┆     ┆     ┆     ┆ 2,  ┆     ┆     ┆     ┆     ┆     ┆     ┆     ┆     ┆     ┆     │\n",
       "│     ┆     ┆ 53  ┆     ┆     ┆     ┆ …   ┆     ┆     ┆     ┆     ┆     ┆     ┆     ┆     ┆     ┆     │\n",
       "│     ┆     ┆     ┆     ┆     ┆     ┆ 977 ┆     ┆     ┆     ┆     ┆     ┆     ┆     ┆     ┆     ┆     │\n",
       "│     ┆     ┆     ┆     ┆     ┆     ┆ 872 ┆     ┆     ┆     ┆     ┆     ┆     ┆     ┆     ┆     ┆     │\n",
       "│     ┆     ┆     ┆     ┆     ┆     ┆ 8]  ┆     ┆     ┆     ┆     ┆     ┆     ┆     ┆     ┆     ┆     │\n",
       "│ 150 ┆ nul ┆ 202 ┆ 25. ┆ nul ┆ 2   ┆ [97 ┆ [97 ┆ 143 ┆ fal ┆ nul ┆ nul ┆ nul ┆ fal ┆ 124 ┆ 287 ┆ 100 │\n",
       "│ 528 ┆ l   ┆ 3-0 ┆ 0   ┆ l   ┆     ┆ 787 ┆ 786 ┆ 471 ┆ se  ┆ l   ┆ l   ┆ l   ┆ se  ┆ 0   ┆ .0  ┆ .0  │\n",
       "│     ┆     ┆ 5-2 ┆     ┆     ┆     ┆ 18, ┆ 23] ┆     ┆     ┆     ┆     ┆     ┆     ┆     ┆     ┆     │\n",
       "│     ┆     ┆ 4   ┆     ┆     ┆     ┆ 977 ┆     ┆     ┆     ┆     ┆     ┆     ┆     ┆     ┆     ┆     │\n",
       "│     ┆     ┆ 07: ┆     ┆     ┆     ┆ 872 ┆     ┆     ┆     ┆     ┆     ┆     ┆     ┆     ┆     ┆     │\n",
       "│     ┆     ┆ 33: ┆     ┆     ┆     ┆ 8,  ┆     ┆     ┆     ┆     ┆     ┆     ┆     ┆     ┆     ┆     │\n",
       "│     ┆     ┆ 25  ┆     ┆     ┆     ┆ …   ┆     ┆     ┆     ┆     ┆     ┆     ┆     ┆     ┆     ┆     │\n",
       "│     ┆     ┆     ┆     ┆     ┆     ┆ 977 ┆     ┆     ┆     ┆     ┆     ┆     ┆     ┆     ┆     ┆     │\n",
       "│     ┆     ┆     ┆     ┆     ┆     ┆ 868 ┆     ┆     ┆     ┆     ┆     ┆     ┆     ┆     ┆     ┆     │\n",
       "│     ┆     ┆     ┆     ┆     ┆     ┆ 2]  ┆     ┆     ┆     ┆     ┆     ┆     ┆     ┆     ┆     ┆     │\n",
       "│ 153 ┆ 977 ┆ 202 ┆ 78. ┆ 100 ┆ 1   ┆ [97 ┆ [97 ┆ 151 ┆ fal ┆ nul ┆ nul ┆ nul ┆ fal ┆ 197 ┆ 45. ┆ 100 │\n",
       "│ 068 ┆ 868 ┆ 3-0 ┆ 0   ┆ .0  ┆     ┆ 786 ┆ 786 ┆ 570 ┆ se  ┆ l   ┆ l   ┆ l   ┆ se  ┆ 6   ┆ 0   ┆ .0  │\n",
       "│     ┆ 2   ┆ 5-2 ┆     ┆     ┆     ┆ 57, ┆ 69] ┆     ┆     ┆     ┆     ┆     ┆     ┆     ┆     ┆     │\n",
       "│     ┆     ┆ 4   ┆     ┆     ┆     ┆ 977 ┆     ┆     ┆     ┆     ┆     ┆     ┆     ┆     ┆     ┆     │\n",
       "│     ┆     ┆ 07: ┆     ┆     ┆     ┆ 866 ┆     ┆     ┆     ┆     ┆     ┆     ┆     ┆     ┆     ┆     │\n",
       "│     ┆     ┆ 09: ┆     ┆     ┆     ┆ 9,  ┆     ┆     ┆     ┆     ┆     ┆     ┆     ┆     ┆     ┆     │\n",
       "│     ┆     ┆ 04  ┆     ┆     ┆     ┆ …   ┆     ┆     ┆     ┆     ┆     ┆     ┆     ┆     ┆     ┆     │\n",
       "│     ┆     ┆     ┆     ┆     ┆     ┆ 977 ┆     ┆     ┆     ┆     ┆     ┆     ┆     ┆     ┆     ┆     │\n",
       "│     ┆     ┆     ┆     ┆     ┆     ┆ 868 ┆     ┆     ┆     ┆     ┆     ┆     ┆     ┆     ┆     ┆     │\n",
       "│     ┆     ┆     ┆     ┆     ┆     ┆ 2]  ┆     ┆     ┆     ┆     ┆     ┆     ┆     ┆     ┆     ┆     │\n",
       "│ 153 ┆ 977 ┆ 202 ┆ 26. ┆ 100 ┆ 1   ┆ [90 ┆ [97 ┆ 151 ┆ fal ┆ nul ┆ nul ┆ nul ┆ fal ┆ 197 ┆ 4.0 ┆ 18. │\n",
       "│ 070 ┆ 749 ┆ 3-0 ┆ 0   ┆ .0  ┆     ┆ 207 ┆ 786 ┆ 570 ┆ se  ┆ l   ┆ l   ┆ l   ┆ se  ┆ 6   ┆     ┆ 0   │\n",
       "│     ┆ 2   ┆ 5-2 ┆     ┆     ┆     ┆ 83, ┆ 28] ┆     ┆     ┆     ┆     ┆     ┆     ┆     ┆     ┆     │\n",
       "│     ┆     ┆ 4   ┆     ┆     ┆     ┆ 977 ┆     ┆     ┆     ┆     ┆     ┆     ┆     ┆     ┆     ┆     │\n",
       "│     ┆     ┆ 07: ┆     ┆     ┆     ┆ 844 ┆     ┆     ┆     ┆     ┆     ┆     ┆     ┆     ┆     ┆     │\n",
       "│     ┆     ┆ 13: ┆     ┆     ┆     ┆ 4,  ┆     ┆     ┆     ┆     ┆     ┆     ┆     ┆     ┆     ┆     │\n",
       "│     ┆     ┆ 14  ┆     ┆     ┆     ┆ …   ┆     ┆     ┆     ┆     ┆     ┆     ┆     ┆     ┆     ┆     │\n",
       "│     ┆     ┆     ┆     ┆     ┆     ┆ 977 ┆     ┆     ┆     ┆     ┆     ┆     ┆     ┆     ┆     ┆     │\n",
       "│     ┆     ┆     ┆     ┆     ┆     ┆ 862 ┆     ┆     ┆     ┆     ┆     ┆     ┆     ┆     ┆     ┆     │\n",
       "│     ┆     ┆     ┆     ┆     ┆     ┆ 8]  ┆     ┆     ┆     ┆     ┆     ┆     ┆     ┆     ┆     ┆     │\n",
       "│ 153 ┆ 977 ┆ 202 ┆ 125 ┆ 100 ┆ 1   ┆ [97 ┆ [97 ┆ 151 ┆ fal ┆ nul ┆ nul ┆ nul ┆ fal ┆ 197 ┆ 26. ┆ 100 │\n",
       "│ 071 ┆ 862 ┆ 3-0 ┆ .0  ┆ .0  ┆     ┆ 774 ┆ 774 ┆ 570 ┆ se  ┆ l   ┆ l   ┆ l   ┆ se  ┆ 6   ┆ 0   ┆ .0  │\n",
       "│     ┆ 3   ┆ 5-2 ┆     ┆     ┆     ┆ 92, ┆ 92] ┆     ┆     ┆     ┆     ┆     ┆     ┆     ┆     ┆     │\n",
       "│     ┆     ┆ 4   ┆     ┆     ┆     ┆ 977 ┆     ┆     ┆     ┆     ┆     ┆     ┆     ┆     ┆     ┆     │\n",
       "│     ┆     ┆ 07: ┆     ┆     ┆     ┆ 456 ┆     ┆     ┆     ┆     ┆     ┆     ┆     ┆     ┆     ┆     │\n",
       "│     ┆     ┆ 11: ┆     ┆     ┆     ┆ 8,  ┆     ┆     ┆     ┆     ┆     ┆     ┆     ┆     ┆     ┆     │\n",
       "│     ┆     ┆ 08  ┆     ┆     ┆     ┆ …   ┆     ┆     ┆     ┆     ┆     ┆     ┆     ┆     ┆     ┆     │\n",
       "│     ┆     ┆     ┆     ┆     ┆     ┆ 977 ┆     ┆     ┆     ┆     ┆     ┆     ┆     ┆     ┆     ┆     │\n",
       "│     ┆     ┆     ┆     ┆     ┆     ┆ 599 ┆     ┆     ┆     ┆     ┆     ┆     ┆     ┆     ┆     ┆     │\n",
       "│     ┆     ┆     ┆     ┆     ┆     ┆ 0]  ┆     ┆     ┆     ┆     ┆     ┆     ┆     ┆     ┆     ┆     │\n",
       "└─────┴─────┴─────┴─────┴─────┴─────┴─────┴─────┴─────┴─────┴─────┴─────┴─────┴─────┴─────┴─────┴─────┘"
      ]
     },
     "execution_count": 54,
     "metadata": {},
     "output_type": "execute_result"
    }
   ],
   "source": [
    "train_behaviors_df.head()"
   ]
  },
  {
   "cell_type": "markdown",
   "metadata": {},
   "source": [
    "Each file consists of users' click histories collected over 21 days period. This table does contain the same values as the train_behaviours_df, but as that table is easier to work with we will use train_behaviours_df over this one"
   ]
  },
  {
   "cell_type": "code",
   "execution_count": 55,
   "metadata": {},
   "outputs": [
    {
     "data": {
      "text/html": [
       "<div><style>\n",
       ".dataframe > thead > tr,\n",
       ".dataframe > tbody > tr {\n",
       "  text-align: right;\n",
       "  white-space: pre-wrap;\n",
       "}\n",
       "</style>\n",
       "<small>shape: (5, 5)</small><table border=\"1\" class=\"dataframe\"><thead><tr><th>user_id</th><th>impression_time_fixed</th><th>scroll_percentage_fixed</th><th>article_id_fixed</th><th>read_time_fixed</th></tr><tr><td>u32</td><td>list[datetime[μs]]</td><td>list[f32]</td><td>list[i32]</td><td>list[f32]</td></tr></thead><tbody><tr><td>13538</td><td>[2023-04-27 10:17:43, 2023-04-27 10:18:01, … 2023-05-17 20:36:34]</td><td>[100.0, 35.0, … 100.0]</td><td>[9738663, 9738569, … 9769366]</td><td>[17.0, 12.0, … 16.0]</td></tr><tr><td>14241</td><td>[2023-04-27 09:40:18, 2023-04-27 09:40:33, … 2023-05-17 17:08:41]</td><td>[100.0, 46.0, … 100.0]</td><td>[9738557, 9738528, … 9767852]</td><td>[8.0, 9.0, … 12.0]</td></tr><tr><td>20396</td><td>[2023-04-27 12:30:44, 2023-04-27 12:31:34, … 2023-05-17 10:59:44]</td><td>[100.0, 59.0, … 13.0]</td><td>[9738760, 9738355, … 9769679]</td><td>[49.0, 34.0, … 4.0]</td></tr><tr><td>34912</td><td>[2023-04-29 07:12:49, 2023-04-29 13:01:18, … 2023-05-18 05:06:40]</td><td>[100.0, 35.0, … 27.0]</td><td>[9741802, 9741804, … 9770882]</td><td>[153.0, 7.0, … 5.0]</td></tr><tr><td>37953</td><td>[2023-04-27 19:17:10, 2023-04-27 19:17:27, … 2023-05-17 21:29:22]</td><td>[14.0, 28.0, … 18.0]</td><td>[9739205, 9739202, … 9769306]</td><td>[4.0, 16.0, … 6.0]</td></tr></tbody></table></div>"
      ],
      "text/plain": [
       "shape: (5, 5)\n",
       "┌─────────┬──────────────────────┬─────────────────────┬─────────────────────┬─────────────────────┐\n",
       "│ user_id ┆ impression_time_fixe ┆ scroll_percentage_f ┆ article_id_fixed    ┆ read_time_fixed     │\n",
       "│ ---     ┆ d                    ┆ ixed                ┆ ---                 ┆ ---                 │\n",
       "│ u32     ┆ ---                  ┆ ---                 ┆ list[i32]           ┆ list[f32]           │\n",
       "│         ┆ list[datetime[μs]]   ┆ list[f32]           ┆                     ┆                     │\n",
       "╞═════════╪══════════════════════╪═════════════════════╪═════════════════════╪═════════════════════╡\n",
       "│ 13538   ┆ [2023-04-27          ┆ [100.0, 35.0, …     ┆ [9738663, 9738569,  ┆ [17.0, 12.0, …      │\n",
       "│         ┆ 10:17:43, 2023-04-…  ┆ 100.0]              ┆ … 9769366]          ┆ 16.0]               │\n",
       "│ 14241   ┆ [2023-04-27          ┆ [100.0, 46.0, …     ┆ [9738557, 9738528,  ┆ [8.0, 9.0, … 12.0]  │\n",
       "│         ┆ 09:40:18, 2023-04-…  ┆ 100.0]              ┆ … 9767852]          ┆                     │\n",
       "│ 20396   ┆ [2023-04-27          ┆ [100.0, 59.0, …     ┆ [9738760, 9738355,  ┆ [49.0, 34.0, … 4.0] │\n",
       "│         ┆ 12:30:44, 2023-04-…  ┆ 13.0]               ┆ … 9769679]          ┆                     │\n",
       "│ 34912   ┆ [2023-04-29          ┆ [100.0, 35.0, …     ┆ [9741802, 9741804,  ┆ [153.0, 7.0, … 5.0] │\n",
       "│         ┆ 07:12:49, 2023-04-…  ┆ 27.0]               ┆ … 9770882]          ┆                     │\n",
       "│ 37953   ┆ [2023-04-27          ┆ [14.0, 28.0, …      ┆ [9739205, 9739202,  ┆ [4.0, 16.0, … 6.0]  │\n",
       "│         ┆ 19:17:10, 2023-04-…  ┆ 18.0]               ┆ … 9769306]          ┆                     │\n",
       "└─────────┴──────────────────────┴─────────────────────┴─────────────────────┴─────────────────────┘"
      ]
     },
     "execution_count": 55,
     "metadata": {},
     "output_type": "execute_result"
    }
   ],
   "source": [
    "train_history_df.head()"
   ]
  },
  {
   "cell_type": "markdown",
   "metadata": {},
   "source": [
    "List of vectors for each article. This is used to describe the items. It could be used for item-item CF, but is not relevant to user-user CF.  <strong>This table will therefore not be used</strong>"
   ]
  },
  {
   "cell_type": "code",
   "execution_count": 56,
   "metadata": {},
   "outputs": [
    {
     "data": {
      "text/html": [
       "<div><style>\n",
       ".dataframe > thead > tr,\n",
       ".dataframe > tbody > tr {\n",
       "  text-align: right;\n",
       "  white-space: pre-wrap;\n",
       "}\n",
       "</style>\n",
       "<small>shape: (5, 2)</small><table border=\"1\" class=\"dataframe\"><thead><tr><th>article_id</th><th>document_vector</th></tr><tr><td>i32</td><td>list[f32]</td></tr></thead><tbody><tr><td>3000022</td><td>[0.065424, -0.047425, … 0.035706]</td></tr><tr><td>3000063</td><td>[0.028815, -0.000166, … 0.027167]</td></tr><tr><td>3000613</td><td>[0.037971, 0.033923, … 0.063961]</td></tr><tr><td>3000700</td><td>[0.046524, 0.002913, … 0.023423]</td></tr><tr><td>3000840</td><td>[0.014737, 0.024068, … 0.045991]</td></tr></tbody></table></div>"
      ],
      "text/plain": [
       "shape: (5, 2)\n",
       "┌────────────┬─────────────────────────────────┐\n",
       "│ article_id ┆ document_vector                 │\n",
       "│ ---        ┆ ---                             │\n",
       "│ i32        ┆ list[f32]                       │\n",
       "╞════════════╪═════════════════════════════════╡\n",
       "│ 3000022    ┆ [0.065424, -0.047425, … 0.0357… │\n",
       "│ 3000063    ┆ [0.028815, -0.000166, … 0.0271… │\n",
       "│ 3000613    ┆ [0.037971, 0.033923, … 0.06396… │\n",
       "│ 3000700    ┆ [0.046524, 0.002913, … 0.02342… │\n",
       "│ 3000840    ┆ [0.014737, 0.024068, … 0.04599… │\n",
       "└────────────┴─────────────────────────────────┘"
      ]
     },
     "execution_count": 56,
     "metadata": {},
     "output_type": "execute_result"
    }
   ],
   "source": [
    "document_vectors_df.head()"
   ]
  },
  {
   "cell_type": "markdown",
   "metadata": {},
   "source": [
    "From the analasys we see that we only need train_behaviour_df to perform user-user CF"
   ]
  },
  {
   "cell_type": "markdown",
   "metadata": {},
   "source": [
    "## Preprocessing"
   ]
  },
  {
   "cell_type": "markdown",
   "metadata": {},
   "source": [
    "### Remove non-needed values"
   ]
  },
  {
   "cell_type": "markdown",
   "metadata": {},
   "source": [
    "We see that we have several items that are not required for performing user-user CF"
   ]
  },
  {
   "cell_type": "code",
   "execution_count": 57,
   "metadata": {},
   "outputs": [
    {
     "data": {
      "text/html": [
       "<div><style>\n",
       ".dataframe > thead > tr,\n",
       ".dataframe > tbody > tr {\n",
       "  text-align: right;\n",
       "  white-space: pre-wrap;\n",
       "}\n",
       "</style>\n",
       "<small>shape: (5, 17)</small><table border=\"1\" class=\"dataframe\"><thead><tr><th>impression_id</th><th>article_id</th><th>impression_time</th><th>read_time</th><th>scroll_percentage</th><th>device_type</th><th>article_ids_inview</th><th>article_ids_clicked</th><th>user_id</th><th>is_sso_user</th><th>gender</th><th>postcode</th><th>age</th><th>is_subscriber</th><th>session_id</th><th>next_read_time</th><th>next_scroll_percentage</th></tr><tr><td>u32</td><td>i32</td><td>datetime[μs]</td><td>f32</td><td>f32</td><td>i8</td><td>list[i32]</td><td>list[i32]</td><td>u32</td><td>bool</td><td>i8</td><td>i8</td><td>i8</td><td>bool</td><td>u32</td><td>f32</td><td>f32</td></tr></thead><tbody><tr><td>149474</td><td>null</td><td>2023-05-24 07:47:53</td><td>13.0</td><td>null</td><td>2</td><td>[9778623, 9778682, … 9778728]</td><td>[9778657]</td><td>139836</td><td>false</td><td>null</td><td>null</td><td>null</td><td>false</td><td>759</td><td>7.0</td><td>22.0</td></tr><tr><td>150528</td><td>null</td><td>2023-05-24 07:33:25</td><td>25.0</td><td>null</td><td>2</td><td>[9778718, 9778728, … 9778682]</td><td>[9778623]</td><td>143471</td><td>false</td><td>null</td><td>null</td><td>null</td><td>false</td><td>1240</td><td>287.0</td><td>100.0</td></tr><tr><td>153068</td><td>9778682</td><td>2023-05-24 07:09:04</td><td>78.0</td><td>100.0</td><td>1</td><td>[9778657, 9778669, … 9778682]</td><td>[9778669]</td><td>151570</td><td>false</td><td>null</td><td>null</td><td>null</td><td>false</td><td>1976</td><td>45.0</td><td>100.0</td></tr><tr><td>153070</td><td>9777492</td><td>2023-05-24 07:13:14</td><td>26.0</td><td>100.0</td><td>1</td><td>[9020783, 9778444, … 9778628]</td><td>[9778628]</td><td>151570</td><td>false</td><td>null</td><td>null</td><td>null</td><td>false</td><td>1976</td><td>4.0</td><td>18.0</td></tr><tr><td>153071</td><td>9778623</td><td>2023-05-24 07:11:08</td><td>125.0</td><td>100.0</td><td>1</td><td>[9777492, 9774568, … 9775990]</td><td>[9777492]</td><td>151570</td><td>false</td><td>null</td><td>null</td><td>null</td><td>false</td><td>1976</td><td>26.0</td><td>100.0</td></tr></tbody></table></div>"
      ],
      "text/plain": [
       "shape: (5, 17)\n",
       "┌─────┬─────┬─────┬─────┬─────┬─────┬─────┬─────┬─────┬─────┬─────┬─────┬─────┬─────┬─────┬─────┬─────┐\n",
       "│ imp ┆ art ┆ imp ┆ rea ┆ scr ┆ dev ┆ art ┆ art ┆ use ┆ is_ ┆ gen ┆ pos ┆ age ┆ is_ ┆ ses ┆ nex ┆ nex │\n",
       "│ res ┆ icl ┆ res ┆ d_t ┆ oll ┆ ice ┆ icl ┆ icl ┆ r_i ┆ sso ┆ der ┆ tco ┆ --- ┆ sub ┆ sio ┆ t_r ┆ t_s │\n",
       "│ sio ┆ e_i ┆ sio ┆ ime ┆ _pe ┆ _ty ┆ e_i ┆ e_i ┆ d   ┆ _us ┆ --- ┆ de  ┆ i8  ┆ scr ┆ n_i ┆ ead ┆ cro │\n",
       "│ n_i ┆ d   ┆ n_t ┆ --- ┆ rce ┆ pe  ┆ ds_ ┆ ds_ ┆ --- ┆ er  ┆ i8  ┆ --- ┆     ┆ ibe ┆ d   ┆ _ti ┆ ll_ │\n",
       "│ d   ┆ --- ┆ ime ┆ f32 ┆ nta ┆ --- ┆ inv ┆ cli ┆ u32 ┆ --- ┆     ┆ i8  ┆     ┆ r   ┆ --- ┆ me  ┆ per │\n",
       "│ --- ┆ i32 ┆ --- ┆     ┆ ge  ┆ i8  ┆ iew ┆ cke ┆     ┆ boo ┆     ┆     ┆     ┆ --- ┆ u32 ┆ --- ┆ cen │\n",
       "│ u32 ┆     ┆ dat ┆     ┆ --- ┆     ┆ --- ┆ d   ┆     ┆ l   ┆     ┆     ┆     ┆ boo ┆     ┆ f32 ┆ tag │\n",
       "│     ┆     ┆ eti ┆     ┆ f32 ┆     ┆ lis ┆ --- ┆     ┆     ┆     ┆     ┆     ┆ l   ┆     ┆     ┆ e   │\n",
       "│     ┆     ┆ me[ ┆     ┆     ┆     ┆ t[i ┆ lis ┆     ┆     ┆     ┆     ┆     ┆     ┆     ┆     ┆ --- │\n",
       "│     ┆     ┆ μs] ┆     ┆     ┆     ┆ 32] ┆ t[i ┆     ┆     ┆     ┆     ┆     ┆     ┆     ┆     ┆ f32 │\n",
       "│     ┆     ┆     ┆     ┆     ┆     ┆     ┆ 32] ┆     ┆     ┆     ┆     ┆     ┆     ┆     ┆     ┆     │\n",
       "╞═════╪═════╪═════╪═════╪═════╪═════╪═════╪═════╪═════╪═════╪═════╪═════╪═════╪═════╪═════╪═════╪═════╡\n",
       "│ 149 ┆ nul ┆ 202 ┆ 13. ┆ nul ┆ 2   ┆ [97 ┆ [97 ┆ 139 ┆ fal ┆ nul ┆ nul ┆ nul ┆ fal ┆ 759 ┆ 7.0 ┆ 22. │\n",
       "│ 474 ┆ l   ┆ 3-0 ┆ 0   ┆ l   ┆     ┆ 786 ┆ 786 ┆ 836 ┆ se  ┆ l   ┆ l   ┆ l   ┆ se  ┆     ┆     ┆ 0   │\n",
       "│     ┆     ┆ 5-2 ┆     ┆     ┆     ┆ 23, ┆ 57] ┆     ┆     ┆     ┆     ┆     ┆     ┆     ┆     ┆     │\n",
       "│     ┆     ┆ 4   ┆     ┆     ┆     ┆ 977 ┆     ┆     ┆     ┆     ┆     ┆     ┆     ┆     ┆     ┆     │\n",
       "│     ┆     ┆ 07: ┆     ┆     ┆     ┆ 868 ┆     ┆     ┆     ┆     ┆     ┆     ┆     ┆     ┆     ┆     │\n",
       "│     ┆     ┆ 47: ┆     ┆     ┆     ┆ 2,  ┆     ┆     ┆     ┆     ┆     ┆     ┆     ┆     ┆     ┆     │\n",
       "│     ┆     ┆ 53  ┆     ┆     ┆     ┆ …   ┆     ┆     ┆     ┆     ┆     ┆     ┆     ┆     ┆     ┆     │\n",
       "│     ┆     ┆     ┆     ┆     ┆     ┆ 977 ┆     ┆     ┆     ┆     ┆     ┆     ┆     ┆     ┆     ┆     │\n",
       "│     ┆     ┆     ┆     ┆     ┆     ┆ 872 ┆     ┆     ┆     ┆     ┆     ┆     ┆     ┆     ┆     ┆     │\n",
       "│     ┆     ┆     ┆     ┆     ┆     ┆ 8]  ┆     ┆     ┆     ┆     ┆     ┆     ┆     ┆     ┆     ┆     │\n",
       "│ 150 ┆ nul ┆ 202 ┆ 25. ┆ nul ┆ 2   ┆ [97 ┆ [97 ┆ 143 ┆ fal ┆ nul ┆ nul ┆ nul ┆ fal ┆ 124 ┆ 287 ┆ 100 │\n",
       "│ 528 ┆ l   ┆ 3-0 ┆ 0   ┆ l   ┆     ┆ 787 ┆ 786 ┆ 471 ┆ se  ┆ l   ┆ l   ┆ l   ┆ se  ┆ 0   ┆ .0  ┆ .0  │\n",
       "│     ┆     ┆ 5-2 ┆     ┆     ┆     ┆ 18, ┆ 23] ┆     ┆     ┆     ┆     ┆     ┆     ┆     ┆     ┆     │\n",
       "│     ┆     ┆ 4   ┆     ┆     ┆     ┆ 977 ┆     ┆     ┆     ┆     ┆     ┆     ┆     ┆     ┆     ┆     │\n",
       "│     ┆     ┆ 07: ┆     ┆     ┆     ┆ 872 ┆     ┆     ┆     ┆     ┆     ┆     ┆     ┆     ┆     ┆     │\n",
       "│     ┆     ┆ 33: ┆     ┆     ┆     ┆ 8,  ┆     ┆     ┆     ┆     ┆     ┆     ┆     ┆     ┆     ┆     │\n",
       "│     ┆     ┆ 25  ┆     ┆     ┆     ┆ …   ┆     ┆     ┆     ┆     ┆     ┆     ┆     ┆     ┆     ┆     │\n",
       "│     ┆     ┆     ┆     ┆     ┆     ┆ 977 ┆     ┆     ┆     ┆     ┆     ┆     ┆     ┆     ┆     ┆     │\n",
       "│     ┆     ┆     ┆     ┆     ┆     ┆ 868 ┆     ┆     ┆     ┆     ┆     ┆     ┆     ┆     ┆     ┆     │\n",
       "│     ┆     ┆     ┆     ┆     ┆     ┆ 2]  ┆     ┆     ┆     ┆     ┆     ┆     ┆     ┆     ┆     ┆     │\n",
       "│ 153 ┆ 977 ┆ 202 ┆ 78. ┆ 100 ┆ 1   ┆ [97 ┆ [97 ┆ 151 ┆ fal ┆ nul ┆ nul ┆ nul ┆ fal ┆ 197 ┆ 45. ┆ 100 │\n",
       "│ 068 ┆ 868 ┆ 3-0 ┆ 0   ┆ .0  ┆     ┆ 786 ┆ 786 ┆ 570 ┆ se  ┆ l   ┆ l   ┆ l   ┆ se  ┆ 6   ┆ 0   ┆ .0  │\n",
       "│     ┆ 2   ┆ 5-2 ┆     ┆     ┆     ┆ 57, ┆ 69] ┆     ┆     ┆     ┆     ┆     ┆     ┆     ┆     ┆     │\n",
       "│     ┆     ┆ 4   ┆     ┆     ┆     ┆ 977 ┆     ┆     ┆     ┆     ┆     ┆     ┆     ┆     ┆     ┆     │\n",
       "│     ┆     ┆ 07: ┆     ┆     ┆     ┆ 866 ┆     ┆     ┆     ┆     ┆     ┆     ┆     ┆     ┆     ┆     │\n",
       "│     ┆     ┆ 09: ┆     ┆     ┆     ┆ 9,  ┆     ┆     ┆     ┆     ┆     ┆     ┆     ┆     ┆     ┆     │\n",
       "│     ┆     ┆ 04  ┆     ┆     ┆     ┆ …   ┆     ┆     ┆     ┆     ┆     ┆     ┆     ┆     ┆     ┆     │\n",
       "│     ┆     ┆     ┆     ┆     ┆     ┆ 977 ┆     ┆     ┆     ┆     ┆     ┆     ┆     ┆     ┆     ┆     │\n",
       "│     ┆     ┆     ┆     ┆     ┆     ┆ 868 ┆     ┆     ┆     ┆     ┆     ┆     ┆     ┆     ┆     ┆     │\n",
       "│     ┆     ┆     ┆     ┆     ┆     ┆ 2]  ┆     ┆     ┆     ┆     ┆     ┆     ┆     ┆     ┆     ┆     │\n",
       "│ 153 ┆ 977 ┆ 202 ┆ 26. ┆ 100 ┆ 1   ┆ [90 ┆ [97 ┆ 151 ┆ fal ┆ nul ┆ nul ┆ nul ┆ fal ┆ 197 ┆ 4.0 ┆ 18. │\n",
       "│ 070 ┆ 749 ┆ 3-0 ┆ 0   ┆ .0  ┆     ┆ 207 ┆ 786 ┆ 570 ┆ se  ┆ l   ┆ l   ┆ l   ┆ se  ┆ 6   ┆     ┆ 0   │\n",
       "│     ┆ 2   ┆ 5-2 ┆     ┆     ┆     ┆ 83, ┆ 28] ┆     ┆     ┆     ┆     ┆     ┆     ┆     ┆     ┆     │\n",
       "│     ┆     ┆ 4   ┆     ┆     ┆     ┆ 977 ┆     ┆     ┆     ┆     ┆     ┆     ┆     ┆     ┆     ┆     │\n",
       "│     ┆     ┆ 07: ┆     ┆     ┆     ┆ 844 ┆     ┆     ┆     ┆     ┆     ┆     ┆     ┆     ┆     ┆     │\n",
       "│     ┆     ┆ 13: ┆     ┆     ┆     ┆ 4,  ┆     ┆     ┆     ┆     ┆     ┆     ┆     ┆     ┆     ┆     │\n",
       "│     ┆     ┆ 14  ┆     ┆     ┆     ┆ …   ┆     ┆     ┆     ┆     ┆     ┆     ┆     ┆     ┆     ┆     │\n",
       "│     ┆     ┆     ┆     ┆     ┆     ┆ 977 ┆     ┆     ┆     ┆     ┆     ┆     ┆     ┆     ┆     ┆     │\n",
       "│     ┆     ┆     ┆     ┆     ┆     ┆ 862 ┆     ┆     ┆     ┆     ┆     ┆     ┆     ┆     ┆     ┆     │\n",
       "│     ┆     ┆     ┆     ┆     ┆     ┆ 8]  ┆     ┆     ┆     ┆     ┆     ┆     ┆     ┆     ┆     ┆     │\n",
       "│ 153 ┆ 977 ┆ 202 ┆ 125 ┆ 100 ┆ 1   ┆ [97 ┆ [97 ┆ 151 ┆ fal ┆ nul ┆ nul ┆ nul ┆ fal ┆ 197 ┆ 26. ┆ 100 │\n",
       "│ 071 ┆ 862 ┆ 3-0 ┆ .0  ┆ .0  ┆     ┆ 774 ┆ 774 ┆ 570 ┆ se  ┆ l   ┆ l   ┆ l   ┆ se  ┆ 6   ┆ 0   ┆ .0  │\n",
       "│     ┆ 3   ┆ 5-2 ┆     ┆     ┆     ┆ 92, ┆ 92] ┆     ┆     ┆     ┆     ┆     ┆     ┆     ┆     ┆     │\n",
       "│     ┆     ┆ 4   ┆     ┆     ┆     ┆ 977 ┆     ┆     ┆     ┆     ┆     ┆     ┆     ┆     ┆     ┆     │\n",
       "│     ┆     ┆ 07: ┆     ┆     ┆     ┆ 456 ┆     ┆     ┆     ┆     ┆     ┆     ┆     ┆     ┆     ┆     │\n",
       "│     ┆     ┆ 11: ┆     ┆     ┆     ┆ 8,  ┆     ┆     ┆     ┆     ┆     ┆     ┆     ┆     ┆     ┆     │\n",
       "│     ┆     ┆ 08  ┆     ┆     ┆     ┆ …   ┆     ┆     ┆     ┆     ┆     ┆     ┆     ┆     ┆     ┆     │\n",
       "│     ┆     ┆     ┆     ┆     ┆     ┆ 977 ┆     ┆     ┆     ┆     ┆     ┆     ┆     ┆     ┆     ┆     │\n",
       "│     ┆     ┆     ┆     ┆     ┆     ┆ 599 ┆     ┆     ┆     ┆     ┆     ┆     ┆     ┆     ┆     ┆     │\n",
       "│     ┆     ┆     ┆     ┆     ┆     ┆ 0]  ┆     ┆     ┆     ┆     ┆     ┆     ┆     ┆     ┆     ┆     │\n",
       "└─────┴─────┴─────┴─────┴─────┴─────┴─────┴─────┴─────┴─────┴─────┴─────┴─────┴─────┴─────┴─────┴─────┘"
      ]
     },
     "execution_count": 57,
     "metadata": {},
     "output_type": "execute_result"
    }
   ],
   "source": [
    "train_behaviors_df.head()"
   ]
  },
  {
   "cell_type": "markdown",
   "metadata": {},
   "source": [
    "All information that does not describe a user, or a user-item interaction can therefore be removed"
   ]
  },
  {
   "cell_type": "code",
   "execution_count": 58,
   "metadata": {},
   "outputs": [
    {
     "data": {
      "text/html": [
       "<div><style>\n",
       ".dataframe > thead > tr,\n",
       ".dataframe > tbody > tr {\n",
       "  text-align: right;\n",
       "  white-space: pre-wrap;\n",
       "}\n",
       "</style>\n",
       "<small>shape: (5, 10)</small><table border=\"1\" class=\"dataframe\"><thead><tr><th>impression_id</th><th>article_id</th><th>read_time</th><th>scroll_percentage</th><th>user_id</th><th>is_sso_user</th><th>gender</th><th>postcode</th><th>age</th><th>is_subscriber</th></tr><tr><td>u32</td><td>i32</td><td>f32</td><td>f32</td><td>u32</td><td>bool</td><td>i8</td><td>i8</td><td>i8</td><td>bool</td></tr></thead><tbody><tr><td>149474</td><td>null</td><td>13.0</td><td>null</td><td>139836</td><td>false</td><td>null</td><td>null</td><td>null</td><td>false</td></tr><tr><td>150528</td><td>null</td><td>25.0</td><td>null</td><td>143471</td><td>false</td><td>null</td><td>null</td><td>null</td><td>false</td></tr><tr><td>153068</td><td>9778682</td><td>78.0</td><td>100.0</td><td>151570</td><td>false</td><td>null</td><td>null</td><td>null</td><td>false</td></tr><tr><td>153070</td><td>9777492</td><td>26.0</td><td>100.0</td><td>151570</td><td>false</td><td>null</td><td>null</td><td>null</td><td>false</td></tr><tr><td>153071</td><td>9778623</td><td>125.0</td><td>100.0</td><td>151570</td><td>false</td><td>null</td><td>null</td><td>null</td><td>false</td></tr></tbody></table></div>"
      ],
      "text/plain": [
       "shape: (5, 10)\n",
       "┌──────────┬──────────┬──────────┬─────────┬─────────┬─────────┬────────┬─────────┬──────┬─────────┐\n",
       "│ impressi ┆ article_ ┆ read_tim ┆ scroll_ ┆ user_id ┆ is_sso_ ┆ gender ┆ postcod ┆ age  ┆ is_subs │\n",
       "│ on_id    ┆ id       ┆ e        ┆ percent ┆ ---     ┆ user    ┆ ---    ┆ e       ┆ ---  ┆ criber  │\n",
       "│ ---      ┆ ---      ┆ ---      ┆ age     ┆ u32     ┆ ---     ┆ i8     ┆ ---     ┆ i8   ┆ ---     │\n",
       "│ u32      ┆ i32      ┆ f32      ┆ ---     ┆         ┆ bool    ┆        ┆ i8      ┆      ┆ bool    │\n",
       "│          ┆          ┆          ┆ f32     ┆         ┆         ┆        ┆         ┆      ┆         │\n",
       "╞══════════╪══════════╪══════════╪═════════╪═════════╪═════════╪════════╪═════════╪══════╪═════════╡\n",
       "│ 149474   ┆ null     ┆ 13.0     ┆ null    ┆ 139836  ┆ false   ┆ null   ┆ null    ┆ null ┆ false   │\n",
       "│ 150528   ┆ null     ┆ 25.0     ┆ null    ┆ 143471  ┆ false   ┆ null   ┆ null    ┆ null ┆ false   │\n",
       "│ 153068   ┆ 9778682  ┆ 78.0     ┆ 100.0   ┆ 151570  ┆ false   ┆ null   ┆ null    ┆ null ┆ false   │\n",
       "│ 153070   ┆ 9777492  ┆ 26.0     ┆ 100.0   ┆ 151570  ┆ false   ┆ null   ┆ null    ┆ null ┆ false   │\n",
       "│ 153071   ┆ 9778623  ┆ 125.0    ┆ 100.0   ┆ 151570  ┆ false   ┆ null   ┆ null    ┆ null ┆ false   │\n",
       "└──────────┴──────────┴──────────┴─────────┴─────────┴─────────┴────────┴─────────┴──────┴─────────┘"
      ]
     },
     "execution_count": 58,
     "metadata": {},
     "output_type": "execute_result"
    }
   ],
   "source": [
    "irelevant_columns = [\"impression_time\", \"device_type\", \"article_ids_inview\", \"article_ids_clicked\", \"session_id\", \"next_read_time\", \"next_scroll_percentage\"]\n",
    "train_behaviors_df = train_behaviors_df.drop(irelevant_columns)\n",
    "train_behaviors_df.head()"
   ]
  },
  {
   "cell_type": "markdown",
   "metadata": {},
   "source": [
    "The remaining items are the ones that can be used. But already here we see that we have several features with lacking information. We should therefore treat this"
   ]
  },
  {
   "cell_type": "markdown",
   "metadata": {},
   "source": [
    "### Account for missing values"
   ]
  },
  {
   "cell_type": "markdown",
   "metadata": {},
   "source": [
    "We see here that alot of the behaviours contain missing values. The therefore have to either remove or replace the values"
   ]
  },
  {
   "cell_type": "code",
   "execution_count": 59,
   "metadata": {},
   "outputs": [
    {
     "name": "stdout",
     "output_type": "stream",
     "text": [
      "(232887, 10)\n"
     ]
    },
    {
     "data": {
      "text/html": [
       "<div><style>\n",
       ".dataframe > thead > tr,\n",
       ".dataframe > tbody > tr {\n",
       "  text-align: right;\n",
       "  white-space: pre-wrap;\n",
       "}\n",
       "</style>\n",
       "<small>shape: (1, 10)</small><table border=\"1\" class=\"dataframe\"><thead><tr><th>impression_id</th><th>article_id</th><th>read_time</th><th>scroll_percentage</th><th>user_id</th><th>is_sso_user</th><th>gender</th><th>postcode</th><th>age</th><th>is_subscriber</th></tr><tr><td>u32</td><td>u32</td><td>u32</td><td>u32</td><td>u32</td><td>u32</td><td>u32</td><td>u32</td><td>u32</td><td>u32</td></tr></thead><tbody><tr><td>0</td><td>162466</td><td>0</td><td>163789</td><td>0</td><td>0</td><td>216668</td><td>228214</td><td>226546</td><td>0</td></tr></tbody></table></div>"
      ],
      "text/plain": [
       "shape: (1, 10)\n",
       "┌──────────┬─────────┬─────────┬─────────┬─────────┬─────────┬────────┬─────────┬────────┬─────────┐\n",
       "│ impressi ┆ article ┆ read_ti ┆ scroll_ ┆ user_id ┆ is_sso_ ┆ gender ┆ postcod ┆ age    ┆ is_subs │\n",
       "│ on_id    ┆ _id     ┆ me      ┆ percent ┆ ---     ┆ user    ┆ ---    ┆ e       ┆ ---    ┆ criber  │\n",
       "│ ---      ┆ ---     ┆ ---     ┆ age     ┆ u32     ┆ ---     ┆ u32    ┆ ---     ┆ u32    ┆ ---     │\n",
       "│ u32      ┆ u32     ┆ u32     ┆ ---     ┆         ┆ u32     ┆        ┆ u32     ┆        ┆ u32     │\n",
       "│          ┆         ┆         ┆ u32     ┆         ┆         ┆        ┆         ┆        ┆         │\n",
       "╞══════════╪═════════╪═════════╪═════════╪═════════╪═════════╪════════╪═════════╪════════╪═════════╡\n",
       "│ 0        ┆ 162466  ┆ 0       ┆ 163789  ┆ 0       ┆ 0       ┆ 216668 ┆ 228214  ┆ 226546 ┆ 0       │\n",
       "└──────────┴─────────┴─────────┴─────────┴─────────┴─────────┴────────┴─────────┴────────┴─────────┘"
      ]
     },
     "execution_count": 59,
     "metadata": {},
     "output_type": "execute_result"
    }
   ],
   "source": [
    "print(train_behaviors_df.shape)\n",
    "train_behaviors_df.null_count()"
   ]
  },
  {
   "cell_type": "code",
   "execution_count": 60,
   "metadata": {},
   "outputs": [
    {
     "name": "stdout",
     "output_type": "stream",
     "text": [
      "(70421, 10)\n"
     ]
    },
    {
     "data": {
      "text/html": [
       "<div><style>\n",
       ".dataframe > thead > tr,\n",
       ".dataframe > tbody > tr {\n",
       "  text-align: right;\n",
       "  white-space: pre-wrap;\n",
       "}\n",
       "</style>\n",
       "<small>shape: (1, 10)</small><table border=\"1\" class=\"dataframe\"><thead><tr><th>impression_id</th><th>article_id</th><th>read_time</th><th>scroll_percentage</th><th>user_id</th><th>is_sso_user</th><th>gender</th><th>postcode</th><th>age</th><th>is_subscriber</th></tr><tr><td>u32</td><td>u32</td><td>u32</td><td>u32</td><td>u32</td><td>u32</td><td>u32</td><td>u32</td><td>u32</td><td>u32</td></tr></thead><tbody><tr><td>0</td><td>0</td><td>0</td><td>1780</td><td>0</td><td>0</td><td>65481</td><td>68785</td><td>67972</td><td>0</td></tr></tbody></table></div>"
      ],
      "text/plain": [
       "shape: (1, 10)\n",
       "┌──────────┬──────────┬─────────┬─────────┬─────────┬─────────┬────────┬─────────┬───────┬─────────┐\n",
       "│ impressi ┆ article_ ┆ read_ti ┆ scroll_ ┆ user_id ┆ is_sso_ ┆ gender ┆ postcod ┆ age   ┆ is_subs │\n",
       "│ on_id    ┆ id       ┆ me      ┆ percent ┆ ---     ┆ user    ┆ ---    ┆ e       ┆ ---   ┆ criber  │\n",
       "│ ---      ┆ ---      ┆ ---     ┆ age     ┆ u32     ┆ ---     ┆ u32    ┆ ---     ┆ u32   ┆ ---     │\n",
       "│ u32      ┆ u32      ┆ u32     ┆ ---     ┆         ┆ u32     ┆        ┆ u32     ┆       ┆ u32     │\n",
       "│          ┆          ┆         ┆ u32     ┆         ┆         ┆        ┆         ┆       ┆         │\n",
       "╞══════════╪══════════╪═════════╪═════════╪═════════╪═════════╪════════╪═════════╪═══════╪═════════╡\n",
       "│ 0        ┆ 0        ┆ 0       ┆ 1780    ┆ 0       ┆ 0       ┆ 65481  ┆ 68785   ┆ 67972 ┆ 0       │\n",
       "└──────────┴──────────┴─────────┴─────────┴─────────┴─────────┴────────┴─────────┴───────┴─────────┘"
      ]
     },
     "execution_count": 60,
     "metadata": {},
     "output_type": "execute_result"
    }
   ],
   "source": [
    "train_behaviors_df = train_behaviors_df.filter(train_behaviors_df[\"article_id\"].is_not_null())\n",
    "print(train_behaviors_df.shape)\n",
    "train_behaviors_df.null_count()"
   ]
  },
  {
   "cell_type": "markdown",
   "metadata": {},
   "source": [
    "We see that of 70421, are there between 65-68000 missing values for gender, postcode and age. We therefore remove these as there is no use subsidizing them"
   ]
  },
  {
   "cell_type": "code",
   "execution_count": 61,
   "metadata": {},
   "outputs": [
    {
     "name": "stdout",
     "output_type": "stream",
     "text": [
      "(70421, 7)\n"
     ]
    },
    {
     "data": {
      "text/html": [
       "<div><style>\n",
       ".dataframe > thead > tr,\n",
       ".dataframe > tbody > tr {\n",
       "  text-align: right;\n",
       "  white-space: pre-wrap;\n",
       "}\n",
       "</style>\n",
       "<small>shape: (1, 7)</small><table border=\"1\" class=\"dataframe\"><thead><tr><th>impression_id</th><th>article_id</th><th>read_time</th><th>scroll_percentage</th><th>user_id</th><th>is_sso_user</th><th>is_subscriber</th></tr><tr><td>u32</td><td>u32</td><td>u32</td><td>u32</td><td>u32</td><td>u32</td><td>u32</td></tr></thead><tbody><tr><td>0</td><td>0</td><td>0</td><td>1780</td><td>0</td><td>0</td><td>0</td></tr></tbody></table></div>"
      ],
      "text/plain": [
       "shape: (1, 7)\n",
       "┌───────────────┬────────────┬───────────┬─────────────────┬─────────┬─────────────┬───────────────┐\n",
       "│ impression_id ┆ article_id ┆ read_time ┆ scroll_percenta ┆ user_id ┆ is_sso_user ┆ is_subscriber │\n",
       "│ ---           ┆ ---        ┆ ---       ┆ ge              ┆ ---     ┆ ---         ┆ ---           │\n",
       "│ u32           ┆ u32        ┆ u32       ┆ ---             ┆ u32     ┆ u32         ┆ u32           │\n",
       "│               ┆            ┆           ┆ u32             ┆         ┆             ┆               │\n",
       "╞═══════════════╪════════════╪═══════════╪═════════════════╪═════════╪═════════════╪═══════════════╡\n",
       "│ 0             ┆ 0          ┆ 0         ┆ 1780            ┆ 0       ┆ 0           ┆ 0             │\n",
       "└───────────────┴────────────┴───────────┴─────────────────┴─────────┴─────────────┴───────────────┘"
      ]
     },
     "execution_count": 61,
     "metadata": {},
     "output_type": "execute_result"
    }
   ],
   "source": [
    "train_behaviors_df = train_behaviors_df.drop([\"gender\", \"postcode\", \"age\"])\n",
    "print(train_behaviors_df.shape)\n",
    "train_behaviors_df.null_count()"
   ]
  },
  {
   "cell_type": "markdown",
   "metadata": {},
   "source": [
    "We still see that 1780/70421 rows are missing a scroll percentage. As this is very low (<3%) we can easily replace this. Intitially we just set scroll to 0"
   ]
  },
  {
   "cell_type": "code",
   "execution_count": 62,
   "metadata": {},
   "outputs": [],
   "source": [
    "train_behaviors_df = train_behaviors_df.fill_null(strategy=\"zero\")"
   ]
  },
  {
   "cell_type": "markdown",
   "metadata": {},
   "source": [
    "### Account for multiple instances of the same article and user"
   ]
  },
  {
   "cell_type": "markdown",
   "metadata": {},
   "source": [
    "By checking rows where the user_id and article_id are the same we see that we have 9855 instances where the user has read the same article multiple times"
   ]
  },
  {
   "cell_type": "code",
   "execution_count": 63,
   "metadata": {},
   "outputs": [
    {
     "name": "stdout",
     "output_type": "stream",
     "text": [
      "shape: (9_855, 3)\n",
      "┌────────────┬─────────┬───────┐\n",
      "│ article_id ┆ user_id ┆ count │\n",
      "│ ---        ┆ ---     ┆ ---   │\n",
      "│ i32        ┆ u32     ┆ u32   │\n",
      "╞════════════╪═════════╪═══════╡\n",
      "│ 9772221    ┆ 662438  ┆ 2     │\n",
      "│ 9754160    ┆ 2586847 ┆ 6     │\n",
      "│ 9769559    ┆ 493059  ┆ 2     │\n",
      "│ 9772434    ┆ 1691324 ┆ 2     │\n",
      "│ 9772772    ┆ 129042  ┆ 2     │\n",
      "│ …          ┆ …       ┆ …     │\n",
      "│ 9771855    ┆ 2571721 ┆ 3     │\n",
      "│ 9778168    ┆ 1337330 ┆ 2     │\n",
      "│ 9771113    ┆ 1753557 ┆ 2     │\n",
      "│ 9774020    ┆ 975359  ┆ 2     │\n",
      "│ 9772000    ┆ 1695195 ┆ 4     │\n",
      "└────────────┴─────────┴───────┘\n"
     ]
    },
    {
     "name": "stderr",
     "output_type": "stream",
     "text": [
      "C:\\Users\\chris\\AppData\\Local\\Temp\\ipykernel_7544\\4233841252.py:1: DeprecationWarning: `GroupBy.count` is deprecated. It has been renamed to `len`.\n",
      "  duplicates = train_behaviors_df.group_by([\"article_id\", \"user_id\"]).count().filter(pl.col(\"count\") > 1)\n"
     ]
    }
   ],
   "source": [
    "duplicates = train_behaviors_df.group_by([\"article_id\", \"user_id\"]).count().filter(pl.col(\"count\") > 1)\n",
    "\n",
    "print(duplicates)"
   ]
  },
  {
   "cell_type": "markdown",
   "metadata": {},
   "source": [
    "We see that we need to combine these duplicate rows. We therefore propose that for multiple instances of the same article and user, we combine the readtime and select the largest scroll percentage. This way we can preserve the data without having duplicates"
   ]
  },
  {
   "cell_type": "code",
   "execution_count": null,
   "metadata": {},
   "outputs": [
    {
     "name": "stdout",
     "output_type": "stream",
     "text": [
      "shape: (53_349, 4)\n",
      "┌────────────┬─────────┬────────────────┬────────────┐\n",
      "│ article_id ┆ user_id ┆ total_readtime ┆ max_scroll │\n",
      "│ ---        ┆ ---     ┆ ---            ┆ ---        │\n",
      "│ i32        ┆ u32     ┆ f32            ┆ f32        │\n",
      "╞════════════╪═════════╪════════════════╪════════════╡\n",
      "│ 9777704    ┆ 1772988 ┆ 25.0           ┆ 0.0        │\n",
      "│ 9778682    ┆ 2102469 ┆ 77.0           ┆ 100.0      │\n",
      "│ 9770729    ┆ 614651  ┆ 184.0          ┆ 100.0      │\n",
      "│ 9772227    ┆ 1593008 ┆ 104.0          ┆ 100.0      │\n",
      "│ 9757574    ┆ 2348081 ┆ 384.0          ┆ 100.0      │\n",
      "│ …          ┆ …       ┆ …              ┆ …          │\n",
      "│ 9779629    ┆ 1539443 ┆ 11070.0        ┆ 100.0      │\n",
      "│ 9779748    ┆ 444211  ┆ 22.0           ┆ 100.0      │\n",
      "│ 9775776    ┆ 805231  ┆ 558.0          ┆ 100.0      │\n",
      "│ 9774648    ┆ 55600   ┆ 168.0          ┆ 100.0      │\n",
      "│ 9772632    ┆ 1081971 ┆ 56.0           ┆ 100.0      │\n",
      "└────────────┴─────────┴────────────────┴────────────┘\n"
     ]
    }
   ],
   "source": [
    "aggregated_df = (\n",
    "    train_behaviors_df\n",
    "    .group_by([\"article_id\", \"user_id\"])\n",
    "    .agg(\n",
    "        pl.col(\"read_time\").product().alias(\"total_readtime\"),  # Multiply all readtime values\n",
    "        pl.col(\"scroll_percentage\").max().alias(\"max_scroll\")  # Select the largest scroll percentage\n",
    "    )\n",
    ")\n",
    "\n",
    "print(aggregated_df)"
   ]
  },
  {
   "cell_type": "markdown",
   "metadata": {},
   "source": [
    "## Model Fit"
   ]
  },
  {
   "cell_type": "code",
   "execution_count": 65,
   "metadata": {},
   "outputs": [
    {
     "ename": "ComputeError",
     "evalue": "found multiple elements in the same group, please specify an aggregation function",
     "output_type": "error",
     "traceback": [
      "\u001b[1;31m---------------------------------------------------------------------------\u001b[0m",
      "\u001b[1;31mComputeError\u001b[0m                              Traceback (most recent call last)",
      "Cell \u001b[1;32mIn[65], line 2\u001b[0m\n\u001b[0;32m      1\u001b[0m recommender \u001b[38;5;241m=\u001b[39m CollaborativeRecommender(train_behaviors_df)\n\u001b[1;32m----> 2\u001b[0m \u001b[43mrecommender\u001b[49m\u001b[38;5;241;43m.\u001b[39;49m\u001b[43mfit\u001b[49m\u001b[43m(\u001b[49m\u001b[43m)\u001b[49m\n",
      "File \u001b[1;32mc:\\Users\\chris\\Desktop\\NTNU Ting\\8. Semester\\Anbefalingssystemer\\Project\\TDT4215\\recommender_system\\models\\user_based.py:109\u001b[0m, in \u001b[0;36mCollaborativeRecommender.fit\u001b[1;34m(self)\u001b[0m\n\u001b[0;32m    100\u001b[0m \u001b[38;5;250m\u001b[39m\u001b[38;5;124;03m'''\u001b[39;00m\n\u001b[0;32m    101\u001b[0m \u001b[38;5;124;03mFits the Collaborative Recommender model by building the user similarity matrix.\u001b[39;00m\n\u001b[0;32m    102\u001b[0m \n\u001b[1;32m   (...)\u001b[0m\n\u001b[0;32m    106\u001b[0m \u001b[38;5;124;03m    The user-user similarity matrix.\u001b[39;00m\n\u001b[0;32m    107\u001b[0m \u001b[38;5;124;03m'''\u001b[39;00m\n\u001b[0;32m    108\u001b[0m \u001b[38;5;28mself\u001b[39m\u001b[38;5;241m.\u001b[39madd_impression_scores()\n\u001b[1;32m--> 109\u001b[0m \u001b[38;5;28;01mreturn\u001b[39;00m \u001b[38;5;28;43mself\u001b[39;49m\u001b[38;5;241;43m.\u001b[39;49m\u001b[43mbuild_user_similarity_matrix\u001b[49m\u001b[43m(\u001b[49m\u001b[43m)\u001b[49m\n",
      "File \u001b[1;32mc:\\Users\\chris\\Desktop\\NTNU Ting\\8. Semester\\Anbefalingssystemer\\Project\\TDT4215\\recommender_system\\models\\user_based.py:75\u001b[0m, in \u001b[0;36mCollaborativeRecommender.build_user_similarity_matrix\u001b[1;34m(self, sim_size)\u001b[0m\n\u001b[0;32m     67\u001b[0m \u001b[38;5;250m\u001b[39m\u001b[38;5;124;03m'''\u001b[39;00m\n\u001b[0;32m     68\u001b[0m \u001b[38;5;124;03mBuilds a user similarity matrix using cosine similarity based on impression scores.\u001b[39;00m\n\u001b[0;32m     69\u001b[0m \u001b[38;5;124;03mEach user contains the `sim_size` most similar users, sorted by similarity.\u001b[39;00m\n\u001b[1;32m   (...)\u001b[0m\n\u001b[0;32m     72\u001b[0m \u001b[38;5;124;03mand the values in the lists are `sim_size` instances of the most similar users, sorted by similarity.\u001b[39;00m\n\u001b[0;32m     73\u001b[0m \u001b[38;5;124;03m'''\u001b[39;00m\n\u001b[0;32m     74\u001b[0m \u001b[38;5;66;03m# Pivot to create user-item matrix\u001b[39;00m\n\u001b[1;32m---> 75\u001b[0m user_item_matrix \u001b[38;5;241m=\u001b[39m \u001b[38;5;28;43mself\u001b[39;49m\u001b[38;5;241;43m.\u001b[39;49m\u001b[43mimpressions\u001b[49m\u001b[38;5;241;43m.\u001b[39;49m\u001b[43mpivot\u001b[49m\u001b[43m(\u001b[49m\n\u001b[0;32m     76\u001b[0m \u001b[43m    \u001b[49m\u001b[43mvalues\u001b[49m\u001b[38;5;241;43m=\u001b[39;49m\u001b[38;5;124;43m\"\u001b[39;49m\u001b[38;5;124;43mimpression_score\u001b[39;49m\u001b[38;5;124;43m\"\u001b[39;49m\u001b[43m,\u001b[49m\n\u001b[0;32m     77\u001b[0m \u001b[43m    \u001b[49m\u001b[43mindex\u001b[49m\u001b[38;5;241;43m=\u001b[39;49m\u001b[38;5;124;43m\"\u001b[39;49m\u001b[38;5;124;43muser_id\u001b[39;49m\u001b[38;5;124;43m\"\u001b[39;49m\u001b[43m,\u001b[49m\n\u001b[0;32m     78\u001b[0m \u001b[43m    \u001b[49m\u001b[43mcolumns\u001b[49m\u001b[38;5;241;43m=\u001b[39;49m\u001b[38;5;124;43m\"\u001b[39;49m\u001b[38;5;124;43marticle_id\u001b[39;49m\u001b[38;5;124;43m\"\u001b[39;49m\n\u001b[0;32m     79\u001b[0m \u001b[43m\u001b[49m\u001b[43m)\u001b[49m\u001b[38;5;241m.\u001b[39mfill_null(\u001b[38;5;241m0\u001b[39m)  \u001b[38;5;66;03m# Replace NaNs with 0\u001b[39;00m\n\u001b[0;32m     81\u001b[0m user_ids \u001b[38;5;241m=\u001b[39m user_item_matrix[\u001b[38;5;124m\"\u001b[39m\u001b[38;5;124muser_id\u001b[39m\u001b[38;5;124m\"\u001b[39m]\u001b[38;5;241m.\u001b[39mto_list()\n\u001b[0;32m     82\u001b[0m user_vectors \u001b[38;5;241m=\u001b[39m user_item_matrix\u001b[38;5;241m.\u001b[39mdrop(\u001b[38;5;124m\"\u001b[39m\u001b[38;5;124muser_id\u001b[39m\u001b[38;5;124m\"\u001b[39m)\u001b[38;5;241m.\u001b[39mto_numpy()\n",
      "File \u001b[1;32mc:\\Users\\chris\\Desktop\\NTNU Ting\\8. Semester\\Anbefalingssystemer\\Project\\TDT4215\\venv\\Lib\\site-packages\\polars\\_utils\\deprecation.py:92\u001b[0m, in \u001b[0;36mdeprecate_renamed_parameter.<locals>.decorate.<locals>.wrapper\u001b[1;34m(*args, **kwargs)\u001b[0m\n\u001b[0;32m     87\u001b[0m \u001b[38;5;129m@wraps\u001b[39m(function)\n\u001b[0;32m     88\u001b[0m \u001b[38;5;28;01mdef\u001b[39;00m\u001b[38;5;250m \u001b[39m\u001b[38;5;21mwrapper\u001b[39m(\u001b[38;5;241m*\u001b[39margs: P\u001b[38;5;241m.\u001b[39margs, \u001b[38;5;241m*\u001b[39m\u001b[38;5;241m*\u001b[39mkwargs: P\u001b[38;5;241m.\u001b[39mkwargs) \u001b[38;5;241m-\u001b[39m\u001b[38;5;241m>\u001b[39m T:\n\u001b[0;32m     89\u001b[0m     _rename_keyword_argument(\n\u001b[0;32m     90\u001b[0m         old_name, new_name, kwargs, function\u001b[38;5;241m.\u001b[39m\u001b[38;5;18m__qualname__\u001b[39m, version\n\u001b[0;32m     91\u001b[0m     )\n\u001b[1;32m---> 92\u001b[0m     \u001b[38;5;28;01mreturn\u001b[39;00m \u001b[43mfunction\u001b[49m\u001b[43m(\u001b[49m\u001b[38;5;241;43m*\u001b[39;49m\u001b[43margs\u001b[49m\u001b[43m,\u001b[49m\u001b[43m \u001b[49m\u001b[38;5;241;43m*\u001b[39;49m\u001b[38;5;241;43m*\u001b[39;49m\u001b[43mkwargs\u001b[49m\u001b[43m)\u001b[49m\n",
      "File \u001b[1;32mc:\\Users\\chris\\Desktop\\NTNU Ting\\8. Semester\\Anbefalingssystemer\\Project\\TDT4215\\venv\\Lib\\site-packages\\polars\\dataframe\\frame.py:8734\u001b[0m, in \u001b[0;36mDataFrame.pivot\u001b[1;34m(self, on, index, values, aggregate_function, maintain_order, sort_columns, separator)\u001b[0m\n\u001b[0;32m   8730\u001b[0m \u001b[38;5;28;01melse\u001b[39;00m:\n\u001b[0;32m   8731\u001b[0m     aggregate_expr \u001b[38;5;241m=\u001b[39m aggregate_function\u001b[38;5;241m.\u001b[39m_pyexpr\n\u001b[0;32m   8733\u001b[0m \u001b[38;5;28;01mreturn\u001b[39;00m \u001b[38;5;28mself\u001b[39m\u001b[38;5;241m.\u001b[39m_from_pydf(\n\u001b[1;32m-> 8734\u001b[0m     \u001b[38;5;28;43mself\u001b[39;49m\u001b[38;5;241;43m.\u001b[39;49m\u001b[43m_df\u001b[49m\u001b[38;5;241;43m.\u001b[39;49m\u001b[43mpivot_expr\u001b[49m\u001b[43m(\u001b[49m\n\u001b[0;32m   8735\u001b[0m \u001b[43m        \u001b[49m\u001b[43mon\u001b[49m\u001b[43m,\u001b[49m\n\u001b[0;32m   8736\u001b[0m \u001b[43m        \u001b[49m\u001b[43mindex\u001b[49m\u001b[43m,\u001b[49m\n\u001b[0;32m   8737\u001b[0m \u001b[43m        \u001b[49m\u001b[43mvalues\u001b[49m\u001b[43m,\u001b[49m\n\u001b[0;32m   8738\u001b[0m \u001b[43m        \u001b[49m\u001b[43mmaintain_order\u001b[49m\u001b[43m,\u001b[49m\n\u001b[0;32m   8739\u001b[0m \u001b[43m        \u001b[49m\u001b[43msort_columns\u001b[49m\u001b[43m,\u001b[49m\n\u001b[0;32m   8740\u001b[0m \u001b[43m        \u001b[49m\u001b[43maggregate_expr\u001b[49m\u001b[43m,\u001b[49m\n\u001b[0;32m   8741\u001b[0m \u001b[43m        \u001b[49m\u001b[43mseparator\u001b[49m\u001b[43m,\u001b[49m\n\u001b[0;32m   8742\u001b[0m \u001b[43m    \u001b[49m\u001b[43m)\u001b[49m\n\u001b[0;32m   8743\u001b[0m )\n",
      "\u001b[1;31mComputeError\u001b[0m: found multiple elements in the same group, please specify an aggregation function"
     ]
    }
   ],
   "source": [
    "recommender = CollaborativeRecommender(train_behaviors_df)\n",
    "recommender.fit()"
   ]
  },
  {
   "cell_type": "markdown",
   "metadata": {},
   "source": [
    "## Model presentation"
   ]
  },
  {
   "cell_type": "code",
   "execution_count": null,
   "metadata": {},
   "outputs": [
    {
     "data": {
      "text/plain": [
       "[]"
      ]
     },
     "execution_count": 15,
     "metadata": {},
     "output_type": "execute_result"
    }
   ],
   "source": [
    "recommender.recommend_n_articles(user_id=13538, n=5)"
   ]
  }
 ],
 "metadata": {
  "kernelspec": {
   "display_name": "venv",
   "language": "python",
   "name": "python3"
  },
  "language_info": {
   "codemirror_mode": {
    "name": "ipython",
    "version": 3
   },
   "file_extension": ".py",
   "mimetype": "text/x-python",
   "name": "python",
   "nbconvert_exporter": "python",
   "pygments_lexer": "ipython3",
   "version": "3.11.1"
  }
 },
 "nbformat": 4,
 "nbformat_minor": 2
}
