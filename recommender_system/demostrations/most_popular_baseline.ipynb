{
 "cells": [
  {
   "cell_type": "code",
   "execution_count": 6,
   "metadata": {},
   "outputs": [],
   "source": [
    "import sys\n",
    "import os\n",
    "\n",
    "parent_dir = os.path.abspath(os.path.join(os.getcwd(), \"..\"))\n",
    "sys.path.append(parent_dir)\n",
    "from parquet_data_reader import ParquetDataReader\n",
    "from models.most_popular import MostPopularRecommender\n",
    "\n",
    "import polars as pl\n",
    "pl.Config.set_tbl_cols(-1)\n",
    "import numpy as np\n",
    "parquet_reader = ParquetDataReader()"
   ]
  },
  {
   "cell_type": "code",
   "execution_count": 7,
   "metadata": {},
   "outputs": [
    {
     "name": "stdout",
     "output_type": "stream",
     "text": [
      "Random Split:\n",
      "Train shape: (99553, 17)\n",
      "Test shape: (42603, 17)\n",
      "\n",
      "Time-based Split:\n",
      "Train shape: (99510, 17)\n",
      "Test shape: (42646, 17)\n"
     ]
    }
   ],
   "source": [
    "import polars as pl\n",
    "from utils.baseline_processing import process_behavior_data, random_split, time_based_split\n",
    "\n",
    "train_behavior_df = parquet_reader.read_data(\"../../data/train/behaviors.parquet\")\n",
    "test_behaviours_df = parquet_reader.read_data('../../data/validation/behaviors.parquet')\n",
    "\n",
    "# Processes the data\n",
    "combined_df = process_behavior_data(train_behavior_df, test_behaviours_df)\n",
    "\n",
    "# ----- Method 1: Random Split -----\n",
    "train_random, test_random = random_split(combined_df, test_ratio=0.30)\n",
    "print(\"Random Split:\")\n",
    "print(\"Train shape:\", train_random.shape)\n",
    "print(\"Test shape:\", test_random.shape)\n",
    "\n",
    "# ----- Method 2: Time-based Split -----\n",
    "train_time, test_time = time_based_split(combined_df, test_ratio=0.30)\n",
    "print(\"\\nTime-based Split:\")\n",
    "print(\"Train shape:\", train_time.shape)\n",
    "print(\"Test shape:\", test_time.shape)"
   ]
  },
  {
   "cell_type": "code",
   "execution_count": 8,
   "metadata": {},
   "outputs": [
    {
     "name": "stdout",
     "output_type": "stream",
     "text": [
      "Recommendations for user 151570:\n",
      "shape: (5,)\n",
      "Series: 'article_ids_clicked' [i32]\n",
      "[\n",
      "\t9778939\n",
      "\t9771113\n",
      "\t9771627\n",
      "\t9780476\n",
      "\t9784275\n",
      "]\n"
     ]
    }
   ],
   "source": [
    "# Creates a recommender and fits it to the training data split using the random split method\n",
    "recommender = MostPopularRecommender(behaviors=train_random)\n",
    "recommender.fit()\n",
    "\n",
    "user_id_test = 151570\n",
    "recommendations = recommender.recommend(user_id=user_id_test, n=5)\n",
    "\n",
    "print(f\"Recommendations for user {user_id_test}:\")\n",
    "print(recommendations)"
   ]
  },
  {
   "cell_type": "code",
   "execution_count": 9,
   "metadata": {},
   "outputs": [
    {
     "name": "stdout",
     "output_type": "stream",
     "text": [
      "Recommendations for user 151570:\n",
      "shape: (5,)\n",
      "Series: 'article_ids_clicked' [i32]\n",
      "[\n",
      "\t9778939\n",
      "\t9780476\n",
      "\t9784275\n",
      "\t9782407\n",
      "\t9784575\n",
      "]\n"
     ]
    }
   ],
   "source": [
    "# Creates a recommender and fits it to the training data split using the time split method\n",
    "recommender2 = MostPopularRecommender(behaviors=train_time)\n",
    "recommender2.fit()\n",
    "\n",
    "recommendations2 = recommender2.recommend(user_id=user_id_test, n=5)\n",
    "\n",
    "print(f\"Recommendations for user {user_id_test}:\")\n",
    "print(recommendations2)"
   ]
  },
  {
   "cell_type": "code",
   "execution_count": 10,
   "metadata": {},
   "outputs": [
    {
     "name": "stdout",
     "output_type": "stream",
     "text": [
      "\n",
      "Evaluation metrics (precision and recall at k):\n",
      "{'precision': np.float64(0.004716563330380869), 'recall': np.float64(0.005124220064362677), 'fpr': np.float64(0.0021657048715433068)}\n",
      "\n",
      "Evaluation metrics (precision and recall at k):\n",
      "{'precision': np.float64(0.0), 'recall': np.float64(0.0), 'fpr': np.float64(0.004364920095457822)}\n"
     ]
    }
   ],
   "source": [
    "from utils.evaluation import evaluate_recommender\n",
    "\n",
    "# Evaluates the recommender using the same data as test data\n",
    "metrics = evaluate_recommender(recommender, test_data=test_random, k=5)\n",
    "print(\"\\nEvaluation metrics (precision and recall at k):\")\n",
    "print(metrics)\n",
    "\n",
    "\n",
    "# Evaluates the recommender using the same data as test data\n",
    "metrics2 = evaluate_recommender(recommender2, test_data=test_time, k=5)\n",
    "print(\"\\nEvaluation metrics (precision and recall at k):\")\n",
    "print(metrics2)\n"
   ]
  }
 ],
 "metadata": {
  "kernelspec": {
   "display_name": "venv",
   "language": "python",
   "name": "python3"
  },
  "language_info": {
   "codemirror_mode": {
    "name": "ipython",
    "version": 3
   },
   "file_extension": ".py",
   "mimetype": "text/x-python",
   "name": "python",
   "nbconvert_exporter": "python",
   "pygments_lexer": "ipython3",
   "version": "3.11.9"
  }
 },
 "nbformat": 4,
 "nbformat_minor": 2
}
