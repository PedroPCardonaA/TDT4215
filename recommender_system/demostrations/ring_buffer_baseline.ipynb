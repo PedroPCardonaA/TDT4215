{
 "cells": [
  {
   "cell_type": "code",
   "execution_count": 10,
   "metadata": {},
   "outputs": [],
   "source": [
    "import sys\n",
    "import os\n",
    "\n",
    "parent_dir = os.path.abspath(os.path.join(os.getcwd(), \"..\"))\n",
    "sys.path.append(parent_dir)\n",
    "from parquet_data_reader import ParquetDataReader\n",
    "from models.ring_buffer_baseline import RingBufferBaseline\n",
    "\n",
    "\n",
    "import polars as pl\n",
    "pl.Config.set_tbl_cols(-1)\n",
    "import numpy as np\n",
    "parquet_reader = ParquetDataReader()"
   ]
  },
  {
   "cell_type": "code",
   "execution_count": 11,
   "metadata": {},
   "outputs": [
    {
     "data": {
      "text/plain": [
       "(70617, 17)"
      ]
     },
     "execution_count": 11,
     "metadata": {},
     "output_type": "execute_result"
    }
   ],
   "source": [
    "train_behavior_df = parquet_reader.read_data(\"../../data/train/behaviors.parquet\")\n",
    "processed_behavior_df = train_behavior_df.explode(\"article_ids_clicked\")\n",
    "processed_behavior_df = processed_behavior_df.filter(pl.col(\"article_ids_clicked\").is_not_null())\n",
    "processed_behavior_df = processed_behavior_df.filter(pl.col(\"article_id\").is_not_null()) # TODO: IMPORTANT\n",
    "processed_behavior_df.shape"
   ]
  },
  {
   "cell_type": "code",
   "execution_count": 12,
   "metadata": {},
   "outputs": [
    {
     "name": "stdout",
     "output_type": "stream",
     "text": [
      "Recommendations for user 151571:\n",
      "[9771042, 9769650, 9770882, 9770541, 9767697]\n"
     ]
    },
    {
     "data": {
      "text/plain": [
       "'Recommendations for user 151570:\\n[9770989, 9770538, 9771042, 9771042, 9767697]'"
      ]
     },
     "execution_count": 12,
     "metadata": {},
     "output_type": "execute_result"
    }
   ],
   "source": [
    "recommender = RingBufferBaseline(behaviors=processed_behavior_df)\n",
    "recommender.fit()\n",
    "\n",
    "user_id_test = 151571\n",
    "recommendations = recommender.recommend(user_id=user_id_test, n=5)\n",
    "# Prints the recommended articles and the user id\n",
    "# Recommendations for user X\n",
    "print(f\"Recommendations for user {user_id_test}:\")\n",
    "print(recommendations)\n",
    "\n",
    "\"\"\"Recommendations for user 151570:\n",
    "[9770989, 9770538, 9771042, 9771042, 9767697]\"\"\"\n"
   ]
  }
 ],
 "metadata": {
  "kernelspec": {
   "display_name": "venv",
   "language": "python",
   "name": "python3"
  },
  "language_info": {
   "codemirror_mode": {
    "name": "ipython",
    "version": 3
   },
   "file_extension": ".py",
   "mimetype": "text/x-python",
   "name": "python",
   "nbconvert_exporter": "python",
   "pygments_lexer": "ipython3",
   "version": "3.11.9"
  }
 },
 "nbformat": 4,
 "nbformat_minor": 2
}
