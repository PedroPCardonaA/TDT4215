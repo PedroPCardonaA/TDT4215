{
 "cells": [
  {
   "cell_type": "code",
   "execution_count": 11,
   "metadata": {},
   "outputs": [],
   "source": [
    "import sys\n",
    "import os\n",
    "\n",
    "parent_dir = os.path.abspath(os.path.join(os.getcwd(), \"..\"))\n",
    "sys.path.append(parent_dir)\n",
    "from parquet_data_reader import ParquetDataReader\n",
    "from models.ring_buffer_baseline import RingBufferBaseline\n",
    "\n",
    "\n",
    "import polars as pl\n",
    "pl.Config.set_tbl_cols(-1)\n",
    "import numpy as np\n",
    "parquet_reader = ParquetDataReader()"
   ]
  },
  {
   "cell_type": "code",
   "execution_count": 12,
   "metadata": {},
   "outputs": [
    {
     "name": "stdout",
     "output_type": "stream",
     "text": [
      "Random Split:\n",
      "Train shape: (99739, 17)\n",
      "Test shape: (42417, 17)\n",
      "\n",
      "Time-based Split:\n",
      "Train shape: (99510, 17)\n",
      "Test shape: (42646, 17)\n"
     ]
    }
   ],
   "source": [
    "import polars as pl\n",
    "import numpy as np\n",
    "\n",
    "# Read the parquet data.\n",
    "train_behavior_df = parquet_reader.read_data(\"../../data/train/behaviors.parquet\")\n",
    "test_behaviours_df = parquet_reader.read_data('../../data/validation/behaviors.parquet')\n",
    "\n",
    "# Process the training data.\n",
    "processed_train_behavior_df = train_behavior_df.explode(\"article_ids_clicked\")\n",
    "processed_train_behavior_df = processed_train_behavior_df.filter(pl.col(\"article_ids_clicked\").is_not_null())\n",
    "processed_train_behavior_df = processed_train_behavior_df.filter(pl.col(\"article_id\").is_not_null())  # TODO: IMPORTANT\n",
    "\n",
    "# Process the testing data.\n",
    "processed_test_behaviours_df = test_behaviours_df.explode(\"article_ids_clicked\")\n",
    "processed_test_behaviours_df = processed_test_behaviours_df.filter(pl.col(\"article_ids_clicked\").is_not_null())\n",
    "processed_test_behaviours_df = processed_test_behaviours_df.filter(pl.col(\"article_id\").is_not_null())\n",
    "\n",
    "# Concatenate processed training and testing data.\n",
    "combined_df = pl.concat([processed_train_behavior_df, processed_test_behaviours_df])\n",
    "\n",
    "# ----- Method 1: Random Split -----\n",
    "n = combined_df.height  # Total number of rows\n",
    "test_mask = np.random.rand(n) < 0.30  # 30% test, 70% train\n",
    "\n",
    "# Apply the mask.\n",
    "test_random = combined_df.filter(test_mask)\n",
    "train_random = combined_df.filter(~test_mask)\n",
    "\n",
    "print(\"Random Split:\")\n",
    "print(\"Train shape:\", train_random.shape)\n",
    "print(\"Test shape:\", test_random.shape)\n",
    "\n",
    "\n",
    "# ----- Method 2: Time-based Split -----\n",
    "# Sort the combined DataFrame by impression_time and a secondary key (impression_id)\n",
    "combined_df_time = combined_df.sort([\"impression_time\", \"impression_id\"])\n",
    "\n",
    "# Compute the number of rows for the test set (30% of the data).\n",
    "n_total = combined_df_time.height\n",
    "n_test = int(n_total * 0.30)\n",
    "\n",
    "# Split the DataFrame based on time:\n",
    "# - Test: the oldest 30% interactions.\n",
    "# - Train: the newest 70% interactions.\n",
    "test_time = combined_df_time.head(n_test)\n",
    "train_time = combined_df_time.tail(n_total - n_test)\n",
    "\n",
    "print(\"\\nTime-based Split:\")\n",
    "print(\"Train shape:\", train_time.shape)\n",
    "print(\"Test shape:\", test_time.shape)\n"
   ]
  },
  {
   "cell_type": "code",
   "execution_count": 13,
   "metadata": {},
   "outputs": [
    {
     "name": "stdout",
     "output_type": "stream",
     "text": [
      "Recommendations for user 151570:\n",
      "[9770989, 9771042, 9770882, 9769650, 9771042]\n"
     ]
    }
   ],
   "source": [
    "recommender = RingBufferBaseline(behaviors=train_random)\n",
    "recommender.fit()\n",
    "\n",
    "user_id_test = 151570\n",
    "recommendations = recommender.recommend(user_id=user_id_test, n=5)\n",
    "# Prints the recommended articles and the user id\n",
    "# Recommendations for user X\n",
    "print(f\"Recommendations for user {user_id_test}:\")\n",
    "print(recommendations)\n"
   ]
  },
  {
   "cell_type": "code",
   "execution_count": 14,
   "metadata": {},
   "outputs": [
    {
     "name": "stdout",
     "output_type": "stream",
     "text": [
      "Recommendations for user 151570:\n",
      "[9770989, 9771042, 9770882, 9769650, 9771042]\n"
     ]
    }
   ],
   "source": [
    "recommender2 = RingBufferBaseline(behaviors=train_time)\n",
    "recommender2.fit()\n",
    "\n",
    "user_id_test2 = 151570\n",
    "recommendations2 = recommender.recommend(user_id=user_id_test2, n=5)\n",
    "# Prints the recommended articles and the user id\n",
    "# Recommendations for user X\n",
    "print(f\"Recommendations for user {user_id_test2}:\")\n",
    "print(recommendations2)"
   ]
  },
  {
   "cell_type": "code",
   "execution_count": 15,
   "metadata": {},
   "outputs": [
    {
     "name": "stdout",
     "output_type": "stream",
     "text": [
      "\n",
      "Evaluation metrics (precision and recall at k):\n",
      "{'precision': np.float64(0.0015333333333333332), 'recall': np.float64(0.0015454534325243274), 'fpr': np.float64(0.002176436721272252)}\n",
      "\n",
      "Evaluation metrics (precision and recall at k):\n",
      "{'precision': np.float64(0.014185981569394024), 'recall': np.float64(0.022623360242550565), 'fpr': np.float64(0.00430274981628095)}\n"
     ]
    }
   ],
   "source": [
    "# Evaluate the recommender using the same data as test data.\n",
    "metrics = recommender.evaluate(test_data=test_random, k=5)\n",
    "print(\"\\nEvaluation metrics (precision and recall at k):\")\n",
    "print(metrics)\n",
    "\n",
    "\n",
    "# Evaluate the recommender using the same data as test data.\n",
    "metrics2 = recommender2.evaluate(test_data=test_time, k=5)\n",
    "print(\"\\nEvaluation metrics (precision and recall at k):\")\n",
    "print(metrics2)\n"
   ]
  }
 ],
 "metadata": {
  "kernelspec": {
   "display_name": "venv",
   "language": "python",
   "name": "python3"
  },
  "language_info": {
   "codemirror_mode": {
    "name": "ipython",
    "version": 3
   },
   "file_extension": ".py",
   "mimetype": "text/x-python",
   "name": "python",
   "nbconvert_exporter": "python",
   "pygments_lexer": "ipython3",
   "version": "3.11.9"
  }
 },
 "nbformat": 4,
 "nbformat_minor": 2
}
