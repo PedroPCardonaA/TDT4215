{
 "cells": [
  {
   "cell_type": "markdown",
   "metadata": {},
   "source": [
    "## Simple Tool to Track Code Emissions\n",
    "This library allows for recording of emissions used by a function."
   ]
  },
  {
   "cell_type": "code",
   "execution_count": 1,
   "metadata": {},
   "outputs": [
    {
     "name": "stderr",
     "output_type": "stream",
     "text": [
      "[codecarbon INFO @ 11:48:34] [setup] RAM Tracking...\n",
      "[codecarbon INFO @ 11:48:34] [setup] CPU Tracking...\n",
      "[codecarbon WARNING @ 11:48:34] No CPU tracking mode found. Falling back on CPU constant mode. \n",
      " Windows OS detected: Please install Intel Power Gadget to measure CPU\n",
      "\n",
      "[codecarbon WARNING @ 11:48:35] We saw that you have a 13th Gen Intel(R) Core(TM) i7-13700H but we don't know it. Please contact us.\n",
      "[codecarbon INFO @ 11:48:35] CPU Model on constant consumption mode: 13th Gen Intel(R) Core(TM) i7-13700H\n",
      "[codecarbon INFO @ 11:48:35] [setup] GPU Tracking...\n",
      "[codecarbon INFO @ 11:48:35] No GPU found.\n",
      "[codecarbon INFO @ 11:48:35] >>> Tracker's metadata:\n",
      "[codecarbon INFO @ 11:48:35]   Platform system: Windows-10-10.0.26100-SP0\n",
      "[codecarbon INFO @ 11:48:35]   Python version: 3.11.9\n",
      "[codecarbon INFO @ 11:48:35]   CodeCarbon version: 2.8.3\n",
      "[codecarbon INFO @ 11:48:35]   Available RAM : 15.731 GB\n",
      "[codecarbon INFO @ 11:48:35]   CPU count: 20\n",
      "[codecarbon INFO @ 11:48:35]   CPU model: 13th Gen Intel(R) Core(TM) i7-13700H\n",
      "[codecarbon INFO @ 11:48:35]   GPU count: None\n",
      "[codecarbon INFO @ 11:48:35]   GPU model: None\n",
      "[codecarbon INFO @ 11:48:39] Saving emissions data to file c:\\Users\\magnu\\NewDesk\\An.sys\\TDT4215\\recommender_system\\demostrations\\output\\emission.csv\n",
      "[codecarbon INFO @ 11:48:46] Energy consumed for RAM : 0.000012 kWh. RAM Power : 5.899243354797363 W\n",
      "[codecarbon INFO @ 11:48:46] Energy consumed for all CPUs : 0.000088 kWh. Total CPU Power : 42.5 W\n",
      "[codecarbon INFO @ 11:48:46] 0.000100 kWh of electricity used since the beginning.\n"
     ]
    },
    {
     "name": "stdout",
     "output_type": "stream",
     "text": [
      "Emissions: 3.0142602297869022e-06 kgCO2e\n"
     ]
    },
    {
     "name": "stderr",
     "output_type": "stream",
     "text": [
      "c:\\Users\\magnu\\NewDesk\\An.sys\\TDT4215\\venv\\Lib\\site-packages\\codecarbon\\output_methods\\file.py:52: FutureWarning: The behavior of DataFrame concatenation with empty or all-NA entries is deprecated. In a future version, this will no longer exclude empty or all-NA columns when determining the result dtypes. To retain the old behavior, exclude the relevant entries before the concat operation.\n",
      "  df = pd.concat([df, pd.DataFrame.from_records([dict(total.values)])])\n"
     ]
    }
   ],
   "source": [
    "import sys\n",
    "import os\n",
    "\n",
    "parent_dir = os.path.abspath(os.path.join(os.getcwd(), \"..\"))\n",
    "sys.path.append(parent_dir)\n",
    "\n",
    "from utils.evaluation import record_carbon_footprint\n",
    "\n",
    "def sample_workload():\n",
    "    for _ in range(1000000):\n",
    "        _ = sum([i**2 for i in range(100)])\n",
    "\n",
    "result, emissions = record_carbon_footprint(sample_workload)\n",
    "print(f\"Emissions: {emissions} kgCO2e\")\n"
   ]
  },
  {
   "cell_type": "code",
   "execution_count": null,
   "metadata": {},
   "outputs": [],
   "source": []
  }
 ],
 "metadata": {
  "kernelspec": {
   "display_name": "venv",
   "language": "python",
   "name": "python3"
  },
  "language_info": {
   "codemirror_mode": {
    "name": "ipython",
    "version": 3
   },
   "file_extension": ".py",
   "mimetype": "text/x-python",
   "name": "python",
   "nbconvert_exporter": "python",
   "pygments_lexer": "ipython3",
   "version": "3.11.9"
  }
 },
 "nbformat": 4,
 "nbformat_minor": 2
}
