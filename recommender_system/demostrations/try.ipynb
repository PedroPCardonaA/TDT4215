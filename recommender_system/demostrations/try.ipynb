{
 "cells": [
  {
   "cell_type": "code",
   "execution_count": 9,
   "metadata": {},
   "outputs": [
    {
     "name": "stderr",
     "output_type": "stream",
     "text": [
      "[codecarbon INFO @ 15:37:05] [setup] RAM Tracking...\n",
      "[codecarbon INFO @ 15:37:05] [setup] CPU Tracking...\n",
      "[codecarbon WARNING @ 15:37:05] No CPU tracking mode found. Falling back on CPU constant mode. \n",
      " Linux OS detected: Please ensure RAPL files exist at \\sys\\class\\powercap\\intel-rapl to measure CPU\n",
      "\n",
      "[codecarbon WARNING @ 15:37:06] We saw that you have a 13th Gen Intel(R) Core(TM) i7-1370P but we don't know it. Please contact us.\n",
      "[codecarbon INFO @ 15:37:06] CPU Model on constant consumption mode: 13th Gen Intel(R) Core(TM) i7-1370P\n",
      "[codecarbon INFO @ 15:37:06] [setup] GPU Tracking...\n",
      "[codecarbon INFO @ 15:37:06] No GPU found.\n",
      "[codecarbon INFO @ 15:37:06] >>> Tracker's metadata:\n",
      "[codecarbon INFO @ 15:37:06]   Platform system: Linux-6.12.12-2-MANJARO-x86_64-with-glibc2.41\n",
      "[codecarbon INFO @ 15:37:06]   Python version: 3.13.1\n",
      "[codecarbon INFO @ 15:37:06]   CodeCarbon version: 2.8.3\n",
      "[codecarbon INFO @ 15:37:06]   Available RAM : 62.395 GB\n",
      "[codecarbon INFO @ 15:37:06]   CPU count: 20\n",
      "[codecarbon INFO @ 15:37:06]   CPU model: 13th Gen Intel(R) Core(TM) i7-1370P\n",
      "[codecarbon INFO @ 15:37:06]   GPU count: None\n",
      "[codecarbon INFO @ 15:37:06]   GPU model: None\n",
      "[codecarbon INFO @ 15:37:09] Saving emissions data to file /home/pedropca/Documents/Datatek/Recommender systems/TDT4215/recommender_system/demostrations/emissions.csv\n",
      "[codecarbon INFO @ 15:37:22] Energy consumed for RAM : 0.000086 kWh. RAM Power : 23.398037910461426 W\n",
      "[codecarbon INFO @ 15:37:22] Energy consumed for all CPUs : 0.000156 kWh. Total CPU Power : 42.5 W\n",
      "[codecarbon INFO @ 15:37:22] 0.000242 kWh of electricity used since the beginning.\n"
     ]
    },
    {
     "data": {
      "text/plain": [
       "7.268178853078736e-06"
      ]
     },
     "execution_count": 9,
     "metadata": {},
     "output_type": "execute_result"
    }
   ],
   "source": [
    "from codecarbon import EmissionsTracker\n",
    "\n",
    "tracker = EmissionsTracker()\n",
    "tracker.start()\n",
    "\n",
    "# Your code here\n",
    "for _ in range(1000000):\n",
    "    _ = sum([i**2 for i in range(100)])\n",
    "\n",
    "tracker.stop()\n",
    "\n"
   ]
  }
 ],
 "metadata": {
  "kernelspec": {
   "display_name": "venv",
   "language": "python",
   "name": "python3"
  },
  "language_info": {
   "codemirror_mode": {
    "name": "ipython",
    "version": 3
   },
   "file_extension": ".py",
   "mimetype": "text/x-python",
   "name": "python",
   "nbconvert_exporter": "python",
   "pygments_lexer": "ipython3",
   "version": "3.13.1"
  }
 },
 "nbformat": 4,
 "nbformat_minor": 2
}
