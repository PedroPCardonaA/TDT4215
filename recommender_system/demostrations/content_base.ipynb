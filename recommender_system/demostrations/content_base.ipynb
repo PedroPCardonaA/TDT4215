{
 "cells": [
  {
   "cell_type": "markdown",
   "metadata": {},
   "source": [
    "## Demostration of a simple cosine similarity content-based recommendation system"
   ]
  },
  {
   "cell_type": "code",
   "execution_count": 5,
   "metadata": {},
   "outputs": [],
   "source": [
    "import sys\n",
    "import os\n",
    "\n",
    "parent_dir = os.path.abspath(os.path.join(os.getcwd(), \"..\"))\n",
    "sys.path.append(parent_dir)\n",
    "\n",
    "from utils.process_data import user_item_interaction_scores\n",
    "from parquet_data_reader import ParquetDataReader\n",
    "from models.content_based import CosineSimilarityContentBased, evaluate_recommender\n",
    "\n",
    "import polars as pl\n",
    "import numpy as np\n",
    "parquet_reader = ParquetDataReader()"
   ]
  },
  {
   "cell_type": "markdown",
   "metadata": {},
   "source": [
    "### Reading data and preprocessing it"
   ]
  },
  {
   "cell_type": "code",
   "execution_count": 6,
   "metadata": {},
   "outputs": [
    {
     "data": {
      "text/html": [
       "<div><style>\n",
       ".dataframe > thead > tr,\n",
       ".dataframe > tbody > tr {\n",
       "  text-align: right;\n",
       "  white-space: pre-wrap;\n",
       "}\n",
       "</style>\n",
       "<small>shape: (9, 4)</small><table border=\"1\" class=\"dataframe\"><thead><tr><th>statistic</th><th>user_id</th><th>article_id</th><th>score</th></tr><tr><td>str</td><td>f64</td><td>f64</td><td>f64</td></tr></thead><tbody><tr><td>&quot;count&quot;</td><td>53349.0</td><td>53349.0</td><td>52004.0</td></tr><tr><td>&quot;null_count&quot;</td><td>0.0</td><td>0.0</td><td>1345.0</td></tr><tr><td>&quot;mean&quot;</td><td>1.3239e6</td><td>9.7647e6</td><td>0.627594</td></tr><tr><td>&quot;std&quot;</td><td>733898.681736</td><td>135439.146612</td><td>0.092245</td></tr><tr><td>&quot;min&quot;</td><td>10068.0</td><td>3.198681e6</td><td>0.192546</td></tr><tr><td>&quot;25%&quot;</td><td>697684.0</td><td>9.772038e6</td><td>0.576248</td></tr><tr><td>&quot;50%&quot;</td><td>1.341414e6</td><td>9.774352e6</td><td>0.633611</td></tr><tr><td>&quot;75%&quot;</td><td>1.962928e6</td><td>9.776882e6</td><td>0.68502</td></tr><tr><td>&quot;max&quot;</td><td>2.590571e6</td><td>9.780271e6</td><td>0.998828</td></tr></tbody></table></div>"
      ],
      "text/plain": [
       "shape: (9, 4)\n",
       "┌────────────┬───────────────┬───────────────┬──────────┐\n",
       "│ statistic  ┆ user_id       ┆ article_id    ┆ score    │\n",
       "│ ---        ┆ ---           ┆ ---           ┆ ---      │\n",
       "│ str        ┆ f64           ┆ f64           ┆ f64      │\n",
       "╞════════════╪═══════════════╪═══════════════╪══════════╡\n",
       "│ count      ┆ 53349.0       ┆ 53349.0       ┆ 52004.0  │\n",
       "│ null_count ┆ 0.0           ┆ 0.0           ┆ 1345.0   │\n",
       "│ mean       ┆ 1.3239e6      ┆ 9.7647e6      ┆ 0.627594 │\n",
       "│ std        ┆ 733898.681736 ┆ 135439.146612 ┆ 0.092245 │\n",
       "│ min        ┆ 10068.0       ┆ 3.198681e6    ┆ 0.192546 │\n",
       "│ 25%        ┆ 697684.0      ┆ 9.772038e6    ┆ 0.576248 │\n",
       "│ 50%        ┆ 1.341414e6    ┆ 9.774352e6    ┆ 0.633611 │\n",
       "│ 75%        ┆ 1.962928e6    ┆ 9.776882e6    ┆ 0.68502  │\n",
       "│ max        ┆ 2.590571e6    ┆ 9.780271e6    ┆ 0.998828 │\n",
       "└────────────┴───────────────┴───────────────┴──────────┘"
      ]
     },
     "execution_count": 6,
     "metadata": {},
     "output_type": "execute_result"
    }
   ],
   "source": [
    "train_behavior_df = parquet_reader.read_data(\"../../data/train/behaviors.parquet\")\n",
    "embeddings_df = parquet_reader.read_data(\"../../data/document_vector.parquet\")\n",
    "article_df = parquet_reader.read_data(\"../../data/articles.parquet\")\n",
    "test_behavior_df = parquet_reader.read_data(\"../../data/validation/behaviors.parquet\")\n",
    "processed_behavior_df = user_item_interaction_scores(train_behavior_df, article=article_df)\n",
    "processed_behavior_df.describe()"
   ]
  },
  {
   "cell_type": "code",
   "execution_count": 7,
   "metadata": {},
   "outputs": [
    {
     "name": "stdout",
     "output_type": "stream",
     "text": [
      "Recommendations for user 14241\n",
      "[7160857, 7789111, 6044108, 4925298, 7124272, 7592637, 5574958, 5622577, 7141651, 4340954]\n",
      "Score for user 14241 and item 6044108\n",
      "0.9761224341910408\n"
     ]
    }
   ],
   "source": [
    "content_based = CosineSimilarityContentBased(behavior_data=processed_behavior_df, item_data=embeddings_df)\n",
    "\n",
    "recommendations = content_based.recommend(14241, 10)\n",
    "score = content_based.score(14241, 6044108)\n",
    "\n",
    "print(\"Recommendations for user 14241\")\n",
    "print(recommendations)\n",
    "print(\"Score for user 14241 and item 6044108\")\n",
    "print(score)"
   ]
  },
  {
   "cell_type": "code",
   "execution_count": null,
   "metadata": {},
   "outputs": [
    {
     "ename": "KeyboardInterrupt",
     "evalue": "",
     "output_type": "error",
     "traceback": [
      "\u001b[0;31m---------------------------------------------------------------------------\u001b[0m",
      "\u001b[0;31mKeyboardInterrupt\u001b[0m                         Traceback (most recent call last)",
      "Cell \u001b[0;32mIn[8], line 1\u001b[0m\n\u001b[0;32m----> 1\u001b[0m results \u001b[38;5;241m=\u001b[39m \u001b[43mevaluate_recommender\u001b[49m\u001b[43m(\u001b[49m\u001b[43mcontent_based\u001b[49m\u001b[43m,\u001b[49m\u001b[43m \u001b[49m\u001b[43mtest_behavior_df\u001b[49m\u001b[43m,\u001b[49m\u001b[43m \u001b[49m\u001b[43mk\u001b[49m\u001b[38;5;241;43m=\u001b[39;49m\u001b[38;5;241;43m10\u001b[39;49m\u001b[43m)\u001b[49m\n\u001b[1;32m      5\u001b[0m \u001b[38;5;28mprint\u001b[39m(\u001b[38;5;124mf\u001b[39m\u001b[38;5;124m\"\u001b[39m\u001b[38;5;124mMAP@5: \u001b[39m\u001b[38;5;132;01m{\u001b[39;00mresults[\u001b[38;5;124m'\u001b[39m\u001b[38;5;124mMAP@K\u001b[39m\u001b[38;5;124m'\u001b[39m]\u001b[38;5;132;01m:\u001b[39;00m\u001b[38;5;124m.4f\u001b[39m\u001b[38;5;132;01m}\u001b[39;00m\u001b[38;5;124m\"\u001b[39m)\n\u001b[1;32m      6\u001b[0m \u001b[38;5;28mprint\u001b[39m(\u001b[38;5;124mf\u001b[39m\u001b[38;5;124m\"\u001b[39m\u001b[38;5;124mNDCG@5: \u001b[39m\u001b[38;5;132;01m{\u001b[39;00mresults[\u001b[38;5;124m'\u001b[39m\u001b[38;5;124mNDCG@K\u001b[39m\u001b[38;5;124m'\u001b[39m]\u001b[38;5;132;01m:\u001b[39;00m\u001b[38;5;124m.4f\u001b[39m\u001b[38;5;132;01m}\u001b[39;00m\u001b[38;5;124m\"\u001b[39m)\n",
      "File \u001b[0;32m~/Documents/Datatek/Recommender systems/TDT4215/recommender_system/models/content_based.py:177\u001b[0m, in \u001b[0;36mevaluate_recommender\u001b[0;34m(recommender, test_data, k)\u001b[0m\n\u001b[1;32m      0\u001b[0m <Error retrieving source code with stack_data see ipython/ipython#13598>\n",
      "File \u001b[0;32m~/Documents/Datatek/Recommender systems/TDT4215/recommender_system/models/content_based.py:134\u001b[0m, in \u001b[0;36mmean_average_precision\u001b[0;34m(recommender, test_data, k)\u001b[0m\n\u001b[1;32m    132\u001b[0m relevant_items \u001b[38;5;241m=\u001b[39m \u001b[38;5;28mset\u001b[39m(test_data\u001b[38;5;241m.\u001b[39mfilter(pl\u001b[38;5;241m.\u001b[39mcol(\u001b[38;5;124m\"\u001b[39m\u001b[38;5;124muser_id\u001b[39m\u001b[38;5;124m\"\u001b[39m) \u001b[38;5;241m==\u001b[39m user_id)[\u001b[38;5;124m\"\u001b[39m\u001b[38;5;124marticle_id\u001b[39m\u001b[38;5;124m\"\u001b[39m]\u001b[38;5;241m.\u001b[39mto_numpy())\n\u001b[1;32m    133\u001b[0m \u001b[38;5;28;01mif\u001b[39;00m \u001b[38;5;129;01mnot\u001b[39;00m relevant_items:\n\u001b[0;32m--> 134\u001b[0m     \u001b[38;5;28;01mreturn\u001b[39;00m \u001b[38;5;28;01mNone\u001b[39;00m  \u001b[38;5;66;03m# Skip users with no interactions\u001b[39;00m\n\u001b[1;32m    136\u001b[0m recommended_items \u001b[38;5;241m=\u001b[39m recommender\u001b[38;5;241m.\u001b[39mrecommend(user_id, n\u001b[38;5;241m=\u001b[39mk)\n\u001b[1;32m    138\u001b[0m precision \u001b[38;5;241m=\u001b[39m precision_at_k(recommended_items, relevant_items, k)\n",
      "File \u001b[0;32m~/Documents/Datatek/Recommender systems/TDT4215/recommender_system/models/content_based.py:71\u001b[0m, in \u001b[0;36mrecommend\u001b[0;34m(self, user_id, n)\u001b[0m\n\u001b[1;32m     69\u001b[0m similarities \u001b[38;5;241m=\u001b[39m []\n\u001b[1;32m     70\u001b[0m \u001b[38;5;28;01mfor\u001b[39;00m item_id, item_vector \u001b[38;5;129;01min\u001b[39;00m \u001b[38;5;28mself\u001b[39m\u001b[38;5;241m.\u001b[39mitem_vectors\u001b[38;5;241m.\u001b[39mitems():\n\u001b[0;32m---> 71\u001b[0m     \u001b[38;5;28;01mif\u001b[39;00m item_id \u001b[38;5;129;01mnot\u001b[39;00m \u001b[38;5;129;01min\u001b[39;00m rated_items:  \n\u001b[1;32m     72\u001b[0m         similarity \u001b[38;5;241m=\u001b[39m np\u001b[38;5;241m.\u001b[39mdot(user_vector, item_vector) \u001b[38;5;241m/\u001b[39m (np\u001b[38;5;241m.\u001b[39mlinalg\u001b[38;5;241m.\u001b[39mnorm(user_vector) \u001b[38;5;241m*\u001b[39m np\u001b[38;5;241m.\u001b[39mlinalg\u001b[38;5;241m.\u001b[39mnorm(item_vector))\n\u001b[1;32m     73\u001b[0m         similarities\u001b[38;5;241m.\u001b[39mappend((item_id, similarity))\n",
      "File \u001b[0;32m~/Documents/Datatek/Recommender systems/TDT4215/venv/lib/python3.12/site-packages/numpy/linalg/_linalg.py:2744\u001b[0m, in \u001b[0;36mnorm\u001b[0;34m(x, ord, axis, keepdims)\u001b[0m\n\u001b[1;32m   2742\u001b[0m     sqnorm \u001b[38;5;241m=\u001b[39m x_real\u001b[38;5;241m.\u001b[39mdot(x_real) \u001b[38;5;241m+\u001b[39m x_imag\u001b[38;5;241m.\u001b[39mdot(x_imag)\n\u001b[1;32m   2743\u001b[0m \u001b[38;5;28;01melse\u001b[39;00m:\n\u001b[0;32m-> 2744\u001b[0m     sqnorm \u001b[38;5;241m=\u001b[39m \u001b[43mx\u001b[49m\u001b[38;5;241;43m.\u001b[39;49m\u001b[43mdot\u001b[49m\u001b[43m(\u001b[49m\u001b[43mx\u001b[49m\u001b[43m)\u001b[49m\n\u001b[1;32m   2745\u001b[0m ret \u001b[38;5;241m=\u001b[39m sqrt(sqnorm)\n\u001b[1;32m   2746\u001b[0m \u001b[38;5;28;01mif\u001b[39;00m keepdims:\n",
      "\u001b[0;31mKeyboardInterrupt\u001b[0m: "
     ]
    }
   ],
   "source": [
    "results = evaluate_recommender(content_based, test_behavior_df, k=5, n_jobs=10)\n",
    "\n",
    "\n",
    "\n",
    "print(f\"MAP@5: {results['MAP@K']:.4f}\")\n",
    "print(f\"NDCG@5: {results['NDCG@K']:.4f}\")"
   ]
  }
 ],
 "metadata": {
  "kernelspec": {
   "display_name": "venv",
   "language": "python",
   "name": "python3"
  },
  "language_info": {
   "codemirror_mode": {
    "name": "ipython",
    "version": 3
   },
   "file_extension": ".py",
   "mimetype": "text/x-python",
   "name": "python",
   "nbconvert_exporter": "python",
   "pygments_lexer": "ipython3",
   "version": "3.12.7"
  }
 },
 "nbformat": 4,
 "nbformat_minor": 2
}
