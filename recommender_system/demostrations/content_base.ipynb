{
 "cells": [
  {
   "cell_type": "markdown",
   "metadata": {},
   "source": [
    "## Demostration of a simple cosine similarity content-based recommendation system"
   ]
  },
  {
   "cell_type": "code",
   "execution_count": 1,
   "metadata": {},
   "outputs": [],
   "source": [
    "import sys\n",
    "import os\n",
    "\n",
    "parent_dir = os.path.abspath(os.path.join(os.getcwd(), \"..\"))\n",
    "sys.path.append(parent_dir)\n",
    "\n",
    "from utils.process_data import user_item_interaction_scores\n",
    "from parquet_data_reader import ParquetDataReader\n",
    "from models.content_based import CosineSimilarityContentBased\n",
    "\n",
    "import polars as pl\n",
    "import numpy as np\n",
    "parquet_reader = ParquetDataReader()"
   ]
  },
  {
   "cell_type": "markdown",
   "metadata": {},
   "source": [
    "### Reading data and preprocessing it"
   ]
  },
  {
   "cell_type": "code",
   "execution_count": 2,
   "metadata": {},
   "outputs": [
    {
     "data": {
      "text/html": [
       "<div><style>\n",
       ".dataframe > thead > tr,\n",
       ".dataframe > tbody > tr {\n",
       "  text-align: right;\n",
       "  white-space: pre-wrap;\n",
       "}\n",
       "</style>\n",
       "<small>shape: (9, 5)</small><table border=\"1\" class=\"dataframe\"><thead><tr><th>statistic</th><th>user_id</th><th>article_id</th><th>impression_time</th><th>score</th></tr><tr><td>str</td><td>f64</td><td>f64</td><td>str</td><td>f64</td></tr></thead><tbody><tr><td>&quot;count&quot;</td><td>53349.0</td><td>53349.0</td><td>&quot;53349&quot;</td><td>52004.0</td></tr><tr><td>&quot;null_count&quot;</td><td>0.0</td><td>0.0</td><td>&quot;0&quot;</td><td>1345.0</td></tr><tr><td>&quot;mean&quot;</td><td>1.3239e6</td><td>9.7647e6</td><td>&quot;2023-05-21 18:14:12.956868&quot;</td><td>0.627594</td></tr><tr><td>&quot;std&quot;</td><td>733898.681736</td><td>135439.146612</td><td>null</td><td>0.092245</td></tr><tr><td>&quot;min&quot;</td><td>10068.0</td><td>3.198681e6</td><td>&quot;2023-05-18 07:00:07&quot;</td><td>0.192546</td></tr><tr><td>&quot;25%&quot;</td><td>697684.0</td><td>9.772038e6</td><td>&quot;2023-05-19 20:24:32&quot;</td><td>0.576248</td></tr><tr><td>&quot;50%&quot;</td><td>1.341414e6</td><td>9.774352e6</td><td>&quot;2023-05-21 17:46:12&quot;</td><td>0.633611</td></tr><tr><td>&quot;75%&quot;</td><td>1.962928e6</td><td>9.776882e6</td><td>&quot;2023-05-23 11:48:38&quot;</td><td>0.68502</td></tr><tr><td>&quot;max&quot;</td><td>2.590571e6</td><td>9.780271e6</td><td>&quot;2023-05-25 06:59:56&quot;</td><td>0.998828</td></tr></tbody></table></div>"
      ],
      "text/plain": [
       "shape: (9, 5)\n",
       "┌────────────┬───────────────┬───────────────┬────────────────────────────┬──────────┐\n",
       "│ statistic  ┆ user_id       ┆ article_id    ┆ impression_time            ┆ score    │\n",
       "│ ---        ┆ ---           ┆ ---           ┆ ---                        ┆ ---      │\n",
       "│ str        ┆ f64           ┆ f64           ┆ str                        ┆ f64      │\n",
       "╞════════════╪═══════════════╪═══════════════╪════════════════════════════╪══════════╡\n",
       "│ count      ┆ 53349.0       ┆ 53349.0       ┆ 53349                      ┆ 52004.0  │\n",
       "│ null_count ┆ 0.0           ┆ 0.0           ┆ 0                          ┆ 1345.0   │\n",
       "│ mean       ┆ 1.3239e6      ┆ 9.7647e6      ┆ 2023-05-21 18:14:12.956868 ┆ 0.627594 │\n",
       "│ std        ┆ 733898.681736 ┆ 135439.146612 ┆ null                       ┆ 0.092245 │\n",
       "│ min        ┆ 10068.0       ┆ 3.198681e6    ┆ 2023-05-18 07:00:07        ┆ 0.192546 │\n",
       "│ 25%        ┆ 697684.0      ┆ 9.772038e6    ┆ 2023-05-19 20:24:32        ┆ 0.576248 │\n",
       "│ 50%        ┆ 1.341414e6    ┆ 9.774352e6    ┆ 2023-05-21 17:46:12        ┆ 0.633611 │\n",
       "│ 75%        ┆ 1.962928e6    ┆ 9.776882e6    ┆ 2023-05-23 11:48:38        ┆ 0.68502  │\n",
       "│ max        ┆ 2.590571e6    ┆ 9.780271e6    ┆ 2023-05-25 06:59:56        ┆ 0.998828 │\n",
       "└────────────┴───────────────┴───────────────┴────────────────────────────┴──────────┘"
      ]
     },
     "execution_count": 2,
     "metadata": {},
     "output_type": "execute_result"
    }
   ],
   "source": [
    "train_behavior_df = parquet_reader.read_data(\"../../data/train/behaviors.parquet\")\n",
    "embeddings_df = parquet_reader.read_data(\"../../data/document_vector.parquet\")\n",
    "article_df = parquet_reader.read_data(\"../../data/articles.parquet\")\n",
    "test_behavior_df = parquet_reader.read_data(\"../../data/validation/behaviors.parquet\")\n",
    "processed_behavior_df = user_item_interaction_scores(train_behavior_df, article=article_df)\n",
    "processed_behavior_df.describe()"
   ]
  },
  {
   "cell_type": "code",
   "execution_count": 3,
   "metadata": {},
   "outputs": [
    {
     "name": "stderr",
     "output_type": "stream",
     "text": [
      "/home/pedropca/Documents/Datatek/Recommender systems/TDT4215/recommender_system/models/content_based.py:114: RuntimeWarning: invalid value encountered in scalar divide\n",
      "  similarity = np.dot(user_vector, item_vector) / (np.linalg.norm(user_vector) * np.linalg.norm(item_vector))\n"
     ]
    },
    {
     "name": "stdout",
     "output_type": "stream",
     "text": [
      "Recommendations for user 14241\n",
      "[7160857, 7789111, 6044108, 4925298, 7124272, 7592637, 5574958, 5622577, 7141651, 4340954]\n",
      "Score for user 14241 and item 6044108\n",
      "0.9761224341910408\n"
     ]
    }
   ],
   "source": [
    "content_based = CosineSimilarityContentBased(behavior_data=processed_behavior_df, item_data=embeddings_df)\n",
    "\n",
    "recommendations = content_based.recommend(14241, 10)\n",
    "score = content_based.score(14241, 6044108)\n",
    "\n",
    "print(\"Recommendations for user 14241\")\n",
    "print(recommendations)\n",
    "print(\"Score for user 14241 and item 6044108\")\n",
    "print(score)"
   ]
  },
  {
   "cell_type": "code",
   "execution_count": 8,
   "metadata": {},
   "outputs": [],
   "source": [
    "results = content_based.evaluate_recommender(k=5,n_jobs=4,user_sample=15)"
   ]
  },
  {
   "cell_type": "code",
   "execution_count": 9,
   "metadata": {},
   "outputs": [
    {
     "name": "stdout",
     "output_type": "stream",
     "text": [
      "Results\n"
     ]
    },
    {
     "data": {
      "text/plain": [
       "{'MAP@K': np.float64(0.0), 'NDCG@K': np.float64(0.0)}"
      ]
     },
     "execution_count": 9,
     "metadata": {},
     "output_type": "execute_result"
    }
   ],
   "source": [
    "print(\"Results\")\n",
    "results"
   ]
  }
 ],
 "metadata": {
  "kernelspec": {
   "display_name": "venv",
   "language": "python",
   "name": "python3"
  },
  "language_info": {
   "codemirror_mode": {
    "name": "ipython",
    "version": 3
   },
   "file_extension": ".py",
   "mimetype": "text/x-python",
   "name": "python",
   "nbconvert_exporter": "python",
   "pygments_lexer": "ipython3",
   "version": "3.12.7"
  }
 },
 "nbformat": 4,
 "nbformat_minor": 2
}
