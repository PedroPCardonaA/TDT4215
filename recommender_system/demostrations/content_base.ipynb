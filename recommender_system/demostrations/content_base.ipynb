{
 "cells": [
  {
   "cell_type": "markdown",
   "metadata": {},
   "source": [
    "## Demostration of a simple cosine similarity content-based recommendation system"
   ]
  },
  {
   "cell_type": "code",
   "execution_count": 9,
   "metadata": {},
   "outputs": [],
   "source": [
    "import sys\n",
    "import os\n",
    "\n",
    "parent_dir = os.path.abspath(os.path.join(os.getcwd(), \"..\"))\n",
    "sys.path.append(parent_dir)\n",
    "\n",
    "from utils.process_data import user_item_interaction_scores\n",
    "from parquet_data_reader import ParquetDataReader\n",
    "from models.content_based import CosineSimilarityContentBased\n",
    "\n",
    "import polars as pl\n",
    "import numpy as np\n",
    "parquet_reader = ParquetDataReader()"
   ]
  },
  {
   "cell_type": "markdown",
   "metadata": {},
   "source": [
    "### Reading data and preprocessing it"
   ]
  },
  {
   "cell_type": "code",
   "execution_count": null,
   "metadata": {},
   "outputs": [
    {
     "data": {
      "text/html": [
       "<div><style>\n",
       ".dataframe > thead > tr,\n",
       ".dataframe > tbody > tr {\n",
       "  text-align: right;\n",
       "  white-space: pre-wrap;\n",
       "}\n",
       "</style>\n",
       "<small>shape: (9, 18)</small><table border=\"1\" class=\"dataframe\"><thead><tr><th>statistic</th><th>impression_id</th><th>article_id</th><th>impression_time</th><th>read_time</th><th>scroll_percentage</th><th>device_type</th><th>article_ids_inview</th><th>article_ids_clicked</th><th>user_id</th><th>is_sso_user</th><th>gender</th><th>postcode</th><th>age</th><th>is_subscriber</th><th>session_id</th><th>next_read_time</th><th>next_scroll_percentage</th></tr><tr><td>str</td><td>f64</td><td>f64</td><td>str</td><td>f64</td><td>f64</td><td>f64</td><td>f64</td><td>f64</td><td>f64</td><td>f64</td><td>f64</td><td>f64</td><td>f64</td><td>f64</td><td>f64</td><td>f64</td><td>f64</td></tr></thead><tbody><tr><td>&quot;count&quot;</td><td>232887.0</td><td>70421.0</td><td>&quot;232887&quot;</td><td>232887.0</td><td>69098.0</td><td>232887.0</td><td>232887.0</td><td>232887.0</td><td>232887.0</td><td>232887.0</td><td>16219.0</td><td>4673.0</td><td>6341.0</td><td>232887.0</td><td>232887.0</td><td>226669.0</td><td>206617.0</td></tr><tr><td>&quot;null_count&quot;</td><td>0.0</td><td>162466.0</td><td>&quot;0&quot;</td><td>0.0</td><td>163789.0</td><td>0.0</td><td>0.0</td><td>0.0</td><td>0.0</td><td>0.0</td><td>216668.0</td><td>228214.0</td><td>226546.0</td><td>0.0</td><td>0.0</td><td>6218.0</td><td>26270.0</td></tr><tr><td>&quot;mean&quot;</td><td>2.8828e8</td><td>9.7654e6</td><td>&quot;2023-05-21 16:43:32.126653&quot;</td><td>43.901806</td><td>99.566208</td><td>1.685521</td><td>null</td><td>null</td><td>1.3135e6</td><td>0.101337</td><td>0.10759</td><td>1.438048</td><td>55.013405</td><td>0.066212</td><td>989106.069712</td><td>68.649857</td><td>69.112617</td></tr><tr><td>&quot;std&quot;</td><td>1.6832e8</td><td>129682.727142</td><td>null</td><td>90.299965</td><td>4.944662</td><td>0.519545</td><td>null</td><td>null</td><td>737020.473097</td><td>null</td><td>0.309871</td><td>1.436164</td><td>13.891898</td><td>null</td><td>568255.962255</td><td>172.63356</td><td>32.25351</td></tr><tr><td>&quot;min&quot;</td><td>149474.0</td><td>3.198681e6</td><td>&quot;2023-05-18 07:00:01&quot;</td><td>0.0</td><td>7.0</td><td>1.0</td><td>null</td><td>null</td><td>10068.0</td><td>0.0</td><td>0.0</td><td>0.0</td><td>0.0</td><td>0.0</td><td>406.0</td><td>0.0</td><td>0.0</td></tr><tr><td>&quot;25%&quot;</td><td>1.42038746e8</td><td>9.772032e6</td><td>&quot;2023-05-19 18:51:21&quot;</td><td>11.0</td><td>100.0</td><td>1.0</td><td>null</td><td>null</td><td>686661.0</td><td>null</td><td>0.0</td><td>0.0</td><td>50.0</td><td>null</td><td>500429.0</td><td>7.0</td><td>36.0</td></tr><tr><td>&quot;50%&quot;</td><td>2.90333572e8</td><td>9.774297e6</td><td>&quot;2023-05-21 16:46:53&quot;</td><td>21.0</td><td>100.0</td><td>2.0</td><td>null</td><td>null</td><td>1.328699e6</td><td>null</td><td>0.0</td><td>1.0</td><td>60.0</td><td>null</td><td>991121.0</td><td>21.0</td><td>80.0</td></tr><tr><td>&quot;75%&quot;</td><td>4.33166835e8</td><td>9.776882e6</td><td>&quot;2023-05-23 10:46:53&quot;</td><td>45.0</td><td>100.0</td><td>2.0</td><td>null</td><td>null</td><td>1.954176e6</td><td>null</td><td>0.0</td><td>3.0</td><td>60.0</td><td>null</td><td>1.477665e6</td><td>62.0</td><td>100.0</td></tr><tr><td>&quot;max&quot;</td><td>5.80100697e8</td><td>9.780271e6</td><td>&quot;2023-05-25 06:59:58&quot;</td><td>1799.0</td><td>100.0</td><td>3.0</td><td>null</td><td>null</td><td>2.590637e6</td><td>1.0</td><td>1.0</td><td>4.0</td><td>90.0</td><td>1.0</td><td>2.030118e6</td><td>1799.0</td><td>100.0</td></tr></tbody></table></div>"
      ],
      "text/plain": [
       "shape: (9, 18)\n",
       "┌───────────┬───────────┬───────────┬───────────┬───┬───────────┬───────────┬───────────┬──────────┐\n",
       "│ statistic ┆ impressio ┆ article_i ┆ impressio ┆ … ┆ is_subscr ┆ session_i ┆ next_read ┆ next_scr │\n",
       "│ ---       ┆ n_id      ┆ d         ┆ n_time    ┆   ┆ iber      ┆ d         ┆ _time     ┆ oll_perc │\n",
       "│ str       ┆ ---       ┆ ---       ┆ ---       ┆   ┆ ---       ┆ ---       ┆ ---       ┆ entage   │\n",
       "│           ┆ f64       ┆ f64       ┆ str       ┆   ┆ f64       ┆ f64       ┆ f64       ┆ ---      │\n",
       "│           ┆           ┆           ┆           ┆   ┆           ┆           ┆           ┆ f64      │\n",
       "╞═══════════╪═══════════╪═══════════╪═══════════╪═══╪═══════════╪═══════════╪═══════════╪══════════╡\n",
       "│ count     ┆ 232887.0  ┆ 70421.0   ┆ 232887    ┆ … ┆ 232887.0  ┆ 232887.0  ┆ 226669.0  ┆ 206617.0 │\n",
       "│ null_coun ┆ 0.0       ┆ 162466.0  ┆ 0         ┆ … ┆ 0.0       ┆ 0.0       ┆ 6218.0    ┆ 26270.0  │\n",
       "│ t         ┆           ┆           ┆           ┆   ┆           ┆           ┆           ┆          │\n",
       "│ mean      ┆ 2.8828e8  ┆ 9.7654e6  ┆ 2023-05-2 ┆ … ┆ 0.066212  ┆ 989106.06 ┆ 68.649857 ┆ 69.11261 │\n",
       "│           ┆           ┆           ┆ 1 16:43:3 ┆   ┆           ┆ 9712      ┆           ┆ 7        │\n",
       "│           ┆           ┆           ┆ 2.126653  ┆   ┆           ┆           ┆           ┆          │\n",
       "│ std       ┆ 1.6832e8  ┆ 129682.72 ┆ null      ┆ … ┆ null      ┆ 568255.96 ┆ 172.63356 ┆ 32.25351 │\n",
       "│           ┆           ┆ 7142      ┆           ┆   ┆           ┆ 2255      ┆           ┆          │\n",
       "│ min       ┆ 149474.0  ┆ 3.198681e ┆ 2023-05-1 ┆ … ┆ 0.0       ┆ 406.0     ┆ 0.0       ┆ 0.0      │\n",
       "│           ┆           ┆ 6         ┆ 8         ┆   ┆           ┆           ┆           ┆          │\n",
       "│           ┆           ┆           ┆ 07:00:01  ┆   ┆           ┆           ┆           ┆          │\n",
       "│ 25%       ┆ 1.4203874 ┆ 9.772032e ┆ 2023-05-1 ┆ … ┆ null      ┆ 500429.0  ┆ 7.0       ┆ 36.0     │\n",
       "│           ┆ 6e8       ┆ 6         ┆ 9         ┆   ┆           ┆           ┆           ┆          │\n",
       "│           ┆           ┆           ┆ 18:51:21  ┆   ┆           ┆           ┆           ┆          │\n",
       "│ 50%       ┆ 2.9033357 ┆ 9.774297e ┆ 2023-05-2 ┆ … ┆ null      ┆ 991121.0  ┆ 21.0      ┆ 80.0     │\n",
       "│           ┆ 2e8       ┆ 6         ┆ 1         ┆   ┆           ┆           ┆           ┆          │\n",
       "│           ┆           ┆           ┆ 16:46:53  ┆   ┆           ┆           ┆           ┆          │\n",
       "│ 75%       ┆ 4.3316683 ┆ 9.776882e ┆ 2023-05-2 ┆ … ┆ null      ┆ 1.477665e ┆ 62.0      ┆ 100.0    │\n",
       "│           ┆ 5e8       ┆ 6         ┆ 3         ┆   ┆           ┆ 6         ┆           ┆          │\n",
       "│           ┆           ┆           ┆ 10:46:53  ┆   ┆           ┆           ┆           ┆          │\n",
       "│ max       ┆ 5.8010069 ┆ 9.780271e ┆ 2023-05-2 ┆ … ┆ 1.0       ┆ 2.030118e ┆ 1799.0    ┆ 100.0    │\n",
       "│           ┆ 7e8       ┆ 6         ┆ 5         ┆   ┆           ┆ 6         ┆           ┆          │\n",
       "│           ┆           ┆           ┆ 06:59:58  ┆   ┆           ┆           ┆           ┆          │\n",
       "└───────────┴───────────┴───────────┴───────────┴───┴───────────┴───────────┴───────────┴──────────┘"
      ]
     },
     "execution_count": 2,
     "metadata": {},
     "output_type": "execute_result"
    }
   ],
   "source": [
    "train_behavior_df = parquet_reader.read_data(\"../../data/train/behaviors.parquet\")\n",
    "embeddings_df = parquet_reader.read_data(\"../../data/document_vector.parquet\")\n",
    "processed_behavior_df = user_item_interaction_scores(train_behavior_df)\n",
    "processed_behavior_df.describe()"
   ]
  },
  {
   "cell_type": "code",
   "execution_count": null,
   "metadata": {},
   "outputs": [
    {
     "name": "stderr",
     "output_type": "stream",
     "text": [
      "/home/pedropca/Documents/Datatek/Recommender systems/TDT4215/recommender_system/models/content_based.py:78: RuntimeWarning: invalid value encountered in scalar divide\n",
      "  similarity = np.dot(user_vector, item_vector) / (np.linalg.norm(user_vector) * np.linalg.norm(item_vector))\n"
     ]
    },
    {
     "data": {
      "text/plain": [
       "[7160857,\n",
       " 7789111,\n",
       " 6044108,\n",
       " 4925298,\n",
       " 7124272,\n",
       " 7592637,\n",
       " 5574958,\n",
       " 5622577,\n",
       " 7141651,\n",
       " 4340954]"
      ]
     },
     "execution_count": 4,
     "metadata": {},
     "output_type": "execute_result"
    }
   ],
   "source": [
    "content_based = CosineSimilarityContentBased(behavior_data=processed_behavior_df, item_data=embeddings_df)\n",
    "\n",
    "recommendations = content_based.recommend(14241, 10)\n",
    "score = content_based.score(14241, 6044108)\n",
    "\n",
    "print(\"Recommendations for user 14241\")\n",
    "print(recommendations)\n",
    "print(\"Score for user 14241 and item 6044108\")\n",
    "print(score)"
   ]
  },
  {
   "cell_type": "code",
   "execution_count": null,
   "metadata": {},
   "outputs": [
    {
     "data": {
      "text/plain": [
       "0.9761224341910409"
      ]
     },
     "execution_count": 8,
     "metadata": {},
     "output_type": "execute_result"
    }
   ],
   "source": []
  }
 ],
 "metadata": {
  "kernelspec": {
   "display_name": "venv",
   "language": "python",
   "name": "python3"
  },
  "language_info": {
   "codemirror_mode": {
    "name": "ipython",
    "version": 3
   },
   "file_extension": ".py",
   "mimetype": "text/x-python",
   "name": "python",
   "nbconvert_exporter": "python",
   "pygments_lexer": "ipython3",
   "version": "3.12.7"
  }
 },
 "nbformat": 4,
 "nbformat_minor": 2
}
