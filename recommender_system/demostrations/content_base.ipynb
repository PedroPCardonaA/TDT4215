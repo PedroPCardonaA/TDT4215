{
 "cells": [
  {
   "cell_type": "markdown",
   "metadata": {},
   "source": [
    "## Demostration of a simple cosine similarity content-based recommendation system"
   ]
  },
  {
   "cell_type": "code",
   "metadata": {
    "ExecuteTime": {
     "end_time": "2025-02-06T10:09:43.496213Z",
     "start_time": "2025-02-06T10:09:43.178396Z"
    }
   },
   "source": [
    "import sys\n",
    "import os\n",
    "\n",
    "parent_dir = os.path.abspath(os.path.join(os.getcwd(), \"..\"))\n",
    "sys.path.append(parent_dir)\n",
    "\n",
    "from utils.process_data import user_item_interaction_scores\n",
    "from parquet_data_reader import ParquetDataReader\n",
    "from models.content_based import CosineSimilarityContentBased\n",
    "\n",
    "import polars as pl\n",
    "import numpy as np\n",
    "parquet_reader = ParquetDataReader()"
   ],
   "outputs": [],
   "execution_count": 1
  },
  {
   "cell_type": "markdown",
   "metadata": {},
   "source": [
    "### Reading data and preprocessing it"
   ]
  },
  {
   "cell_type": "code",
   "metadata": {
    "ExecuteTime": {
     "end_time": "2025-02-06T10:09:46.838421Z",
     "start_time": "2025-02-06T10:09:46.132909Z"
    }
   },
   "source": [
    "train_behavior_df = parquet_reader.read_data(\"../../data/train/behaviors.parquet\")\n",
    "embeddings_df = parquet_reader.read_data(\"../../data/document_vector.parquet\")\n",
    "article_df = parquet_reader.read_data(\"../../data/articles.parquet\")\n",
    "test_behavior_df = parquet_reader.read_data(\"../../data/validation/behaviors.parquet\")\n",
    "processed_behavior_df = user_item_interaction_scores(train_behavior_df, article=article_df)\n",
    "processed_behavior_df.describe()"
   ],
   "outputs": [
    {
     "ename": "ValueError",
     "evalue": "Failed to read the Parquet file: The system cannot find the file specified. (os error 2): ../../data/document_vector.parquet",
     "output_type": "error",
     "traceback": [
      "\u001B[1;31m---------------------------------------------------------------------------\u001B[0m",
      "\u001B[1;31mFileNotFoundError\u001B[0m                         Traceback (most recent call last)",
      "File \u001B[1;32m~\\OneDrive\\Documents\\EMNER_Master\\An.sys\\TDT4215\\recommender_system\\parquet_data_reader.py:25\u001B[0m, in \u001B[0;36mParquetDataReader.read_data\u001B[1;34m(self, path)\u001B[0m\n\u001B[0;32m     24\u001B[0m \u001B[38;5;28;01mtry\u001B[39;00m:\n\u001B[1;32m---> 25\u001B[0m     df \u001B[38;5;241m=\u001B[39m \u001B[43mpl\u001B[49m\u001B[38;5;241;43m.\u001B[39;49m\u001B[43mread_parquet\u001B[49m\u001B[43m(\u001B[49m\u001B[43mpath\u001B[49m\u001B[43m)\u001B[49m\n\u001B[0;32m     26\u001B[0m     \u001B[38;5;28;01mreturn\u001B[39;00m df\n",
      "File \u001B[1;32m~\\OneDrive\\Documents\\EMNER_Master\\An.sys\\TDT4215\\.venv\\Lib\\site-packages\\polars\\_utils\\deprecation.py:92\u001B[0m, in \u001B[0;36mdeprecate_renamed_parameter.<locals>.decorate.<locals>.wrapper\u001B[1;34m(*args, **kwargs)\u001B[0m\n\u001B[0;32m     89\u001B[0m _rename_keyword_argument(\n\u001B[0;32m     90\u001B[0m     old_name, new_name, kwargs, function\u001B[38;5;241m.\u001B[39m\u001B[38;5;18m__qualname__\u001B[39m, version\n\u001B[0;32m     91\u001B[0m )\n\u001B[1;32m---> 92\u001B[0m \u001B[38;5;28;01mreturn\u001B[39;00m \u001B[43mfunction\u001B[49m\u001B[43m(\u001B[49m\u001B[38;5;241;43m*\u001B[39;49m\u001B[43margs\u001B[49m\u001B[43m,\u001B[49m\u001B[43m \u001B[49m\u001B[38;5;241;43m*\u001B[39;49m\u001B[38;5;241;43m*\u001B[39;49m\u001B[43mkwargs\u001B[49m\u001B[43m)\u001B[49m\n",
      "File \u001B[1;32m~\\OneDrive\\Documents\\EMNER_Master\\An.sys\\TDT4215\\.venv\\Lib\\site-packages\\polars\\_utils\\deprecation.py:92\u001B[0m, in \u001B[0;36mdeprecate_renamed_parameter.<locals>.decorate.<locals>.wrapper\u001B[1;34m(*args, **kwargs)\u001B[0m\n\u001B[0;32m     89\u001B[0m _rename_keyword_argument(\n\u001B[0;32m     90\u001B[0m     old_name, new_name, kwargs, function\u001B[38;5;241m.\u001B[39m\u001B[38;5;18m__qualname__\u001B[39m, version\n\u001B[0;32m     91\u001B[0m )\n\u001B[1;32m---> 92\u001B[0m \u001B[38;5;28;01mreturn\u001B[39;00m \u001B[43mfunction\u001B[49m\u001B[43m(\u001B[49m\u001B[38;5;241;43m*\u001B[39;49m\u001B[43margs\u001B[49m\u001B[43m,\u001B[49m\u001B[43m \u001B[49m\u001B[38;5;241;43m*\u001B[39;49m\u001B[38;5;241;43m*\u001B[39;49m\u001B[43mkwargs\u001B[49m\u001B[43m)\u001B[49m\n",
      "File \u001B[1;32m~\\OneDrive\\Documents\\EMNER_Master\\An.sys\\TDT4215\\.venv\\Lib\\site-packages\\polars\\io\\parquet\\functions.py:241\u001B[0m, in \u001B[0;36mread_parquet\u001B[1;34m(source, columns, n_rows, row_index_name, row_index_offset, parallel, use_statistics, hive_partitioning, glob, schema, hive_schema, try_parse_hive_dates, rechunk, low_memory, storage_options, credential_provider, retries, use_pyarrow, pyarrow_options, memory_map, include_file_paths, allow_missing_columns)\u001B[0m\n\u001B[0;32m    239\u001B[0m         lf \u001B[38;5;241m=\u001B[39m lf\u001B[38;5;241m.\u001B[39mselect(columns)\n\u001B[1;32m--> 241\u001B[0m \u001B[38;5;28;01mreturn\u001B[39;00m \u001B[43mlf\u001B[49m\u001B[38;5;241;43m.\u001B[39;49m\u001B[43mcollect\u001B[49m\u001B[43m(\u001B[49m\u001B[43m)\u001B[49m\n",
      "File \u001B[1;32m~\\OneDrive\\Documents\\EMNER_Master\\An.sys\\TDT4215\\.venv\\Lib\\site-packages\\polars\\lazyframe\\frame.py:2056\u001B[0m, in \u001B[0;36mLazyFrame.collect\u001B[1;34m(self, type_coercion, _type_check, predicate_pushdown, projection_pushdown, simplify_expression, slice_pushdown, comm_subplan_elim, comm_subexpr_elim, cluster_with_columns, collapse_joins, no_optimization, streaming, engine, background, _check_order, _eager, **_kwargs)\u001B[0m\n\u001B[0;32m   2055\u001B[0m callback \u001B[38;5;241m=\u001B[39m _kwargs\u001B[38;5;241m.\u001B[39mget(\u001B[38;5;124m\"\u001B[39m\u001B[38;5;124mpost_opt_callback\u001B[39m\u001B[38;5;124m\"\u001B[39m, callback)\n\u001B[1;32m-> 2056\u001B[0m \u001B[38;5;28;01mreturn\u001B[39;00m wrap_df(\u001B[43mldf\u001B[49m\u001B[38;5;241;43m.\u001B[39;49m\u001B[43mcollect\u001B[49m\u001B[43m(\u001B[49m\u001B[43mcallback\u001B[49m\u001B[43m)\u001B[49m)\n",
      "\u001B[1;31mFileNotFoundError\u001B[0m: The system cannot find the file specified. (os error 2): ../../data/document_vector.parquet",
      "\nDuring handling of the above exception, another exception occurred:\n",
      "\u001B[1;31mValueError\u001B[0m                                Traceback (most recent call last)",
      "Cell \u001B[1;32mIn[2], line 2\u001B[0m\n\u001B[0;32m      1\u001B[0m train_behavior_df \u001B[38;5;241m=\u001B[39m parquet_reader\u001B[38;5;241m.\u001B[39mread_data(\u001B[38;5;124m\"\u001B[39m\u001B[38;5;124m../../data/train/behaviors.parquet\u001B[39m\u001B[38;5;124m\"\u001B[39m)\n\u001B[1;32m----> 2\u001B[0m embeddings_df \u001B[38;5;241m=\u001B[39m \u001B[43mparquet_reader\u001B[49m\u001B[38;5;241;43m.\u001B[39;49m\u001B[43mread_data\u001B[49m\u001B[43m(\u001B[49m\u001B[38;5;124;43m\"\u001B[39;49m\u001B[38;5;124;43m../../data/document_vector.parquet\u001B[39;49m\u001B[38;5;124;43m\"\u001B[39;49m\u001B[43m)\u001B[49m\n\u001B[0;32m      3\u001B[0m article_df \u001B[38;5;241m=\u001B[39m parquet_reader\u001B[38;5;241m.\u001B[39mread_data(\u001B[38;5;124m\"\u001B[39m\u001B[38;5;124m../../data/articles.parquet\u001B[39m\u001B[38;5;124m\"\u001B[39m)\n\u001B[0;32m      4\u001B[0m test_behavior_df \u001B[38;5;241m=\u001B[39m parquet_reader\u001B[38;5;241m.\u001B[39mread_data(\u001B[38;5;124m\"\u001B[39m\u001B[38;5;124m../../data/validation/behaviors.parquet\u001B[39m\u001B[38;5;124m\"\u001B[39m)\n",
      "File \u001B[1;32m~\\OneDrive\\Documents\\EMNER_Master\\An.sys\\TDT4215\\recommender_system\\parquet_data_reader.py:28\u001B[0m, in \u001B[0;36mParquetDataReader.read_data\u001B[1;34m(self, path)\u001B[0m\n\u001B[0;32m     26\u001B[0m     \u001B[38;5;28;01mreturn\u001B[39;00m df\n\u001B[0;32m     27\u001B[0m \u001B[38;5;28;01mexcept\u001B[39;00m \u001B[38;5;167;01mException\u001B[39;00m \u001B[38;5;28;01mas\u001B[39;00m e:\n\u001B[1;32m---> 28\u001B[0m     \u001B[38;5;28;01mraise\u001B[39;00m \u001B[38;5;167;01mValueError\u001B[39;00m(\u001B[38;5;124mf\u001B[39m\u001B[38;5;124m\"\u001B[39m\u001B[38;5;124mFailed to read the Parquet file: \u001B[39m\u001B[38;5;132;01m{\u001B[39;00me\u001B[38;5;132;01m}\u001B[39;00m\u001B[38;5;124m\"\u001B[39m)\n",
      "\u001B[1;31mValueError\u001B[0m: Failed to read the Parquet file: The system cannot find the file specified. (os error 2): ../../data/document_vector.parquet"
     ]
    }
   ],
   "execution_count": 2
  },
  {
   "cell_type": "code",
   "execution_count": 3,
   "metadata": {},
   "outputs": [
    {
     "name": "stderr",
     "output_type": "stream",
     "text": [
      "/home/pedropca/Documents/Datatek/Recommender systems/TDT4215/recommender_system/models/content_based.py:114: RuntimeWarning: invalid value encountered in scalar divide\n",
      "  similarity = np.dot(user_vector, item_vector) / (np.linalg.norm(user_vector) * np.linalg.norm(item_vector))\n"
     ]
    },
    {
     "name": "stdout",
     "output_type": "stream",
     "text": [
      "Recommendations for user 14241\n",
      "[7160857, 7789111, 6044108, 4925298, 7124272, 7592637, 5574958, 5622577, 7141651, 4340954]\n",
      "Score for user 14241 and item 6044108\n",
      "0.9761224341910408\n"
     ]
    }
   ],
   "source": [
    "content_based = CosineSimilarityContentBased(behavior_data=processed_behavior_df, item_data=embeddings_df)\n",
    "\n",
    "recommendations = content_based.recommend(14241, 10)\n",
    "score = content_based.score(14241, 6044108)\n",
    "\n",
    "print(\"Recommendations for user 14241\")\n",
    "print(recommendations)\n",
    "print(\"Score for user 14241 and item 6044108\")\n",
    "print(score)"
   ]
  },
  {
   "cell_type": "code",
   "execution_count": 8,
   "metadata": {},
   "outputs": [],
   "source": [
    "results = content_based.evaluate_recommender(k=5,n_jobs=4,user_sample=15)"
   ]
  },
  {
   "cell_type": "code",
   "execution_count": 9,
   "metadata": {},
   "outputs": [
    {
     "name": "stdout",
     "output_type": "stream",
     "text": [
      "Results\n"
     ]
    },
    {
     "data": {
      "text/plain": [
       "{'MAP@K': np.float64(0.0), 'NDCG@K': np.float64(0.0)}"
      ]
     },
     "execution_count": 9,
     "metadata": {},
     "output_type": "execute_result"
    }
   ],
   "source": [
    "print(\"Results\")\n",
    "results"
   ]
  }
 ],
 "metadata": {
  "kernelspec": {
   "display_name": "venv",
   "language": "python",
   "name": "python3"
  },
  "language_info": {
   "codemirror_mode": {
    "name": "ipython",
    "version": 3
   },
   "file_extension": ".py",
   "mimetype": "text/x-python",
   "name": "python",
   "nbconvert_exporter": "python",
   "pygments_lexer": "ipython3",
   "version": "3.12.7"
  }
 },
 "nbformat": 4,
 "nbformat_minor": 2
}
