{
 "cells": [
  {
   "cell_type": "markdown",
   "metadata": {},
   "source": [
    "## Demostration of an interaction content based recommender\n",
    "In this file, the demonstration of the content based model recommending based on interactions is presented."
   ]
  },
  {
   "cell_type": "code",
   "execution_count": 1,
   "metadata": {},
   "outputs": [],
   "source": [
    "import sys\n",
    "import os\n",
    "\n",
    "parent_dir = os.path.abspath(os.path.join(os.getcwd(), \"..\"))\n",
    "sys.path.append(parent_dir)\n",
    "from parquet_data_reader import ParquetDataReader\n",
    "from utils.process_data import  user_item_binary_interaction\n",
    "parquet_reader = ParquetDataReader()"
   ]
  },
  {
   "cell_type": "markdown",
   "metadata": {},
   "source": [
    "### Data extraction and processing"
   ]
  },
  {
   "cell_type": "code",
   "execution_count": 2,
   "metadata": {},
   "outputs": [
    {
     "data": {
      "text/html": [
       "<div><style>\n",
       ".dataframe > thead > tr,\n",
       ".dataframe > tbody > tr {\n",
       "  text-align: right;\n",
       "  white-space: pre-wrap;\n",
       "}\n",
       "</style>\n",
       "<small>shape: (314_052_606, 3)</small><table border=\"1\" class=\"dataframe\"><thead><tr><th>user_id</th><th>article_id</th><th>clicked</th></tr><tr><td>u32</td><td>i32</td><td>i32</td></tr></thead><tbody><tr><td>13538</td><td>3001353</td><td>0</td></tr><tr><td>13538</td><td>3003065</td><td>0</td></tr><tr><td>13538</td><td>3012771</td><td>0</td></tr><tr><td>13538</td><td>3023463</td><td>0</td></tr><tr><td>13538</td><td>3032577</td><td>0</td></tr><tr><td>&hellip;</td><td>&hellip;</td><td>&hellip;</td></tr><tr><td>1710834</td><td>9803492</td><td>0</td></tr><tr><td>1710834</td><td>9803505</td><td>0</td></tr><tr><td>1710834</td><td>9803525</td><td>0</td></tr><tr><td>1710834</td><td>9803560</td><td>0</td></tr><tr><td>1710834</td><td>9803607</td><td>0</td></tr></tbody></table></div>"
      ],
      "text/plain": [
       "shape: (314_052_606, 3)\n",
       "┌─────────┬────────────┬─────────┐\n",
       "│ user_id ┆ article_id ┆ clicked │\n",
       "│ ---     ┆ ---        ┆ ---     │\n",
       "│ u32     ┆ i32        ┆ i32     │\n",
       "╞═════════╪════════════╪═════════╡\n",
       "│ 13538   ┆ 3001353    ┆ 0       │\n",
       "│ 13538   ┆ 3003065    ┆ 0       │\n",
       "│ 13538   ┆ 3012771    ┆ 0       │\n",
       "│ 13538   ┆ 3023463    ┆ 0       │\n",
       "│ 13538   ┆ 3032577    ┆ 0       │\n",
       "│ …       ┆ …          ┆ …       │\n",
       "│ 1710834 ┆ 9803492    ┆ 0       │\n",
       "│ 1710834 ┆ 9803505    ┆ 0       │\n",
       "│ 1710834 ┆ 9803525    ┆ 0       │\n",
       "│ 1710834 ┆ 9803560    ┆ 0       │\n",
       "│ 1710834 ┆ 9803607    ┆ 0       │\n",
       "└─────────┴────────────┴─────────┘"
      ]
     },
     "execution_count": 2,
     "metadata": {},
     "output_type": "execute_result"
    }
   ],
   "source": [
    "train_behavior_df = parquet_reader.read_data(\"../../data/train/behaviors.parquet\")\n",
    "user_df = parquet_reader.read_data(\"../../data/train/history.parquet\")\n",
    "item_df = parquet_reader.read_data(\"../../data/articles.parquet\")\n",
    "binary_interaction = user_item_binary_interaction(train_behavior_df, user_df, item_df)\n",
    "binary_interaction"
   ]
  },
  {
   "cell_type": "markdown",
   "metadata": {},
   "source": [
    "### Data analysis"
   ]
  },
  {
   "cell_type": "code",
   "execution_count": 3,
   "metadata": {},
   "outputs": [
    {
     "ename": "AttributeError",
     "evalue": "'DataFrame' object has no attribute 'click'",
     "output_type": "error",
     "traceback": [
      "\u001b[1;31m---------------------------------------------------------------------------\u001b[0m",
      "\u001b[1;31mAttributeError\u001b[0m                            Traceback (most recent call last)",
      "Cell \u001b[1;32mIn[3], line 2\u001b[0m\n\u001b[0;32m      1\u001b[0m \u001b[38;5;66;03m# Count all the rows in the binary_interaction where click is 1\u001b[39;00m\n\u001b[1;32m----> 2\u001b[0m clicks \u001b[38;5;241m=\u001b[39m binary_interaction\u001b[38;5;241m.\u001b[39mfilter(\u001b[43mbinary_interaction\u001b[49m\u001b[38;5;241;43m.\u001b[39;49m\u001b[43mclick\u001b[49m \u001b[38;5;241m==\u001b[39m \u001b[38;5;241m1\u001b[39m)\u001b[38;5;241m.\u001b[39mcount()\n",
      "\u001b[1;31mAttributeError\u001b[0m: 'DataFrame' object has no attribute 'click'"
     ]
    }
   ],
   "source": [
    "# Count all the rows in the binary_interaction where click is 1\n",
    "clicks = binary_interaction.filter(binary_interaction.click == 1).count()"
   ]
  }
 ],
 "metadata": {
  "kernelspec": {
   "display_name": "venv",
   "language": "python",
   "name": "python3"
  },
  "language_info": {
   "codemirror_mode": {
    "name": "ipython",
    "version": 3
   },
   "file_extension": ".py",
   "mimetype": "text/x-python",
   "name": "python",
   "nbconvert_exporter": "python",
   "pygments_lexer": "ipython3",
   "version": "3.11.9"
  }
 },
 "nbformat": 4,
 "nbformat_minor": 2
}
