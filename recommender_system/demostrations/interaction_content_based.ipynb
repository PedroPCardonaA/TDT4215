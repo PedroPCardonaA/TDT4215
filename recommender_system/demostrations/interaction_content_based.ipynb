{
 "cells": [
  {
   "cell_type": "code",
   "execution_count": 1,
   "metadata": {},
   "outputs": [],
   "source": [
    "import sys\n",
    "import os\n",
    "\n",
    "parent_dir = os.path.abspath(os.path.join(os.getcwd(), \"..\"))\n",
    "sys.path.append(parent_dir)\n",
    "from parquet_data_reader import ParquetDataReader\n",
    "from utils.process_data import  user_item_binary_interaction\n",
    "parquet_reader = ParquetDataReader()"
   ]
  },
  {
   "cell_type": "code",
   "execution_count": 3,
   "metadata": {},
   "outputs": [],
   "source": [
    "train_behavior_df = parquet_reader.read_data(\"../../data/train/behaviors.parquet\")\n",
    "user_df = parquet_reader.read_data(\"../../data/train/history.parquet\")\n",
    "item_df = parquet_reader.read_data(\"../../data/articles.parquet\")"
   ]
  },
  {
   "cell_type": "code",
   "execution_count": 4,
   "metadata": {},
   "outputs": [
    {
     "data": {
      "text/html": [
       "<div><style>\n",
       ".dataframe > thead > tr,\n",
       ".dataframe > tbody > tr {\n",
       "  text-align: right;\n",
       "  white-space: pre-wrap;\n",
       "}\n",
       "</style>\n",
       "<small>shape: (314_052_606, 3)</small><table border=\"1\" class=\"dataframe\"><thead><tr><th>user_id</th><th>article_id</th><th>clicked</th></tr><tr><td>u32</td><td>i32</td><td>i32</td></tr></thead><tbody><tr><td>13538</td><td>3001353</td><td>0</td></tr><tr><td>13538</td><td>3003065</td><td>0</td></tr><tr><td>13538</td><td>3012771</td><td>0</td></tr><tr><td>13538</td><td>3023463</td><td>0</td></tr><tr><td>13538</td><td>3032577</td><td>0</td></tr><tr><td>&hellip;</td><td>&hellip;</td><td>&hellip;</td></tr><tr><td>1710834</td><td>9803492</td><td>0</td></tr><tr><td>1710834</td><td>9803505</td><td>0</td></tr><tr><td>1710834</td><td>9803525</td><td>0</td></tr><tr><td>1710834</td><td>9803560</td><td>0</td></tr><tr><td>1710834</td><td>9803607</td><td>0</td></tr></tbody></table></div>"
      ],
      "text/plain": [
       "shape: (314_052_606, 3)\n",
       "┌─────────┬────────────┬─────────┐\n",
       "│ user_id ┆ article_id ┆ clicked │\n",
       "│ ---     ┆ ---        ┆ ---     │\n",
       "│ u32     ┆ i32        ┆ i32     │\n",
       "╞═════════╪════════════╪═════════╡\n",
       "│ 13538   ┆ 3001353    ┆ 0       │\n",
       "│ 13538   ┆ 3003065    ┆ 0       │\n",
       "│ 13538   ┆ 3012771    ┆ 0       │\n",
       "│ 13538   ┆ 3023463    ┆ 0       │\n",
       "│ 13538   ┆ 3032577    ┆ 0       │\n",
       "│ …       ┆ …          ┆ …       │\n",
       "│ 1710834 ┆ 9803492    ┆ 0       │\n",
       "│ 1710834 ┆ 9803505    ┆ 0       │\n",
       "│ 1710834 ┆ 9803525    ┆ 0       │\n",
       "│ 1710834 ┆ 9803560    ┆ 0       │\n",
       "│ 1710834 ┆ 9803607    ┆ 0       │\n",
       "└─────────┴────────────┴─────────┘"
      ]
     },
     "execution_count": 4,
     "metadata": {},
     "output_type": "execute_result"
    }
   ],
   "source": [
    "binary_interaction = user_item_binary_interaction(train_behavior_df, user_df, item_df)\n",
    "binary_interaction"
   ]
  },
  {
   "cell_type": "code",
   "execution_count": null,
   "metadata": {},
   "outputs": [
    {
     "ename": "ValueError",
     "evalue": "expected 3 values when selecting columns by boolean mask, got 314052606",
     "output_type": "error",
     "traceback": [
      "\u001b[0;31m---------------------------------------------------------------------------\u001b[0m",
      "\u001b[0;31mTypeError\u001b[0m                                 Traceback (most recent call last)",
      "File \u001b[0;32m~/Documents/Datatek/Recommender systems/TDT4215/venv/lib/python3.13/site-packages/polars/_utils/getitem.py:167\u001b[0m, in \u001b[0;36mget_df_item_by_key\u001b[0;34m(df, key)\u001b[0m\n\u001b[1;32m    166\u001b[0m \u001b[38;5;28;01mtry\u001b[39;00m:\n\u001b[0;32m--> 167\u001b[0m     \u001b[38;5;28;01mreturn\u001b[39;00m \u001b[43m_select_rows\u001b[49m\u001b[43m(\u001b[49m\u001b[43mdf\u001b[49m\u001b[43m,\u001b[49m\u001b[43m \u001b[49m\u001b[43mkey\u001b[49m\u001b[43m)\u001b[49m  \u001b[38;5;66;03m# type: ignore[arg-type]\u001b[39;00m\n\u001b[1;32m    168\u001b[0m \u001b[38;5;28;01mexcept\u001b[39;00m \u001b[38;5;167;01mTypeError\u001b[39;00m:\n",
      "File \u001b[0;32m~/Documents/Datatek/Recommender systems/TDT4215/venv/lib/python3.13/site-packages/polars/_utils/getitem.py:317\u001b[0m, in \u001b[0;36m_select_rows\u001b[0;34m(df, key)\u001b[0m\n\u001b[1;32m    316\u001b[0m \u001b[38;5;28;01melif\u001b[39;00m \u001b[38;5;28misinstance\u001b[39m(key, pl\u001b[38;5;241m.\u001b[39mSeries):\n\u001b[0;32m--> 317\u001b[0m     indices \u001b[38;5;241m=\u001b[39m \u001b[43m_convert_series_to_indices\u001b[49m\u001b[43m(\u001b[49m\u001b[43mkey\u001b[49m\u001b[43m,\u001b[49m\u001b[43m \u001b[49m\u001b[43mdf\u001b[49m\u001b[38;5;241;43m.\u001b[39;49m\u001b[43mheight\u001b[49m\u001b[43m)\u001b[49m\n\u001b[1;32m    318\u001b[0m     \u001b[38;5;28;01mreturn\u001b[39;00m _select_rows_by_index(df, indices)\n",
      "File \u001b[0;32m~/Documents/Datatek/Recommender systems/TDT4215/venv/lib/python3.13/site-packages/polars/_utils/getitem.py:358\u001b[0m, in \u001b[0;36m_convert_series_to_indices\u001b[0;34m(s, size)\u001b[0m\n\u001b[1;32m    357\u001b[0m \u001b[38;5;28;01mif\u001b[39;00m s\u001b[38;5;241m.\u001b[39mdtype \u001b[38;5;241m==\u001b[39m Boolean:\n\u001b[0;32m--> 358\u001b[0m     \u001b[43m_raise_on_boolean_mask\u001b[49m\u001b[43m(\u001b[49m\u001b[43m)\u001b[49m\n\u001b[1;32m    359\u001b[0m \u001b[38;5;28;01melse\u001b[39;00m:\n",
      "File \u001b[0;32m~/Documents/Datatek/Recommender systems/TDT4215/venv/lib/python3.13/site-packages/polars/_utils/getitem.py:455\u001b[0m, in \u001b[0;36m_raise_on_boolean_mask\u001b[0;34m()\u001b[0m\n\u001b[1;32m    451\u001b[0m msg \u001b[38;5;241m=\u001b[39m (\n\u001b[1;32m    452\u001b[0m     \u001b[38;5;124m\"\u001b[39m\u001b[38;5;124mselecting rows by passing a boolean mask to `__getitem__` is not supported\u001b[39m\u001b[38;5;124m\"\u001b[39m\n\u001b[1;32m    453\u001b[0m     \u001b[38;5;124m\"\u001b[39m\u001b[38;5;130;01m\\n\u001b[39;00m\u001b[38;5;130;01m\\n\u001b[39;00m\u001b[38;5;124mHint: Use the `filter` method instead.\u001b[39m\u001b[38;5;124m\"\u001b[39m\n\u001b[1;32m    454\u001b[0m )\n\u001b[0;32m--> 455\u001b[0m \u001b[38;5;28;01mraise\u001b[39;00m \u001b[38;5;167;01mTypeError\u001b[39;00m(msg)\n",
      "\u001b[0;31mTypeError\u001b[0m: selecting rows by passing a boolean mask to `__getitem__` is not supported\n\nHint: Use the `filter` method instead.",
      "\nDuring handling of the above exception, another exception occurred:\n",
      "\u001b[0;31mValueError\u001b[0m                                Traceback (most recent call last)",
      "Cell \u001b[0;32mIn[7], line 2\u001b[0m\n\u001b[1;32m      1\u001b[0m \u001b[38;5;66;03m# Count all the rows in the binary_interaction where click is 1\u001b[39;00m\n\u001b[0;32m----> 2\u001b[0m clicks \u001b[38;5;241m=\u001b[39m \u001b[43mbinary_interaction\u001b[49m\u001b[43m[\u001b[49m\u001b[43mbinary_interaction\u001b[49m\u001b[43m[\u001b[49m\u001b[38;5;124;43m'\u001b[39;49m\u001b[38;5;124;43mclicked\u001b[39;49m\u001b[38;5;124;43m'\u001b[39;49m\u001b[43m]\u001b[49m\u001b[43m \u001b[49m\u001b[38;5;241;43m==\u001b[39;49m\u001b[43m \u001b[49m\u001b[38;5;241;43m1\u001b[39;49m\u001b[43m]\u001b[49m\n\u001b[1;32m      3\u001b[0m clicks\n",
      "File \u001b[0;32m~/Documents/Datatek/Recommender systems/TDT4215/venv/lib/python3.13/site-packages/polars/dataframe/frame.py:1376\u001b[0m, in \u001b[0;36mDataFrame.__getitem__\u001b[0;34m(self, key)\u001b[0m\n\u001b[1;32m   1239\u001b[0m \u001b[38;5;28;01mdef\u001b[39;00m\u001b[38;5;250m \u001b[39m\u001b[38;5;21m__getitem__\u001b[39m(\n\u001b[1;32m   1240\u001b[0m     \u001b[38;5;28mself\u001b[39m,\n\u001b[1;32m   1241\u001b[0m     key: (\n\u001b[0;32m   (...)\u001b[0m\n\u001b[1;32m   1250\u001b[0m     ),\n\u001b[1;32m   1251\u001b[0m ) \u001b[38;5;241m-\u001b[39m\u001b[38;5;241m>\u001b[39m DataFrame \u001b[38;5;241m|\u001b[39m Series \u001b[38;5;241m|\u001b[39m Any:\n\u001b[1;32m   1252\u001b[0m \u001b[38;5;250m    \u001b[39m\u001b[38;5;124;03m\"\"\"\u001b[39;00m\n\u001b[1;32m   1253\u001b[0m \u001b[38;5;124;03m    Get part of the DataFrame as a new DataFrame, Series, or scalar.\u001b[39;00m\n\u001b[1;32m   1254\u001b[0m \n\u001b[0;32m   (...)\u001b[0m\n\u001b[1;32m   1374\u001b[0m \u001b[38;5;124;03m    └─────┴─────┴─────┘\u001b[39;00m\n\u001b[1;32m   1375\u001b[0m \u001b[38;5;124;03m    \"\"\"\u001b[39;00m\n\u001b[0;32m-> 1376\u001b[0m     \u001b[38;5;28;01mreturn\u001b[39;00m \u001b[43mget_df_item_by_key\u001b[49m\u001b[43m(\u001b[49m\u001b[38;5;28;43mself\u001b[39;49m\u001b[43m,\u001b[49m\u001b[43m \u001b[49m\u001b[43mkey\u001b[49m\u001b[43m)\u001b[49m\n",
      "File \u001b[0;32m~/Documents/Datatek/Recommender systems/TDT4215/venv/lib/python3.13/site-packages/polars/_utils/getitem.py:169\u001b[0m, in \u001b[0;36mget_df_item_by_key\u001b[0;34m(df, key)\u001b[0m\n\u001b[1;32m    167\u001b[0m     \u001b[38;5;28;01mreturn\u001b[39;00m _select_rows(df, key)  \u001b[38;5;66;03m# type: ignore[arg-type]\u001b[39;00m\n\u001b[1;32m    168\u001b[0m \u001b[38;5;28;01mexcept\u001b[39;00m \u001b[38;5;167;01mTypeError\u001b[39;00m:\n\u001b[0;32m--> 169\u001b[0m     \u001b[38;5;28;01mreturn\u001b[39;00m \u001b[43m_select_columns\u001b[49m\u001b[43m(\u001b[49m\u001b[43mdf\u001b[49m\u001b[43m,\u001b[49m\u001b[43m \u001b[49m\u001b[43mkey\u001b[49m\u001b[43m)\u001b[49m\n",
      "File \u001b[0;32m~/Documents/Datatek/Recommender systems/TDT4215/venv/lib/python3.13/site-packages/polars/_utils/getitem.py:231\u001b[0m, in \u001b[0;36m_select_columns\u001b[0;34m(df, key)\u001b[0m\n\u001b[1;32m    229\u001b[0m     \u001b[38;5;28;01mreturn\u001b[39;00m _select_columns_by_index(df, key)\n\u001b[1;32m    230\u001b[0m \u001b[38;5;28;01melif\u001b[39;00m dtype \u001b[38;5;241m==\u001b[39m Boolean:\n\u001b[0;32m--> 231\u001b[0m     \u001b[38;5;28;01mreturn\u001b[39;00m \u001b[43m_select_columns_by_mask\u001b[49m\u001b[43m(\u001b[49m\u001b[43mdf\u001b[49m\u001b[43m,\u001b[49m\u001b[43m \u001b[49m\u001b[43mkey\u001b[49m\u001b[43m)\u001b[49m\n\u001b[1;32m    232\u001b[0m \u001b[38;5;28;01melse\u001b[39;00m:\n\u001b[1;32m    233\u001b[0m     msg \u001b[38;5;241m=\u001b[39m \u001b[38;5;124mf\u001b[39m\u001b[38;5;124m\"\u001b[39m\u001b[38;5;124mcannot select columns using Series of type \u001b[39m\u001b[38;5;132;01m{\u001b[39;00mdtype\u001b[38;5;132;01m}\u001b[39;00m\u001b[38;5;124m\"\u001b[39m\n",
      "File \u001b[0;32m~/Documents/Datatek/Recommender systems/TDT4215/venv/lib/python3.13/site-packages/polars/_utils/getitem.py:275\u001b[0m, in \u001b[0;36m_select_columns_by_mask\u001b[0;34m(df, key)\u001b[0m\n\u001b[1;32m    273\u001b[0m \u001b[38;5;28;01mif\u001b[39;00m \u001b[38;5;28mlen\u001b[39m(key) \u001b[38;5;241m!=\u001b[39m df\u001b[38;5;241m.\u001b[39mwidth:\n\u001b[1;32m    274\u001b[0m     msg \u001b[38;5;241m=\u001b[39m \u001b[38;5;124mf\u001b[39m\u001b[38;5;124m\"\u001b[39m\u001b[38;5;124mexpected \u001b[39m\u001b[38;5;132;01m{\u001b[39;00mdf\u001b[38;5;241m.\u001b[39mwidth\u001b[38;5;132;01m}\u001b[39;00m\u001b[38;5;124m values when selecting columns by boolean mask, got \u001b[39m\u001b[38;5;132;01m{\u001b[39;00m\u001b[38;5;28mlen\u001b[39m(key)\u001b[38;5;132;01m}\u001b[39;00m\u001b[38;5;124m\"\u001b[39m\n\u001b[0;32m--> 275\u001b[0m     \u001b[38;5;28;01mraise\u001b[39;00m \u001b[38;5;167;01mValueError\u001b[39;00m(msg)\n\u001b[1;32m    277\u001b[0m indices \u001b[38;5;241m=\u001b[39m (i \u001b[38;5;28;01mfor\u001b[39;00m i, val \u001b[38;5;129;01min\u001b[39;00m \u001b[38;5;28menumerate\u001b[39m(key) \u001b[38;5;28;01mif\u001b[39;00m val)\n\u001b[1;32m    278\u001b[0m \u001b[38;5;28;01mreturn\u001b[39;00m _select_columns_by_index(df, indices)\n",
      "\u001b[0;31mValueError\u001b[0m: expected 3 values when selecting columns by boolean mask, got 314052606"
     ]
    }
   ],
   "source": [
    "# Count all the rows in the binary_interaction where click is 1\n",
    "clicks = binary_interaction.filter(binary_interaction.click == 1).count()"
   ]
  }
 ],
 "metadata": {
  "kernelspec": {
   "display_name": "venv",
   "language": "python",
   "name": "python3"
  },
  "language_info": {
   "codemirror_mode": {
    "name": "ipython",
    "version": 3
   },
   "file_extension": ".py",
   "mimetype": "text/x-python",
   "name": "python",
   "nbconvert_exporter": "python",
   "pygments_lexer": "ipython3",
   "version": "3.13.1"
  }
 },
 "nbformat": 4,
 "nbformat_minor": 2
}
