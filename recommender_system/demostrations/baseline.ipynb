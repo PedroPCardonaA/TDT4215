{
 "cells": [
  {
   "cell_type": "markdown",
   "metadata": {},
   "source": [
    "## Demostration of the user-items bias baseline model\n"
   ]
  },
  {
   "cell_type": "code",
   "execution_count": 9,
   "metadata": {},
   "outputs": [],
   "source": [
    "import sys\n",
    "import os\n",
    "\n",
    "parent_dir = os.path.abspath(os.path.join(os.getcwd(), \"..\"))\n",
    "sys.path.append(parent_dir)\n",
    "from utils.process_data import user_item_interaction_scores\n",
    "from parquet_data_reader import ParquetDataReader\n",
    "from models.baseline import UserItemBiasRecommender\n",
    "\n",
    "import polars as pl\n",
    "import numpy as np\n",
    "parquet_reader = ParquetDataReader()"
   ]
  },
  {
   "cell_type": "markdown",
   "metadata": {},
   "source": [
    "### Reading data"
   ]
  },
  {
   "cell_type": "code",
   "execution_count": 10,
   "metadata": {},
   "outputs": [],
   "source": [
    "train_behavior_df = parquet_reader.read_data(\"../../data/train/behaviors.parquet\")\n",
    "embeddings_df = parquet_reader.read_data(\"../../data/document_vector.parquet\")\n",
    "article_df = parquet_reader.read_data(\"../../data/articles.parquet\")\n",
    "test_behavior_df = parquet_reader.read_data(\"../../data/validation/behaviors.parquet\")\n",
    "processed_behavior_df = user_item_interaction_scores(train_behavior_df, article=article_df)\n"
   ]
  },
  {
   "cell_type": "code",
   "execution_count": 11,
   "metadata": {},
   "outputs": [
    {
     "data": {
      "text/plain": [
       "Schema([('user_id', UInt32),\n",
       "        ('article_id', Int32),\n",
       "        ('impression_time', Datetime(time_unit='us', time_zone=None)),\n",
       "        ('score', Float64)])"
      ]
     },
     "execution_count": 11,
     "metadata": {},
     "output_type": "execute_result"
    }
   ],
   "source": [
    "processed_behavior_df.schema"
   ]
  },
  {
   "cell_type": "code",
   "execution_count": 12,
   "metadata": {},
   "outputs": [
    {
     "data": {
      "text/html": [
       "<div><style>\n",
       ".dataframe > thead > tr,\n",
       ".dataframe > tbody > tr {\n",
       "  text-align: right;\n",
       "  white-space: pre-wrap;\n",
       "}\n",
       "</style>\n",
       "<small>shape: (5, 4)</small><table border=\"1\" class=\"dataframe\"><thead><tr><th>user_id</th><th>article_id</th><th>impression_time</th><th>score</th></tr><tr><td>u32</td><td>i32</td><td>datetime[μs]</td><td>f64</td></tr></thead><tbody><tr><td>333882</td><td>9773697</td><td>2023-05-20 16:06:25</td><td>0.697158</td></tr><tr><td>178179</td><td>9757574</td><td>2023-05-21 12:37:44</td><td>0.763139</td></tr><tr><td>1036465</td><td>9777034</td><td>2023-05-24 06:27:18</td><td>0.534629</td></tr><tr><td>358303</td><td>9770450</td><td>2023-05-21 05:01:00</td><td>0.791902</td></tr><tr><td>1770038</td><td>9777492</td><td>2023-05-24 08:26:50</td><td>0.593415</td></tr></tbody></table></div>"
      ],
      "text/plain": [
       "shape: (5, 4)\n",
       "┌─────────┬────────────┬─────────────────────┬──────────┐\n",
       "│ user_id ┆ article_id ┆ impression_time     ┆ score    │\n",
       "│ ---     ┆ ---        ┆ ---                 ┆ ---      │\n",
       "│ u32     ┆ i32        ┆ datetime[μs]        ┆ f64      │\n",
       "╞═════════╪════════════╪═════════════════════╪══════════╡\n",
       "│ 333882  ┆ 9773697    ┆ 2023-05-20 16:06:25 ┆ 0.697158 │\n",
       "│ 178179  ┆ 9757574    ┆ 2023-05-21 12:37:44 ┆ 0.763139 │\n",
       "│ 1036465 ┆ 9777034    ┆ 2023-05-24 06:27:18 ┆ 0.534629 │\n",
       "│ 358303  ┆ 9770450    ┆ 2023-05-21 05:01:00 ┆ 0.791902 │\n",
       "│ 1770038 ┆ 9777492    ┆ 2023-05-24 08:26:50 ┆ 0.593415 │\n",
       "└─────────┴────────────┴─────────────────────┴──────────┘"
      ]
     },
     "execution_count": 12,
     "metadata": {},
     "output_type": "execute_result"
    }
   ],
   "source": [
    "processed_behavior_df.head(5)"
   ]
  },
  {
   "cell_type": "markdown",
   "metadata": {},
   "source": [
    "### Create and fit the model"
   ]
  },
  {
   "cell_type": "code",
   "execution_count": 13,
   "metadata": {},
   "outputs": [],
   "source": [
    "model = UserItemBiasRecommender(processed_behavior_df)\n",
    "model.fit()\n"
   ]
  },
  {
   "cell_type": "markdown",
   "metadata": {},
   "source": [
    "### Recommendations"
   ]
  },
  {
   "cell_type": "code",
   "execution_count": 14,
   "metadata": {},
   "outputs": [
    {
     "data": {
      "text/plain": [
       "[9514727, 9667501, 9714376, 9419945, 9761391]"
      ]
     },
     "execution_count": 14,
     "metadata": {},
     "output_type": "execute_result"
    }
   ],
   "source": [
    "model.recommend(2423448)"
   ]
  },
  {
   "cell_type": "code",
   "execution_count": 15,
   "metadata": {},
   "outputs": [
    {
     "data": {
      "text/plain": [
       "0.841934084892273"
      ]
     },
     "execution_count": 15,
     "metadata": {},
     "output_type": "execute_result"
    }
   ],
   "source": [
    "model.predict(2423448,9714376)"
   ]
  },
  {
   "cell_type": "markdown",
   "metadata": {},
   "source": [
    "### Evaluation"
   ]
  },
  {
   "cell_type": "code",
   "execution_count": 17,
   "metadata": {},
   "outputs": [
    {
     "name": "stdout",
     "output_type": "stream",
     "text": [
      "Results\n"
     ]
    },
    {
     "data": {
      "text/plain": [
       "{'Precision@K': np.float64(0.0002),\n",
       " 'NDCG@K': np.float64(0.0003391602052736161)}"
      ]
     },
     "execution_count": 17,
     "metadata": {},
     "output_type": "execute_result"
    }
   ],
   "source": [
    "results = model.evaluate_recommender(test_data=test_behavior_df,k=5,n_jobs=4,user_sample=1000)\n",
    "print(\"Results\")\n",
    "results"
   ]
  },
  {
   "cell_type": "code",
   "execution_count": null,
   "metadata": {},
   "outputs": [],
   "source": []
  }
 ],
 "metadata": {
  "kernelspec": {
   "display_name": "venv",
   "language": "python",
   "name": "python3"
  },
  "language_info": {
   "codemirror_mode": {
    "name": "ipython",
    "version": 3
   },
   "file_extension": ".py",
   "mimetype": "text/x-python",
   "name": "python",
   "nbconvert_exporter": "python",
   "pygments_lexer": "ipython3",
   "version": "3.12.7"
  }
 },
 "nbformat": 4,
 "nbformat_minor": 2
}
