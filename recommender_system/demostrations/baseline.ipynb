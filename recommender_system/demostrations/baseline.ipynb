{
 "cells": [
  {
   "cell_type": "markdown",
   "metadata": {},
   "source": [
    "## Demostration of the user-items bias baseline model\n"
   ]
  },
  {
   "cell_type": "code",
   "execution_count": 39,
   "metadata": {
    "ExecuteTime": {
     "end_time": "2025-02-06T10:08:15.100039Z",
     "start_time": "2025-02-06T10:08:14.574723Z"
    }
   },
   "outputs": [],
   "source": [
    "import sys\n",
    "import os\n",
    "\n",
    "parent_dir = os.path.abspath(os.path.join(os.getcwd(), \"..\"))\n",
    "sys.path.append(parent_dir)\n",
    "from utils.process_data import user_item_interaction_scores\n",
    "from utils.data_exploration import perform_eda\n",
    "from parquet_data_reader import ParquetDataReader\n",
    "from models.baseline import UserItemBiasRecommender\n",
    "\n",
    "import polars as pl\n",
    "import numpy as np\n",
    "parquet_reader = ParquetDataReader()"
   ]
  },
  {
   "cell_type": "markdown",
   "metadata": {},
   "source": [
    "### Reading data"
   ]
  },
  {
   "cell_type": "code",
   "execution_count": 40,
   "metadata": {
    "ExecuteTime": {
     "end_time": "2025-02-06T10:08:17.268403Z",
     "start_time": "2025-02-06T10:08:16.648824Z"
    }
   },
   "outputs": [],
   "source": [
    "train_behavior_df = parquet_reader.read_data(\"../../data/train/behaviors.parquet\")\n",
    "embeddings_df = parquet_reader.read_data(\"../../data/document_vector.parquet\")\n",
    "article_df = parquet_reader.read_data(\"../../data/articles.parquet\")\n",
    "test_behavior_df = parquet_reader.read_data(\"../../data/validation/behaviors.parquet\")\n",
    "processed_behavior_df = user_item_interaction_scores(train_behavior_df, article=article_df)"
   ]
  },
  {
   "cell_type": "code",
   "execution_count": 41,
   "metadata": {},
   "outputs": [
    {
     "name": "stdout",
     "output_type": "stream",
     "text": [
      "=== Articles Dataframe Schema ===\n",
      "Schema([('article_id', Int32), ('title', String), ('subtitle', String), ('last_modified_time', Datetime(time_unit='us', time_zone=None)), ('premium', Boolean), ('body', String), ('published_time', Datetime(time_unit='us', time_zone=None)), ('image_ids', List(Int64)), ('article_type', String), ('url', String), ('ner_clusters', List(String)), ('entity_groups', List(String)), ('topics', List(String)), ('category', Int16), ('subcategory', List(Int16)), ('category_str', String), ('total_inviews', Int32), ('total_pageviews', Int32), ('total_read_time', Float32), ('sentiment_score', Float32), ('sentiment_label', String)])\n",
      "\n",
      "=== Articles Dataframe describe() ===\n",
      "shape: (9, 22)\n",
      "┌───────────┬───────────┬───────────┬───────────┬───┬───────────┬───────────┬───────────┬──────────┐\n",
      "│ statistic ┆ article_i ┆ title     ┆ subtitle  ┆ … ┆ total_pag ┆ total_rea ┆ sentiment ┆ sentimen │\n",
      "│ ---       ┆ d         ┆ ---       ┆ ---       ┆   ┆ eviews    ┆ d_time    ┆ _score    ┆ t_label  │\n",
      "│ str       ┆ ---       ┆ str       ┆ str       ┆   ┆ ---       ┆ ---       ┆ ---       ┆ ---      │\n",
      "│           ┆ f64       ┆           ┆           ┆   ┆ f64       ┆ f64       ┆ f64       ┆ str      │\n",
      "╞═══════════╪═══════════╪═══════════╪═══════════╪═══╪═══════════╪═══════════╪═══════════╪══════════╡\n",
      "│ count     ┆ 20738.0   ┆ 20738     ┆ 20738     ┆ … ┆ 9856.0    ┆ 9856.0    ┆ 20738.0   ┆ 20738    │\n",
      "│ null_coun ┆ 0.0       ┆ 0         ┆ 0         ┆ … ┆ 10882.0   ┆ 10882.0   ┆ 0.0       ┆ 0        │\n",
      "│ t         ┆           ┆           ┆           ┆   ┆           ┆           ┆           ┆          │\n",
      "│ mean      ┆ 8.7798e6  ┆ null      ┆ null      ┆ … ┆ 62155.205 ┆ 3.7676e6  ┆ 0.824983  ┆ null     │\n",
      "│           ┆           ┆           ┆           ┆   ┆ 662       ┆           ┆           ┆          │\n",
      "│ std       ┆ 1.6683e6  ┆ null      ┆ null      ┆ … ┆ 63706.618 ┆ 4988663.5 ┆ 0.157419  ┆ null     │\n",
      "│           ┆           ┆           ┆           ┆   ┆ 17        ┆           ┆           ┆          │\n",
      "│ min       ┆ 3.001353e ┆           ┆           ┆ … ┆ 1.0       ┆ 0.0       ┆ 0.3449    ┆ Negative │\n",
      "│           ┆ 6         ┆           ┆           ┆   ┆           ┆           ┆           ┆          │\n",
      "│ 25%       ┆ 8.834714e ┆ null      ┆ null      ┆ … ┆ 12813.0   ┆ 667781.0  ┆ 0.6932    ┆ null     │\n",
      "│           ┆ 6         ┆           ┆           ┆   ┆           ┆           ┆           ┆          │\n",
      "│ 50%       ┆ 9.609911e ┆ null      ┆ null      ┆ … ┆ 49341.0   ┆ 2.767916e ┆ 0.8704    ┆ null     │\n",
      "│           ┆ 6         ┆           ┆           ┆   ┆           ┆ 6         ┆           ┆          │\n",
      "│ 75%       ┆ 9.745302e ┆ null      ┆ null      ┆ … ┆ 92197.0   ┆ 5.252501e ┆ 0.9726    ┆ null     │\n",
      "│           ┆ 6         ┆           ┆           ┆   ┆           ┆ 6         ┆           ┆          │\n",
      "│ max       ┆ 9.803607e ┆ ”Vi ved,  ┆ “Nøgen i  ┆ … ┆ 1.637751e ┆ 2.1817555 ┆ 0.9983    ┆ Positive │\n",
      "│           ┆ 6         ┆ hvor      ┆ mine      ┆   ┆ 6         ┆ 2e8       ┆           ┆          │\n",
      "│           ┆           ┆ vigtigt   ┆ sutsko”   ┆   ┆           ┆           ┆           ┆          │\n",
      "│           ┆           ┆ det er f… ┆ er det k… ┆   ┆           ┆           ┆           ┆          │\n",
      "└───────────┴───────────┴───────────┴───────────┴───┴───────────┴───────────┴───────────┴──────────┘\n",
      "\n",
      "=== Articles Dataframe head() ===\n",
      "shape: (5, 21)\n",
      "┌───────────┬───────────┬───────────┬───────────┬───┬───────────┬───────────┬───────────┬──────────┐\n",
      "│ article_i ┆ title     ┆ subtitle  ┆ last_modi ┆ … ┆ total_pag ┆ total_rea ┆ sentiment ┆ sentimen │\n",
      "│ d         ┆ ---       ┆ ---       ┆ fied_time ┆   ┆ eviews    ┆ d_time    ┆ _score    ┆ t_label  │\n",
      "│ ---       ┆ str       ┆ str       ┆ ---       ┆   ┆ ---       ┆ ---       ┆ ---       ┆ ---      │\n",
      "│ i32       ┆           ┆           ┆ datetime[ ┆   ┆ i32       ┆ f32       ┆ f32       ┆ str      │\n",
      "│           ┆           ┆           ┆ μs]       ┆   ┆           ┆           ┆           ┆          │\n",
      "╞═══════════╪═══════════╪═══════════╪═══════════╪═══╪═══════════╪═══════════╪═══════════╪══════════╡\n",
      "│ 3001353   ┆ Natascha  ┆ Politiet  ┆ 2023-06-2 ┆ … ┆ null      ┆ null      ┆ 0.9955    ┆ Negative │\n",
      "│           ┆ var ikke  ┆ frygter   ┆ 9         ┆   ┆           ┆           ┆           ┆          │\n",
      "│           ┆ den       ┆ nu, at    ┆ 06:20:33  ┆   ┆           ┆           ┆           ┆          │\n",
      "│           ┆ første    ┆ Natasc…   ┆           ┆   ┆           ┆           ┆           ┆          │\n",
      "│ 3003065   ┆ Kun Star  ┆ Biografgæ ┆ 2023-06-2 ┆ … ┆ null      ┆ null      ┆ 0.846     ┆ Positive │\n",
      "│           ┆ Wars      ┆ ngerne    ┆ 9         ┆   ┆           ┆           ┆           ┆          │\n",
      "│           ┆ tjente    ┆ strømmer  ┆ 06:20:35  ┆   ┆           ┆           ┆           ┆          │\n",
      "│           ┆ mere      ┆ ind f…    ┆           ┆   ┆           ┆           ┆           ┆          │\n",
      "│ 3012771   ┆ Morten    ┆ FODBOLD:  ┆ 2023-06-2 ┆ … ┆ null      ┆ null      ┆ 0.8241    ┆ Negative │\n",
      "│           ┆ Bruun     ┆ Morten    ┆ 9         ┆   ┆           ┆           ┆           ┆          │\n",
      "│           ┆ fyret i   ┆ Bruun     ┆ 06:20:39  ┆   ┆           ┆           ┆           ┆          │\n",
      "│           ┆ Sønderjys ┆ fyret me… ┆           ┆   ┆           ┆           ┆           ┆          │\n",
      "│           ┆ …         ┆           ┆           ┆   ┆           ┆           ┆           ┆          │\n",
      "│ 3023463   ┆ Luderne   ┆ I landets ┆ 2023-06-2 ┆ … ┆ null      ┆ null      ┆ 0.7053    ┆ Neutral  │\n",
      "│           ┆ flytter   ┆ tyndest   ┆ 9         ┆   ┆           ┆           ┆           ┆          │\n",
      "│           ┆ på landet ┆ befolkede ┆ 06:20:43  ┆   ┆           ┆           ┆           ┆          │\n",
      "│           ┆           ┆ om…       ┆           ┆   ┆           ┆           ┆           ┆          │\n",
      "│ 3032577   ┆ Cybersex: ┆ En        ┆ 2023-06-2 ┆ … ┆ null      ┆ null      ┆ 0.9307    ┆ Neutral  │\n",
      "│           ┆ Hvornår   ┆ flirtende ┆ 9         ┆   ┆           ┆           ┆           ┆          │\n",
      "│           ┆ er man    ┆ sms til   ┆ 06:20:46  ┆   ┆           ┆           ┆           ┆          │\n",
      "│           ┆ utro?     ┆ den       ┆           ┆   ┆           ┆           ┆           ┆          │\n",
      "│           ┆           ┆ flott…    ┆           ┆   ┆           ┆           ┆           ┆          │\n",
      "└───────────┴───────────┴───────────┴───────────┴───┴───────────┴───────────┴───────────┴──────────┘\n",
      "\n",
      "=== Articles Dataframe Null Counts ===\n",
      "{'article_id': 0, 'title': 0, 'subtitle': 0, 'last_modified_time': 0, 'premium': 0, 'body': 0, 'published_time': 0, 'image_ids': 1878, 'article_type': 0, 'url': 0, 'ner_clusters': 0, 'entity_groups': 0, 'topics': 0, 'category': 0, 'subcategory': 0, 'category_str': 0, 'total_inviews': 10770, 'total_pageviews': 10882, 'total_read_time': 10882, 'sentiment_score': 0, 'sentiment_label': 0}\n"
     ]
    }
   ],
   "source": [
    "# Performs an exploratory data analysis on the articles\n",
    "# This prints the basic information about the data\n",
    "perform_eda(article_df, name=\"Articles Dataframe\")"
   ]
  },
  {
   "cell_type": "code",
   "execution_count": 42,
   "metadata": {},
   "outputs": [
    {
     "name": "stdout",
     "output_type": "stream",
     "text": [
      "=== Processed Behavior Dataframe Schema ===\n",
      "Schema([('user_id', UInt32), ('article_id', Int32), ('impression_time', Datetime(time_unit='us', time_zone=None)), ('score', Float64)])\n",
      "\n",
      "=== Processed Behavior Dataframe describe() ===\n",
      "shape: (9, 5)\n",
      "┌────────────┬───────────────┬───────────────┬────────────────────────────┬──────────┐\n",
      "│ statistic  ┆ user_id       ┆ article_id    ┆ impression_time            ┆ score    │\n",
      "│ ---        ┆ ---           ┆ ---           ┆ ---                        ┆ ---      │\n",
      "│ str        ┆ f64           ┆ f64           ┆ str                        ┆ f64      │\n",
      "╞════════════╪═══════════════╪═══════════════╪════════════════════════════╪══════════╡\n",
      "│ count      ┆ 53349.0       ┆ 53349.0       ┆ 53349                      ┆ 52004.0  │\n",
      "│ null_count ┆ 0.0           ┆ 0.0           ┆ 0                          ┆ 1345.0   │\n",
      "│ mean       ┆ 1.3239e6      ┆ 9.7647e6      ┆ 2023-05-21 18:14:12.956868 ┆ 0.627594 │\n",
      "│ std        ┆ 733898.681736 ┆ 135439.146612 ┆ null                       ┆ 0.092245 │\n",
      "│ min        ┆ 10068.0       ┆ 3.198681e6    ┆ 2023-05-18 07:00:07        ┆ 0.192546 │\n",
      "│ 25%        ┆ 697684.0      ┆ 9.772038e6    ┆ 2023-05-19 20:24:32        ┆ 0.576248 │\n",
      "│ 50%        ┆ 1.341414e6    ┆ 9.774352e6    ┆ 2023-05-21 17:46:12        ┆ 0.633611 │\n",
      "│ 75%        ┆ 1.962928e6    ┆ 9.776882e6    ┆ 2023-05-23 11:48:38        ┆ 0.68502  │\n",
      "│ max        ┆ 2.590571e6    ┆ 9.780271e6    ┆ 2023-05-25 06:59:56        ┆ 0.998828 │\n",
      "└────────────┴───────────────┴───────────────┴────────────────────────────┴──────────┘\n",
      "\n",
      "=== Processed Behavior Dataframe head() ===\n",
      "shape: (5, 4)\n",
      "┌─────────┬────────────┬─────────────────────┬──────────┐\n",
      "│ user_id ┆ article_id ┆ impression_time     ┆ score    │\n",
      "│ ---     ┆ ---        ┆ ---                 ┆ ---      │\n",
      "│ u32     ┆ i32        ┆ datetime[μs]        ┆ f64      │\n",
      "╞═════════╪════════════╪═════════════════════╪══════════╡\n",
      "│ 46461   ┆ 9775722    ┆ 2023-05-22 10:44:38 ┆ 0.714473 │\n",
      "│ 1763407 ┆ 9769424    ┆ 2023-05-18 19:25:00 ┆ 0.559072 │\n",
      "│ 1766135 ┆ 9773003    ┆ 2023-05-21 10:43:54 ┆ 0.656619 │\n",
      "│ 175621  ┆ 9775776    ┆ 2023-05-22 09:41:54 ┆ 0.774188 │\n",
      "│ 1946559 ┆ 9775713    ┆ 2023-05-23 07:19:12 ┆ 0.65666  │\n",
      "└─────────┴────────────┴─────────────────────┴──────────┘\n",
      "\n",
      "=== Processed Behavior Dataframe Null Counts ===\n",
      "{'user_id': 0, 'article_id': 0, 'impression_time': 0, 'score': 1345}\n"
     ]
    }
   ],
   "source": [
    "# Performs an exploratory data analysis on the processed behavior data\n",
    "# This prints the basic information about the data\n",
    "perform_eda(processed_behavior_df, name=\"Processed Behavior Dataframe\")"
   ]
  },
  {
   "cell_type": "markdown",
   "metadata": {},
   "source": [
    "### Create and fit the model"
   ]
  },
  {
   "cell_type": "code",
   "execution_count": 43,
   "metadata": {},
   "outputs": [],
   "source": [
    "model = UserItemBiasRecommender(processed_behavior_df)\n",
    "model.fit()\n"
   ]
  },
  {
   "cell_type": "markdown",
   "metadata": {},
   "source": [
    "### Recommendations"
   ]
  },
  {
   "cell_type": "code",
   "execution_count": 44,
   "metadata": {},
   "outputs": [
    {
     "data": {
      "text/plain": [
       "[9514727, 9667501, 9714376, 9419945, 9761391]"
      ]
     },
     "execution_count": 44,
     "metadata": {},
     "output_type": "execute_result"
    }
   ],
   "source": [
    "model.recommend(2423448)"
   ]
  },
  {
   "cell_type": "code",
   "execution_count": 45,
   "metadata": {},
   "outputs": [
    {
     "data": {
      "text/plain": [
       "0.841934084892273"
      ]
     },
     "execution_count": 45,
     "metadata": {},
     "output_type": "execute_result"
    }
   ],
   "source": [
    "model.predict(2423448,9714376)"
   ]
  },
  {
   "cell_type": "markdown",
   "metadata": {},
   "source": [
    "### Evaluation"
   ]
  },
  {
   "cell_type": "code",
   "execution_count": 46,
   "metadata": {},
   "outputs": [
    {
     "name": "stdout",
     "output_type": "stream",
     "text": [
      "Results\n"
     ]
    },
    {
     "data": {
      "text/plain": [
       "{'Precision@K': np.float64(0.0), 'NDCG@K': np.float64(0.0)}"
      ]
     },
     "execution_count": 46,
     "metadata": {},
     "output_type": "execute_result"
    }
   ],
   "source": [
    "results = model.evaluate_recommender(test_data=test_behavior_df,k=5,n_jobs=4,user_sample=1000)\n",
    "print(\"Results\")\n",
    "results"
   ]
  },
  {
   "cell_type": "code",
   "execution_count": null,
   "metadata": {},
   "outputs": [],
   "source": []
  }
 ],
 "metadata": {
  "kernelspec": {
   "display_name": "venv",
   "language": "python",
   "name": "python3"
  },
  "language_info": {
   "codemirror_mode": {
    "name": "ipython",
    "version": 3
   },
   "file_extension": ".py",
   "mimetype": "text/x-python",
   "name": "python",
   "nbconvert_exporter": "python",
   "pygments_lexer": "ipython3",
   "version": "3.11.9"
  }
 },
 "nbformat": 4,
 "nbformat_minor": 2
}
