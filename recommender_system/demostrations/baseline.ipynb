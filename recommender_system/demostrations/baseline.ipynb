{
 "cells": [
  {
   "cell_type": "markdown",
   "metadata": {},
   "source": [
    "## Demonstration of the user-items bias baseline model\n",
    "In this file, the demonstration of how the user-item bias baseline model recommends news for a user is presented. \n",
    "It also includes the evaluation of the recommender model by calculating the metrics *Precision@K and NDCG@K*."
   ]
  },
  {
   "cell_type": "code",
   "execution_count": 4,
   "metadata": {
    "ExecuteTime": {
     "end_time": "2025-02-06T10:08:15.100039Z",
     "start_time": "2025-02-06T10:08:14.574723Z"
    }
   },
   "outputs": [],
   "source": [
    "import sys\n",
    "import os\n",
    "\n",
    "parent_dir = os.path.abspath(os.path.join(os.getcwd(), \"..\"))\n",
    "sys.path.append(parent_dir)\n",
    "from utils.process_data import user_item_interaction_scores\n",
    "from parquet_data_reader import ParquetDataReader\n",
    "from models.baseline import UserItemBiasRecommender\n",
    "\n",
    "\n",
    "import polars as pl\n",
    "pl.Config.set_tbl_cols(-1)\n",
    "import numpy as np\n",
    "parquet_reader = ParquetDataReader()"
   ]
  },
  {
   "cell_type": "markdown",
   "metadata": {},
   "source": [
    "### Reading the data and processing it"
   ]
  },
  {
   "cell_type": "code",
   "execution_count": 5,
   "metadata": {
    "ExecuteTime": {
     "end_time": "2025-02-06T10:08:17.268403Z",
     "start_time": "2025-02-06T10:08:16.648824Z"
    }
   },
   "outputs": [],
   "source": [
    "train_behavior_df = parquet_reader.read_data(\"../../data/train/behaviors.parquet\")\n",
    "embeddings_df = parquet_reader.read_data(\"../../data/document_vector.parquet\")\n",
    "article_df = parquet_reader.read_data(\"../../data/articles.parquet\")\n",
    "test_behavior_df = parquet_reader.read_data(\"../../data/validation/behaviors.parquet\")\n",
    "processed_behavior_df = user_item_interaction_scores(train_behavior_df, article=article_df)"
   ]
  },
  {
   "cell_type": "markdown",
   "metadata": {},
   "source": [
    "### Create and fit the model"
   ]
  },
  {
   "cell_type": "code",
   "execution_count": null,
   "metadata": {},
   "outputs": [],
   "source": [
    "model = UserItemBiasRecommender(processed_behavior_df)\n",
    "model.fit()"
   ]
  },
  {
   "cell_type": "markdown",
   "metadata": {},
   "source": [
    "### Recommendations\n",
    "Produces the recommended article-ids for the provided user id.\n",
    "\n",
    "It uses the function: *r_hat(u, i) = mu + b_u + b_i*"
   ]
  },
  {
   "cell_type": "code",
   "execution_count": 7,
   "metadata": {},
   "outputs": [
    {
     "data": {
      "text/plain": [
       "[9514727, 9667501, 9714376, 9419945, 9761391]"
      ]
     },
     "execution_count": 7,
     "metadata": {},
     "output_type": "execute_result"
    }
   ],
   "source": [
    "model.recommend(2423448)"
   ]
  },
  {
   "cell_type": "code",
   "execution_count": 8,
   "metadata": {},
   "outputs": [
    {
     "data": {
      "text/plain": [
       "0.841934084892273"
      ]
     },
     "execution_count": 8,
     "metadata": {},
     "output_type": "execute_result"
    }
   ],
   "source": [
    "model.predict(2423448,9714376)"
   ]
  },
  {
   "cell_type": "markdown",
   "metadata": {},
   "source": [
    "### Evaluation\n",
    "Prints the *Precision@K and NDCG@K* metrics for the evaluation of the recommender."
   ]
  },
  {
   "cell_type": "code",
   "execution_count": 9,
   "metadata": {},
   "outputs": [
    {
     "name": "stdout",
     "output_type": "stream",
     "text": [
      "Results\n"
     ]
    },
    {
     "data": {
      "text/plain": [
       "{'Precision@K': np.float64(0.0), 'NDCG@K': np.float64(0.0)}"
      ]
     },
     "execution_count": 9,
     "metadata": {},
     "output_type": "execute_result"
    }
   ],
   "source": [
    "results = model.evaluate_recommender(test_data=test_behavior_df,k=5,n_jobs=4,user_sample=1000)\n",
    "print(\"Results\")\n",
    "results"
   ]
  }
 ],
 "metadata": {
  "kernelspec": {
   "display_name": "venv",
   "language": "python",
   "name": "python3"
  },
  "language_info": {
   "codemirror_mode": {
    "name": "ipython",
    "version": 3
   },
   "file_extension": ".py",
   "mimetype": "text/x-python",
   "name": "python",
   "nbconvert_exporter": "python",
   "pygments_lexer": "ipython3",
   "version": "3.11.9"
  }
 },
 "nbformat": 4,
 "nbformat_minor": 2
}
