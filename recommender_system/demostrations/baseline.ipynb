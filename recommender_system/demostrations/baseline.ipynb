{
 "cells": [
  {
   "cell_type": "markdown",
   "metadata": {},
   "source": [
    "## Demostration of the user-items bias baseline model\n"
   ]
  },
  {
   "cell_type": "code",
   "execution_count": 45,
   "metadata": {
    "ExecuteTime": {
     "end_time": "2025-02-06T10:08:15.100039Z",
     "start_time": "2025-02-06T10:08:14.574723Z"
    }
   },
   "outputs": [
    {
     "ename": "ImportError",
     "evalue": "cannot import name 'quick_eda' from 'utils.process_data' (c:\\Users\\magnu\\NewDesk\\An.sys\\TDT4215\\recommender_system\\utils\\process_data.py)",
     "output_type": "error",
     "traceback": [
      "\u001b[1;31m---------------------------------------------------------------------------\u001b[0m",
      "\u001b[1;31mImportError\u001b[0m                               Traceback (most recent call last)",
      "Cell \u001b[1;32mIn[45], line 7\u001b[0m\n\u001b[0;32m      5\u001b[0m sys\u001b[38;5;241m.\u001b[39mpath\u001b[38;5;241m.\u001b[39mappend(parent_dir)\n\u001b[0;32m      6\u001b[0m \u001b[38;5;28;01mfrom\u001b[39;00m\u001b[38;5;250m \u001b[39m\u001b[38;5;21;01mutils\u001b[39;00m\u001b[38;5;21;01m.\u001b[39;00m\u001b[38;5;21;01mprocess_data\u001b[39;00m\u001b[38;5;250m \u001b[39m\u001b[38;5;28;01mimport\u001b[39;00m user_item_interaction_scores\n\u001b[1;32m----> 7\u001b[0m \u001b[38;5;28;01mfrom\u001b[39;00m\u001b[38;5;250m \u001b[39m\u001b[38;5;21;01mutils\u001b[39;00m\u001b[38;5;21;01m.\u001b[39;00m\u001b[38;5;21;01mprocess_data\u001b[39;00m\u001b[38;5;250m \u001b[39m\u001b[38;5;28;01mimport\u001b[39;00m quick_eda\n\u001b[0;32m      8\u001b[0m \u001b[38;5;28;01mfrom\u001b[39;00m\u001b[38;5;250m \u001b[39m\u001b[38;5;21;01mparquet_data_reader\u001b[39;00m\u001b[38;5;250m \u001b[39m\u001b[38;5;28;01mimport\u001b[39;00m ParquetDataReader\n\u001b[0;32m      9\u001b[0m \u001b[38;5;28;01mfrom\u001b[39;00m\u001b[38;5;250m \u001b[39m\u001b[38;5;21;01mmodels\u001b[39;00m\u001b[38;5;21;01m.\u001b[39;00m\u001b[38;5;21;01mbaseline\u001b[39;00m\u001b[38;5;250m \u001b[39m\u001b[38;5;28;01mimport\u001b[39;00m UserItemBiasRecommender\n",
      "\u001b[1;31mImportError\u001b[0m: cannot import name 'quick_eda' from 'utils.process_data' (c:\\Users\\magnu\\NewDesk\\An.sys\\TDT4215\\recommender_system\\utils\\process_data.py)"
     ]
    }
   ],
   "source": [
    "import sys\n",
    "import os\n",
    "\n",
    "parent_dir = os.path.abspath(os.path.join(os.getcwd(), \"..\"))\n",
    "sys.path.append(parent_dir)\n",
    "from utils.process_data import user_item_interaction_scores\n",
    "from utils.process_data import quick_eda\n",
    "from parquet_data_reader import ParquetDataReader\n",
    "from models.baseline import UserItemBiasRecommender\n",
    "\n",
    "import polars as pl\n",
    "import numpy as np\n",
    "parquet_reader = ParquetDataReader()"
   ]
  },
  {
   "cell_type": "markdown",
   "metadata": {},
   "source": [
    "### Reading data"
   ]
  },
  {
   "cell_type": "code",
   "execution_count": 36,
   "metadata": {
    "ExecuteTime": {
     "end_time": "2025-02-06T10:08:17.268403Z",
     "start_time": "2025-02-06T10:08:16.648824Z"
    }
   },
   "outputs": [],
   "source": [
    "train_behavior_df = parquet_reader.read_data(\"../../data/train/behaviors.parquet\")\n",
    "embeddings_df = parquet_reader.read_data(\"../../data/document_vector.parquet\")\n",
    "article_df = parquet_reader.read_data(\"../../data/articles.parquet\")\n",
    "test_behavior_df = parquet_reader.read_data(\"../../data/validation/behaviors.parquet\")\n",
    "processed_behavior_df = user_item_interaction_scores(train_behavior_df, article=article_df)\n"
   ]
  },
  {
   "cell_type": "code",
   "execution_count": 37,
   "metadata": {
    "ExecuteTime": {
     "end_time": "2025-02-06T10:08:45.330456Z",
     "start_time": "2025-02-06T10:08:45.307700Z"
    }
   },
   "outputs": [
    {
     "data": {
      "text/plain": [
       "Schema([('user_id', UInt32),\n",
       "        ('article_id', Int32),\n",
       "        ('impression_time', Datetime(time_unit='us', time_zone=None)),\n",
       "        ('score', Float64)])"
      ]
     },
     "execution_count": 37,
     "metadata": {},
     "output_type": "execute_result"
    }
   ],
   "source": [
    "processed_behavior_df.schema"
   ]
  },
  {
   "cell_type": "code",
   "execution_count": 38,
   "metadata": {},
   "outputs": [
    {
     "data": {
      "text/html": [
       "<div><style>\n",
       ".dataframe > thead > tr,\n",
       ".dataframe > tbody > tr {\n",
       "  text-align: right;\n",
       "  white-space: pre-wrap;\n",
       "}\n",
       "</style>\n",
       "<small>shape: (5, 4)</small><table border=\"1\" class=\"dataframe\"><thead><tr><th>user_id</th><th>article_id</th><th>impression_time</th><th>score</th></tr><tr><td>u32</td><td>i32</td><td>datetime[μs]</td><td>f64</td></tr></thead><tbody><tr><td>2428048</td><td>9738729</td><td>2023-05-21 16:59:36</td><td>null</td></tr><tr><td>1549104</td><td>9776985</td><td>2023-05-23 11:48:38</td><td>0.636657</td></tr><tr><td>1023941</td><td>9765759</td><td>2023-05-18 16:36:49</td><td>0.708704</td></tr><tr><td>205341</td><td>9780181</td><td>2023-05-25 05:19:09</td><td>0.573752</td></tr><tr><td>960815</td><td>9777822</td><td>2023-05-24 18:44:37</td><td>0.591163</td></tr></tbody></table></div>"
      ],
      "text/plain": [
       "shape: (5, 4)\n",
       "┌─────────┬────────────┬─────────────────────┬──────────┐\n",
       "│ user_id ┆ article_id ┆ impression_time     ┆ score    │\n",
       "│ ---     ┆ ---        ┆ ---                 ┆ ---      │\n",
       "│ u32     ┆ i32        ┆ datetime[μs]        ┆ f64      │\n",
       "╞═════════╪════════════╪═════════════════════╪══════════╡\n",
       "│ 2428048 ┆ 9738729    ┆ 2023-05-21 16:59:36 ┆ null     │\n",
       "│ 1549104 ┆ 9776985    ┆ 2023-05-23 11:48:38 ┆ 0.636657 │\n",
       "│ 1023941 ┆ 9765759    ┆ 2023-05-18 16:36:49 ┆ 0.708704 │\n",
       "│ 205341  ┆ 9780181    ┆ 2023-05-25 05:19:09 ┆ 0.573752 │\n",
       "│ 960815  ┆ 9777822    ┆ 2023-05-24 18:44:37 ┆ 0.591163 │\n",
       "└─────────┴────────────┴─────────────────────┴──────────┘"
      ]
     },
     "execution_count": 38,
     "metadata": {},
     "output_type": "execute_result"
    }
   ],
   "source": [
    "processed_behavior_df.head(5)"
   ]
  },
  {
   "cell_type": "markdown",
   "metadata": {},
   "source": [
    "### Create and fit the model"
   ]
  },
  {
   "cell_type": "code",
   "execution_count": 39,
   "metadata": {},
   "outputs": [],
   "source": [
    "model = UserItemBiasRecommender(processed_behavior_df)\n",
    "model.fit()\n"
   ]
  },
  {
   "cell_type": "code",
   "execution_count": 44,
   "metadata": {},
   "outputs": [
    {
     "ename": "ImportError",
     "evalue": "cannot import name 'quick_eda' from 'utils.process_data' (c:\\Users\\magnu\\NewDesk\\An.sys\\TDT4215\\recommender_system\\utils\\process_data.py)",
     "output_type": "error",
     "traceback": [
      "\u001b[1;31m---------------------------------------------------------------------------\u001b[0m",
      "\u001b[1;31mImportError\u001b[0m                               Traceback (most recent call last)",
      "Cell \u001b[1;32mIn[44], line 1\u001b[0m\n\u001b[1;32m----> 1\u001b[0m \u001b[38;5;28;01mfrom\u001b[39;00m\u001b[38;5;250m \u001b[39m\u001b[38;5;21;01mutils\u001b[39;00m\u001b[38;5;21;01m.\u001b[39;00m\u001b[38;5;21;01mprocess_data\u001b[39;00m\u001b[38;5;250m \u001b[39m\u001b[38;5;28;01mimport\u001b[39;00m quick_eda\n\u001b[0;32m      4\u001b[0m \u001b[38;5;66;03m# # Quick EDA\u001b[39;00m\n\u001b[0;32m      5\u001b[0m quick_eda(article_df, name\u001b[38;5;241m=\u001b[39m\u001b[38;5;124m\"\u001b[39m\u001b[38;5;124mArticles\u001b[39m\u001b[38;5;124m\"\u001b[39m)\n",
      "\u001b[1;31mImportError\u001b[0m: cannot import name 'quick_eda' from 'utils.process_data' (c:\\Users\\magnu\\NewDesk\\An.sys\\TDT4215\\recommender_system\\utils\\process_data.py)"
     ]
    }
   ],
   "source": [
    "from utils.process_data import quick_eda\n",
    "\n",
    "\n",
    "# # Quick EDA\n",
    "quick_eda(article_df, name=\"Articles\")"
   ]
  },
  {
   "cell_type": "markdown",
   "metadata": {},
   "source": [
    "### Recommendations"
   ]
  },
  {
   "cell_type": "code",
   "execution_count": null,
   "metadata": {},
   "outputs": [
    {
     "data": {
      "text/plain": [
       "[9514727, 9667501, 9714376, 9419945, 9761391]"
      ]
     },
     "execution_count": 14,
     "metadata": {},
     "output_type": "execute_result"
    }
   ],
   "source": [
    "model.recommend(2423448)"
   ]
  },
  {
   "cell_type": "code",
   "execution_count": null,
   "metadata": {},
   "outputs": [
    {
     "data": {
      "text/plain": [
       "0.841934084892273"
      ]
     },
     "execution_count": 15,
     "metadata": {},
     "output_type": "execute_result"
    }
   ],
   "source": [
    "model.predict(2423448,9714376)"
   ]
  },
  {
   "cell_type": "markdown",
   "metadata": {},
   "source": [
    "### Evaluation"
   ]
  },
  {
   "cell_type": "code",
   "execution_count": null,
   "metadata": {},
   "outputs": [
    {
     "name": "stdout",
     "output_type": "stream",
     "text": [
      "Results\n"
     ]
    },
    {
     "data": {
      "text/plain": [
       "{'Precision@K': np.float64(0.0002),\n",
       " 'NDCG@K': np.float64(0.00016958010263680806)}"
      ]
     },
     "execution_count": 16,
     "metadata": {},
     "output_type": "execute_result"
    }
   ],
   "source": [
    "results = model.evaluate_recommender(test_data=test_behavior_df,k=5,n_jobs=4,user_sample=1000)\n",
    "print(\"Results\")\n",
    "results"
   ]
  },
  {
   "cell_type": "code",
   "execution_count": null,
   "metadata": {},
   "outputs": [],
   "source": []
  }
 ],
 "metadata": {
  "kernelspec": {
   "display_name": "venv",
   "language": "python",
   "name": "python3"
  },
  "language_info": {
   "codemirror_mode": {
    "name": "ipython",
    "version": 3
   },
   "file_extension": ".py",
   "mimetype": "text/x-python",
   "name": "python",
   "nbconvert_exporter": "python",
   "pygments_lexer": "ipython3",
   "version": "3.11.9"
  }
 },
 "nbformat": 4,
 "nbformat_minor": 2
}
