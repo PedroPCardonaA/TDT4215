{
 "cells": [
  {
   "cell_type": "code",
   "execution_count": 22,
   "metadata": {},
   "outputs": [],
   "source": [
    "import sys\n",
    "import os\n",
    "\n",
    "parent_dir = os.path.abspath(os.path.join(os.getcwd(), \"..\"))\n",
    "sys.path.append(parent_dir)\n",
    "from parquet_data_reader import ParquetDataReader\n",
    "from models.basic_baseline import MostPopularRecommender\n",
    "\n",
    "\n",
    "import polars as pl\n",
    "pl.Config.set_tbl_cols(-1)\n",
    "import numpy as np\n",
    "parquet_reader = ParquetDataReader()"
   ]
  },
  {
   "cell_type": "code",
   "execution_count": 23,
   "metadata": {},
   "outputs": [
    {
     "data": {
      "text/plain": [
       "(234277, 17)"
      ]
     },
     "execution_count": 23,
     "metadata": {},
     "output_type": "execute_result"
    }
   ],
   "source": [
    "train_behavior_df = parquet_reader.read_data(\"../../data/train/behaviors.parquet\")\n",
    "processed_behavior_df = train_behavior_df.explode(\"article_ids_clicked\")\n",
    "processed_behavior_df = processed_behavior_df.filter(pl.col(\"article_ids_clicked\").is_not_null())\n",
    "processed_behavior_df.shape"
   ]
  },
  {
   "cell_type": "code",
   "execution_count": 24,
   "metadata": {},
   "outputs": [
    {
     "name": "stdout",
     "output_type": "stream",
     "text": [
      "Recommended articles: shape: (5,)\n",
      "Series: 'article_ids_clicked' [i32]\n",
      "[\n",
      "\t9771627\n",
      "\t9771113\n",
      "\t9774532\n",
      "\t9768308\n",
      "\t9770028\n",
      "]\n"
     ]
    }
   ],
   "source": [
    "# Initializes the Most popular recommender with the behaviors DataFrame\n",
    "recommender = MostPopularRecommender(processed_behavior_df)\n",
    "\n",
    "recommender.fit()\n",
    "\n",
    "recommendations = recommender.recommend(user_id=123, k=5)\n",
    "print(\"Recommended articles:\", recommendations)\n"
   ]
  },
  {
   "cell_type": "code",
   "execution_count": 25,
   "metadata": {},
   "outputs": [
    {
     "name": "stdout",
     "output_type": "stream",
     "text": [
      "Processed behavior DataFrame shape: (66490, 17)\n"
     ]
    }
   ],
   "source": [
    "# Drops duplicates that the same user interacted with the same article multiple times\n",
    "processed_behavior_df = processed_behavior_df.unique(subset=[\"user_id\", \"article_id\"])\n",
    "\n",
    "# Actively displays the shape of the DataFrame after duplicates are dropped\n",
    "print(\"Processed behavior DataFrame shape:\", processed_behavior_df.shape)"
   ]
  },
  {
   "cell_type": "code",
   "execution_count": 26,
   "metadata": {},
   "outputs": [
    {
     "name": "stdout",
     "output_type": "stream",
     "text": [
      "Recommended articles: shape: (5,)\n",
      "Series: 'article_ids_clicked' [i32]\n",
      "[\n",
      "\t9771627\n",
      "\t9771113\n",
      "\t9770028\n",
      "\t9772453\n",
      "\t9772601\n",
      "]\n"
     ]
    }
   ],
   "source": [
    "recommender = MostPopularRecommender(processed_behavior_df)\n",
    "\n",
    "recommender.fit()\n",
    "\n",
    "recommendations = recommender.recommend(user_id=123, k=5)\n",
    "print(\"Recommended articles:\", recommendations)"
   ]
  }
 ],
 "metadata": {
  "kernelspec": {
   "display_name": "venv",
   "language": "python",
   "name": "python3"
  },
  "language_info": {
   "codemirror_mode": {
    "name": "ipython",
    "version": 3
   },
   "file_extension": ".py",
   "mimetype": "text/x-python",
   "name": "python",
   "nbconvert_exporter": "python",
   "pygments_lexer": "ipython3",
   "version": "3.11.9"
  }
 },
 "nbformat": 4,
 "nbformat_minor": 2
}
