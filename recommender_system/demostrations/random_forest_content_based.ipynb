{
 "cells": [
  {
   "cell_type": "code",
   "execution_count": 6,
   "metadata": {},
   "outputs": [],
   "source": [
    "import sys\n",
    "import os\n",
    "\n",
    "parent_dir = os.path.abspath(os.path.join(os.getcwd(), \"..\"))\n",
    "sys.path.append(parent_dir)\n",
    "from parquet_data_reader import ParquetDataReader\n",
    "from utils.process_data import  user_item_binary_interaction\n",
    "from models.interaction_content_based import SGDContentBased\n",
    "parquet_reader = ParquetDataReader()"
   ]
  },
  {
   "cell_type": "code",
   "execution_count": 7,
   "metadata": {},
   "outputs": [],
   "source": [
    "train_behavior_df = parquet_reader.read_data(\"../../data/train/behaviors.parquet\")\n",
    "user_df = parquet_reader.read_data(\"../../data/train/history.parquet\")\n",
    "item_df = parquet_reader.read_data(\"../../data/articles.parquet\")\n",
    "article_embedding_df = parquet_reader.read_data(\"../../data/document_vector.parquet\")"
   ]
  },
  {
   "cell_type": "code",
   "execution_count": 8,
   "metadata": {},
   "outputs": [
    {
     "data": {
      "text/html": [
       "<div><style>\n",
       ".dataframe > thead > tr,\n",
       ".dataframe > tbody > tr {\n",
       "  text-align: right;\n",
       "  white-space: pre-wrap;\n",
       "}\n",
       "</style>\n",
       "<small>shape: (314_052_606, 3)</small><table border=\"1\" class=\"dataframe\"><thead><tr><th>user_id</th><th>article_id</th><th>clicked</th></tr><tr><td>u32</td><td>i32</td><td>i32</td></tr></thead><tbody><tr><td>13538</td><td>3001353</td><td>0</td></tr><tr><td>13538</td><td>3003065</td><td>0</td></tr><tr><td>13538</td><td>3012771</td><td>0</td></tr><tr><td>13538</td><td>3023463</td><td>0</td></tr><tr><td>13538</td><td>3032577</td><td>0</td></tr><tr><td>&hellip;</td><td>&hellip;</td><td>&hellip;</td></tr><tr><td>1710834</td><td>9803492</td><td>0</td></tr><tr><td>1710834</td><td>9803505</td><td>0</td></tr><tr><td>1710834</td><td>9803525</td><td>0</td></tr><tr><td>1710834</td><td>9803560</td><td>0</td></tr><tr><td>1710834</td><td>9803607</td><td>0</td></tr></tbody></table></div>"
      ],
      "text/plain": [
       "shape: (314_052_606, 3)\n",
       "┌─────────┬────────────┬─────────┐\n",
       "│ user_id ┆ article_id ┆ clicked │\n",
       "│ ---     ┆ ---        ┆ ---     │\n",
       "│ u32     ┆ i32        ┆ i32     │\n",
       "╞═════════╪════════════╪═════════╡\n",
       "│ 13538   ┆ 3001353    ┆ 0       │\n",
       "│ 13538   ┆ 3003065    ┆ 0       │\n",
       "│ 13538   ┆ 3012771    ┆ 0       │\n",
       "│ 13538   ┆ 3023463    ┆ 0       │\n",
       "│ 13538   ┆ 3032577    ┆ 0       │\n",
       "│ …       ┆ …          ┆ …       │\n",
       "│ 1710834 ┆ 9803492    ┆ 0       │\n",
       "│ 1710834 ┆ 9803505    ┆ 0       │\n",
       "│ 1710834 ┆ 9803525    ┆ 0       │\n",
       "│ 1710834 ┆ 9803560    ┆ 0       │\n",
       "│ 1710834 ┆ 9803607    ┆ 0       │\n",
       "└─────────┴────────────┴─────────┘"
      ]
     },
     "execution_count": 8,
     "metadata": {},
     "output_type": "execute_result"
    }
   ],
   "source": [
    "binary_interaction = user_item_binary_interaction(train_behavior_df, user_df, item_df)\n",
    "binary_interaction"
   ]
  },
  {
   "cell_type": "code",
   "execution_count": 9,
   "metadata": {},
   "outputs": [
    {
     "data": {
      "text/plain": [
       "70421"
      ]
     },
     "execution_count": 9,
     "metadata": {},
     "output_type": "execute_result"
    }
   ],
   "source": [
    "binary_interaction.filter(binary_interaction[\"clicked\"] == 1).height\n"
   ]
  },
  {
   "cell_type": "code",
   "execution_count": null,
   "metadata": {},
   "outputs": [
    {
     "name": "stdout",
     "output_type": "stream",
     "text": [
      "Training complete!\n"
     ]
    }
   ],
   "source": [
    "SGDContentBased = SGDContentBased(binary_interaction=binary_interaction, articles_embedding=article_embedding_df)\n",
    "SGDContentBased.fit()"
   ]
  },
  {
   "cell_type": "code",
   "execution_count": null,
   "metadata": {},
   "outputs": [
    {
     "data": {
      "text/html": [
       "<div><style>\n",
       ".dataframe > thead > tr,\n",
       ".dataframe > tbody > tr {\n",
       "  text-align: right;\n",
       "  white-space: pre-wrap;\n",
       "}\n",
       "</style>\n",
       "<small>shape: (10, 5)</small><table border=\"1\" class=\"dataframe\"><thead><tr><th>user_id</th><th>article_id</th><th>clicked</th><th>document_vector</th><th>prediction</th></tr><tr><td>u32</td><td>i32</td><td>i32</td><td>list[f32]</td><td>f64</td></tr></thead><tbody><tr><td>13538</td><td>9776087</td><td>0</td><td>[0.013578, 0.017813, … 0.005463]</td><td>0.000226</td></tr><tr><td>13538</td><td>9688372</td><td>0</td><td>[0.00813, 0.005233, … -0.032117]</td><td>0.000226</td></tr><tr><td>13538</td><td>9783858</td><td>0</td><td>[0.036281, 0.059355, … 0.009815]</td><td>0.000225</td></tr><tr><td>13538</td><td>9189678</td><td>0</td><td>[0.014872, 0.03328, … -0.007712]</td><td>0.000225</td></tr><tr><td>13538</td><td>9731676</td><td>0</td><td>[0.038218, 0.039659, … 0.015651]</td><td>0.000225</td></tr><tr><td>13538</td><td>9798958</td><td>0</td><td>[0.029306, 0.031494, … 0.012183]</td><td>0.000224</td></tr><tr><td>13538</td><td>9746785</td><td>0</td><td>[0.005274, 0.032421, … 0.028839]</td><td>0.000224</td></tr><tr><td>13538</td><td>9750749</td><td>0</td><td>[0.011904, 0.027373, … 0.018104]</td><td>0.000224</td></tr><tr><td>13538</td><td>9764564</td><td>0</td><td>[0.02017, 0.004453, … 0.006441]</td><td>0.000224</td></tr><tr><td>13538</td><td>9677376</td><td>0</td><td>[0.01508, 0.039114, … 0.014268]</td><td>0.000223</td></tr></tbody></table></div>"
      ],
      "text/plain": [
       "shape: (10, 5)\n",
       "┌─────────┬────────────┬─────────┬─────────────────────────────────┬────────────┐\n",
       "│ user_id ┆ article_id ┆ clicked ┆ document_vector                 ┆ prediction │\n",
       "│ ---     ┆ ---        ┆ ---     ┆ ---                             ┆ ---        │\n",
       "│ u32     ┆ i32        ┆ i32     ┆ list[f32]                       ┆ f64        │\n",
       "╞═════════╪════════════╪═════════╪═════════════════════════════════╪════════════╡\n",
       "│ 13538   ┆ 9776087    ┆ 0       ┆ [0.013578, 0.017813, … 0.00546… ┆ 0.000226   │\n",
       "│ 13538   ┆ 9688372    ┆ 0       ┆ [0.00813, 0.005233, … -0.03211… ┆ 0.000226   │\n",
       "│ 13538   ┆ 9783858    ┆ 0       ┆ [0.036281, 0.059355, … 0.00981… ┆ 0.000225   │\n",
       "│ 13538   ┆ 9189678    ┆ 0       ┆ [0.014872, 0.03328, … -0.00771… ┆ 0.000225   │\n",
       "│ 13538   ┆ 9731676    ┆ 0       ┆ [0.038218, 0.039659, … 0.01565… ┆ 0.000225   │\n",
       "│ 13538   ┆ 9798958    ┆ 0       ┆ [0.029306, 0.031494, … 0.01218… ┆ 0.000224   │\n",
       "│ 13538   ┆ 9746785    ┆ 0       ┆ [0.005274, 0.032421, … 0.02883… ┆ 0.000224   │\n",
       "│ 13538   ┆ 9750749    ┆ 0       ┆ [0.011904, 0.027373, … 0.01810… ┆ 0.000224   │\n",
       "│ 13538   ┆ 9764564    ┆ 0       ┆ [0.02017, 0.004453, … 0.006441… ┆ 0.000224   │\n",
       "│ 13538   ┆ 9677376    ┆ 0       ┆ [0.01508, 0.039114, … 0.014268… ┆ 0.000223   │\n",
       "└─────────┴────────────┴─────────┴─────────────────────────────────┴────────────┘"
      ]
     },
     "execution_count": 11,
     "metadata": {},
     "output_type": "execute_result"
    }
   ],
   "source": [
    "SGDContentBased.recommend(13538,10)"
   ]
  },
  {
   "cell_type": "code",
   "execution_count": null,
   "metadata": {},
   "outputs": [
    {
     "data": {
      "text/html": [
       "<div><style>\n",
       ".dataframe > thead > tr,\n",
       ".dataframe > tbody > tr {\n",
       "  text-align: right;\n",
       "  white-space: pre-wrap;\n",
       "}\n",
       "</style>\n",
       "<small>shape: (10, 5)</small><table border=\"1\" class=\"dataframe\"><thead><tr><th>user_id</th><th>article_id</th><th>clicked</th><th>document_vector</th><th>prediction</th></tr><tr><td>u32</td><td>i32</td><td>i32</td><td>list[f32]</td><td>f64</td></tr></thead><tbody><tr><td>1710834</td><td>9776087</td><td>0</td><td>[0.013578, 0.017813, … 0.005463]</td><td>0.000226</td></tr><tr><td>1710834</td><td>9688372</td><td>0</td><td>[0.00813, 0.005233, … -0.032117]</td><td>0.000226</td></tr><tr><td>1710834</td><td>9783858</td><td>0</td><td>[0.036281, 0.059355, … 0.009815]</td><td>0.000225</td></tr><tr><td>1710834</td><td>9189678</td><td>0</td><td>[0.014872, 0.03328, … -0.007712]</td><td>0.000225</td></tr><tr><td>1710834</td><td>9731676</td><td>0</td><td>[0.038218, 0.039659, … 0.015651]</td><td>0.000225</td></tr><tr><td>1710834</td><td>9798958</td><td>0</td><td>[0.029306, 0.031494, … 0.012183]</td><td>0.000224</td></tr><tr><td>1710834</td><td>9746785</td><td>0</td><td>[0.005274, 0.032421, … 0.028839]</td><td>0.000224</td></tr><tr><td>1710834</td><td>9750749</td><td>0</td><td>[0.011904, 0.027373, … 0.018104]</td><td>0.000224</td></tr><tr><td>1710834</td><td>9764564</td><td>0</td><td>[0.02017, 0.004453, … 0.006441]</td><td>0.000224</td></tr><tr><td>1710834</td><td>9677376</td><td>0</td><td>[0.01508, 0.039114, … 0.014268]</td><td>0.000223</td></tr></tbody></table></div>"
      ],
      "text/plain": [
       "shape: (10, 5)\n",
       "┌─────────┬────────────┬─────────┬─────────────────────────────────┬────────────┐\n",
       "│ user_id ┆ article_id ┆ clicked ┆ document_vector                 ┆ prediction │\n",
       "│ ---     ┆ ---        ┆ ---     ┆ ---                             ┆ ---        │\n",
       "│ u32     ┆ i32        ┆ i32     ┆ list[f32]                       ┆ f64        │\n",
       "╞═════════╪════════════╪═════════╪═════════════════════════════════╪════════════╡\n",
       "│ 1710834 ┆ 9776087    ┆ 0       ┆ [0.013578, 0.017813, … 0.00546… ┆ 0.000226   │\n",
       "│ 1710834 ┆ 9688372    ┆ 0       ┆ [0.00813, 0.005233, … -0.03211… ┆ 0.000226   │\n",
       "│ 1710834 ┆ 9783858    ┆ 0       ┆ [0.036281, 0.059355, … 0.00981… ┆ 0.000225   │\n",
       "│ 1710834 ┆ 9189678    ┆ 0       ┆ [0.014872, 0.03328, … -0.00771… ┆ 0.000225   │\n",
       "│ 1710834 ┆ 9731676    ┆ 0       ┆ [0.038218, 0.039659, … 0.01565… ┆ 0.000225   │\n",
       "│ 1710834 ┆ 9798958    ┆ 0       ┆ [0.029306, 0.031494, … 0.01218… ┆ 0.000224   │\n",
       "│ 1710834 ┆ 9746785    ┆ 0       ┆ [0.005274, 0.032421, … 0.02883… ┆ 0.000224   │\n",
       "│ 1710834 ┆ 9750749    ┆ 0       ┆ [0.011904, 0.027373, … 0.01810… ┆ 0.000224   │\n",
       "│ 1710834 ┆ 9764564    ┆ 0       ┆ [0.02017, 0.004453, … 0.006441… ┆ 0.000224   │\n",
       "│ 1710834 ┆ 9677376    ┆ 0       ┆ [0.01508, 0.039114, … 0.014268… ┆ 0.000223   │\n",
       "└─────────┴────────────┴─────────┴─────────────────────────────────┴────────────┘"
      ]
     },
     "execution_count": 12,
     "metadata": {},
     "output_type": "execute_result"
    }
   ],
   "source": [
    "SGDContentBased.recommend(1710834,10)"
   ]
  },
  {
   "cell_type": "code",
   "execution_count": null,
   "metadata": {},
   "outputs": [
    {
     "ename": "AttributeError",
     "evalue": "type object 'SGDContentBased' has no attribute 'evaluate_recommender'",
     "output_type": "error",
     "traceback": [
      "\u001b[0;31m---------------------------------------------------------------------------\u001b[0m",
      "\u001b[0;31mAttributeError\u001b[0m                            Traceback (most recent call last)",
      "Cell \u001b[0;32mIn[14], line 1\u001b[0m\n\u001b[0;32m----> 1\u001b[0m \u001b[43mSGDContentBased\u001b[49m\u001b[38;5;241;43m.\u001b[39;49m\u001b[43mevaluate_recommender\u001b[49m()\n",
      "\u001b[0;31mAttributeError\u001b[0m: type object 'SGDContentBased' has no attribute 'evaluate_recommender'"
     ]
    }
   ],
   "source": [
    "evaluation = SGDContentBased.evaluate_recommender()\n",
    "evaluation"
   ]
  },
  {
   "cell_type": "code",
   "execution_count": null,
   "metadata": {},
   "outputs": [],
   "source": []
  }
 ],
 "metadata": {
  "kernelspec": {
   "display_name": "venv",
   "language": "python",
   "name": "python3"
  },
  "language_info": {
   "codemirror_mode": {
    "name": "ipython",
    "version": 3
   },
   "file_extension": ".py",
   "mimetype": "text/x-python",
   "name": "python",
   "nbconvert_exporter": "python",
   "pygments_lexer": "ipython3",
   "version": "3.13.1"
  }
 },
 "nbformat": 4,
 "nbformat_minor": 2
}
